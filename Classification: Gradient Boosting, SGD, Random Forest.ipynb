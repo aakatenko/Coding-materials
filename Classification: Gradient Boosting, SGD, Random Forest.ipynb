{
 "cells": [
  {
   "cell_type": "markdown",
   "metadata": {},
   "source": [
    "## DecisonTree, KNN, SGD Linear Classifier, Random Forest, Gradient Boosting \n",
    "\n",
    ""
   ]
  },
  {
   "cell_type": "markdown",
   "metadata": {},
   "source": [
    "## Данные\n",
    "\n",
    "\n",
    "we will train machine learning models, set up experiments, select hyperparameters, compare and mix models. You are asked to solve a binary classification problem, namely to build an algorithm that determines whether a person's average earnings exceed the $50k threshold. Each sample object is a person for whom the following features are known:\n",
    " - age\n",
    " - workclass\n",
    " - fnlwgt\n",
    " - education\n",
    " - education-num\n",
    " - marital-status\n",
    " - occupation\n",
    " - relationship\n",
    " - race\n",
    " - sex\n",
    " - capital-gain\n",
    " - capital-loss\n",
    " - hours-per-week\n",
    " \n",
    "Более подробно про признаки можно почитать [здесь](http://archive.ics.uci.edu/ml/machine-learning-databases/adult/adult.names). Целевой признак записан в переменной *>50K,<=50K*."
   ]
  },
  {
   "cell_type": "markdown",
   "metadata": {},
   "source": [
    "## Метрика качества\n",
    "\n",
    "В задании мы будем оценивать качество моделей с помощью метрики AUC-ROC."
   ]
  },
  {
   "cell_type": "markdown",
   "metadata": {},
   "source": [
    "## Подбор гиперпараметров модели\n",
    "\n",
    "В задачах машинного обучения следует различать параметры модели и гиперпараметры (структурные параметры). Обычно параметры модели настраиваются в ходе обучения (например, веса в линейной модели или структура решающего дерева), в то время как гиперпараметры задаются заранее (например, регуляризация в линейной модели или максимальная глубина решающего дерева). Каждая модель обычно имеет множество гиперпараметров, и нет универсальных наборов гиперпараметров, оптимально работающих во всех задачах, для каждой задачи нужно подбирать свой набор.\n",
    "\n",
    "Для оптимизации гиперпараметров модели часто используют _перебор по сетке (grid search)_: для каждого гиперпараметра выбирается несколько значений, перебираются все комбинации значений и выбирается комбинация, на которой модель показывает лучшее качество (с точки зрения метрики, которая оптимизируется). Однако в этом случае нужно грамотно оценивать построенную модель, а именно делать разбиение на обучающую и тестовую выборку. Есть несколько схем, как это можно реализовать: \n",
    "\n",
    " - Разбить имеющуюся выборку на обучающую и тестовую. В этом случае сравнение большого числа моделей при переборе параметров приводит к ситуации, когда лучшая на тестовой подвыборке модель не сохраняет свои качества на новых данных. Можно сказать, что происходит _переобучение_ на тестовую выборку.\n",
    " - Для устранения описанной выше проблемы, можно разбить данные на 3 непересекающихся подвыборки: обучение (`train`), валидация (`validation`) и контроль (`test`). Валидационную подвыборку используют для сравнения моделей, а `test` — для окончательной оценки качества и сравнения семейств моделей с подобранными параметрами.\n",
    " - Другой способ сравнения моделей — [кросс-валидация](http://en.wikipedia.org/wiki/Cross-validation_(statistics). Существуют различные схемы кросс-валидации:\n",
    "  - Leave-One-Out\n",
    "  - K-Fold\n",
    "  - Многократное случайное разбиение выборки\n",
    "  \n",
    "Кросс-валидация вычислительно затратна, особенно если вы делаете перебор по сетке с очень большим числом комбинации. С учетом конечности времени на выполнение задания, возникает ряд компромиссов: \n",
    "  - сетку можно делать более разреженной, перебирая меньше значений каждого параметра; однако, надо не забывать, что в таком случае можно пропустить хорошую комбинацию параметров;\n",
    "  - кросс-валидацию можно делать с меньшим числом разбиений или фолдов, но в таком случае оценка качества кросс-валидации становится более шумной и увеличивается риск выбрать неоптимальный набор параметров из-за случайности разбиения;\n",
    "  - параметры можно оптимизировать последовательно (жадно) — один за другим, а не перебирать все комбинации; такая стратегия не всегда приводит к оптимальному набору;\n",
    "  - перебирать не все комбинации параметров, а небольшое число случайно выбранных."
   ]
  },
  {
   "cell_type": "markdown",
   "metadata": {},
   "source": [
    "## Задание "
   ]
  },
  {
   "cell_type": "markdown",
   "metadata": {},
   "source": [
    "Загрузите набор данных *data.adult.csv*. Чтобы лучше понимать, с чем вы работаете/корректно ли вы загрузили данные можно вывести несколько первых строк на экран."
   ]
  },
  {
   "cell_type": "code",
   "execution_count": 48,
   "metadata": {},
   "outputs": [],
   "source": [
    "import pandas as pd\n",
    "import numpy as np\n",
    "import seaborn as sns\n",
    "import matplotlib.pyplot as plt\n",
    "%matplotlib inline\n",
    "from mlxtend.plotting import plot_decision_regions"
   ]
  },
  {
   "cell_type": "code",
   "execution_count": 49,
   "metadata": {},
   "outputs": [],
   "source": [
    "import warnings\n",
    "warnings.filterwarnings('ignore')"
   ]
  },
  {
   "cell_type": "code",
   "execution_count": 50,
   "metadata": {},
   "outputs": [
    {
     "data": {
      "text/html": [
       "<div>\n",
       "<style scoped>\n",
       "    .dataframe tbody tr th:only-of-type {\n",
       "        vertical-align: middle;\n",
       "    }\n",
       "\n",
       "    .dataframe tbody tr th {\n",
       "        vertical-align: top;\n",
       "    }\n",
       "\n",
       "    .dataframe thead th {\n",
       "        text-align: right;\n",
       "    }\n",
       "</style>\n",
       "<table border=\"1\" class=\"dataframe\">\n",
       "  <thead>\n",
       "    <tr style=\"text-align: right;\">\n",
       "      <th></th>\n",
       "      <th>age</th>\n",
       "      <th>workclass</th>\n",
       "      <th>fnlwgt</th>\n",
       "      <th>education</th>\n",
       "      <th>education-num</th>\n",
       "      <th>marital-status</th>\n",
       "      <th>occupation</th>\n",
       "      <th>relationship</th>\n",
       "      <th>race</th>\n",
       "      <th>sex</th>\n",
       "      <th>capital-gain</th>\n",
       "      <th>capital-loss</th>\n",
       "      <th>hours-per-week</th>\n",
       "      <th>&gt;50K,&lt;=50K</th>\n",
       "    </tr>\n",
       "  </thead>\n",
       "  <tbody>\n",
       "    <tr>\n",
       "      <th>0</th>\n",
       "      <td>34</td>\n",
       "      <td>Local-gov</td>\n",
       "      <td>284843</td>\n",
       "      <td>HS-grad</td>\n",
       "      <td>9</td>\n",
       "      <td>Never-married</td>\n",
       "      <td>Farming-fishing</td>\n",
       "      <td>Not-in-family</td>\n",
       "      <td>Black</td>\n",
       "      <td>Male</td>\n",
       "      <td>594</td>\n",
       "      <td>0</td>\n",
       "      <td>60</td>\n",
       "      <td>&lt;=50K</td>\n",
       "    </tr>\n",
       "    <tr>\n",
       "      <th>1</th>\n",
       "      <td>40</td>\n",
       "      <td>Private</td>\n",
       "      <td>190290</td>\n",
       "      <td>Some-college</td>\n",
       "      <td>10</td>\n",
       "      <td>Divorced</td>\n",
       "      <td>Sales</td>\n",
       "      <td>Not-in-family</td>\n",
       "      <td>White</td>\n",
       "      <td>Male</td>\n",
       "      <td>0</td>\n",
       "      <td>0</td>\n",
       "      <td>40</td>\n",
       "      <td>&lt;=50K</td>\n",
       "    </tr>\n",
       "    <tr>\n",
       "      <th>2</th>\n",
       "      <td>36</td>\n",
       "      <td>Local-gov</td>\n",
       "      <td>177858</td>\n",
       "      <td>Bachelors</td>\n",
       "      <td>13</td>\n",
       "      <td>Married-civ-spouse</td>\n",
       "      <td>Prof-specialty</td>\n",
       "      <td>Own-child</td>\n",
       "      <td>White</td>\n",
       "      <td>Male</td>\n",
       "      <td>0</td>\n",
       "      <td>0</td>\n",
       "      <td>40</td>\n",
       "      <td>&lt;=50K</td>\n",
       "    </tr>\n",
       "    <tr>\n",
       "      <th>3</th>\n",
       "      <td>22</td>\n",
       "      <td>Private</td>\n",
       "      <td>184756</td>\n",
       "      <td>Some-college</td>\n",
       "      <td>10</td>\n",
       "      <td>Never-married</td>\n",
       "      <td>Sales</td>\n",
       "      <td>Own-child</td>\n",
       "      <td>White</td>\n",
       "      <td>Female</td>\n",
       "      <td>0</td>\n",
       "      <td>0</td>\n",
       "      <td>30</td>\n",
       "      <td>&lt;=50K</td>\n",
       "    </tr>\n",
       "    <tr>\n",
       "      <th>4</th>\n",
       "      <td>47</td>\n",
       "      <td>Private</td>\n",
       "      <td>149700</td>\n",
       "      <td>Bachelors</td>\n",
       "      <td>13</td>\n",
       "      <td>Married-civ-spouse</td>\n",
       "      <td>Tech-support</td>\n",
       "      <td>Husband</td>\n",
       "      <td>White</td>\n",
       "      <td>Male</td>\n",
       "      <td>15024</td>\n",
       "      <td>0</td>\n",
       "      <td>40</td>\n",
       "      <td>&gt;50K</td>\n",
       "    </tr>\n",
       "  </tbody>\n",
       "</table>\n",
       "</div>"
      ],
      "text/plain": [
       "   age  workclass  fnlwgt     education  education-num      marital-status  \\\n",
       "0   34  Local-gov  284843       HS-grad              9       Never-married   \n",
       "1   40    Private  190290  Some-college             10            Divorced   \n",
       "2   36  Local-gov  177858     Bachelors             13  Married-civ-spouse   \n",
       "3   22    Private  184756  Some-college             10       Never-married   \n",
       "4   47    Private  149700     Bachelors             13  Married-civ-spouse   \n",
       "\n",
       "        occupation   relationship   race     sex  capital-gain  capital-loss  \\\n",
       "0  Farming-fishing  Not-in-family  Black    Male           594             0   \n",
       "1            Sales  Not-in-family  White    Male             0             0   \n",
       "2   Prof-specialty      Own-child  White    Male             0             0   \n",
       "3            Sales      Own-child  White  Female             0             0   \n",
       "4     Tech-support        Husband  White    Male         15024             0   \n",
       "\n",
       "   hours-per-week >50K,<=50K  \n",
       "0              60      <=50K  \n",
       "1              40      <=50K  \n",
       "2              40      <=50K  \n",
       "3              30      <=50K  \n",
       "4              40       >50K  "
      ]
     },
     "execution_count": 50,
     "metadata": {},
     "output_type": "execute_result"
    }
   ],
   "source": [
    "data = pd.read_csv('data.adult.csv')\n",
    "data.head()"
   ]
  },
  {
   "cell_type": "code",
   "execution_count": 51,
   "metadata": {},
   "outputs": [
    {
     "data": {
      "text/plain": [
       "(16280, 14)"
      ]
     },
     "execution_count": 51,
     "metadata": {},
     "output_type": "execute_result"
    }
   ],
   "source": [
    "data.shape"
   ]
  },
  {
   "cell_type": "markdown",
   "metadata": {},
   "source": [
    "Иногда в данных встречаются пропуски. Как задаются пропуски обычно либо прописывается в описании к данным, либо просто на месте пропуска после чтения данных оказывается значение numpy.nan. Более подробно о работе с пропусками в Pandas можно прочитать например [здесь](http://pandas.pydata.org/pandas-docs/stable/missing_data.html). \n",
    "\n",
    "В данном датасете пропущенные значения обозначены как \"?\". \n",
    "\n",
    "**Задание 1 (0.5 балла)** Найдите все признаки, имеющие пропущенные значения. Удалите из выборки все объекты с пропусками."
   ]
  },
  {
   "cell_type": "code",
   "execution_count": 52,
   "metadata": {},
   "outputs": [],
   "source": [
    "data[data == '?'] = np.nan"
   ]
  },
  {
   "cell_type": "code",
   "execution_count": 53,
   "metadata": {},
   "outputs": [
    {
     "data": {
      "text/plain": [
       "age                 0\n",
       "workclass         929\n",
       "fnlwgt              0\n",
       "education           0\n",
       "education-num       0\n",
       "marital-status      0\n",
       "occupation        933\n",
       "relationship        0\n",
       "race                0\n",
       "sex                 0\n",
       "capital-gain        0\n",
       "capital-loss        0\n",
       "hours-per-week      0\n",
       ">50K,<=50K          0\n",
       "dtype: int64"
      ]
     },
     "metadata": {},
     "output_type": "display_data"
    }
   ],
   "source": [
    "display(data.isnull().sum()) #признаки с пропущенными значениями – workclass, occupation"
   ]
  },
  {
   "cell_type": "code",
   "execution_count": 54,
   "metadata": {},
   "outputs": [
    {
     "data": {
      "text/html": [
       "<div>\n",
       "<style scoped>\n",
       "    .dataframe tbody tr th:only-of-type {\n",
       "        vertical-align: middle;\n",
       "    }\n",
       "\n",
       "    .dataframe tbody tr th {\n",
       "        vertical-align: top;\n",
       "    }\n",
       "\n",
       "    .dataframe thead th {\n",
       "        text-align: right;\n",
       "    }\n",
       "</style>\n",
       "<table border=\"1\" class=\"dataframe\">\n",
       "  <thead>\n",
       "    <tr style=\"text-align: right;\">\n",
       "      <th></th>\n",
       "      <th>age</th>\n",
       "      <th>workclass</th>\n",
       "      <th>fnlwgt</th>\n",
       "      <th>education</th>\n",
       "      <th>education-num</th>\n",
       "      <th>marital-status</th>\n",
       "      <th>occupation</th>\n",
       "      <th>relationship</th>\n",
       "      <th>race</th>\n",
       "      <th>sex</th>\n",
       "      <th>capital-gain</th>\n",
       "      <th>capital-loss</th>\n",
       "      <th>hours-per-week</th>\n",
       "      <th>&gt;50K,&lt;=50K</th>\n",
       "    </tr>\n",
       "  </thead>\n",
       "  <tbody>\n",
       "    <tr>\n",
       "      <th>0</th>\n",
       "      <td>34</td>\n",
       "      <td>Local-gov</td>\n",
       "      <td>284843</td>\n",
       "      <td>HS-grad</td>\n",
       "      <td>9</td>\n",
       "      <td>Never-married</td>\n",
       "      <td>Farming-fishing</td>\n",
       "      <td>Not-in-family</td>\n",
       "      <td>Black</td>\n",
       "      <td>Male</td>\n",
       "      <td>594</td>\n",
       "      <td>0</td>\n",
       "      <td>60</td>\n",
       "      <td>&lt;=50K</td>\n",
       "    </tr>\n",
       "    <tr>\n",
       "      <th>1</th>\n",
       "      <td>40</td>\n",
       "      <td>Private</td>\n",
       "      <td>190290</td>\n",
       "      <td>Some-college</td>\n",
       "      <td>10</td>\n",
       "      <td>Divorced</td>\n",
       "      <td>Sales</td>\n",
       "      <td>Not-in-family</td>\n",
       "      <td>White</td>\n",
       "      <td>Male</td>\n",
       "      <td>0</td>\n",
       "      <td>0</td>\n",
       "      <td>40</td>\n",
       "      <td>&lt;=50K</td>\n",
       "    </tr>\n",
       "    <tr>\n",
       "      <th>2</th>\n",
       "      <td>36</td>\n",
       "      <td>Local-gov</td>\n",
       "      <td>177858</td>\n",
       "      <td>Bachelors</td>\n",
       "      <td>13</td>\n",
       "      <td>Married-civ-spouse</td>\n",
       "      <td>Prof-specialty</td>\n",
       "      <td>Own-child</td>\n",
       "      <td>White</td>\n",
       "      <td>Male</td>\n",
       "      <td>0</td>\n",
       "      <td>0</td>\n",
       "      <td>40</td>\n",
       "      <td>&lt;=50K</td>\n",
       "    </tr>\n",
       "    <tr>\n",
       "      <th>3</th>\n",
       "      <td>22</td>\n",
       "      <td>Private</td>\n",
       "      <td>184756</td>\n",
       "      <td>Some-college</td>\n",
       "      <td>10</td>\n",
       "      <td>Never-married</td>\n",
       "      <td>Sales</td>\n",
       "      <td>Own-child</td>\n",
       "      <td>White</td>\n",
       "      <td>Female</td>\n",
       "      <td>0</td>\n",
       "      <td>0</td>\n",
       "      <td>30</td>\n",
       "      <td>&lt;=50K</td>\n",
       "    </tr>\n",
       "    <tr>\n",
       "      <th>4</th>\n",
       "      <td>47</td>\n",
       "      <td>Private</td>\n",
       "      <td>149700</td>\n",
       "      <td>Bachelors</td>\n",
       "      <td>13</td>\n",
       "      <td>Married-civ-spouse</td>\n",
       "      <td>Tech-support</td>\n",
       "      <td>Husband</td>\n",
       "      <td>White</td>\n",
       "      <td>Male</td>\n",
       "      <td>15024</td>\n",
       "      <td>0</td>\n",
       "      <td>40</td>\n",
       "      <td>&gt;50K</td>\n",
       "    </tr>\n",
       "    <tr>\n",
       "      <th>5</th>\n",
       "      <td>18</td>\n",
       "      <td>Private</td>\n",
       "      <td>446771</td>\n",
       "      <td>Some-college</td>\n",
       "      <td>10</td>\n",
       "      <td>Never-married</td>\n",
       "      <td>Adm-clerical</td>\n",
       "      <td>Own-child</td>\n",
       "      <td>White</td>\n",
       "      <td>Male</td>\n",
       "      <td>0</td>\n",
       "      <td>0</td>\n",
       "      <td>25</td>\n",
       "      <td>&lt;=50K</td>\n",
       "    </tr>\n",
       "    <tr>\n",
       "      <th>6</th>\n",
       "      <td>31</td>\n",
       "      <td>Federal-gov</td>\n",
       "      <td>108464</td>\n",
       "      <td>Assoc-acdm</td>\n",
       "      <td>12</td>\n",
       "      <td>Married-civ-spouse</td>\n",
       "      <td>Tech-support</td>\n",
       "      <td>Husband</td>\n",
       "      <td>White</td>\n",
       "      <td>Male</td>\n",
       "      <td>0</td>\n",
       "      <td>0</td>\n",
       "      <td>40</td>\n",
       "      <td>&lt;=50K</td>\n",
       "    </tr>\n",
       "    <tr>\n",
       "      <th>8</th>\n",
       "      <td>25</td>\n",
       "      <td>Private</td>\n",
       "      <td>110138</td>\n",
       "      <td>HS-grad</td>\n",
       "      <td>9</td>\n",
       "      <td>Never-married</td>\n",
       "      <td>Other-service</td>\n",
       "      <td>Not-in-family</td>\n",
       "      <td>White</td>\n",
       "      <td>Male</td>\n",
       "      <td>0</td>\n",
       "      <td>0</td>\n",
       "      <td>40</td>\n",
       "      <td>&lt;=50K</td>\n",
       "    </tr>\n",
       "    <tr>\n",
       "      <th>9</th>\n",
       "      <td>53</td>\n",
       "      <td>Federal-gov</td>\n",
       "      <td>167410</td>\n",
       "      <td>Bachelors</td>\n",
       "      <td>13</td>\n",
       "      <td>Divorced</td>\n",
       "      <td>Tech-support</td>\n",
       "      <td>Not-in-family</td>\n",
       "      <td>Amer-Indian-Eskimo</td>\n",
       "      <td>Male</td>\n",
       "      <td>0</td>\n",
       "      <td>0</td>\n",
       "      <td>40</td>\n",
       "      <td>&lt;=50K</td>\n",
       "    </tr>\n",
       "    <tr>\n",
       "      <th>10</th>\n",
       "      <td>19</td>\n",
       "      <td>Private</td>\n",
       "      <td>131615</td>\n",
       "      <td>HS-grad</td>\n",
       "      <td>9</td>\n",
       "      <td>Never-married</td>\n",
       "      <td>Machine-op-inspct</td>\n",
       "      <td>Own-child</td>\n",
       "      <td>White</td>\n",
       "      <td>Male</td>\n",
       "      <td>0</td>\n",
       "      <td>0</td>\n",
       "      <td>40</td>\n",
       "      <td>&lt;=50K</td>\n",
       "    </tr>\n",
       "    <tr>\n",
       "      <th>11</th>\n",
       "      <td>44</td>\n",
       "      <td>Local-gov</td>\n",
       "      <td>150171</td>\n",
       "      <td>HS-grad</td>\n",
       "      <td>9</td>\n",
       "      <td>Divorced</td>\n",
       "      <td>Adm-clerical</td>\n",
       "      <td>Unmarried</td>\n",
       "      <td>White</td>\n",
       "      <td>Female</td>\n",
       "      <td>0</td>\n",
       "      <td>0</td>\n",
       "      <td>40</td>\n",
       "      <td>&lt;=50K</td>\n",
       "    </tr>\n",
       "  </tbody>\n",
       "</table>\n",
       "</div>"
      ],
      "text/plain": [
       "    age    workclass  fnlwgt     education  education-num      marital-status  \\\n",
       "0    34    Local-gov  284843       HS-grad              9       Never-married   \n",
       "1    40      Private  190290  Some-college             10            Divorced   \n",
       "2    36    Local-gov  177858     Bachelors             13  Married-civ-spouse   \n",
       "3    22      Private  184756  Some-college             10       Never-married   \n",
       "4    47      Private  149700     Bachelors             13  Married-civ-spouse   \n",
       "5    18      Private  446771  Some-college             10       Never-married   \n",
       "6    31  Federal-gov  108464    Assoc-acdm             12  Married-civ-spouse   \n",
       "8    25      Private  110138       HS-grad              9       Never-married   \n",
       "9    53  Federal-gov  167410     Bachelors             13            Divorced   \n",
       "10   19      Private  131615       HS-grad              9       Never-married   \n",
       "11   44    Local-gov  150171       HS-grad              9            Divorced   \n",
       "\n",
       "           occupation   relationship                race     sex  \\\n",
       "0     Farming-fishing  Not-in-family               Black    Male   \n",
       "1               Sales  Not-in-family               White    Male   \n",
       "2      Prof-specialty      Own-child               White    Male   \n",
       "3               Sales      Own-child               White  Female   \n",
       "4        Tech-support        Husband               White    Male   \n",
       "5        Adm-clerical      Own-child               White    Male   \n",
       "6        Tech-support        Husband               White    Male   \n",
       "8       Other-service  Not-in-family               White    Male   \n",
       "9        Tech-support  Not-in-family  Amer-Indian-Eskimo    Male   \n",
       "10  Machine-op-inspct      Own-child               White    Male   \n",
       "11       Adm-clerical      Unmarried               White  Female   \n",
       "\n",
       "    capital-gain  capital-loss  hours-per-week >50K,<=50K  \n",
       "0            594             0              60      <=50K  \n",
       "1              0             0              40      <=50K  \n",
       "2              0             0              40      <=50K  \n",
       "3              0             0              30      <=50K  \n",
       "4          15024             0              40       >50K  \n",
       "5              0             0              25      <=50K  \n",
       "6              0             0              40      <=50K  \n",
       "8              0             0              40      <=50K  \n",
       "9              0             0              40      <=50K  \n",
       "10             0             0              40      <=50K  \n",
       "11             0             0              40      <=50K  "
      ]
     },
     "execution_count": 54,
     "metadata": {},
     "output_type": "execute_result"
    }
   ],
   "source": [
    "data = data.dropna() #делитнули пропуски\n",
    "data.head(11)"
   ]
  },
  {
   "cell_type": "markdown",
   "metadata": {},
   "source": [
    "Обычно после загрузки датасета всегда необходима его некоторая предобработка. В данном случае она будет заключаться в следующем: \n",
    "\n",
    " - Выделите целевую переменную в отдельную переменную, удалите ее из датасета и преобразуйте к бинарному формату.\n",
    " - Обратите внимание, что не все признаки являются вещественными. В начале мы будем работать только с вещественными признаками. Выделите их отдельно."
   ]
  },
  {
   "cell_type": "code",
   "execution_count": 55,
   "metadata": {},
   "outputs": [
    {
     "data": {
      "text/html": [
       "<div>\n",
       "<style scoped>\n",
       "    .dataframe tbody tr th:only-of-type {\n",
       "        vertical-align: middle;\n",
       "    }\n",
       "\n",
       "    .dataframe tbody tr th {\n",
       "        vertical-align: top;\n",
       "    }\n",
       "\n",
       "    .dataframe thead th {\n",
       "        text-align: right;\n",
       "    }\n",
       "</style>\n",
       "<table border=\"1\" class=\"dataframe\">\n",
       "  <thead>\n",
       "    <tr style=\"text-align: right;\">\n",
       "      <th></th>\n",
       "      <th>age</th>\n",
       "      <th>workclass</th>\n",
       "      <th>fnlwgt</th>\n",
       "      <th>education</th>\n",
       "      <th>education-num</th>\n",
       "      <th>marital-status</th>\n",
       "      <th>occupation</th>\n",
       "      <th>relationship</th>\n",
       "      <th>race</th>\n",
       "      <th>sex</th>\n",
       "      <th>capital-gain</th>\n",
       "      <th>capital-loss</th>\n",
       "      <th>hours-per-week</th>\n",
       "    </tr>\n",
       "  </thead>\n",
       "  <tbody>\n",
       "    <tr>\n",
       "      <th>0</th>\n",
       "      <td>34</td>\n",
       "      <td>Local-gov</td>\n",
       "      <td>284843</td>\n",
       "      <td>HS-grad</td>\n",
       "      <td>9</td>\n",
       "      <td>Never-married</td>\n",
       "      <td>Farming-fishing</td>\n",
       "      <td>Not-in-family</td>\n",
       "      <td>Black</td>\n",
       "      <td>Male</td>\n",
       "      <td>594</td>\n",
       "      <td>0</td>\n",
       "      <td>60</td>\n",
       "    </tr>\n",
       "    <tr>\n",
       "      <th>1</th>\n",
       "      <td>40</td>\n",
       "      <td>Private</td>\n",
       "      <td>190290</td>\n",
       "      <td>Some-college</td>\n",
       "      <td>10</td>\n",
       "      <td>Divorced</td>\n",
       "      <td>Sales</td>\n",
       "      <td>Not-in-family</td>\n",
       "      <td>White</td>\n",
       "      <td>Male</td>\n",
       "      <td>0</td>\n",
       "      <td>0</td>\n",
       "      <td>40</td>\n",
       "    </tr>\n",
       "    <tr>\n",
       "      <th>2</th>\n",
       "      <td>36</td>\n",
       "      <td>Local-gov</td>\n",
       "      <td>177858</td>\n",
       "      <td>Bachelors</td>\n",
       "      <td>13</td>\n",
       "      <td>Married-civ-spouse</td>\n",
       "      <td>Prof-specialty</td>\n",
       "      <td>Own-child</td>\n",
       "      <td>White</td>\n",
       "      <td>Male</td>\n",
       "      <td>0</td>\n",
       "      <td>0</td>\n",
       "      <td>40</td>\n",
       "    </tr>\n",
       "    <tr>\n",
       "      <th>3</th>\n",
       "      <td>22</td>\n",
       "      <td>Private</td>\n",
       "      <td>184756</td>\n",
       "      <td>Some-college</td>\n",
       "      <td>10</td>\n",
       "      <td>Never-married</td>\n",
       "      <td>Sales</td>\n",
       "      <td>Own-child</td>\n",
       "      <td>White</td>\n",
       "      <td>Female</td>\n",
       "      <td>0</td>\n",
       "      <td>0</td>\n",
       "      <td>30</td>\n",
       "    </tr>\n",
       "    <tr>\n",
       "      <th>4</th>\n",
       "      <td>47</td>\n",
       "      <td>Private</td>\n",
       "      <td>149700</td>\n",
       "      <td>Bachelors</td>\n",
       "      <td>13</td>\n",
       "      <td>Married-civ-spouse</td>\n",
       "      <td>Tech-support</td>\n",
       "      <td>Husband</td>\n",
       "      <td>White</td>\n",
       "      <td>Male</td>\n",
       "      <td>15024</td>\n",
       "      <td>0</td>\n",
       "      <td>40</td>\n",
       "    </tr>\n",
       "  </tbody>\n",
       "</table>\n",
       "</div>"
      ],
      "text/plain": [
       "   age  workclass  fnlwgt     education  education-num      marital-status  \\\n",
       "0   34  Local-gov  284843       HS-grad              9       Never-married   \n",
       "1   40    Private  190290  Some-college             10            Divorced   \n",
       "2   36  Local-gov  177858     Bachelors             13  Married-civ-spouse   \n",
       "3   22    Private  184756  Some-college             10       Never-married   \n",
       "4   47    Private  149700     Bachelors             13  Married-civ-spouse   \n",
       "\n",
       "        occupation   relationship   race     sex  capital-gain  capital-loss  \\\n",
       "0  Farming-fishing  Not-in-family  Black    Male           594             0   \n",
       "1            Sales  Not-in-family  White    Male             0             0   \n",
       "2   Prof-specialty      Own-child  White    Male             0             0   \n",
       "3            Sales      Own-child  White  Female             0             0   \n",
       "4     Tech-support        Husband  White    Male         15024             0   \n",
       "\n",
       "   hours-per-week  \n",
       "0              60  \n",
       "1              40  \n",
       "2              40  \n",
       "3              30  \n",
       "4              40  "
      ]
     },
     "execution_count": 55,
     "metadata": {},
     "output_type": "execute_result"
    }
   ],
   "source": [
    "y = data['>50K,<=50K'] #определили целевой признак\n",
    "data = data.drop(columns=['>50K,<=50K'], axis=1) #удалили его из датасета\n",
    "data.head()"
   ]
  },
  {
   "cell_type": "code",
   "execution_count": 56,
   "metadata": {},
   "outputs": [
    {
     "data": {
      "text/plain": [
       "0        1\n",
       "1        1\n",
       "2        1\n",
       "3        1\n",
       "4        0\n",
       "        ..\n",
       "16275    1\n",
       "16276    0\n",
       "16277    1\n",
       "16278    1\n",
       "16279    0\n",
       "Name: >50K,<=50K, Length: 15347, dtype: int32"
      ]
     },
     "execution_count": 56,
     "metadata": {},
     "output_type": "execute_result"
    }
   ],
   "source": [
    "y = (y == '<=50K').astype(int) # переделали в бинарный признак\n",
    "y"
   ]
  },
  {
   "cell_type": "code",
   "execution_count": 57,
   "metadata": {},
   "outputs": [
    {
     "data": {
      "text/plain": [
       "['age',\n",
       " 'fnlwgt',\n",
       " 'education-num',\n",
       " 'capital-gain',\n",
       " 'capital-loss',\n",
       " 'hours-per-week']"
      ]
     },
     "execution_count": 57,
     "metadata": {},
     "output_type": "execute_result"
    }
   ],
   "source": [
    "cat_feature_mask = data.dtypes == object \n",
    "cat_cols = data.columns[cat_feature_mask].tolist() # категориальные признаки\n",
    "num_cols = data.columns[~ cat_feature_mask].tolist() # числовые (вещественные) признаки\n",
    "num_cols"
   ]
  },
  {
   "cell_type": "code",
   "execution_count": 58,
   "metadata": {},
   "outputs": [
    {
     "data": {
      "text/html": [
       "<div>\n",
       "<style scoped>\n",
       "    .dataframe tbody tr th:only-of-type {\n",
       "        vertical-align: middle;\n",
       "    }\n",
       "\n",
       "    .dataframe tbody tr th {\n",
       "        vertical-align: top;\n",
       "    }\n",
       "\n",
       "    .dataframe thead th {\n",
       "        text-align: right;\n",
       "    }\n",
       "</style>\n",
       "<table border=\"1\" class=\"dataframe\">\n",
       "  <thead>\n",
       "    <tr style=\"text-align: right;\">\n",
       "      <th></th>\n",
       "      <th>age</th>\n",
       "      <th>fnlwgt</th>\n",
       "      <th>education-num</th>\n",
       "      <th>capital-gain</th>\n",
       "      <th>capital-loss</th>\n",
       "      <th>hours-per-week</th>\n",
       "    </tr>\n",
       "  </thead>\n",
       "  <tbody>\n",
       "    <tr>\n",
       "      <th>0</th>\n",
       "      <td>34</td>\n",
       "      <td>284843</td>\n",
       "      <td>9</td>\n",
       "      <td>594</td>\n",
       "      <td>0</td>\n",
       "      <td>60</td>\n",
       "    </tr>\n",
       "    <tr>\n",
       "      <th>1</th>\n",
       "      <td>40</td>\n",
       "      <td>190290</td>\n",
       "      <td>10</td>\n",
       "      <td>0</td>\n",
       "      <td>0</td>\n",
       "      <td>40</td>\n",
       "    </tr>\n",
       "    <tr>\n",
       "      <th>2</th>\n",
       "      <td>36</td>\n",
       "      <td>177858</td>\n",
       "      <td>13</td>\n",
       "      <td>0</td>\n",
       "      <td>0</td>\n",
       "      <td>40</td>\n",
       "    </tr>\n",
       "    <tr>\n",
       "      <th>3</th>\n",
       "      <td>22</td>\n",
       "      <td>184756</td>\n",
       "      <td>10</td>\n",
       "      <td>0</td>\n",
       "      <td>0</td>\n",
       "      <td>30</td>\n",
       "    </tr>\n",
       "    <tr>\n",
       "      <th>4</th>\n",
       "      <td>47</td>\n",
       "      <td>149700</td>\n",
       "      <td>13</td>\n",
       "      <td>15024</td>\n",
       "      <td>0</td>\n",
       "      <td>40</td>\n",
       "    </tr>\n",
       "    <tr>\n",
       "      <th>...</th>\n",
       "      <td>...</td>\n",
       "      <td>...</td>\n",
       "      <td>...</td>\n",
       "      <td>...</td>\n",
       "      <td>...</td>\n",
       "      <td>...</td>\n",
       "    </tr>\n",
       "    <tr>\n",
       "      <th>16275</th>\n",
       "      <td>25</td>\n",
       "      <td>514716</td>\n",
       "      <td>13</td>\n",
       "      <td>0</td>\n",
       "      <td>0</td>\n",
       "      <td>40</td>\n",
       "    </tr>\n",
       "    <tr>\n",
       "      <th>16276</th>\n",
       "      <td>32</td>\n",
       "      <td>207668</td>\n",
       "      <td>13</td>\n",
       "      <td>15024</td>\n",
       "      <td>0</td>\n",
       "      <td>45</td>\n",
       "    </tr>\n",
       "    <tr>\n",
       "      <th>16277</th>\n",
       "      <td>27</td>\n",
       "      <td>104457</td>\n",
       "      <td>13</td>\n",
       "      <td>0</td>\n",
       "      <td>0</td>\n",
       "      <td>40</td>\n",
       "    </tr>\n",
       "    <tr>\n",
       "      <th>16278</th>\n",
       "      <td>59</td>\n",
       "      <td>268700</td>\n",
       "      <td>9</td>\n",
       "      <td>0</td>\n",
       "      <td>0</td>\n",
       "      <td>40</td>\n",
       "    </tr>\n",
       "    <tr>\n",
       "      <th>16279</th>\n",
       "      <td>33</td>\n",
       "      <td>59083</td>\n",
       "      <td>13</td>\n",
       "      <td>0</td>\n",
       "      <td>1902</td>\n",
       "      <td>45</td>\n",
       "    </tr>\n",
       "  </tbody>\n",
       "</table>\n",
       "<p>15347 rows × 6 columns</p>\n",
       "</div>"
      ],
      "text/plain": [
       "       age  fnlwgt  education-num  capital-gain  capital-loss  hours-per-week\n",
       "0       34  284843              9           594             0              60\n",
       "1       40  190290             10             0             0              40\n",
       "2       36  177858             13             0             0              40\n",
       "3       22  184756             10             0             0              30\n",
       "4       47  149700             13         15024             0              40\n",
       "...    ...     ...            ...           ...           ...             ...\n",
       "16275   25  514716             13             0             0              40\n",
       "16276   32  207668             13         15024             0              45\n",
       "16277   27  104457             13             0             0              40\n",
       "16278   59  268700              9             0             0              40\n",
       "16279   33   59083             13             0          1902              45\n",
       "\n",
       "[15347 rows x 6 columns]"
      ]
     },
     "execution_count": 58,
     "metadata": {},
     "output_type": "execute_result"
    }
   ],
   "source": [
    "data_num_cols = data.drop(data.columns[cat_feature_mask], axis=1)\n",
    "data_num_cols"
   ]
  },
  {
   "cell_type": "markdown",
   "metadata": {},
   "source": [
    "## Обучение классификаторов на вещественных признаках\n",
    "\n",
    "В данном разделе необходимо будет работать только с вещественными признаками и целевой переменной.\n",
    "\n",
    "В начале посмотрим как работает подбор параметров по сетке и как влияет на качество разбиение выборки. Сейчас и далее будем рассматривать 5 алгоритмов:\n",
    " - [kNN](http://scikit-learn.org/stable/modules/generated/sklearn.neighbors.KNeighborsClassifier.html)\n",
    " - [DecisonTree](http://scikit-learn.org/stable/modules/generated/sklearn.tree.DecisionTreeClassifier.html#sklearn.tree.DecisionTreeClassifier)\n",
    " - [SGD Linear Classifier](http://scikit-learn.org/stable/modules/generated/sklearn.linear_model.SGDClassifier.html)\n",
    " - [RandomForest](http://scikit-learn.org/stable/modules/generated/sklearn.ensemble.RandomForestClassifier.html)\n",
    " - [GradientBoosting](https://scikit-learn.org/stable/modules/generated/sklearn.ensemble.GradientBoostingClassifier.html)\n",
    "\n",
    "Для начала у первых трёх алгоритмов выберем один гиперпараметр, который будем оптимизировать:\n",
    " - kNN — число соседей (*n_neighbors*)\n",
    " - DecisonTree — глубина дерева (*max_depth*)\n",
    " - SGD Linear Classifier — оптимизируемая функция (*loss*)\n",
    " \n",
    "Остальные параметры оставляйте в значениях по умолчанию. Для подбора гиперпараметров воспользуйтесь перебором по сетке, который реализован в классе [GridSearchCV](https://scikit-learn.org/stable/modules/generated/sklearn.model_selection.GridSearchCV.html). В качестве схемы кросс-валидации используйте 5-fold cv, которую можно задать с помощью класса [KFold](https://scikit-learn.org/stable/modules/generated/sklearn.model_selection.KFold.html).\n",
    "\n",
    "**Задание 2 (1 балл)** Для каждого из первых трех алгоритмов подберите оптимальные значения указанных гиперпараметров. Для каждого из этих алгоритмов постройте график среднего качества по кросс-валидации при заданном значении гиперпараметра, на котором также отобразите доверительный интервал [m-std, m+std], где m - среднее, std - стандартное отклонение."
   ]
  },
  {
   "cell_type": "code",
   "execution_count": 59,
   "metadata": {},
   "outputs": [],
   "source": [
    "from sklearn.neighbors import KNeighborsClassifier\n",
    "from sklearn.tree import DecisionTreeClassifier\n",
    "from sklearn.linear_model import SGDClassifier\n",
    "from sklearn.ensemble import RandomForestClassifier\n",
    "from sklearn.ensemble import GradientBoostingClassifier\n",
    "\n",
    "from sklearn.model_selection import GridSearchCV\n",
    "from sklearn.model_selection import train_test_split\n",
    "from sklearn.metrics import roc_auc_score\n",
    "from sklearn.model_selection import cross_validate"
   ]
  },
  {
   "cell_type": "code",
   "execution_count": 60,
   "metadata": {},
   "outputs": [
    {
     "name": "stdout",
     "output_type": "stream",
     "text": [
      "best score: 0.6407170629127037\n",
      "best params: {'n_neighbors': 4}\n"
     ]
    }
   ],
   "source": [
    "knn = KNeighborsClassifier()\n",
    "\n",
    "params = {'n_neighbors': range(1, 20)} # словарь – список параметров\n",
    "\n",
    "grid_search = GridSearchCV(knn, params, cv=5, scoring='roc_auc')\n",
    "grid_search.fit(data_num_cols, y) \n",
    "\n",
    "print('best score:', grid_search.best_score_)\n",
    "print('best params:', grid_search.best_params_)"
   ]
  },
  {
   "cell_type": "code",
   "execution_count": 61,
   "metadata": {},
   "outputs": [],
   "source": [
    "# концы доверительного интервала \n",
    "low = np.mean(grid_search.cv_results_[\"mean_test_score\"]) - np.std(grid_search.cv_results_[\"mean_test_score\"])\n",
    "high = np.mean(grid_search.cv_results_[\"mean_test_score\"]) + np.std(grid_search.cv_results_[\"mean_test_score\"])"
   ]
  },
  {
   "cell_type": "code",
   "execution_count": 62,
   "metadata": {},
   "outputs": [
    {
     "data": {
      "image/png": "[encoded data removed]",
      "text/plain": [
       "<Figure size 432x288 with 1 Axes>"
      ]
     },
     "metadata": {
      "needs_background": "light"
     },
     "output_type": "display_data"
    }
   ],
   "source": [
    "n_n_array = range(1, 20)\n",
    "\n",
    "plt.plot(n_n_array, grid_search.cv_results_[\"mean_test_score\"])\n",
    "plt.plot([0, 20], [low, low])\n",
    "plt.plot([0, 20], [high, high])\n",
    "plt.xlabel(\"n neighbors\")\n",
    "plt.ylabel(\"roc_auc\")\n",
    "plt.show()"
   ]
  },
  {
   "cell_type": "code",
   "execution_count": 63,
   "metadata": {},
   "outputs": [
    {
     "name": "stdout",
     "output_type": "stream",
     "text": [
      "best score: 0.841612347287073\n",
      "best params: {'max_depth': 7}\n"
     ]
    }
   ],
   "source": [
    "tree_class = DecisionTreeClassifier()\n",
    "\n",
    "params = {'max_depth': range(1, 20)} #задаем словарь – список параметров\n",
    "\n",
    "grid_search = GridSearchCV(tree_class, params, cv=5, scoring='roc_auc') #объявляем модель, передаем модель и список параметров\n",
    "\n",
    "grid_search.fit(data_num_cols, y) #обучаем модель\n",
    "\n",
    "print('best score:', grid_search.best_score_)\n",
    "print('best params:', grid_search.best_params_)"
   ]
  },
  {
   "cell_type": "code",
   "execution_count": 64,
   "metadata": {},
   "outputs": [],
   "source": [
    "# доверительный интервал\n",
    "low_1 = np.mean(grid_search.cv_results_[\"mean_test_score\"]) - np.std(grid_search.cv_results_[\"mean_test_score\"])\n",
    "high_1 = np.mean(grid_search.cv_results_[\"mean_test_score\"]) + np.std(grid_search.cv_results_[\"mean_test_score\"])"
   ]
  },
  {
   "cell_type": "code",
   "execution_count": 65,
   "metadata": {},
   "outputs": [
    {
     "data": {
      "image/png": "[encoded data removed]",
      "text/plain": [
       "<Figure size 432x288 with 1 Axes>"
      ]
     },
     "metadata": {
      "needs_background": "light"
     },
     "output_type": "display_data"
    }
   ],
   "source": [
    "max_depth_array = range(1, 20) \n",
    "\n",
    "plt.plot(max_depth_array, grid_search.cv_results_[\"mean_test_score\"])\n",
    "plt.plot([0, 20], [low_1, low_1])\n",
    "plt.plot([0, 20], [high_1, high_1])\n",
    "plt.xlabel(\"max depth\")\n",
    "plt.ylabel(\"roc_auc\")\n",
    "plt.show()"
   ]
  },
  {
   "cell_type": "code",
   "execution_count": 66,
   "metadata": {},
   "outputs": [
    {
     "name": "stdout",
     "output_type": "stream",
     "text": [
      "best score: 0.6139276654012684\n",
      "best params: {'loss': 'hinge'}\n"
     ]
    }
   ],
   "source": [
    "sgd = SGDClassifier()\n",
    "\n",
    "params = {'loss': ['hinge','log', 'modified_huber', 'squared_hinge']} #задаем словарь – список параметров\n",
    "\n",
    "grid_search = GridSearchCV(sgd, params, cv=5, scoring='roc_auc') #объявляем модель, передаем модель и список параметров\n",
    "\n",
    "grid_search.fit(data_num_cols, y) #обучаем модель\n",
    "\n",
    "print('best score:', grid_search.best_score_)\n",
    "print('best params:', grid_search.best_params_)"
   ]
  },
  {
   "cell_type": "code",
   "execution_count": 67,
   "metadata": {},
   "outputs": [],
   "source": [
    "# доверительный интервал \n",
    "low_2 = np.mean(grid_search.cv_results_[\"mean_test_score\"]) - np.std(grid_search.cv_results_[\"mean_test_score\"])\n",
    "high_2 = np.mean(grid_search.cv_results_[\"mean_test_score\"]) + np.std(grid_search.cv_results_[\"mean_test_score\"])"
   ]
  },
  {
   "cell_type": "code",
   "execution_count": 69,
   "metadata": {},
   "outputs": [
    {
     "data": {
      "image/png": "[encoded data removed]",
      "text/plain": [
       "<Figure size 432x288 with 1 Axes>"
      ]
     },
     "metadata": {
      "needs_background": "light"
     },
     "output_type": "display_data"
    }
   ],
   "source": [
    "loss_array = ['hinge','log', 'modified_huber', 'squared_hinge']\n",
    "\n",
    "plt.plot(loss_array, grid_search.cv_results_[\"mean_test_score\"])\n",
    "plt.plot([0, 3], [low_2, low_2])\n",
    "plt.plot([0, 3], [high_2, high_2])\n",
    "plt.xlabel(\"loss\")\n",
    "plt.ylabel(\"roc_auc\")\n",
    "plt.show()"
   ]
  },
  {
   "cell_type": "markdown",
   "metadata": {},
   "source": [
    "***Что вы можете сказать о получившихся графиках?***\n",
    "\n",
    "\n",
    "1) В  knn качество сначала растет (до n_neighbors = 4), а потом начинает уменьшатся\n",
    "\n",
    "2) У дерева тоже сперва качество растет (до глубины 7), после 7 качество становится хуже.\n",
    "\n",
    "3) В sgd нельзя точно сказать, так как с каждым новым запуском модель выбирает наилучшим новый параметр, и зависимость на графике сильно меняется, но вообще качество не очень высокое.\n",
    "\n",
    "**Задание 3 (0.5 балла)** Также подберём число деревьев (*n_estimators*) в алгоритме RandomForest. Как известно, в общем случае Random Forest не переобучается с увеличением количества деревьев, так что при увеличении этого гиперпараметра его качество не будет становиться хуже. Поэтому подберите такое количество деревьев, при котором качество на кросс-валидации стабилизируется. Обратите внимание, что для проведения этого эксперимента не нужно с нуля обучать много случайных лесов с различными количествами деревьев. Обучите один случайный лес с максимальным интересным количеством деревьев, а затем рассмотрите подмножества разных размеров, состоящие из деревьев построенного леса (поле [*estimators_*](http://scikit-learn.org/stable/modules/generated/sklearn.ensemble.RandomForestClassifier.html)). В дальнейших экспериментах используйте это количество деревьев."
   ]
  },
  {
   "cell_type": "code",
   "execution_count": 70,
   "metadata": {},
   "outputs": [
    {
     "name": "stdout",
     "output_type": "stream",
     "text": [
      "best score: 0.8185339429461168\n",
      "best params: {'n_estimators': 81}\n"
     ]
    }
   ],
   "source": [
    "rand_forest = RandomForestClassifier()\n",
    "\n",
    "params = {'n_estimators': range(10, 100)} # словарь – список параметров\n",
    "\n",
    "grid = GridSearchCV(rand_forest, params, cv=5, scoring='roc_auc') #объявляем модель, передаем модель и список параметров\n",
    "\n",
    "grid.fit(data_num_cols, y) #обучаем модель\n",
    "\n",
    "print('best score:', grid.best_score_)\n",
    "print('best params:', grid.best_params_)"
   ]
  },
  {
   "cell_type": "code",
   "execution_count": 71,
   "metadata": {},
   "outputs": [
    {
     "data": {
      "text/plain": [
       "Text(0, 0.5, 'roc_auc')"
      ]
     },
     "execution_count": 71,
     "metadata": {},
     "output_type": "execute_result"
    },
    {
     "data": {
      "image/png": "[encoded data removed]",
      "text/plain": [
       "<Figure size 432x288 with 1 Axes>"
      ]
     },
     "metadata": {
      "needs_background": "light"
     },
     "output_type": "display_data"
    }
   ],
   "source": [
    "n_estimators_array = range(10, 100)\n",
    "\n",
    "plt.plot(n_estimators_array, grid.cv_results_[\"mean_test_score\"])\n",
    "plt.xlabel(\"n estimators\")\n",
    "plt.ylabel(\"roc_auc\")"
   ]
  },
  {
   "cell_type": "markdown",
   "metadata": {},
   "source": [
    "Где-то около значения 40 показатель roc_auc начинает превращаться в асимптоту \n",
    "\n",
    "Сделаем чек на mean_test_score в словаре всех метрик оценки из gridsearch\n",
    "\n",
    "Выберу 40 в качестве оптимального значения, так как, начиная с него, roc_auc равен приблизительно 0.815 и стабилизируется."
   ]
  },
  {
   "cell_type": "code",
   "execution_count": 72,
   "metadata": {},
   "outputs": [
    {
     "data": {
      "text/plain": [
       "array([0.79250716, 0.79513817, 0.79565332, 0.80106667, 0.80121426,\n",
       "       0.80211879, 0.80334351, 0.80528698, 0.80416431, 0.80468065,\n",
       "       0.80567212, 0.80797878, 0.8059375 , 0.80710425, 0.80771453,\n",
       "       0.81093526, 0.80895836, 0.81019616, 0.81147732, 0.81125274,\n",
       "       0.8088653 , 0.81134756, 0.81074891, 0.81167546, 0.81285734,\n",
       "       0.81295949, 0.81292061, 0.81405984, 0.81411697, 0.81400663,\n",
       "       0.8133701 , 0.81327587, 0.81388703, 0.8120995 , 0.81436959,\n",
       "       0.81323208, 0.81499272, 0.81459455, 0.81585121, 0.81593642,\n",
       "       0.81356175, 0.81410332, 0.81708201, 0.81322507, 0.81596042,\n",
       "       0.81553939, 0.81422984, 0.81560864, 0.81521984, 0.81520774,\n",
       "       0.81515415, 0.81572121, 0.81591068, 0.81689878, 0.8155874 ,\n",
       "       0.81623938, 0.81477956, 0.81541335, 0.81806141, 0.81479122,\n",
       "       0.8162118 , 0.81667885, 0.81764257, 0.81500309, 0.81606506,\n",
       "       0.81649075, 0.81666013, 0.81698439, 0.81532131, 0.81709652,\n",
       "       0.81512101, 0.81853394, 0.81702579, 0.81720913, 0.81731623,\n",
       "       0.81727937, 0.81835126, 0.81645942, 0.81751035, 0.81785037,\n",
       "       0.81730358, 0.81812851, 0.81691817, 0.81799099, 0.81755264,\n",
       "       0.81692778, 0.81755804, 0.81728268, 0.81717907, 0.81729894])"
      ]
     },
     "execution_count": 72,
     "metadata": {},
     "output_type": "execute_result"
    }
   ],
   "source": [
    "grid.cv_results_[\"mean_test_score\"]"
   ]
  },
  {
   "cell_type": "markdown",
   "metadata": {},
   "source": [
    "**Задание 4 (0.5 балла)** Подберём число деревьев (*n_estimators*) в алгоритме GradientBoosting. Мы знаем, что ошибка бустинга на тестовых данных, как правило, имеет U-образную форму, то есть сначала уменьшается, а при достижении некоторого числа деревьев начинает расти. Нарисуйте график ошибки в зависимости от числа деревьев. Подберите n_estimators, соответствующий минимуму ошибки."
   ]
  },
  {
   "cell_type": "code",
   "execution_count": 73,
   "metadata": {},
   "outputs": [
    {
     "name": "stdout",
     "output_type": "stream",
     "text": [
      "min error: 0.1340931890375867\n",
      "best params: {'n_estimators': 290}\n"
     ]
    }
   ],
   "source": [
    "boost = GradientBoostingClassifier()\n",
    "\n",
    "params = {'n_estimators': [100,200,290,500,1000,1500]} # словарь – список параметров\n",
    "\n",
    "grid = GridSearchCV(boost, params, cv=5, scoring='roc_auc') \n",
    "\n",
    "grid.fit(data_num_cols, y) \n",
    "\n",
    "print('min error:', 1-grid.best_score_)\n",
    "print('best params:', grid.best_params_)"
   ]
  },
  {
   "cell_type": "markdown",
   "metadata": {},
   "source": [
    "График ошибки в зависимости от числа деревьев равносилен графику качества в зависимости от числа деревьев (ошибка = 1 – качество), поэтому n_estimators, соответствующий минимуму ошибки, это тот же n_estimators, соответствующий максимуму качества, то есть примерно 290. "
   ]
  },
  {
   "cell_type": "code",
   "execution_count": 74,
   "metadata": {},
   "outputs": [
    {
     "data": {
      "text/plain": [
       "Text(0, 0.5, 'error')"
      ]
     },
     "execution_count": 74,
     "metadata": {},
     "output_type": "execute_result"
    },
    {
     "data": {
      "image/png": "[encoded data removed]",
      "text/plain": [
       "<Figure size 432x288 with 1 Axes>"
      ]
     },
     "metadata": {
      "needs_background": "light"
     },
     "output_type": "display_data"
    }
   ],
   "source": [
    "n_estimators_array = [100,200,290,500,1000,1500]\n",
    "\n",
    "plt.plot(n_estimators_array, 1-grid.cv_results_[\"mean_test_score\"])\n",
    "plt.xlabel(\"n estimators\")\n",
    "plt.ylabel(\"error\")"
   ]
  },
  {
   "cell_type": "markdown",
   "metadata": {},
   "source": [
    "При обучении алгоритмов стоит обращать внимание не только на качество, но и каким образом они работают с данными. В этой задаче получилось так, что некоторые из используемых алгоритмов чувствительны к масштабу признаков. Чтобы убедиться, что это как-то могло повлиять на качество давайте посмотрим на сами признаки.\n",
    "\n",
    "**Задание 5 (0.5 балла)** Постройте гистограммы для признаков *age*, *fnlwgt*, *capital-gain*. Глядя на получившиеся графики в чем заключается особенность данных? На какие алгоритмы это может повлиять? Может ли масшитабирование повлиять на работу этих алгоритмов?"
   ]
  },
  {
   "cell_type": "code",
   "execution_count": 75,
   "metadata": {},
   "outputs": [
    {
     "data": {
      "text/plain": [
       "(array([2466., 2776., 2966., 3066., 1931., 1203.,  667.,  183.,   62.,\n",
       "          27.]),\n",
       " array([17. , 24.3, 31.6, 38.9, 46.2, 53.5, 60.8, 68.1, 75.4, 82.7, 90. ]),\n",
       " <a list of 10 Patch objects>)"
      ]
     },
     "execution_count": 75,
     "metadata": {},
     "output_type": "execute_result"
    },
    {
     "data": {
      "image/png": "[encoded data removed]",
      "text/plain": [
       "<Figure size 432x288 with 1 Axes>"
      ]
     },
     "metadata": {
      "needs_background": "light"
     },
     "output_type": "display_data"
    }
   ],
   "source": [
    "plt.hist(data['age'])"
   ]
  },
  {
   "cell_type": "code",
   "execution_count": 76,
   "metadata": {},
   "outputs": [
    {
     "data": {
      "text/plain": [
       "(array([6.681e+03, 6.863e+03, 1.528e+03, 2.150e+02, 4.400e+01, 4.000e+00,\n",
       "        6.000e+00, 1.000e+00, 2.000e+00, 3.000e+00]),\n",
       " array([  19302. ,  165842.3,  312382.6,  458922.9,  605463.2,  752003.5,\n",
       "         898543.8, 1045084.1, 1191624.4, 1338164.7, 1484705. ]),\n",
       " <a list of 10 Patch objects>)"
      ]
     },
     "execution_count": 76,
     "metadata": {},
     "output_type": "execute_result"
    },
    {
     "data": {
      "image/png": "[encoded data removed]",
      "text/plain": [
       "<Figure size 432x288 with 1 Axes>"
      ]
     },
     "metadata": {
      "needs_background": "light"
     },
     "output_type": "display_data"
    }
   ],
   "source": [
    "plt.hist(data['fnlwgt'])"
   ]
  },
  {
   "cell_type": "code",
   "execution_count": 77,
   "metadata": {},
   "outputs": [
    {
     "data": {
      "text/plain": [
       "(array([1.498e+04, 2.560e+02, 4.300e+01, 2.000e+00, 0.000e+00, 0.000e+00,\n",
       "        0.000e+00, 0.000e+00, 0.000e+00, 6.600e+01]),\n",
       " array([    0. ,  9999.9, 19999.8, 29999.7, 39999.6, 49999.5, 59999.4,\n",
       "        69999.3, 79999.2, 89999.1, 99999. ]),\n",
       " <a list of 10 Patch objects>)"
      ]
     },
     "execution_count": 77,
     "metadata": {},
     "output_type": "execute_result"
    },
    {
     "data": {
      "image/png": "[encoded data removed]",
      "text/plain": [
       "<Figure size 432x288 with 1 Axes>"
      ]
     },
     "metadata": {
      "needs_background": "light"
     },
     "output_type": "display_data"
    }
   ],
   "source": [
    "plt.hist(data['capital-gain'])"
   ]
  },
  {
   "cell_type": "markdown",
   "metadata": {},
   "source": [
    "Масштабирование признаков можно выполнить, например, одним из следующих способов способами:\n",
    " - $x_{new} = \\dfrac{x - \\mu}{\\sigma}$, где $\\mu, \\sigma$ — среднее и стандартное отклонение значения признака по всей выборке (см. функцию [scale](http://scikit-learn.org/stable/modules/generated/sklearn.preprocessing.scale.html))\n",
    " - $x_{new} = \\dfrac{x - x_{min}}{x_{max} - x_{min}}$, где $[x_{min}, x_{max}]$ — минимальный интервал значений признака\n",
    "\n",
    "Похожие схемы масштабирования приведены в классах [StandardScaler](http://scikit-learn.org/stable/modules/generated/sklearn.preprocessing.StandardScaler.html#sklearn.preprocessing.StandardScaler) и [MinMaxScaler](http://scikit-learn.org/stable/modules/generated/sklearn.preprocessing.MinMaxScaler.html#sklearn.preprocessing.MinMaxScaler).\n",
    " \n",
    "**Задание 6 (1 балл)** Масштабируйте все вещественные признаки одним из указанных способов и подберите оптимальные значения гиперпараметров аналогично пункту выше."
   ]
  },
  {
   "cell_type": "code",
   "execution_count": 81,
   "metadata": {},
   "outputs": [],
   "source": [
    "from sklearn.preprocessing import StandardScaler\n",
    "\n",
    "scaler = StandardScaler()\n",
    "X_num = scaler.fit_transform(data_num_cols)"
   ]
  },
  {
   "cell_type": "code",
   "execution_count": 82,
   "metadata": {},
   "outputs": [],
   "source": [
    "from sklearn.base import TransformerMixin\n",
    "\n",
    "class CustomScaler(TransformerMixin):\n",
    "    def __init__(self, cols, scaler=None):\n",
    "        self.cols = cols\n",
    "        self.scaler = scaler or StandardScaler()\n",
    "        \n",
    "    #scaler к нужным колонкам    \n",
    "    def fit(self, X, y=None):\n",
    "        num_cols = X.copy()[self.cols]\n",
    "        self.scaler.fit(num_cols)\n",
    "        return self\n",
    "    #Вручную \n",
    "    def transform(self, X, y=None):\n",
    "        X_res = X.copy()\n",
    "        num_cols_tr = self.scaler.transform(X_res[self.cols])\n",
    "        for i, col in enumerate(self.cols):\n",
    "            X_res[col] = num_cols_tr[:,i]\n",
    "        return X_res"
   ]
  },
  {
   "cell_type": "code",
   "execution_count": 83,
   "metadata": {},
   "outputs": [
    {
     "data": {
      "text/html": [
       "<div>\n",
       "<style scoped>\n",
       "    .dataframe tbody tr th:only-of-type {\n",
       "        vertical-align: middle;\n",
       "    }\n",
       "\n",
       "    .dataframe tbody tr th {\n",
       "        vertical-align: top;\n",
       "    }\n",
       "\n",
       "    .dataframe thead th {\n",
       "        text-align: right;\n",
       "    }\n",
       "</style>\n",
       "<table border=\"1\" class=\"dataframe\">\n",
       "  <thead>\n",
       "    <tr style=\"text-align: right;\">\n",
       "      <th></th>\n",
       "      <th>age</th>\n",
       "      <th>fnlwgt</th>\n",
       "      <th>education-num</th>\n",
       "      <th>capital-gain</th>\n",
       "      <th>capital-loss</th>\n",
       "      <th>hours-per-week</th>\n",
       "    </tr>\n",
       "  </thead>\n",
       "  <tbody>\n",
       "    <tr>\n",
       "      <th>0</th>\n",
       "      <td>-0.342919</td>\n",
       "      <td>0.900258</td>\n",
       "      <td>-0.450788</td>\n",
       "      <td>-0.065600</td>\n",
       "      <td>-0.218740</td>\n",
       "      <td>1.588223</td>\n",
       "    </tr>\n",
       "    <tr>\n",
       "      <th>1</th>\n",
       "      <td>0.114760</td>\n",
       "      <td>0.010683</td>\n",
       "      <td>-0.059086</td>\n",
       "      <td>-0.150439</td>\n",
       "      <td>-0.218740</td>\n",
       "      <td>-0.074178</td>\n",
       "    </tr>\n",
       "    <tr>\n",
       "      <th>2</th>\n",
       "      <td>-0.190359</td>\n",
       "      <td>-0.106280</td>\n",
       "      <td>1.116020</td>\n",
       "      <td>-0.150439</td>\n",
       "      <td>-0.218740</td>\n",
       "      <td>-0.074178</td>\n",
       "    </tr>\n",
       "    <tr>\n",
       "      <th>3</th>\n",
       "      <td>-1.258276</td>\n",
       "      <td>-0.041382</td>\n",
       "      <td>-0.059086</td>\n",
       "      <td>-0.150439</td>\n",
       "      <td>-0.218740</td>\n",
       "      <td>-0.905379</td>\n",
       "    </tr>\n",
       "    <tr>\n",
       "      <th>4</th>\n",
       "      <td>0.648719</td>\n",
       "      <td>-0.371197</td>\n",
       "      <td>1.116020</td>\n",
       "      <td>1.995391</td>\n",
       "      <td>-0.218740</td>\n",
       "      <td>-0.074178</td>\n",
       "    </tr>\n",
       "    <tr>\n",
       "      <th>...</th>\n",
       "      <td>...</td>\n",
       "      <td>...</td>\n",
       "      <td>...</td>\n",
       "      <td>...</td>\n",
       "      <td>...</td>\n",
       "      <td>...</td>\n",
       "    </tr>\n",
       "    <tr>\n",
       "      <th>16275</th>\n",
       "      <td>-1.029436</td>\n",
       "      <td>3.062953</td>\n",
       "      <td>1.116020</td>\n",
       "      <td>-0.150439</td>\n",
       "      <td>-0.218740</td>\n",
       "      <td>-0.074178</td>\n",
       "    </tr>\n",
       "    <tr>\n",
       "      <th>16276</th>\n",
       "      <td>-0.495478</td>\n",
       "      <td>0.174179</td>\n",
       "      <td>1.116020</td>\n",
       "      <td>1.995391</td>\n",
       "      <td>-0.218740</td>\n",
       "      <td>0.341422</td>\n",
       "    </tr>\n",
       "    <tr>\n",
       "      <th>16277</th>\n",
       "      <td>-0.876877</td>\n",
       "      <td>-0.796853</td>\n",
       "      <td>1.116020</td>\n",
       "      <td>-0.150439</td>\n",
       "      <td>-0.218740</td>\n",
       "      <td>-0.074178</td>\n",
       "    </tr>\n",
       "    <tr>\n",
       "      <th>16278</th>\n",
       "      <td>1.564076</td>\n",
       "      <td>0.748381</td>\n",
       "      <td>-0.450788</td>\n",
       "      <td>-0.150439</td>\n",
       "      <td>-0.218740</td>\n",
       "      <td>-0.074178</td>\n",
       "    </tr>\n",
       "    <tr>\n",
       "      <th>16279</th>\n",
       "      <td>-0.419198</td>\n",
       "      <td>-1.223741</td>\n",
       "      <td>1.116020</td>\n",
       "      <td>-0.150439</td>\n",
       "      <td>4.473444</td>\n",
       "      <td>0.341422</td>\n",
       "    </tr>\n",
       "  </tbody>\n",
       "</table>\n",
       "<p>15347 rows × 6 columns</p>\n",
       "</div>"
      ],
      "text/plain": [
       "            age    fnlwgt  education-num  capital-gain  capital-loss  \\\n",
       "0     -0.342919  0.900258      -0.450788     -0.065600     -0.218740   \n",
       "1      0.114760  0.010683      -0.059086     -0.150439     -0.218740   \n",
       "2     -0.190359 -0.106280       1.116020     -0.150439     -0.218740   \n",
       "3     -1.258276 -0.041382      -0.059086     -0.150439     -0.218740   \n",
       "4      0.648719 -0.371197       1.116020      1.995391     -0.218740   \n",
       "...         ...       ...            ...           ...           ...   \n",
       "16275 -1.029436  3.062953       1.116020     -0.150439     -0.218740   \n",
       "16276 -0.495478  0.174179       1.116020      1.995391     -0.218740   \n",
       "16277 -0.876877 -0.796853       1.116020     -0.150439     -0.218740   \n",
       "16278  1.564076  0.748381      -0.450788     -0.150439     -0.218740   \n",
       "16279 -0.419198 -1.223741       1.116020     -0.150439      4.473444   \n",
       "\n",
       "       hours-per-week  \n",
       "0            1.588223  \n",
       "1           -0.074178  \n",
       "2           -0.074178  \n",
       "3           -0.905379  \n",
       "4           -0.074178  \n",
       "...               ...  \n",
       "16275       -0.074178  \n",
       "16276        0.341422  \n",
       "16277       -0.074178  \n",
       "16278       -0.074178  \n",
       "16279        0.341422  \n",
       "\n",
       "[15347 rows x 6 columns]"
      ]
     },
     "execution_count": 83,
     "metadata": {},
     "output_type": "execute_result"
    }
   ],
   "source": [
    "sc = CustomScaler(num_cols)\n",
    "X_num_cols = sc.fit_transform(data_num_cols)\n",
    "X_num_cols"
   ]
  },
  {
   "cell_type": "code",
   "execution_count": 84,
   "metadata": {},
   "outputs": [
    {
     "name": "stdout",
     "output_type": "stream",
     "text": [
      "best score: 0.8263744860688924\n",
      "best params: {'n_neighbors': 19}\n"
     ]
    }
   ],
   "source": [
    "knn = KNeighborsClassifier()\n",
    "\n",
    "params = {'n_neighbors': range(1, 20)} #задаем словарь – список параметров\n",
    "\n",
    "grid = GridSearchCV(knn, params, cv=5, scoring='roc_auc') #объявляем модель, передаем модель и список параметров\n",
    "\n",
    "grid.fit(X_num_cols, y) #обучаем модель\n",
    "\n",
    "print('best score:', grid.best_score_)\n",
    "print('best params:', grid.best_params_)"
   ]
  },
  {
   "cell_type": "code",
   "execution_count": 85,
   "metadata": {},
   "outputs": [],
   "source": [
    "#концы доверительного интервала \n",
    "low_low = np.mean(grid.cv_results_[\"mean_test_score\"]) - np.std(grid.cv_results_[\"mean_test_score\"])\n",
    "high_high = np.mean(grid.cv_results_[\"mean_test_score\"]) + np.std(grid.cv_results_[\"mean_test_score\"])"
   ]
  },
  {
   "cell_type": "code",
   "execution_count": 86,
   "metadata": {},
   "outputs": [
    {
     "data": {
      "image/png": "[encoded data removed]",
      "text/plain": [
       "<Figure size 432x288 with 1 Axes>"
      ]
     },
     "metadata": {
      "needs_background": "light"
     },
     "output_type": "display_data"
    }
   ],
   "source": [
    "n_neighbors_array = range(1, 20)\n",
    "\n",
    "plt.plot(n_neighbors_array, grid.cv_results_[\"mean_test_score\"])\n",
    "plt.plot([0, 20], [low_low, low_low])\n",
    "plt.plot([0, 20], [high_high, high_high])\n",
    "plt.xlabel(\"n neighbors\")\n",
    "plt.ylabel(\"roc_auc\")\n",
    "plt.show()"
   ]
  },
  {
   "cell_type": "code",
   "execution_count": 87,
   "metadata": {},
   "outputs": [
    {
     "name": "stdout",
     "output_type": "stream",
     "text": [
      "best score: 0.8414057966471624\n",
      "best params: {'max_depth': 7}\n"
     ]
    }
   ],
   "source": [
    "dec_tree = DecisionTreeClassifier()\n",
    "\n",
    "params = {'max_depth': range(1, 20)} \n",
    "\n",
    "grid = GridSearchCV(dec_tree, params, cv=5, scoring='roc_auc') \n",
    "\n",
    "grid.fit(X_num_cols, y) \n",
    "\n",
    "print('best score:', grid.best_score_)\n",
    "print('best params:', grid.best_params_)"
   ]
  },
  {
   "cell_type": "code",
   "execution_count": 88,
   "metadata": {},
   "outputs": [],
   "source": [
    "#укажем концы доверительного интервала \n",
    "low_low_1 = np.mean(grid.cv_results_[\"mean_test_score\"]) - np.std(grid.cv_results_[\"mean_test_score\"])\n",
    "high_high_1 = np.mean(grid.cv_results_[\"mean_test_score\"]) + np.std(grid.cv_results_[\"mean_test_score\"])"
   ]
  },
  {
   "cell_type": "code",
   "execution_count": 89,
   "metadata": {},
   "outputs": [
    {
     "data": {
      "image/png": "[encoded data removed]",
      "text/plain": [
       "<Figure size 432x288 with 1 Axes>"
      ]
     },
     "metadata": {
      "needs_background": "light"
     },
     "output_type": "display_data"
    }
   ],
   "source": [
    "max_depth_array = range(1, 20) \n",
    "\n",
    "plt.plot(max_depth_array, grid.cv_results_[\"mean_test_score\"])\n",
    "plt.plot([0, 20], [low_low_1, low_low_1])\n",
    "plt.plot([0, 20], [high_high_1, high_high_1])\n",
    "plt.xlabel(\"max depth\")\n",
    "plt.ylabel(\"roc_auc\")\n",
    "plt.show()"
   ]
  },
  {
   "cell_type": "code",
   "execution_count": 90,
   "metadata": {},
   "outputs": [
    {
     "name": "stdout",
     "output_type": "stream",
     "text": [
      "best score: 0.8220021152017629\n",
      "best params: {'loss': 'log'}\n"
     ]
    }
   ],
   "source": [
    "sgd = SGDClassifier()\n",
    "\n",
    "params = {'loss': ['hinge','log', 'modified_huber','squared_hinge']} #задаем словарь – список параметров\n",
    "\n",
    "grid = GridSearchCV(sgd, params, cv=5, scoring='roc_auc') #объявляем модель, передаем модель и список параметров\n",
    "\n",
    "grid.fit(X_num_cols, y) #обучаем модель\n",
    "\n",
    "print('best score:', grid.best_score_)\n",
    "print('best params:', grid.best_params_)"
   ]
  },
  {
   "cell_type": "code",
   "execution_count": 92,
   "metadata": {},
   "outputs": [],
   "source": [
    "#укажем концы доверительного интервала \n",
    "low_end = np.mean(grid.cv_results_[\"mean_test_score\"]) - np.std(grid.cv_results_[\"mean_test_score\"])\n",
    "high_end = np.mean(grid.cv_results_[\"mean_test_score\"]) + np.std(grid.cv_results_[\"mean_test_score\"])"
   ]
  },
  {
   "cell_type": "code",
   "execution_count": 93,
   "metadata": {},
   "outputs": [
    {
     "data": {
      "image/png": "[encoded data removed]",
      "text/plain": [
       "<Figure size 432x288 with 1 Axes>"
      ]
     },
     "metadata": {
      "needs_background": "light"
     },
     "output_type": "display_data"
    }
   ],
   "source": [
    "loss_array = ['hinge','log','modified_huber','squared_hinge']\n",
    "\n",
    "plt.plot(loss_array, grid.cv_results_[\"mean_test_score\"])\n",
    "plt.plot([0, 3], [low_end, low_end])\n",
    "plt.plot([0, 3], [high_end, high_end])\n",
    "plt.xlabel(\"loss\")\n",
    "plt.ylabel(\"roc_auc\")\n",
    "plt.show()"
   ]
  },
  {
   "cell_type": "code",
   "execution_count": 94,
   "metadata": {},
   "outputs": [
    {
     "name": "stdout",
     "output_type": "stream",
     "text": [
      "best score: 0.8183675652264227\n",
      "best params: {'n_estimators': 94}\n"
     ]
    }
   ],
   "source": [
    "forest = RandomForestClassifier()\n",
    "\n",
    "params = {'n_estimators': range(10, 100)} #задаем словарь – список параметров\n",
    "\n",
    "grid = GridSearchCV(forest, params, cv=5, scoring='roc_auc') #объявляем модель, передаем модель и список параметров\n",
    "\n",
    "grid.fit(X_num_cols, y) #обучаем модель\n",
    "\n",
    "print('best score:', grid.best_score_)\n",
    "print('best params:', grid.best_params_)"
   ]
  },
  {
   "cell_type": "code",
   "execution_count": 95,
   "metadata": {},
   "outputs": [
    {
     "data": {
      "text/plain": [
       "Text(0, 0.5, 'roc_auc')"
      ]
     },
     "execution_count": 95,
     "metadata": {},
     "output_type": "execute_result"
    },
    {
     "data": {
      "image/png": "[encoded data removed]",
      "text/plain": [
       "<Figure size 432x288 with 1 Axes>"
      ]
     },
     "metadata": {
      "needs_background": "light"
     },
     "output_type": "display_data"
    }
   ],
   "source": [
    "n_estimators_array = range(10, 100)\n",
    "\n",
    "plt.plot(n_estimators_array, grid.cv_results_[\"mean_test_score\"])\n",
    "plt.xlabel(\"n estimators\")\n",
    "plt.ylabel(\"roc_auc\")"
   ]
  },
  {
   "cell_type": "code",
   "execution_count": 96,
   "metadata": {},
   "outputs": [
    {
     "name": "stdout",
     "output_type": "stream",
     "text": [
      "min error: 0.13407403458649692\n",
      "best params: {'n_estimators': 290}\n"
     ]
    }
   ],
   "source": [
    "gbc = GradientBoostingClassifier()\n",
    "\n",
    "params = {'n_estimators': [200,290,500]} #задаем словарь – список параметров\n",
    "\n",
    "grid = GridSearchCV(gbc, params, cv=5, scoring='roc_auc') #объявляем модель, передаем модель и список параметров\n",
    "\n",
    "grid.fit(X_num_cols, y) #обучаем модель\n",
    "\n",
    "print('min error:', 1-grid.best_score_)\n",
    "print('best params:', grid.best_params_)"
   ]
  },
  {
   "cell_type": "code",
   "execution_count": 97,
   "metadata": {},
   "outputs": [
    {
     "data": {
      "text/plain": [
       "Text(0, 0.5, 'error')"
      ]
     },
     "execution_count": 97,
     "metadata": {},
     "output_type": "execute_result"
    },
    {
     "data": {
      "image/png": "[encoded data removed]",
      "text/plain": [
       "<Figure size 432x288 with 1 Axes>"
      ]
     },
     "metadata": {
      "needs_background": "light"
     },
     "output_type": "display_data"
    }
   ],
   "source": [
    "n_est_array = [200,290,500]\n",
    "\n",
    "plt.plot(n_est_array, 1-grid.cv_results_[\"mean_test_score\"])\n",
    "plt.xlabel(\"n estimators\")\n",
    "plt.ylabel(\"error\")"
   ]
  },
  {
   "cell_type": "markdown",
   "metadata": {},
   "source": [
    "***Изменилось ли качество у некоторых алгоритмов?***\n",
    "\n",
    "\n",
    "На KNN и SGD  качество стало сильно лучше, но при этом качество дерева не изменилось (инвариантны к нормализации), качество леса и бустинга также осталось на том же уровне. "
   ]
  },
  {
   "cell_type": "markdown",
   "metadata": {},
   "source": [
    "**Задание 7 (1.25 балла)** Теперь сделайте перебор нескольких гиперпараметров по сетке и найдите оптимальные комбинации (лучшее среднее значение качества) для каждого алгоритма в данном случае: \n",
    " - KNN — число соседей (*n_neighbors*) и метрика (*metric*)\n",
    " - DecisonTree — глубина дерева (*max_depth*) и критерий разбиения (*criterion*)\n",
    " - RandomForest — критерий разбиения в деревьях (*criterion*) и *max_features* (при фиксированном количестве деревьев, найденном ранее)\n",
    " - GradientBoosting — критерий разбиения в деревьях (*criterion*) и *max_features* (при фиксированном количестве деревьев, найденном ранее)\n",
    " - SGDClassifier — оптимизируемая функция (*loss*) и *penalty*\n",
    " \n",
    "Обратите внимание, что эта операция может быть ресурсо- и трудоемкой. Как оптимизировать подбор параметров по сетке сказано в разделе \"Подбор гиперпараметров модели\""
   ]
  },
  {
   "cell_type": "code",
   "execution_count": 98,
   "metadata": {},
   "outputs": [
    {
     "name": "stdout",
     "output_type": "stream",
     "text": [
      "best score: 0.8285274771730162\n",
      "best n_neighbors : 19\n",
      "best metric: manhattan\n",
      "Wall time: 1min 32s\n"
     ]
    }
   ],
   "source": [
    "%%time \n",
    "knn = KNeighborsClassifier()\n",
    "\n",
    "params = {'n_neighbors': range(1, 20),\n",
    "         'metric': ['euclidean', 'manhattan', 'chebyshev', 'minkowski', 'wminkowski', 'seuclidean', 'mahalanobis']}\n",
    "\n",
    "grid = GridSearchCV(knn, params, cv=5, scoring='roc_auc')\n",
    "\n",
    "grid.fit(X_num, y)\n",
    "\n",
    "print('best score:', grid.best_score_)\n",
    "print('best n_neighbors :', grid.best_params_[\"n_neighbors\"])\n",
    "print('best metric:', grid.best_params_[\"metric\"])"
   ]
  },
  {
   "cell_type": "code",
   "execution_count": 99,
   "metadata": {},
   "outputs": [
    {
     "name": "stdout",
     "output_type": "stream",
     "text": [
      "best score: 0.8422425013833722\n",
      "best n_neighbors : 8\n",
      "best metric: entropy\n",
      "Wall time: 5.38 s\n"
     ]
    }
   ],
   "source": [
    "%%time \n",
    "tree = DecisionTreeClassifier()\n",
    "\n",
    "params = {'max_depth': range(1, 20),\n",
    "           'criterion': ['gini', 'entropy']}\n",
    "\n",
    "grid = GridSearchCV(tree, params, cv=5, scoring='roc_auc')\n",
    "\n",
    "grid.fit(X_num, y)\n",
    "\n",
    "print('best score:', grid.best_score_)\n",
    "print('best n_neighbors :', grid.best_params_[\"max_depth\"])\n",
    "print('best metric:', grid.best_params_[\"criterion\"])"
   ]
  },
  {
   "cell_type": "code",
   "execution_count": 100,
   "metadata": {},
   "outputs": [
    {
     "name": "stdout",
     "output_type": "stream",
     "text": [
      "best score: 0.8145311906162258\n",
      "best n_neighbors : entropy\n",
      "best metric: log2\n",
      "Wall time: 17.1 s\n"
     ]
    }
   ],
   "source": [
    "%%time \n",
    "forest = RandomForestClassifier(n_estimators = 40)\n",
    "\n",
    "params = {'criterion': ['gini', 'entropy'],\n",
    "           'max_features': ['auto', 'sqrt', 'log2']}\n",
    "\n",
    "grid = GridSearchCV(forest, params, cv=5, scoring='roc_auc')\n",
    "\n",
    "grid.fit(X_num, y)\n",
    "\n",
    "print('best score:', grid.best_score_)\n",
    "print('best n_neighbors :', grid.best_params_[\"criterion\"])\n",
    "print('best metric:', grid.best_params_[\"max_features\"])"
   ]
  },
  {
   "cell_type": "code",
   "execution_count": 101,
   "metadata": {},
   "outputs": [
    {
     "name": "stdout",
     "output_type": "stream",
     "text": [
      "best score: 0.8664387489811934\n",
      "best params: friedman_mse\n",
      "best metric: sqrt\n",
      "Wall time: 2h 34min 35s\n"
     ]
    }
   ],
   "source": [
    "%%time \n",
    "gbc = GradientBoostingClassifier(n_estimators = 290)\n",
    "\n",
    "params = {'criterion': ['friedman_mse', 'squared_error', 'mse', 'mae'],\n",
    "           'max_features': ['auto', 'sqrt', 'log2']}\n",
    "\n",
    "grid = GridSearchCV(gbc, params, cv=5, scoring='roc_auc') \n",
    "\n",
    "grid.fit(X_num, y) \n",
    "\n",
    "print('best score:', grid.best_score_)\n",
    "print('best params:', grid.best_params_[\"criterion\"])\n",
    "print('best metric:', grid.best_params_[\"max_features\"])"
   ]
  },
  {
   "cell_type": "code",
   "execution_count": 102,
   "metadata": {},
   "outputs": [
    {
     "name": "stdout",
     "output_type": "stream",
     "text": [
      "best score: 0.8225776573265307\n",
      "best params: log\n",
      "best metric: l1\n",
      "Wall time: 4.94 s\n"
     ]
    }
   ],
   "source": [
    "%%time \n",
    "sgd = SGDClassifier()\n",
    "\n",
    "params = {'loss': ['hinge','log', 'modified_huber','squared_hinge'],\n",
    "           'penalty': ['l2', 'l1', 'elasticnet']}\n",
    "\n",
    "grid = GridSearchCV(sgd, params, cv=5, scoring='roc_auc') \n",
    "\n",
    "grid.fit(X_num, y) \n",
    "\n",
    "print('best score:', grid.best_score_)\n",
    "print('best params:', grid.best_params_[\"loss\"])\n",
    "print('best metric:', grid.best_params_[\"penalty\"])"
   ]
  },
  {
   "cell_type": "markdown",
   "metadata": {},
   "source": [
    "***Какой из алгоритмов имеет наилучшее качество?*** \n",
    "\n",
    "Градиентный бустинг\n",
    "\n",
    "**Задание 8 (0.5 балла)** Сравните алгоритмы с точки зрения времени обучения. Обучение какого из алгоритмов работает дольше всего и, как вы думаете, почему?\n",
    "\n",
    "Время обучения случайного леса растет с ростом количества деревьев, но процесс обучения все равно быстрее, так как деревья обучаются по своему уникальному подмножеству признаков. \n",
    "\n",
    "Бустинг в свою очередь обучается дооольше всех (почти 2 часа блин), но это потому что внутри там большой набор алгоритмов (плюс очень много деревьев). По факту вот деревья в лесу можно обучать параллельно и поэтому быстрее, в то время как в бустинге каждый этап основывается на предыдущем и исправляет ошибки - из-за последовательноси происходит медленнее. "
   ]
  },
  {
   "cell_type": "markdown",
   "metadata": {},
   "source": [
    "## Добавление категориальных признаков в модели\n",
    "\n",
    "Пока мы не использовали нечисловые признаки, которые есть в датасете. Давайте посмотрим, правильно ли мы сделали и увеличится ли качество моделей после добавлениях этих признаков. \n",
    "\n",
    "**Задание 9 (0.5 балла)** Преобразуйте все категориальные признаки с помощью метода one-hot-encoding (например, это можно сделать с помощью функции [OneHotEncoder](https://scikit-learn.org/stable/modules/generated/sklearn.preprocessing.OneHotEncoder.html), [pandas.get_dummies](http://pandas.pydata.org/pandas-docs/stable/generated/pandas.get_dummies.html) или [DictVectorizer](http://scikit-learn.org/stable/modules/generated/sklearn.feature_extraction.DictVectorizer.html) из sklearn)."
   ]
  },
  {
   "cell_type": "code",
   "execution_count": 103,
   "metadata": {},
   "outputs": [
    {
     "data": {
      "text/html": [
       "<div>\n",
       "<style scoped>\n",
       "    .dataframe tbody tr th:only-of-type {\n",
       "        vertical-align: middle;\n",
       "    }\n",
       "\n",
       "    .dataframe tbody tr th {\n",
       "        vertical-align: top;\n",
       "    }\n",
       "\n",
       "    .dataframe thead th {\n",
       "        text-align: right;\n",
       "    }\n",
       "</style>\n",
       "<table border=\"1\" class=\"dataframe\">\n",
       "  <thead>\n",
       "    <tr style=\"text-align: right;\">\n",
       "      <th></th>\n",
       "      <th>workclass</th>\n",
       "      <th>education</th>\n",
       "      <th>marital-status</th>\n",
       "      <th>occupation</th>\n",
       "      <th>relationship</th>\n",
       "      <th>race</th>\n",
       "      <th>sex</th>\n",
       "    </tr>\n",
       "  </thead>\n",
       "  <tbody>\n",
       "    <tr>\n",
       "      <th>0</th>\n",
       "      <td>Local-gov</td>\n",
       "      <td>HS-grad</td>\n",
       "      <td>Never-married</td>\n",
       "      <td>Farming-fishing</td>\n",
       "      <td>Not-in-family</td>\n",
       "      <td>Black</td>\n",
       "      <td>Male</td>\n",
       "    </tr>\n",
       "    <tr>\n",
       "      <th>1</th>\n",
       "      <td>Private</td>\n",
       "      <td>Some-college</td>\n",
       "      <td>Divorced</td>\n",
       "      <td>Sales</td>\n",
       "      <td>Not-in-family</td>\n",
       "      <td>White</td>\n",
       "      <td>Male</td>\n",
       "    </tr>\n",
       "    <tr>\n",
       "      <th>2</th>\n",
       "      <td>Local-gov</td>\n",
       "      <td>Bachelors</td>\n",
       "      <td>Married-civ-spouse</td>\n",
       "      <td>Prof-specialty</td>\n",
       "      <td>Own-child</td>\n",
       "      <td>White</td>\n",
       "      <td>Male</td>\n",
       "    </tr>\n",
       "    <tr>\n",
       "      <th>3</th>\n",
       "      <td>Private</td>\n",
       "      <td>Some-college</td>\n",
       "      <td>Never-married</td>\n",
       "      <td>Sales</td>\n",
       "      <td>Own-child</td>\n",
       "      <td>White</td>\n",
       "      <td>Female</td>\n",
       "    </tr>\n",
       "    <tr>\n",
       "      <th>4</th>\n",
       "      <td>Private</td>\n",
       "      <td>Bachelors</td>\n",
       "      <td>Married-civ-spouse</td>\n",
       "      <td>Tech-support</td>\n",
       "      <td>Husband</td>\n",
       "      <td>White</td>\n",
       "      <td>Male</td>\n",
       "    </tr>\n",
       "    <tr>\n",
       "      <th>...</th>\n",
       "      <td>...</td>\n",
       "      <td>...</td>\n",
       "      <td>...</td>\n",
       "      <td>...</td>\n",
       "      <td>...</td>\n",
       "      <td>...</td>\n",
       "      <td>...</td>\n",
       "    </tr>\n",
       "    <tr>\n",
       "      <th>16275</th>\n",
       "      <td>Local-gov</td>\n",
       "      <td>Bachelors</td>\n",
       "      <td>Never-married</td>\n",
       "      <td>Adm-clerical</td>\n",
       "      <td>Own-child</td>\n",
       "      <td>Black</td>\n",
       "      <td>Female</td>\n",
       "    </tr>\n",
       "    <tr>\n",
       "      <th>16276</th>\n",
       "      <td>Private</td>\n",
       "      <td>Bachelors</td>\n",
       "      <td>Married-civ-spouse</td>\n",
       "      <td>Exec-managerial</td>\n",
       "      <td>Husband</td>\n",
       "      <td>White</td>\n",
       "      <td>Male</td>\n",
       "    </tr>\n",
       "    <tr>\n",
       "      <th>16277</th>\n",
       "      <td>Private</td>\n",
       "      <td>Bachelors</td>\n",
       "      <td>Never-married</td>\n",
       "      <td>Machine-op-inspct</td>\n",
       "      <td>Not-in-family</td>\n",
       "      <td>Asian-Pac-Islander</td>\n",
       "      <td>Male</td>\n",
       "    </tr>\n",
       "    <tr>\n",
       "      <th>16278</th>\n",
       "      <td>State-gov</td>\n",
       "      <td>HS-grad</td>\n",
       "      <td>Married-civ-spouse</td>\n",
       "      <td>Other-service</td>\n",
       "      <td>Husband</td>\n",
       "      <td>White</td>\n",
       "      <td>Male</td>\n",
       "    </tr>\n",
       "    <tr>\n",
       "      <th>16279</th>\n",
       "      <td>Private</td>\n",
       "      <td>Bachelors</td>\n",
       "      <td>Married-civ-spouse</td>\n",
       "      <td>Adm-clerical</td>\n",
       "      <td>Husband</td>\n",
       "      <td>White</td>\n",
       "      <td>Male</td>\n",
       "    </tr>\n",
       "  </tbody>\n",
       "</table>\n",
       "<p>15347 rows × 7 columns</p>\n",
       "</div>"
      ],
      "text/plain": [
       "       workclass     education      marital-status         occupation  \\\n",
       "0      Local-gov       HS-grad       Never-married    Farming-fishing   \n",
       "1        Private  Some-college            Divorced              Sales   \n",
       "2      Local-gov     Bachelors  Married-civ-spouse     Prof-specialty   \n",
       "3        Private  Some-college       Never-married              Sales   \n",
       "4        Private     Bachelors  Married-civ-spouse       Tech-support   \n",
       "...          ...           ...                 ...                ...   \n",
       "16275  Local-gov     Bachelors       Never-married       Adm-clerical   \n",
       "16276    Private     Bachelors  Married-civ-spouse    Exec-managerial   \n",
       "16277    Private     Bachelors       Never-married  Machine-op-inspct   \n",
       "16278  State-gov       HS-grad  Married-civ-spouse      Other-service   \n",
       "16279    Private     Bachelors  Married-civ-spouse       Adm-clerical   \n",
       "\n",
       "        relationship                race     sex  \n",
       "0      Not-in-family               Black    Male  \n",
       "1      Not-in-family               White    Male  \n",
       "2          Own-child               White    Male  \n",
       "3          Own-child               White  Female  \n",
       "4            Husband               White    Male  \n",
       "...              ...                 ...     ...  \n",
       "16275      Own-child               Black  Female  \n",
       "16276        Husband               White    Male  \n",
       "16277  Not-in-family  Asian-Pac-Islander    Male  \n",
       "16278        Husband               White    Male  \n",
       "16279        Husband               White    Male  \n",
       "\n",
       "[15347 rows x 7 columns]"
      ]
     },
     "execution_count": 103,
     "metadata": {},
     "output_type": "execute_result"
    }
   ],
   "source": [
    "data_cat = data.drop(data.columns[~cat_feature_mask], axis=1)\n",
    "data_cat"
   ]
  },
  {
   "cell_type": "code",
   "execution_count": 104,
   "metadata": {},
   "outputs": [
    {
     "data": {
      "text/html": [
       "<div>\n",
       "<style scoped>\n",
       "    .dataframe tbody tr th:only-of-type {\n",
       "        vertical-align: middle;\n",
       "    }\n",
       "\n",
       "    .dataframe tbody tr th {\n",
       "        vertical-align: top;\n",
       "    }\n",
       "\n",
       "    .dataframe thead th {\n",
       "        text-align: right;\n",
       "    }\n",
       "</style>\n",
       "<table border=\"1\" class=\"dataframe\">\n",
       "  <thead>\n",
       "    <tr style=\"text-align: right;\">\n",
       "      <th></th>\n",
       "      <th>workclass_Federal-gov</th>\n",
       "      <th>workclass_Local-gov</th>\n",
       "      <th>workclass_Private</th>\n",
       "      <th>workclass_Self-emp-inc</th>\n",
       "      <th>workclass_Self-emp-not-inc</th>\n",
       "      <th>workclass_State-gov</th>\n",
       "      <th>workclass_Without-pay</th>\n",
       "      <th>education_10th</th>\n",
       "      <th>education_11th</th>\n",
       "      <th>education_12th</th>\n",
       "      <th>...</th>\n",
       "      <th>relationship_Own-child</th>\n",
       "      <th>relationship_Unmarried</th>\n",
       "      <th>relationship_Wife</th>\n",
       "      <th>race_Amer-Indian-Eskimo</th>\n",
       "      <th>race_Asian-Pac-Islander</th>\n",
       "      <th>race_Black</th>\n",
       "      <th>race_Other</th>\n",
       "      <th>race_White</th>\n",
       "      <th>sex_Female</th>\n",
       "      <th>sex_Male</th>\n",
       "    </tr>\n",
       "  </thead>\n",
       "  <tbody>\n",
       "    <tr>\n",
       "      <th>0</th>\n",
       "      <td>0</td>\n",
       "      <td>1</td>\n",
       "      <td>0</td>\n",
       "      <td>0</td>\n",
       "      <td>0</td>\n",
       "      <td>0</td>\n",
       "      <td>0</td>\n",
       "      <td>0</td>\n",
       "      <td>0</td>\n",
       "      <td>0</td>\n",
       "      <td>...</td>\n",
       "      <td>0</td>\n",
       "      <td>0</td>\n",
       "      <td>0</td>\n",
       "      <td>0</td>\n",
       "      <td>0</td>\n",
       "      <td>1</td>\n",
       "      <td>0</td>\n",
       "      <td>0</td>\n",
       "      <td>0</td>\n",
       "      <td>1</td>\n",
       "    </tr>\n",
       "    <tr>\n",
       "      <th>1</th>\n",
       "      <td>0</td>\n",
       "      <td>0</td>\n",
       "      <td>1</td>\n",
       "      <td>0</td>\n",
       "      <td>0</td>\n",
       "      <td>0</td>\n",
       "      <td>0</td>\n",
       "      <td>0</td>\n",
       "      <td>0</td>\n",
       "      <td>0</td>\n",
       "      <td>...</td>\n",
       "      <td>0</td>\n",
       "      <td>0</td>\n",
       "      <td>0</td>\n",
       "      <td>0</td>\n",
       "      <td>0</td>\n",
       "      <td>0</td>\n",
       "      <td>0</td>\n",
       "      <td>1</td>\n",
       "      <td>0</td>\n",
       "      <td>1</td>\n",
       "    </tr>\n",
       "    <tr>\n",
       "      <th>2</th>\n",
       "      <td>0</td>\n",
       "      <td>1</td>\n",
       "      <td>0</td>\n",
       "      <td>0</td>\n",
       "      <td>0</td>\n",
       "      <td>0</td>\n",
       "      <td>0</td>\n",
       "      <td>0</td>\n",
       "      <td>0</td>\n",
       "      <td>0</td>\n",
       "      <td>...</td>\n",
       "      <td>1</td>\n",
       "      <td>0</td>\n",
       "      <td>0</td>\n",
       "      <td>0</td>\n",
       "      <td>0</td>\n",
       "      <td>0</td>\n",
       "      <td>0</td>\n",
       "      <td>1</td>\n",
       "      <td>0</td>\n",
       "      <td>1</td>\n",
       "    </tr>\n",
       "    <tr>\n",
       "      <th>3</th>\n",
       "      <td>0</td>\n",
       "      <td>0</td>\n",
       "      <td>1</td>\n",
       "      <td>0</td>\n",
       "      <td>0</td>\n",
       "      <td>0</td>\n",
       "      <td>0</td>\n",
       "      <td>0</td>\n",
       "      <td>0</td>\n",
       "      <td>0</td>\n",
       "      <td>...</td>\n",
       "      <td>1</td>\n",
       "      <td>0</td>\n",
       "      <td>0</td>\n",
       "      <td>0</td>\n",
       "      <td>0</td>\n",
       "      <td>0</td>\n",
       "      <td>0</td>\n",
       "      <td>1</td>\n",
       "      <td>1</td>\n",
       "      <td>0</td>\n",
       "    </tr>\n",
       "    <tr>\n",
       "      <th>4</th>\n",
       "      <td>0</td>\n",
       "      <td>0</td>\n",
       "      <td>1</td>\n",
       "      <td>0</td>\n",
       "      <td>0</td>\n",
       "      <td>0</td>\n",
       "      <td>0</td>\n",
       "      <td>0</td>\n",
       "      <td>0</td>\n",
       "      <td>0</td>\n",
       "      <td>...</td>\n",
       "      <td>0</td>\n",
       "      <td>0</td>\n",
       "      <td>0</td>\n",
       "      <td>0</td>\n",
       "      <td>0</td>\n",
       "      <td>0</td>\n",
       "      <td>0</td>\n",
       "      <td>1</td>\n",
       "      <td>0</td>\n",
       "      <td>1</td>\n",
       "    </tr>\n",
       "    <tr>\n",
       "      <th>...</th>\n",
       "      <td>...</td>\n",
       "      <td>...</td>\n",
       "      <td>...</td>\n",
       "      <td>...</td>\n",
       "      <td>...</td>\n",
       "      <td>...</td>\n",
       "      <td>...</td>\n",
       "      <td>...</td>\n",
       "      <td>...</td>\n",
       "      <td>...</td>\n",
       "      <td>...</td>\n",
       "      <td>...</td>\n",
       "      <td>...</td>\n",
       "      <td>...</td>\n",
       "      <td>...</td>\n",
       "      <td>...</td>\n",
       "      <td>...</td>\n",
       "      <td>...</td>\n",
       "      <td>...</td>\n",
       "      <td>...</td>\n",
       "      <td>...</td>\n",
       "    </tr>\n",
       "    <tr>\n",
       "      <th>16275</th>\n",
       "      <td>0</td>\n",
       "      <td>1</td>\n",
       "      <td>0</td>\n",
       "      <td>0</td>\n",
       "      <td>0</td>\n",
       "      <td>0</td>\n",
       "      <td>0</td>\n",
       "      <td>0</td>\n",
       "      <td>0</td>\n",
       "      <td>0</td>\n",
       "      <td>...</td>\n",
       "      <td>1</td>\n",
       "      <td>0</td>\n",
       "      <td>0</td>\n",
       "      <td>0</td>\n",
       "      <td>0</td>\n",
       "      <td>1</td>\n",
       "      <td>0</td>\n",
       "      <td>0</td>\n",
       "      <td>1</td>\n",
       "      <td>0</td>\n",
       "    </tr>\n",
       "    <tr>\n",
       "      <th>16276</th>\n",
       "      <td>0</td>\n",
       "      <td>0</td>\n",
       "      <td>1</td>\n",
       "      <td>0</td>\n",
       "      <td>0</td>\n",
       "      <td>0</td>\n",
       "      <td>0</td>\n",
       "      <td>0</td>\n",
       "      <td>0</td>\n",
       "      <td>0</td>\n",
       "      <td>...</td>\n",
       "      <td>0</td>\n",
       "      <td>0</td>\n",
       "      <td>0</td>\n",
       "      <td>0</td>\n",
       "      <td>0</td>\n",
       "      <td>0</td>\n",
       "      <td>0</td>\n",
       "      <td>1</td>\n",
       "      <td>0</td>\n",
       "      <td>1</td>\n",
       "    </tr>\n",
       "    <tr>\n",
       "      <th>16277</th>\n",
       "      <td>0</td>\n",
       "      <td>0</td>\n",
       "      <td>1</td>\n",
       "      <td>0</td>\n",
       "      <td>0</td>\n",
       "      <td>0</td>\n",
       "      <td>0</td>\n",
       "      <td>0</td>\n",
       "      <td>0</td>\n",
       "      <td>0</td>\n",
       "      <td>...</td>\n",
       "      <td>0</td>\n",
       "      <td>0</td>\n",
       "      <td>0</td>\n",
       "      <td>0</td>\n",
       "      <td>1</td>\n",
       "      <td>0</td>\n",
       "      <td>0</td>\n",
       "      <td>0</td>\n",
       "      <td>0</td>\n",
       "      <td>1</td>\n",
       "    </tr>\n",
       "    <tr>\n",
       "      <th>16278</th>\n",
       "      <td>0</td>\n",
       "      <td>0</td>\n",
       "      <td>0</td>\n",
       "      <td>0</td>\n",
       "      <td>0</td>\n",
       "      <td>1</td>\n",
       "      <td>0</td>\n",
       "      <td>0</td>\n",
       "      <td>0</td>\n",
       "      <td>0</td>\n",
       "      <td>...</td>\n",
       "      <td>0</td>\n",
       "      <td>0</td>\n",
       "      <td>0</td>\n",
       "      <td>0</td>\n",
       "      <td>0</td>\n",
       "      <td>0</td>\n",
       "      <td>0</td>\n",
       "      <td>1</td>\n",
       "      <td>0</td>\n",
       "      <td>1</td>\n",
       "    </tr>\n",
       "    <tr>\n",
       "      <th>16279</th>\n",
       "      <td>0</td>\n",
       "      <td>0</td>\n",
       "      <td>1</td>\n",
       "      <td>0</td>\n",
       "      <td>0</td>\n",
       "      <td>0</td>\n",
       "      <td>0</td>\n",
       "      <td>0</td>\n",
       "      <td>0</td>\n",
       "      <td>0</td>\n",
       "      <td>...</td>\n",
       "      <td>0</td>\n",
       "      <td>0</td>\n",
       "      <td>0</td>\n",
       "      <td>0</td>\n",
       "      <td>0</td>\n",
       "      <td>0</td>\n",
       "      <td>0</td>\n",
       "      <td>1</td>\n",
       "      <td>0</td>\n",
       "      <td>1</td>\n",
       "    </tr>\n",
       "  </tbody>\n",
       "</table>\n",
       "<p>15347 rows × 57 columns</p>\n",
       "</div>"
      ],
      "text/plain": [
       "       workclass_Federal-gov  workclass_Local-gov  workclass_Private  \\\n",
       "0                          0                    1                  0   \n",
       "1                          0                    0                  1   \n",
       "2                          0                    1                  0   \n",
       "3                          0                    0                  1   \n",
       "4                          0                    0                  1   \n",
       "...                      ...                  ...                ...   \n",
       "16275                      0                    1                  0   \n",
       "16276                      0                    0                  1   \n",
       "16277                      0                    0                  1   \n",
       "16278                      0                    0                  0   \n",
       "16279                      0                    0                  1   \n",
       "\n",
       "       workclass_Self-emp-inc  workclass_Self-emp-not-inc  \\\n",
       "0                           0                           0   \n",
       "1                           0                           0   \n",
       "2                           0                           0   \n",
       "3                           0                           0   \n",
       "4                           0                           0   \n",
       "...                       ...                         ...   \n",
       "16275                       0                           0   \n",
       "16276                       0                           0   \n",
       "16277                       0                           0   \n",
       "16278                       0                           0   \n",
       "16279                       0                           0   \n",
       "\n",
       "       workclass_State-gov  workclass_Without-pay  education_10th  \\\n",
       "0                        0                      0               0   \n",
       "1                        0                      0               0   \n",
       "2                        0                      0               0   \n",
       "3                        0                      0               0   \n",
       "4                        0                      0               0   \n",
       "...                    ...                    ...             ...   \n",
       "16275                    0                      0               0   \n",
       "16276                    0                      0               0   \n",
       "16277                    0                      0               0   \n",
       "16278                    1                      0               0   \n",
       "16279                    0                      0               0   \n",
       "\n",
       "       education_11th  education_12th  ...  relationship_Own-child  \\\n",
       "0                   0               0  ...                       0   \n",
       "1                   0               0  ...                       0   \n",
       "2                   0               0  ...                       1   \n",
       "3                   0               0  ...                       1   \n",
       "4                   0               0  ...                       0   \n",
       "...               ...             ...  ...                     ...   \n",
       "16275               0               0  ...                       1   \n",
       "16276               0               0  ...                       0   \n",
       "16277               0               0  ...                       0   \n",
       "16278               0               0  ...                       0   \n",
       "16279               0               0  ...                       0   \n",
       "\n",
       "       relationship_Unmarried  relationship_Wife  race_Amer-Indian-Eskimo  \\\n",
       "0                           0                  0                        0   \n",
       "1                           0                  0                        0   \n",
       "2                           0                  0                        0   \n",
       "3                           0                  0                        0   \n",
       "4                           0                  0                        0   \n",
       "...                       ...                ...                      ...   \n",
       "16275                       0                  0                        0   \n",
       "16276                       0                  0                        0   \n",
       "16277                       0                  0                        0   \n",
       "16278                       0                  0                        0   \n",
       "16279                       0                  0                        0   \n",
       "\n",
       "       race_Asian-Pac-Islander  race_Black  race_Other  race_White  \\\n",
       "0                            0           1           0           0   \n",
       "1                            0           0           0           1   \n",
       "2                            0           0           0           1   \n",
       "3                            0           0           0           1   \n",
       "4                            0           0           0           1   \n",
       "...                        ...         ...         ...         ...   \n",
       "16275                        0           1           0           0   \n",
       "16276                        0           0           0           1   \n",
       "16277                        1           0           0           0   \n",
       "16278                        0           0           0           1   \n",
       "16279                        0           0           0           1   \n",
       "\n",
       "       sex_Female  sex_Male  \n",
       "0               0         1  \n",
       "1               0         1  \n",
       "2               0         1  \n",
       "3               1         0  \n",
       "4               0         1  \n",
       "...           ...       ...  \n",
       "16275           1         0  \n",
       "16276           0         1  \n",
       "16277           0         1  \n",
       "16278           0         1  \n",
       "16279           0         1  \n",
       "\n",
       "[15347 rows x 57 columns]"
      ]
     },
     "execution_count": 104,
     "metadata": {},
     "output_type": "execute_result"
    }
   ],
   "source": [
    "X_cat = pd.get_dummies(data_cat)\n",
    "X_cat"
   ]
  },
  {
   "cell_type": "markdown",
   "metadata": {},
   "source": [
    "**Задание 10 (0.5 балла)** Добавьте к масштабированным вещественным признакам закодированные категориальные и обучите алгоритмы с наилучшими гиперпараметрами из предыдущего пункта. Дало ли добавление новых признаков прирост качества? Измеряйте качество как и раньше используя 5-Fold CV. Для этого удобно воспользоваться функцией [cross_val_score](https://scikit-learn.org/stable/modules/generated/sklearn.model_selection.cross_val_score.html)."
   ]
  },
  {
   "cell_type": "code",
   "execution_count": 105,
   "metadata": {},
   "outputs": [],
   "source": [
    "from sklearn.model_selection import cross_val_score"
   ]
  },
  {
   "cell_type": "code",
   "execution_count": 106,
   "metadata": {},
   "outputs": [
    {
     "data": {
      "text/html": [
       "<div>\n",
       "<style scoped>\n",
       "    .dataframe tbody tr th:only-of-type {\n",
       "        vertical-align: middle;\n",
       "    }\n",
       "\n",
       "    .dataframe tbody tr th {\n",
       "        vertical-align: top;\n",
       "    }\n",
       "\n",
       "    .dataframe thead th {\n",
       "        text-align: right;\n",
       "    }\n",
       "</style>\n",
       "<table border=\"1\" class=\"dataframe\">\n",
       "  <thead>\n",
       "    <tr style=\"text-align: right;\">\n",
       "      <th></th>\n",
       "      <th>age</th>\n",
       "      <th>fnlwgt</th>\n",
       "      <th>education-num</th>\n",
       "      <th>capital-gain</th>\n",
       "      <th>capital-loss</th>\n",
       "      <th>hours-per-week</th>\n",
       "      <th>workclass_Federal-gov</th>\n",
       "      <th>workclass_Local-gov</th>\n",
       "      <th>workclass_Private</th>\n",
       "      <th>workclass_Self-emp-inc</th>\n",
       "      <th>...</th>\n",
       "      <th>relationship_Own-child</th>\n",
       "      <th>relationship_Unmarried</th>\n",
       "      <th>relationship_Wife</th>\n",
       "      <th>race_Amer-Indian-Eskimo</th>\n",
       "      <th>race_Asian-Pac-Islander</th>\n",
       "      <th>race_Black</th>\n",
       "      <th>race_Other</th>\n",
       "      <th>race_White</th>\n",
       "      <th>sex_Female</th>\n",
       "      <th>sex_Male</th>\n",
       "    </tr>\n",
       "  </thead>\n",
       "  <tbody>\n",
       "    <tr>\n",
       "      <th>0</th>\n",
       "      <td>-0.342919</td>\n",
       "      <td>0.900258</td>\n",
       "      <td>-0.450788</td>\n",
       "      <td>-0.065600</td>\n",
       "      <td>-0.218740</td>\n",
       "      <td>1.588223</td>\n",
       "      <td>0</td>\n",
       "      <td>1</td>\n",
       "      <td>0</td>\n",
       "      <td>0</td>\n",
       "      <td>...</td>\n",
       "      <td>0</td>\n",
       "      <td>0</td>\n",
       "      <td>0</td>\n",
       "      <td>0</td>\n",
       "      <td>0</td>\n",
       "      <td>1</td>\n",
       "      <td>0</td>\n",
       "      <td>0</td>\n",
       "      <td>0</td>\n",
       "      <td>1</td>\n",
       "    </tr>\n",
       "    <tr>\n",
       "      <th>1</th>\n",
       "      <td>0.114760</td>\n",
       "      <td>0.010683</td>\n",
       "      <td>-0.059086</td>\n",
       "      <td>-0.150439</td>\n",
       "      <td>-0.218740</td>\n",
       "      <td>-0.074178</td>\n",
       "      <td>0</td>\n",
       "      <td>0</td>\n",
       "      <td>1</td>\n",
       "      <td>0</td>\n",
       "      <td>...</td>\n",
       "      <td>0</td>\n",
       "      <td>0</td>\n",
       "      <td>0</td>\n",
       "      <td>0</td>\n",
       "      <td>0</td>\n",
       "      <td>0</td>\n",
       "      <td>0</td>\n",
       "      <td>1</td>\n",
       "      <td>0</td>\n",
       "      <td>1</td>\n",
       "    </tr>\n",
       "    <tr>\n",
       "      <th>2</th>\n",
       "      <td>-0.190359</td>\n",
       "      <td>-0.106280</td>\n",
       "      <td>1.116020</td>\n",
       "      <td>-0.150439</td>\n",
       "      <td>-0.218740</td>\n",
       "      <td>-0.074178</td>\n",
       "      <td>0</td>\n",
       "      <td>1</td>\n",
       "      <td>0</td>\n",
       "      <td>0</td>\n",
       "      <td>...</td>\n",
       "      <td>1</td>\n",
       "      <td>0</td>\n",
       "      <td>0</td>\n",
       "      <td>0</td>\n",
       "      <td>0</td>\n",
       "      <td>0</td>\n",
       "      <td>0</td>\n",
       "      <td>1</td>\n",
       "      <td>0</td>\n",
       "      <td>1</td>\n",
       "    </tr>\n",
       "    <tr>\n",
       "      <th>3</th>\n",
       "      <td>-1.258276</td>\n",
       "      <td>-0.041382</td>\n",
       "      <td>-0.059086</td>\n",
       "      <td>-0.150439</td>\n",
       "      <td>-0.218740</td>\n",
       "      <td>-0.905379</td>\n",
       "      <td>0</td>\n",
       "      <td>0</td>\n",
       "      <td>1</td>\n",
       "      <td>0</td>\n",
       "      <td>...</td>\n",
       "      <td>1</td>\n",
       "      <td>0</td>\n",
       "      <td>0</td>\n",
       "      <td>0</td>\n",
       "      <td>0</td>\n",
       "      <td>0</td>\n",
       "      <td>0</td>\n",
       "      <td>1</td>\n",
       "      <td>1</td>\n",
       "      <td>0</td>\n",
       "    </tr>\n",
       "    <tr>\n",
       "      <th>4</th>\n",
       "      <td>0.648719</td>\n",
       "      <td>-0.371197</td>\n",
       "      <td>1.116020</td>\n",
       "      <td>1.995391</td>\n",
       "      <td>-0.218740</td>\n",
       "      <td>-0.074178</td>\n",
       "      <td>0</td>\n",
       "      <td>0</td>\n",
       "      <td>1</td>\n",
       "      <td>0</td>\n",
       "      <td>...</td>\n",
       "      <td>0</td>\n",
       "      <td>0</td>\n",
       "      <td>0</td>\n",
       "      <td>0</td>\n",
       "      <td>0</td>\n",
       "      <td>0</td>\n",
       "      <td>0</td>\n",
       "      <td>1</td>\n",
       "      <td>0</td>\n",
       "      <td>1</td>\n",
       "    </tr>\n",
       "    <tr>\n",
       "      <th>...</th>\n",
       "      <td>...</td>\n",
       "      <td>...</td>\n",
       "      <td>...</td>\n",
       "      <td>...</td>\n",
       "      <td>...</td>\n",
       "      <td>...</td>\n",
       "      <td>...</td>\n",
       "      <td>...</td>\n",
       "      <td>...</td>\n",
       "      <td>...</td>\n",
       "      <td>...</td>\n",
       "      <td>...</td>\n",
       "      <td>...</td>\n",
       "      <td>...</td>\n",
       "      <td>...</td>\n",
       "      <td>...</td>\n",
       "      <td>...</td>\n",
       "      <td>...</td>\n",
       "      <td>...</td>\n",
       "      <td>...</td>\n",
       "      <td>...</td>\n",
       "    </tr>\n",
       "    <tr>\n",
       "      <th>16275</th>\n",
       "      <td>-1.029436</td>\n",
       "      <td>3.062953</td>\n",
       "      <td>1.116020</td>\n",
       "      <td>-0.150439</td>\n",
       "      <td>-0.218740</td>\n",
       "      <td>-0.074178</td>\n",
       "      <td>0</td>\n",
       "      <td>1</td>\n",
       "      <td>0</td>\n",
       "      <td>0</td>\n",
       "      <td>...</td>\n",
       "      <td>1</td>\n",
       "      <td>0</td>\n",
       "      <td>0</td>\n",
       "      <td>0</td>\n",
       "      <td>0</td>\n",
       "      <td>1</td>\n",
       "      <td>0</td>\n",
       "      <td>0</td>\n",
       "      <td>1</td>\n",
       "      <td>0</td>\n",
       "    </tr>\n",
       "    <tr>\n",
       "      <th>16276</th>\n",
       "      <td>-0.495478</td>\n",
       "      <td>0.174179</td>\n",
       "      <td>1.116020</td>\n",
       "      <td>1.995391</td>\n",
       "      <td>-0.218740</td>\n",
       "      <td>0.341422</td>\n",
       "      <td>0</td>\n",
       "      <td>0</td>\n",
       "      <td>1</td>\n",
       "      <td>0</td>\n",
       "      <td>...</td>\n",
       "      <td>0</td>\n",
       "      <td>0</td>\n",
       "      <td>0</td>\n",
       "      <td>0</td>\n",
       "      <td>0</td>\n",
       "      <td>0</td>\n",
       "      <td>0</td>\n",
       "      <td>1</td>\n",
       "      <td>0</td>\n",
       "      <td>1</td>\n",
       "    </tr>\n",
       "    <tr>\n",
       "      <th>16277</th>\n",
       "      <td>-0.876877</td>\n",
       "      <td>-0.796853</td>\n",
       "      <td>1.116020</td>\n",
       "      <td>-0.150439</td>\n",
       "      <td>-0.218740</td>\n",
       "      <td>-0.074178</td>\n",
       "      <td>0</td>\n",
       "      <td>0</td>\n",
       "      <td>1</td>\n",
       "      <td>0</td>\n",
       "      <td>...</td>\n",
       "      <td>0</td>\n",
       "      <td>0</td>\n",
       "      <td>0</td>\n",
       "      <td>0</td>\n",
       "      <td>1</td>\n",
       "      <td>0</td>\n",
       "      <td>0</td>\n",
       "      <td>0</td>\n",
       "      <td>0</td>\n",
       "      <td>1</td>\n",
       "    </tr>\n",
       "    <tr>\n",
       "      <th>16278</th>\n",
       "      <td>1.564076</td>\n",
       "      <td>0.748381</td>\n",
       "      <td>-0.450788</td>\n",
       "      <td>-0.150439</td>\n",
       "      <td>-0.218740</td>\n",
       "      <td>-0.074178</td>\n",
       "      <td>0</td>\n",
       "      <td>0</td>\n",
       "      <td>0</td>\n",
       "      <td>0</td>\n",
       "      <td>...</td>\n",
       "      <td>0</td>\n",
       "      <td>0</td>\n",
       "      <td>0</td>\n",
       "      <td>0</td>\n",
       "      <td>0</td>\n",
       "      <td>0</td>\n",
       "      <td>0</td>\n",
       "      <td>1</td>\n",
       "      <td>0</td>\n",
       "      <td>1</td>\n",
       "    </tr>\n",
       "    <tr>\n",
       "      <th>16279</th>\n",
       "      <td>-0.419198</td>\n",
       "      <td>-1.223741</td>\n",
       "      <td>1.116020</td>\n",
       "      <td>-0.150439</td>\n",
       "      <td>4.473444</td>\n",
       "      <td>0.341422</td>\n",
       "      <td>0</td>\n",
       "      <td>0</td>\n",
       "      <td>1</td>\n",
       "      <td>0</td>\n",
       "      <td>...</td>\n",
       "      <td>0</td>\n",
       "      <td>0</td>\n",
       "      <td>0</td>\n",
       "      <td>0</td>\n",
       "      <td>0</td>\n",
       "      <td>0</td>\n",
       "      <td>0</td>\n",
       "      <td>1</td>\n",
       "      <td>0</td>\n",
       "      <td>1</td>\n",
       "    </tr>\n",
       "  </tbody>\n",
       "</table>\n",
       "<p>15347 rows × 63 columns</p>\n",
       "</div>"
      ],
      "text/plain": [
       "            age    fnlwgt  education-num  capital-gain  capital-loss  \\\n",
       "0     -0.342919  0.900258      -0.450788     -0.065600     -0.218740   \n",
       "1      0.114760  0.010683      -0.059086     -0.150439     -0.218740   \n",
       "2     -0.190359 -0.106280       1.116020     -0.150439     -0.218740   \n",
       "3     -1.258276 -0.041382      -0.059086     -0.150439     -0.218740   \n",
       "4      0.648719 -0.371197       1.116020      1.995391     -0.218740   \n",
       "...         ...       ...            ...           ...           ...   \n",
       "16275 -1.029436  3.062953       1.116020     -0.150439     -0.218740   \n",
       "16276 -0.495478  0.174179       1.116020      1.995391     -0.218740   \n",
       "16277 -0.876877 -0.796853       1.116020     -0.150439     -0.218740   \n",
       "16278  1.564076  0.748381      -0.450788     -0.150439     -0.218740   \n",
       "16279 -0.419198 -1.223741       1.116020     -0.150439      4.473444   \n",
       "\n",
       "       hours-per-week  workclass_Federal-gov  workclass_Local-gov  \\\n",
       "0            1.588223                      0                    1   \n",
       "1           -0.074178                      0                    0   \n",
       "2           -0.074178                      0                    1   \n",
       "3           -0.905379                      0                    0   \n",
       "4           -0.074178                      0                    0   \n",
       "...               ...                    ...                  ...   \n",
       "16275       -0.074178                      0                    1   \n",
       "16276        0.341422                      0                    0   \n",
       "16277       -0.074178                      0                    0   \n",
       "16278       -0.074178                      0                    0   \n",
       "16279        0.341422                      0                    0   \n",
       "\n",
       "       workclass_Private  workclass_Self-emp-inc  ...  relationship_Own-child  \\\n",
       "0                      0                       0  ...                       0   \n",
       "1                      1                       0  ...                       0   \n",
       "2                      0                       0  ...                       1   \n",
       "3                      1                       0  ...                       1   \n",
       "4                      1                       0  ...                       0   \n",
       "...                  ...                     ...  ...                     ...   \n",
       "16275                  0                       0  ...                       1   \n",
       "16276                  1                       0  ...                       0   \n",
       "16277                  1                       0  ...                       0   \n",
       "16278                  0                       0  ...                       0   \n",
       "16279                  1                       0  ...                       0   \n",
       "\n",
       "       relationship_Unmarried  relationship_Wife  race_Amer-Indian-Eskimo  \\\n",
       "0                           0                  0                        0   \n",
       "1                           0                  0                        0   \n",
       "2                           0                  0                        0   \n",
       "3                           0                  0                        0   \n",
       "4                           0                  0                        0   \n",
       "...                       ...                ...                      ...   \n",
       "16275                       0                  0                        0   \n",
       "16276                       0                  0                        0   \n",
       "16277                       0                  0                        0   \n",
       "16278                       0                  0                        0   \n",
       "16279                       0                  0                        0   \n",
       "\n",
       "       race_Asian-Pac-Islander  race_Black  race_Other  race_White  \\\n",
       "0                            0           1           0           0   \n",
       "1                            0           0           0           1   \n",
       "2                            0           0           0           1   \n",
       "3                            0           0           0           1   \n",
       "4                            0           0           0           1   \n",
       "...                        ...         ...         ...         ...   \n",
       "16275                        0           1           0           0   \n",
       "16276                        0           0           0           1   \n",
       "16277                        1           0           0           0   \n",
       "16278                        0           0           0           1   \n",
       "16279                        0           0           0           1   \n",
       "\n",
       "       sex_Female  sex_Male  \n",
       "0               0         1  \n",
       "1               0         1  \n",
       "2               0         1  \n",
       "3               1         0  \n",
       "4               0         1  \n",
       "...           ...       ...  \n",
       "16275           1         0  \n",
       "16276           0         1  \n",
       "16277           0         1  \n",
       "16278           0         1  \n",
       "16279           0         1  \n",
       "\n",
       "[15347 rows x 63 columns]"
      ]
     },
     "execution_count": 106,
     "metadata": {},
     "output_type": "execute_result"
    }
   ],
   "source": [
    "X = X_num_cols.join(X_cat)\n",
    "X"
   ]
  },
  {
   "cell_type": "code",
   "execution_count": 107,
   "metadata": {},
   "outputs": [
    {
     "data": {
      "text/plain": [
       "0.8841727141025352"
      ]
     },
     "execution_count": 107,
     "metadata": {},
     "output_type": "execute_result"
    }
   ],
   "source": [
    "knn = KNeighborsClassifier(n_neighbors=19, metric='manhattan')\n",
    " \n",
    "cv_res = cross_validate(knn, X, y, cv=5, scoring='roc_auc')\n",
    "cv_res['test_score'].mean()"
   ]
  },
  {
   "cell_type": "code",
   "execution_count": 108,
   "metadata": {},
   "outputs": [
    {
     "data": {
      "text/plain": [
       "0.8905381473635391"
      ]
     },
     "execution_count": 108,
     "metadata": {},
     "output_type": "execute_result"
    }
   ],
   "source": [
    "tree = DecisionTreeClassifier(max_depth=8, criterion='entropy')\n",
    "\n",
    "cv_res = cross_validate(tree, X, y, cv=5, scoring='roc_auc')\n",
    "cv_res['test_score'].mean()"
   ]
  },
  {
   "cell_type": "code",
   "execution_count": 109,
   "metadata": {},
   "outputs": [
    {
     "data": {
      "text/plain": [
       "0.8927691165758581"
      ]
     },
     "execution_count": 109,
     "metadata": {},
     "output_type": "execute_result"
    }
   ],
   "source": [
    "forest = RandomForestClassifier(n_estimators = 40, criterion='entropy', max_features='log2')\n",
    "\n",
    "cv_res = cross_validate(forest, X, y, cv=5, scoring='roc_auc')\n",
    "cv_res['test_score'].mean()"
   ]
  },
  {
   "cell_type": "code",
   "execution_count": 110,
   "metadata": {},
   "outputs": [
    {
     "data": {
      "text/plain": [
       "0.9234855042516423"
      ]
     },
     "execution_count": 110,
     "metadata": {},
     "output_type": "execute_result"
    }
   ],
   "source": [
    "gbc = GradientBoostingClassifier(n_estimators = 290, criterion='mse', max_features='auto')\n",
    "\n",
    "cv_res = cross_validate(gbc, X, y, cv=5, scoring='roc_auc')\n",
    "cv_res['test_score'].mean()"
   ]
  },
  {
   "cell_type": "code",
   "execution_count": 111,
   "metadata": {},
   "outputs": [
    {
     "data": {
      "text/plain": [
       "0.9010113327537679"
      ]
     },
     "execution_count": 111,
     "metadata": {},
     "output_type": "execute_result"
    }
   ],
   "source": [
    "sgd = SGDClassifier(loss='log', penalty='l2')\n",
    "\n",
    "cv_res = cross_validate(sgd, X, y, cv=5, scoring='roc_auc')\n",
    "cv_res['test_score'].mean()"
   ]
  },
  {
   "cell_type": "markdown",
   "metadata": {},
   "source": [
    "Качество при добавлении новых признаков стало сильно лучше, roc_auc перевесил 0.9 в случае с gbc и sgd. "
   ]
  },
  {
   "cell_type": "markdown",
   "metadata": {},
   "source": [
    "***Отличается ли теперь наилучший классификатор от наилучшего в предыдущем пункте?***\n",
    "\n",
    "Нет, лучшее качество еще показывает градиентный бустинг"
   ]
  },
  {
   "cell_type": "markdown",
   "metadata": {},
   "source": [
    "## Поиск новых полезных признаков\n",
    "\n",
    "**Задание 11 (1.25 балла).** Попробуем улучшить качество модели, добавив в неё новые информативные признаки. Поступим так же, как действовали на [семинаре](https://github.com/Murcha1990/ML_Econom_2021-2022/blob/main/Семинары/Семинар%207/Seminar7.ipynb):\n",
    "* добавьте к модели полиномиальных признаков степени 2 (для создания полиномиальных признаков используйте только исходные числовые признаки)\n",
    "* затем снизьте размерность с помощью:\n",
    "a) фильтрационных методов\n",
    "b) жадного отбора признаков (RFE)\n",
    "с) встроенного в модель метода отбора признаков.\n",
    "\n",
    "Для каждого пункта выше выберите один метод и подберите для него оптимальные гиперпараметры, а также количество финальных признаков (по кросс-валидации).\n",
    "\n",
    "* Затем можно добавить к модели закодированные в предыдущем пункте категориальные признаки.\n",
    "\n",
    "Позволил ли этот подход улучшить качество моделей? "
   ]
  },
  {
   "cell_type": "code",
   "execution_count": 112,
   "metadata": {},
   "outputs": [],
   "source": [
    "from sklearn.pipeline import Pipeline\n",
    "from sklearn.preprocessing import PolynomialFeatures"
   ]
  },
  {
   "cell_type": "code",
   "execution_count": 113,
   "metadata": {},
   "outputs": [
    {
     "data": {
      "text/plain": [
       "0.8275011042070618"
      ]
     },
     "execution_count": 113,
     "metadata": {},
     "output_type": "execute_result"
    }
   ],
   "source": [
    "pipe_knn = Pipeline([\n",
    "    ('poly_featurizer_', PolynomialFeatures(degree=2)),\n",
    "    ('scaler_', StandardScaler()),\n",
    "    ('model_', KNeighborsClassifier(n_neighbors=19, metric='manhattan'))]\n",
    ")\n",
    "cv_res = cross_validate(pipe_knn, data_num_cols, y, cv=5, scoring='roc_auc')\n",
    "cv_res['test_score'].mean()"
   ]
  },
  {
   "cell_type": "code",
   "execution_count": 114,
   "metadata": {},
   "outputs": [
    {
     "data": {
      "text/plain": [
       "0.8319591480805496"
      ]
     },
     "execution_count": 114,
     "metadata": {},
     "output_type": "execute_result"
    }
   ],
   "source": [
    "pipe_tree = Pipeline([\n",
    "    ('poly_featurizer_', PolynomialFeatures(degree=2)),\n",
    "    ('scaler_', StandardScaler()),\n",
    "    ('model_', DecisionTreeClassifier(max_depth=8, criterion='entropy'))]\n",
    ")\n",
    "cv_res = cross_validate(pipe_tree, data_num_cols, y, cv=5, scoring='roc_auc')\n",
    "cv_res['test_score'].mean()"
   ]
  },
  {
   "cell_type": "code",
   "execution_count": 115,
   "metadata": {},
   "outputs": [
    {
     "data": {
      "text/plain": [
       "0.8145223464227159"
      ]
     },
     "execution_count": 115,
     "metadata": {},
     "output_type": "execute_result"
    }
   ],
   "source": [
    "pipe_forest = Pipeline([\n",
    "    ('poly_featurizer_', PolynomialFeatures(degree=2)),\n",
    "    ('scaler_', StandardScaler()),\n",
    "    ('model_', RandomForestClassifier(n_estimators = 40, criterion='entropy', max_features='log2'))]\n",
    ")\n",
    "cv_res = cross_validate(pipe_forest, data_num_cols, y, cv=5, scoring='roc_auc')\n",
    "cv_res['test_score'].mean()"
   ]
  },
  {
   "cell_type": "code",
   "execution_count": 116,
   "metadata": {},
   "outputs": [
    {
     "data": {
      "text/plain": [
       "0.860791388557802"
      ]
     },
     "execution_count": 116,
     "metadata": {},
     "output_type": "execute_result"
    }
   ],
   "source": [
    "pipe_gbc = Pipeline([\n",
    "    ('poly_featurizer_', PolynomialFeatures(degree=2)),\n",
    "    ('scaler_', StandardScaler()),\n",
    "    ('model_', GradientBoostingClassifier(n_estimators = 290, criterion='mse', max_features='auto'))]\n",
    ")\n",
    "cv_res = cross_validate(pipe_gbc, data_num_cols, y, cv=5, scoring='roc_auc')\n",
    "cv_res['test_score'].mean()"
   ]
  },
  {
   "cell_type": "code",
   "execution_count": 117,
   "metadata": {},
   "outputs": [
    {
     "data": {
      "text/plain": [
       "0.8362382846452968"
      ]
     },
     "execution_count": 117,
     "metadata": {},
     "output_type": "execute_result"
    }
   ],
   "source": [
    "pipe_sgd = Pipeline([\n",
    "    ('poly_featurizer_', PolynomialFeatures(degree=2)),\n",
    "    ('scaler_', StandardScaler()),\n",
    "    ('model_', SGDClassifier(loss='log', penalty='l2'))]\n",
    ")\n",
    "cv_res = cross_validate(pipe_sgd, data_num_cols, y, cv=5, scoring='roc_auc')\n",
    "cv_res['test_score'].mean()"
   ]
  },
  {
   "cell_type": "markdown",
   "metadata": {},
   "source": [
    "***А) ФИЛЬТРАЦИОННЫЕ МЕТОДЫ***"
   ]
  },
  {
   "cell_type": "code",
   "execution_count": 118,
   "metadata": {},
   "outputs": [],
   "source": [
    "from sklearn.feature_selection import SelectKBest, SelectPercentile\n",
    "from sklearn.feature_selection import f_classif, chi2, mutual_info_classif"
   ]
  },
  {
   "cell_type": "code",
   "execution_count": 119,
   "metadata": {},
   "outputs": [
    {
     "data": {
      "text/plain": [
       "0.8291564920672695"
      ]
     },
     "execution_count": 119,
     "metadata": {},
     "output_type": "execute_result"
    }
   ],
   "source": [
    "k_best = 17\n",
    "\n",
    "pipe_knn1 = Pipeline([\n",
    "    ('poly_featurizer_', PolynomialFeatures(degree=2)),\n",
    "    ('scaler_', StandardScaler()),\n",
    "    ('selector', SelectKBest(score_func=mutual_info_classif, k=k_best)), \n",
    "    ('model_', KNeighborsClassifier(n_neighbors=19, metric='manhattan'))]\n",
    ")\n",
    "cv_res = cross_validate(pipe_knn1, data_num_cols, y, cv=5, scoring='roc_auc')\n",
    "cv_res['test_score'].mean()"
   ]
  },
  {
   "cell_type": "code",
   "execution_count": 120,
   "metadata": {},
   "outputs": [
    {
     "data": {
      "text/plain": [
       "0.8380301117165299"
      ]
     },
     "execution_count": 120,
     "metadata": {},
     "output_type": "execute_result"
    }
   ],
   "source": [
    "k_best = 17\n",
    "\n",
    "pipe_tree1 = Pipeline([\n",
    "    ('poly_featurizer_', PolynomialFeatures(degree=2)),\n",
    "    ('scaler_', StandardScaler()),\n",
    "    ('selector', SelectKBest(score_func=mutual_info_classif, k=k_best)), \n",
    "    ('model_', DecisionTreeClassifier(max_depth=8, criterion='entropy'))]\n",
    ")\n",
    "cv_res = cross_validate(pipe_tree1, data_num_cols, y, cv=5, scoring='roc_auc')\n",
    "cv_res['test_score'].mean()"
   ]
  },
  {
   "cell_type": "code",
   "execution_count": 121,
   "metadata": {},
   "outputs": [
    {
     "data": {
      "text/plain": [
       "0.8164856370180379"
      ]
     },
     "execution_count": 121,
     "metadata": {},
     "output_type": "execute_result"
    }
   ],
   "source": [
    "k_best = 17\n",
    "\n",
    "pipe_forest1 = Pipeline([\n",
    "    ('poly_featurizer_', PolynomialFeatures(degree=2)),\n",
    "    ('scaler_', StandardScaler()),\n",
    "    ('selector', SelectKBest(score_func=mutual_info_classif, k=k_best)), \n",
    "    ('model_', RandomForestClassifier(n_estimators = 40, criterion='entropy', max_features='log2'))]\n",
    ")\n",
    "cv_res = cross_validate(pipe_forest1, data_num_cols, y, cv=5, scoring='roc_auc')\n",
    "cv_res['test_score'].mean()"
   ]
  },
  {
   "cell_type": "code",
   "execution_count": 122,
   "metadata": {},
   "outputs": [
    {
     "data": {
      "text/plain": [
       "0.8664160632890073"
      ]
     },
     "execution_count": 122,
     "metadata": {},
     "output_type": "execute_result"
    }
   ],
   "source": [
    "k_best = 17\n",
    "\n",
    "pipe_gbc1 = Pipeline([\n",
    "    ('poly_featurizer_', PolynomialFeatures(degree=2)),\n",
    "    ('scaler_', StandardScaler()),\n",
    "    ('selector', SelectKBest(score_func=mutual_info_classif, k=k_best)), \n",
    "    ('model_', GradientBoostingClassifier(n_estimators = 290, criterion='mse', max_features='auto'))]\n",
    ")\n",
    "cv_res = cross_validate(pipe_gbc1, data_num_cols, y, cv=5, scoring='roc_auc')\n",
    "cv_res['test_score'].mean()"
   ]
  },
  {
   "cell_type": "code",
   "execution_count": 123,
   "metadata": {},
   "outputs": [
    {
     "data": {
      "text/plain": [
       "0.8367554682824551"
      ]
     },
     "execution_count": 123,
     "metadata": {},
     "output_type": "execute_result"
    }
   ],
   "source": [
    "k_best = 17\n",
    "\n",
    "pipe_sgd1 = Pipeline([\n",
    "    ('poly_featurizer_', PolynomialFeatures(degree=2)),\n",
    "    ('scaler_', StandardScaler()),\n",
    "    ('selector', SelectKBest(score_func=mutual_info_classif, k=k_best)), \n",
    "    ('model_', SGDClassifier(loss='log', penalty='l2'))]\n",
    ")\n",
    "cv_res = cross_validate(pipe_sgd1, data_num_cols, y, cv=5, scoring='roc_auc')\n",
    "cv_res['test_score'].mean()"
   ]
  },
  {
   "cell_type": "markdown",
   "metadata": {},
   "source": [
    "оптимал гиперпараметр k_best для decision tree"
   ]
  },
  {
   "cell_type": "code",
   "execution_count": 124,
   "metadata": {},
   "outputs": [
    {
     "data": {
      "text/plain": [
       "(15347, 6)"
      ]
     },
     "execution_count": 124,
     "metadata": {},
     "output_type": "execute_result"
    }
   ],
   "source": [
    "data_num_cols.shape"
   ]
  },
  {
   "cell_type": "code",
   "execution_count": 173,
   "metadata": {},
   "outputs": [
    {
     "data": {
      "text/plain": [
       "(15347, 28)"
      ]
     },
     "execution_count": 173,
     "metadata": {},
     "output_type": "execute_result"
    }
   ],
   "source": [
    "data_tr = pipe_tree[:-1]\n",
    "X_tr = data_tr.fit_transform(data_num_cols, y)\n",
    "X_tr.shape"
   ]
  },
  {
   "cell_type": "code",
   "execution_count": 125,
   "metadata": {},
   "outputs": [
    {
     "name": "stdout",
     "output_type": "stream",
     "text": [
      "Fitting 5 folds for each of 26 candidates, totalling 130 fits\n",
      "best score: 0.8376797989811274\n",
      "best params: {'selector__k': 17}\n"
     ]
    }
   ],
   "source": [
    "params = {\"selector__k\": range(1,27)}\n",
    "\n",
    "grid = GridSearchCV(pipe_tree1, params, n_jobs = -1, cv=5, scoring = 'roc_auc', verbose = 3)\n",
    "\n",
    "grid.fit(data_num_cols, y)\n",
    "\n",
    "print('best score:', grid.best_score_)\n",
    "print('best params:', grid.best_params_)"
   ]
  },
  {
   "cell_type": "code",
   "execution_count": 126,
   "metadata": {},
   "outputs": [
    {
     "data": {
      "text/plain": [
       "(15347, 17)"
      ]
     },
     "execution_count": 126,
     "metadata": {},
     "output_type": "execute_result"
    }
   ],
   "source": [
    "data_tr = pipe_tree1[:-1]\n",
    "X_tr = data_tr.fit_transform(data_num_cols, y)\n",
    "X_tr.shape"
   ]
  },
  {
   "cell_type": "code",
   "execution_count": 127,
   "metadata": {},
   "outputs": [
    {
     "data": {
      "text/plain": [
       "0.8924457427128951"
      ]
     },
     "execution_count": 127,
     "metadata": {},
     "output_type": "execute_result"
    }
   ],
   "source": [
    "k_best = 17\n",
    "\n",
    "pipe_tree4 = Pipeline([\n",
    "    ('poly_featurizer_', PolynomialFeatures(degree=2)),\n",
    "    ('scaler_', StandardScaler()),\n",
    "    ('selector', SelectKBest(score_func=mutual_info_classif, k=k_best)), \n",
    "    ('model_', DecisionTreeClassifier(max_depth=8, criterion='entropy'))]\n",
    ")\n",
    "cv_res = cross_validate(pipe_tree4, X, y, cv=5, scoring='roc_auc')\n",
    "cv_res['test_score'].mean()"
   ]
  },
  {
   "cell_type": "markdown",
   "metadata": {},
   "source": [
    "Значит, при использовании решающих деревьев лучше оставить 17 признаков."
   ]
  },
  {
   "cell_type": "markdown",
   "metadata": {},
   "source": [
    "***B) ЖАДНЫЙ ОТБОР ПРИЗНАКОВ***"
   ]
  },
  {
   "cell_type": "code",
   "execution_count": 128,
   "metadata": {},
   "outputs": [],
   "source": [
    "from sklearn.feature_selection import RFE\n",
    "from sklearn.linear_model import LogisticRegression"
   ]
  },
  {
   "cell_type": "code",
   "execution_count": 129,
   "metadata": {},
   "outputs": [
    {
     "data": {
      "text/plain": [
       "0.8317541211145374"
      ]
     },
     "execution_count": 129,
     "metadata": {},
     "output_type": "execute_result"
    }
   ],
   "source": [
    "pipe_knn2 = Pipeline([\n",
    "    ('poly_featurizer_', PolynomialFeatures(degree=2)),\n",
    "    ('scaler_', StandardScaler()),\n",
    "    ('selector', RFE(LogisticRegression(max_iter=1000),\n",
    "                      n_features_to_select=17,\n",
    "                      step=5\n",
    "                     )), \n",
    "    ('model_', KNeighborsClassifier(n_neighbors=19, metric='manhattan'))]\n",
    ")\n",
    "cv_res = cross_validate(pipe_knn2, data_num_cols, y, cv=5, scoring='roc_auc')\n",
    "cv_res['test_score'].mean()"
   ]
  },
  {
   "cell_type": "code",
   "execution_count": 130,
   "metadata": {},
   "outputs": [
    {
     "data": {
      "text/plain": [
       "0.8361106871654063"
      ]
     },
     "execution_count": 130,
     "metadata": {},
     "output_type": "execute_result"
    }
   ],
   "source": [
    "pipe_tree2 = Pipeline([\n",
    "    ('poly_featurizer_', PolynomialFeatures(degree=2)),\n",
    "    ('scaler_', StandardScaler()),\n",
    "    ('selector', RFE(LogisticRegression(max_iter=1000),\n",
    "                      n_features_to_select=17,\n",
    "                      step=5\n",
    "                     )), \n",
    "    ('model_', DecisionTreeClassifier(max_depth=8, criterion='entropy'))]\n",
    ")\n",
    "cv_res = cross_validate(pipe_tree2, data_num_cols, y, cv=5, scoring='roc_auc')\n",
    "cv_res['test_score'].mean()"
   ]
  },
  {
   "cell_type": "code",
   "execution_count": 131,
   "metadata": {},
   "outputs": [
    {
     "data": {
      "text/plain": [
       "0.8119120720791466"
      ]
     },
     "execution_count": 131,
     "metadata": {},
     "output_type": "execute_result"
    }
   ],
   "source": [
    "pipe_forest2 = Pipeline([\n",
    "    ('poly_featurizer_', PolynomialFeatures(degree=2)),\n",
    "    ('scaler_', StandardScaler()),\n",
    "    ('selector', RFE(LogisticRegression(max_iter=1000),\n",
    "                      n_features_to_select=17,\n",
    "                      step=5\n",
    "                     )), \n",
    "    ('model_', RandomForestClassifier(n_estimators = 40, criterion='entropy', max_features='log2'))]\n",
    ")\n",
    "cv_res = cross_validate(pipe_forest2, data_num_cols, y, cv=5, scoring='roc_auc')\n",
    "cv_res['test_score'].mean()"
   ]
  },
  {
   "cell_type": "code",
   "execution_count": 132,
   "metadata": {},
   "outputs": [
    {
     "data": {
      "text/plain": [
       "0.864468342243403"
      ]
     },
     "execution_count": 132,
     "metadata": {},
     "output_type": "execute_result"
    }
   ],
   "source": [
    "pipe_gbc2 = Pipeline([\n",
    "    ('poly_featurizer_', PolynomialFeatures(degree=2)),\n",
    "    ('scaler_', StandardScaler()),\n",
    "    ('selector', RFE(LogisticRegression(max_iter=1000),\n",
    "                      n_features_to_select=17,\n",
    "                      step=5\n",
    "                     )), \n",
    "    ('model_', GradientBoostingClassifier(n_estimators = 290, criterion='mse', max_features='auto'))]\n",
    ")\n",
    "cv_res = cross_validate(pipe_gbc2, data_num_cols, y, cv=5, scoring='roc_auc')\n",
    "cv_res['test_score'].mean()"
   ]
  },
  {
   "cell_type": "code",
   "execution_count": 133,
   "metadata": {},
   "outputs": [
    {
     "data": {
      "text/plain": [
       "0.8324613454583563"
      ]
     },
     "execution_count": 133,
     "metadata": {},
     "output_type": "execute_result"
    }
   ],
   "source": [
    "pipe_sgd2 = Pipeline([\n",
    "    ('poly_featurizer_', PolynomialFeatures(degree=2)),\n",
    "    ('scaler_', StandardScaler()),\n",
    "    ('selector', RFE(LogisticRegression(max_iter=1000),\n",
    "                      n_features_to_select=17,\n",
    "                      step=5\n",
    "                     )), \n",
    "    ('model_', SGDClassifier(loss='log', penalty='l2'))]\n",
    ")\n",
    "cv_res = cross_validate(pipe_sgd2, data_num_cols, y, cv=5, scoring='roc_auc')\n",
    "cv_res['test_score'].mean()"
   ]
  },
  {
   "cell_type": "markdown",
   "metadata": {},
   "source": [
    "Подберем оптимальные гиперпараметры n_features_to_select и step для метода knn."
   ]
  },
  {
   "cell_type": "code",
   "execution_count": 134,
   "metadata": {},
   "outputs": [
    {
     "name": "stdout",
     "output_type": "stream",
     "text": [
      "Fitting 5 folds for each of 575 candidates, totalling 2875 fits\n"
     ]
    },
    {
     "data": {
      "text/plain": [
       "GridSearchCV(cv=5,\n",
       "             estimator=Pipeline(steps=[('poly_featurizer_',\n",
       "                                        PolynomialFeatures()),\n",
       "                                       ('scaler_', StandardScaler()),\n",
       "                                       ('selector',\n",
       "                                        RFE(estimator=LogisticRegression(max_iter=1000),\n",
       "                                            n_features_to_select=17, step=5)),\n",
       "                                       ('model_',\n",
       "                                        KNeighborsClassifier(metric='manhattan',\n",
       "                                                             n_neighbors=19))]),\n",
       "             n_jobs=-1,\n",
       "             param_grid={'selector__n_features_to_select': range(2, 27),\n",
       "                         'selector__step': range(2, 25)},\n",
       "             scoring='roc_auc', verbose=3)"
      ]
     },
     "execution_count": 134,
     "metadata": {},
     "output_type": "execute_result"
    }
   ],
   "source": [
    "params = {\"selector__n_features_to_select\": range(2,27), \n",
    "          \"selector__step\": range(2,25)}\n",
    "\n",
    "grid = GridSearchCV(pipe_knn2, params, n_jobs = -1, cv=5, scoring = 'roc_auc', verbose = 3)\n",
    "\n",
    "grid.fit(data_num_cols, y)"
   ]
  },
  {
   "cell_type": "code",
   "execution_count": 135,
   "metadata": {},
   "outputs": [
    {
     "name": "stdout",
     "output_type": "stream",
     "text": [
      "best params: 17\n",
      "best metric: 5\n"
     ]
    }
   ],
   "source": [
    "print('best params:', grid.best_params_[\"selector__n_features_to_select\"])\n",
    "print('best metric:', grid.best_params_[\"selector__step\"])"
   ]
  },
  {
   "cell_type": "code",
   "execution_count": 136,
   "metadata": {},
   "outputs": [
    {
     "data": {
      "text/plain": [
       "(15347, 17)"
      ]
     },
     "execution_count": 136,
     "metadata": {},
     "output_type": "execute_result"
    }
   ],
   "source": [
    "data_tr = pipe_knn2[:-1]\n",
    "X_tr = data_tr.fit_transform(data_num_cols, y)\n",
    "X_tr.shape"
   ]
  },
  {
   "cell_type": "code",
   "execution_count": 137,
   "metadata": {},
   "outputs": [
    {
     "data": {
      "text/plain": [
       "0.8786484786811073"
      ]
     },
     "execution_count": 137,
     "metadata": {},
     "output_type": "execute_result"
    }
   ],
   "source": [
    "pipe_knn4 = Pipeline([\n",
    "    ('poly_featurizer_', PolynomialFeatures(degree=2)),\n",
    "    ('scaler_', StandardScaler()),\n",
    "    ('selector', RFE(LogisticRegression(max_iter=1000),\n",
    "                      n_features_to_select=17,\n",
    "                      step=5\n",
    "                     )), \n",
    "    ('model_', KNeighborsClassifier(n_neighbors=19, metric='manhattan'))]\n",
    ")\n",
    "cv_res = cross_validate(pipe_knn4, X, y, cv=5, scoring='roc_auc')\n",
    "cv_res['test_score'].mean()"
   ]
  },
  {
   "cell_type": "markdown",
   "metadata": {},
   "source": [
    "***C) ВСТРОЕННЫЕ МЕТОДЫ ОТБОРА***"
   ]
  },
  {
   "cell_type": "code",
   "execution_count": 138,
   "metadata": {},
   "outputs": [],
   "source": [
    "from sklearn.feature_selection import SelectFromModel"
   ]
  },
  {
   "cell_type": "code",
   "execution_count": 139,
   "metadata": {},
   "outputs": [
    {
     "data": {
      "text/plain": [
       "0.8275490240278808"
      ]
     },
     "execution_count": 139,
     "metadata": {},
     "output_type": "execute_result"
    }
   ],
   "source": [
    "pipe_knn3 = Pipeline([\n",
    "    ('poly_featurizer_', PolynomialFeatures(degree=2)),\n",
    "    ('scaler_', StandardScaler()),\n",
    "    ('selector', SelectFromModel(LogisticRegression(penalty='l1', max_iter=1000, solver='liblinear'), \n",
    "                                  threshold=1e-5)), \n",
    "    ('model_', KNeighborsClassifier(n_neighbors=19, metric='manhattan'))]\n",
    ")\n",
    "cv_res = cross_validate(pipe_knn3, data_num_cols, y, cv=5, scoring='roc_auc')\n",
    "cv_res['test_score'].mean()"
   ]
  },
  {
   "cell_type": "code",
   "execution_count": 140,
   "metadata": {},
   "outputs": [
    {
     "data": {
      "text/plain": [
       "0.8306412472965533"
      ]
     },
     "execution_count": 140,
     "metadata": {},
     "output_type": "execute_result"
    }
   ],
   "source": [
    "pipe_tree3 = Pipeline([\n",
    "    ('poly_featurizer_', PolynomialFeatures(degree=2)),\n",
    "    ('scaler_', StandardScaler()),\n",
    "    ('selector', SelectFromModel(LogisticRegression(penalty='l1', max_iter=1000, solver='liblinear'), \n",
    "                                  threshold=1e-5)), \n",
    "    ('model_', DecisionTreeClassifier(max_depth=8, criterion='entropy'))]\n",
    ")\n",
    "cv_res = cross_validate(pipe_tree3, data_num_cols, y, cv=5, scoring='roc_auc')\n",
    "cv_res['test_score'].mean()"
   ]
  },
  {
   "cell_type": "code",
   "execution_count": 141,
   "metadata": {},
   "outputs": [
    {
     "data": {
      "text/plain": [
       "0.8122138615655231"
      ]
     },
     "execution_count": 141,
     "metadata": {},
     "output_type": "execute_result"
    }
   ],
   "source": [
    "pipe_forest3 = Pipeline([\n",
    "    ('poly_featurizer_', PolynomialFeatures(degree=2)),\n",
    "    ('scaler_', StandardScaler()),\n",
    "    ('selector', SelectFromModel(LogisticRegression(penalty='l1', max_iter=1000, solver='liblinear'), \n",
    "                                  threshold=1e-5)), \n",
    "    ('model_', RandomForestClassifier(n_estimators = 40, criterion='entropy', max_features='log2'))]\n",
    ")\n",
    "cv_res = cross_validate(pipe_forest3, data_num_cols, y, cv=5, scoring='roc_auc')\n",
    "cv_res['test_score'].mean()"
   ]
  },
  {
   "cell_type": "code",
   "execution_count": 142,
   "metadata": {},
   "outputs": [
    {
     "data": {
      "text/plain": [
       "0.8614688260362572"
      ]
     },
     "execution_count": 142,
     "metadata": {},
     "output_type": "execute_result"
    }
   ],
   "source": [
    "pipe_gbc3 = Pipeline([\n",
    "    ('poly_featurizer_', PolynomialFeatures(degree=2)),\n",
    "    ('scaler_', StandardScaler()),\n",
    "    ('selector', SelectFromModel(LogisticRegression(penalty='l1', max_iter=1000, solver='liblinear'), \n",
    "                                  threshold=1e-5)), \n",
    "    ('model_', GradientBoostingClassifier(n_estimators = 290, criterion='mse', max_features='auto'))]\n",
    ")\n",
    "cv_res = cross_validate(pipe_gbc3, data_num_cols, y, cv=5, scoring='roc_auc')\n",
    "cv_res['test_score'].mean()"
   ]
  },
  {
   "cell_type": "code",
   "execution_count": 143,
   "metadata": {},
   "outputs": [
    {
     "data": {
      "text/plain": [
       "0.8374235612420129"
      ]
     },
     "execution_count": 143,
     "metadata": {},
     "output_type": "execute_result"
    }
   ],
   "source": [
    "pipe_sgd3 = Pipeline([\n",
    "    ('poly_featurizer_', PolynomialFeatures(degree=2)),\n",
    "    ('scaler_', StandardScaler()),\n",
    "    ('selector', SelectFromModel(LogisticRegression(penalty='l1', max_iter=1000, solver='liblinear'), \n",
    "                                  threshold=0.19191919200000002)), \n",
    "    ('model_', SGDClassifier(loss='log', penalty='l2'))]\n",
    ")\n",
    "cv_res = cross_validate(pipe_sgd3, data_num_cols, y, cv=5, scoring='roc_auc')\n",
    "cv_res['test_score'].mean()"
   ]
  },
  {
   "cell_type": "markdown",
   "metadata": {},
   "source": [
    "Подберем оптимальный гиперпараметр threshold для метода SGD."
   ]
  },
  {
   "cell_type": "code",
   "execution_count": 144,
   "metadata": {},
   "outputs": [
    {
     "name": "stdout",
     "output_type": "stream",
     "text": [
      "Fitting 5 folds for each of 100 candidates, totalling 500 fits\n",
      "best score: 0.8387602734511657\n",
      "best params: {'selector__threshold': 0.2525252526}\n"
     ]
    }
   ],
   "source": [
    "params = {\"selector__threshold\": np.linspace(0.0000000001, 1, 100)}\n",
    "\n",
    "grid = GridSearchCV(pipe_sgd3, params, n_jobs = -1, cv=5, scoring = 'roc_auc', verbose = 3)\n",
    "\n",
    "grid.fit(data_num_cols, y)\n",
    "\n",
    "print('best score:', grid.best_score_)\n",
    "print('best params:', grid.best_params_)"
   ]
  },
  {
   "cell_type": "markdown",
   "metadata": {},
   "source": [
    "Значит, при использовании SGD оптимально отбирать признаки с весами больше 0,19."
   ]
  },
  {
   "cell_type": "code",
   "execution_count": 145,
   "metadata": {},
   "outputs": [
    {
     "data": {
      "text/plain": [
       "(15347, 15)"
      ]
     },
     "execution_count": 145,
     "metadata": {},
     "output_type": "execute_result"
    }
   ],
   "source": [
    "data_tr = pipe_sgd3[:-1]\n",
    "X_tr = data_tr.fit_transform(data_num_cols, y)\n",
    "X_tr.shape"
   ]
  },
  {
   "cell_type": "code",
   "execution_count": 146,
   "metadata": {},
   "outputs": [
    {
     "data": {
      "text/plain": [
       "0.8882705127016461"
      ]
     },
     "execution_count": 146,
     "metadata": {},
     "output_type": "execute_result"
    }
   ],
   "source": [
    "pipe_sgd4 = Pipeline([\n",
    "    ('poly_featurizer_', PolynomialFeatures(degree=2)),\n",
    "    ('scaler_', StandardScaler()),\n",
    "    ('selector', SelectFromModel(LogisticRegression(penalty='l1', max_iter=1000, solver='liblinear'), \n",
    "                                  threshold=0.19191919200000002)), \n",
    "    ('model_', SGDClassifier(loss='log', penalty='l2'))]\n",
    ")\n",
    "cv_res = cross_validate(pipe_sgd4, X, y, cv=5, scoring='roc_auc')\n",
    "cv_res['test_score'].mean()"
   ]
  },
  {
   "cell_type": "markdown",
   "metadata": {},
   "source": [
    "Без добавления полиномиальных признаков (по крайней мере судя по модели sgd, у которой качество было 0.9) качество моделей лучше, чем с добавлением полиномиальных признаков."
   ]
  },
  {
   "cell_type": "markdown",
   "metadata": {},
   "source": [
    "## Смешивание моделей\n",
    "\n",
    "Во всех предыдущих пунктах мы получили много сильных моделей, которые могут быть достаточно разными по своей природе (например, метод ближайших соседей и случайный лес). Часто на практике оказывается возможным увеличить качество предсказания путем смешивания подобных разных моделей. Давайте посмотрим, действительно ли это дает прирост в качестве.\n",
    "\n",
    "Выберите из построенных моделей двух предыдущих пунктов две, которые дали наибольшее начество на кросс-валидации (обозначим их $clf_1$ и $clf_2$). Далее постройте новый классификатор, ответ которого на некотором объекте $x$ будет выглядеть следующим образом:\n",
    "\n",
    "$$result(x) = clf_1(x) \\cdot \\alpha + clf_2(x) \\cdot (1 - \\alpha)$$\n",
    "\n",
    "где $\\alpha$ — гиперпараметр нового классификатора.\n",
    "\n",
    "**Задание 12 (1 балл)** Подберите по сетке от 0 до 1 $\\alpha$ для этого классификатора с помощью 5-Fold CV и постройте график качества в зависимости от $\\alpha$ (аналогичный графику в разделе \"Обучение классификаторов и оценка качества\"). Дал ли этот подход прирост к качеству по сравнению с моделями ранее?"
   ]
  },
  {
   "cell_type": "code",
   "execution_count": 147,
   "metadata": {},
   "outputs": [],
   "source": [
    "from sklearn.base import BaseEstimator\n",
    "from sklearn.base import ClassifierMixin"
   ]
  },
  {
   "cell_type": "code",
   "execution_count": 148,
   "metadata": {},
   "outputs": [],
   "source": [
    "class BlendingClassifier(BaseEstimator, ClassifierMixin):\n",
    "    def __init__(self, clf_1, clf_2, a):\n",
    "        self.clf_1 = clf_1\n",
    "        self.clf_2 = clf_2\n",
    "        self.a = a\n",
    "        \n",
    "    def fit (self, X, y):\n",
    "        self.clf_1.fit(X,y)\n",
    "        self.clf_2.fit(X,y)\n",
    "        return self\n",
    "    \n",
    "    def predict_proba(self, X):\n",
    "        clf_1 = self.clf_1.predict_proba(X)\n",
    "        clf_2 = self.clf_2.predict_proba(X)\n",
    "        return clf_1*self.a + clf_2*(1 - self.a)"
   ]
  },
  {
   "cell_type": "code",
   "execution_count": 149,
   "metadata": {},
   "outputs": [],
   "source": [
    "clf_1 = KNeighborsClassifier(n_neighbors=19, metric='manhattan')\n",
    "clf_2 = DecisionTreeClassifier(max_depth=8, criterion='entropy')\n",
    "a = np.linspace(0.00000001, 1, 10)"
   ]
  },
  {
   "cell_type": "code",
   "execution_count": 150,
   "metadata": {},
   "outputs": [],
   "source": [
    "BC = BlendingClassifier(clf_1, clf_2, a)"
   ]
  },
  {
   "cell_type": "code",
   "execution_count": 151,
   "metadata": {},
   "outputs": [
    {
     "data": {
      "text/plain": [
       "GridSearchCV(cv=5,\n",
       "             estimator=BlendingClassifier(a=array([1.0000000e-08, 1.1111112e-01, 2.2222223e-01, 3.3333334e-01,\n",
       "       4.4444445e-01, 5.5555556e-01, 6.6666667e-01, 7.7777778e-01,\n",
       "       8.8888889e-01, 1.0000000e+00]),\n",
       "                                          clf_1=KNeighborsClassifier(metric='manhattan',\n",
       "                                                                     n_neighbors=19),\n",
       "                                          clf_2=DecisionTreeClassifier(criterion='entropy',\n",
       "                                                                       max_depth=8)),\n",
       "             param_grid={'a': array([1.0000000e-08, 1.1111112e-01, 2.2222223e-01, 3.3333334e-01,\n",
       "       4.4444445e-01, 5.5555556e-01, 6.6666667e-01, 7.7777778e-01,\n",
       "       8.8888889e-01, 1.0000000e+00])},\n",
       "             scoring='roc_auc')"
      ]
     },
     "execution_count": 151,
     "metadata": {},
     "output_type": "execute_result"
    }
   ],
   "source": [
    "params = {'a': np.linspace(0.00000001, 1, 10)}\n",
    "\n",
    "grid = GridSearchCV(BC, params, cv=5, scoring = 'roc_auc')\n",
    "\n",
    "grid.fit(X,y)"
   ]
  },
  {
   "cell_type": "code",
   "execution_count": 152,
   "metadata": {},
   "outputs": [
    {
     "name": "stdout",
     "output_type": "stream",
     "text": [
      "best score: nan\n",
      "best params: {'a': 1e-08}\n"
     ]
    }
   ],
   "source": [
    "print('best score:', grid.best_score_)\n",
    "print('best params:', grid.best_params_)"
   ]
  },
  {
   "cell_type": "code",
   "execution_count": 153,
   "metadata": {},
   "outputs": [
    {
     "data": {
      "image/png": "[encoded data removed]",
      "text/plain": [
       "<Figure size 432x288 with 1 Axes>"
      ]
     },
     "metadata": {
      "needs_background": "light"
     },
     "output_type": "display_data"
    }
   ],
   "source": [
    "a_array = np.linspace(0.00000001, 1, 10)\n",
    "plt.plot(a_array, grid.cv_results_[\"mean_test_score\"])\n",
    "plt.xlabel(\"a\")\n",
    "plt.ylabel(\"roc_auc\")\n",
    "plt.show()"
   ]
  },
  {
   "cell_type": "markdown",
   "metadata": {},
   "source": [
    "Качество очень крутое! Я не использовала здесь бустинг, поскольку качество у него итак лучше всех, и решила проверить модель knn и решающее дерево (плюс ко всему они работают быстрее всего), и новая модель выдала очень хорошее качество. "
   ]
  },
  {
   "cell_type": "markdown",
   "metadata": {},
   "source": [
    "## Сравнение построенных моделей\n",
    "\n",
    "![](http://cdn.shopify.com/s/files/1/0870/1066/files/compare_e8b89647-3cb6-4871-a976-2e36e5987773.png?1750043340268621065)\n",
    "\n",
    "После того как было построено много моделей хотелось бы сравнить их между собой. Для этого можно построить \"ящик с усами\" (диаграму размаха). Для этого можно воспользоваться библиотекой [matplotlib](https://matplotlib.org/3.1.0/api/_as_gen/matplotlib.pyplot.boxplot.html) или [seaborn](https://seaborn.pydata.org/generated/seaborn.boxplot.html).\n",
    "\n",
    "**Задание 13 (1 балл)** Для каждого типа классификатора (kNN, DecisionTree, RandomForest, SGD classifier), а так же смешанной модели выберите тот, которых давал наилучшее качество на кросс-валидации (с учетом подобранных гиперпараметров) и постройте диаграмму размаха (все классификаторы должны быть изображены на одном графике).\n",
    " \n",
    "Сделайте общие итоговые выводы о классификаторах с точки зрения их работы с признаками и сложности самой модели (какие гиперпараметры есть у модели, сильно ли изменение значения гиперпараметра влияет на качество модели)."
   ]
  },
  {
   "cell_type": "code",
   "execution_count": 154,
   "metadata": {},
   "outputs": [
    {
     "data": {
      "image/png": "[encoded data removed]",
      "text/plain": [
       "<Figure size 432x288 with 1 Axes>"
      ]
     },
     "metadata": {
      "needs_background": "light"
     },
     "output_type": "display_data"
    }
   ],
   "source": [
    "knn = KNeighborsClassifier(n_neighbors=19, metric='manhattan') #1\n",
    "cv_res_knn = cross_validate(knn, X, y, cv=5, scoring='roc_auc')\n",
    "\n",
    "tree = DecisionTreeClassifier(max_depth=8, criterion='entropy') #2\n",
    "cv_res_tree = cross_validate(tree, X, y, cv=5, scoring='roc_auc')\n",
    "\n",
    "forest = RandomForestClassifier(n_estimators = 40, criterion='entropy', max_features='log2') #3\n",
    "cv_res_forest = cross_validate(forest, X, y, cv=5, scoring='roc_auc')\n",
    "\n",
    "gbc = GradientBoostingClassifier(n_estimators = 290, criterion='mse', max_features='auto') #4\n",
    "cv_res_gbc = cross_validate(gbc, X, y, cv=5, scoring='roc_auc')\n",
    "\n",
    "sgd = SGDClassifier(loss='log', penalty='l2') #5\n",
    "cv_res_sgd = cross_validate(sgd, X, y, cv=5, scoring='roc_auc')\n",
    "\n",
    "BC = BlendingClassifier(clf_1, clf_2, a) #6\n",
    "\n",
    "data_new = [cv_res_knn['test_score'], cv_res_tree['test_score'], cv_res_forest['test_score'], cv_res_gbc['test_score'], cv_res_sgd['test_score'], grid.cv_results_[\"mean_test_score\"]]\n",
    "plt.boxplot(data_new)\n",
    "plt.xlabel(\"Model\")\n",
    "plt.ylabel(\"roc_auc\")\n",
    "plt.show()"
   ]
  },
  {
   "cell_type": "markdown",
   "metadata": {},
   "source": [
    "Вывод: все модели показали самое лучшее качество после добавления закодированных категориальных признаков, но перед добавлением полиномиальных \n",
    "\n",
    "Методы KNN и DecisionTree работают оперативнее всех, но качество у них хуже всех, однако если их совместить (смешанная модель), то roc_auc будет больше 0.9, что очень приятно так как быстро и качественно))\n",
    "\n",
    "Наилучшее качество, офк, у бустинга, но при большом количестве деревьев из-за сложности алгоритма он работает очень долго - тут два с половиной часа...\n",
    "\n",
    "Помимо этого, качество бустинга было сильно хуже до подбора оптимальных гиперпараметров (criteron = 'mse' и max_features = 'auto'), а также до добавления закодированных категориальных признаков. \n",
    "\n",
    "Как итог, подбор оптимальных гиперпараметров и использование категориальных признаков сыграли очень важную роль в улучшении всех моделей."
   ]
  }
 ],
 "metadata": {
  "kernelspec": {
   "display_name": "Python 3",
   "language": "python",
   "name": "python3"
  },
  "language_info": {
   "codemirror_mode": {
    "name": "ipython",
    "version": 3
   },
   "file_extension": ".py",
   "mimetype": "text/x-python",
   "name": "python",
   "nbconvert_exporter": "python",
   "pygments_lexer": "ipython3",
   "version": "3.8.3"
  }
 },
 "nbformat": 4,
 "nbformat_minor": 4
}
