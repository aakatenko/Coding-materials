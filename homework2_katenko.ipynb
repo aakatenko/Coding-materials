{
 "cells": [
  {
   "cell_type": "markdown",
   "metadata": {},
   "source": [
    "# Домашнее задание №2\n",
    "\n",
    "**"
   ]
  },
  {
   "cell_type": "markdown",
   "metadata": {},
   "source": [
    "## Часть 1. ML workflow (**всего 5 баллов**)"
   ]
  },
  {
   "cell_type": "code",
   "execution_count": 2,
   "metadata": {},
   "outputs": [],
   "source": [
    "import numpy as np\n",
    "import pandas as pd\n",
    "from sklearn.model_selection import train_test_split, cross_val_score, GridSearchCV\n",
    "\n",
    "from sklearn.linear_model import LinearRegression\n",
    "from sklearn.tree import DecisionTreeRegressor\n",
    "\n",
    "from sklearn.metrics import mean_squared_error, r2_score\n",
    "\n",
    "from sklearn.preprocessing import PolynomialFeatures\n",
    "from sklearn.pipeline import Pipeline\n",
    "\n",
    "from itertools import product"
   ]
  },
  {
   "cell_type": "markdown",
   "metadata": {},
   "source": [
    "### Загрузим данные для работы. "
   ]
  },
  {
   "cell_type": "code",
   "execution_count": 15,
   "metadata": {},
   "outputs": [
    {
     "data": {
      "text/html": [
       "<div>\n",
       "<style scoped>\n",
       "    .dataframe tbody tr th:only-of-type {\n",
       "        vertical-align: middle;\n",
       "    }\n",
       "\n",
       "    .dataframe tbody tr th {\n",
       "        vertical-align: top;\n",
       "    }\n",
       "\n",
       "    .dataframe thead th {\n",
       "        text-align: right;\n",
       "    }\n",
       "</style>\n",
       "<table border=\"1\" class=\"dataframe\">\n",
       "  <thead>\n",
       "    <tr style=\"text-align: right;\">\n",
       "      <th></th>\n",
       "      <th>fixed acidity</th>\n",
       "      <th>volatile acidity</th>\n",
       "      <th>citric acid</th>\n",
       "      <th>residual sugar</th>\n",
       "      <th>chlorides</th>\n",
       "      <th>free sulfur dioxide</th>\n",
       "      <th>total sulfur dioxide</th>\n",
       "      <th>density</th>\n",
       "      <th>pH</th>\n",
       "      <th>sulphates</th>\n",
       "      <th>alcohol</th>\n",
       "      <th>quality</th>\n",
       "    </tr>\n",
       "  </thead>\n",
       "  <tbody>\n",
       "    <tr>\n",
       "      <th>0</th>\n",
       "      <td>7.4</td>\n",
       "      <td>0.70</td>\n",
       "      <td>0.00</td>\n",
       "      <td>1.9</td>\n",
       "      <td>0.076</td>\n",
       "      <td>11.0</td>\n",
       "      <td>34.0</td>\n",
       "      <td>0.9978</td>\n",
       "      <td>3.51</td>\n",
       "      <td>0.56</td>\n",
       "      <td>9.4</td>\n",
       "      <td>5</td>\n",
       "    </tr>\n",
       "    <tr>\n",
       "      <th>1</th>\n",
       "      <td>7.8</td>\n",
       "      <td>0.88</td>\n",
       "      <td>0.00</td>\n",
       "      <td>2.6</td>\n",
       "      <td>0.098</td>\n",
       "      <td>25.0</td>\n",
       "      <td>67.0</td>\n",
       "      <td>0.9968</td>\n",
       "      <td>3.20</td>\n",
       "      <td>0.68</td>\n",
       "      <td>9.8</td>\n",
       "      <td>5</td>\n",
       "    </tr>\n",
       "    <tr>\n",
       "      <th>2</th>\n",
       "      <td>7.8</td>\n",
       "      <td>0.76</td>\n",
       "      <td>0.04</td>\n",
       "      <td>2.3</td>\n",
       "      <td>0.092</td>\n",
       "      <td>15.0</td>\n",
       "      <td>54.0</td>\n",
       "      <td>0.9970</td>\n",
       "      <td>3.26</td>\n",
       "      <td>0.65</td>\n",
       "      <td>9.8</td>\n",
       "      <td>5</td>\n",
       "    </tr>\n",
       "    <tr>\n",
       "      <th>3</th>\n",
       "      <td>11.2</td>\n",
       "      <td>0.28</td>\n",
       "      <td>0.56</td>\n",
       "      <td>1.9</td>\n",
       "      <td>0.075</td>\n",
       "      <td>17.0</td>\n",
       "      <td>60.0</td>\n",
       "      <td>0.9980</td>\n",
       "      <td>3.16</td>\n",
       "      <td>0.58</td>\n",
       "      <td>9.8</td>\n",
       "      <td>6</td>\n",
       "    </tr>\n",
       "    <tr>\n",
       "      <th>4</th>\n",
       "      <td>7.4</td>\n",
       "      <td>0.70</td>\n",
       "      <td>0.00</td>\n",
       "      <td>1.9</td>\n",
       "      <td>0.076</td>\n",
       "      <td>11.0</td>\n",
       "      <td>34.0</td>\n",
       "      <td>0.9978</td>\n",
       "      <td>3.51</td>\n",
       "      <td>0.56</td>\n",
       "      <td>9.4</td>\n",
       "      <td>5</td>\n",
       "    </tr>\n",
       "  </tbody>\n",
       "</table>\n",
       "</div>"
      ],
      "text/plain": [
       "   fixed acidity  volatile acidity  citric acid  residual sugar  chlorides  \\\n",
       "0            7.4              0.70         0.00             1.9      0.076   \n",
       "1            7.8              0.88         0.00             2.6      0.098   \n",
       "2            7.8              0.76         0.04             2.3      0.092   \n",
       "3           11.2              0.28         0.56             1.9      0.075   \n",
       "4            7.4              0.70         0.00             1.9      0.076   \n",
       "\n",
       "   free sulfur dioxide  total sulfur dioxide  density    pH  sulphates  \\\n",
       "0                 11.0                  34.0   0.9978  3.51       0.56   \n",
       "1                 25.0                  67.0   0.9968  3.20       0.68   \n",
       "2                 15.0                  54.0   0.9970  3.26       0.65   \n",
       "3                 17.0                  60.0   0.9980  3.16       0.58   \n",
       "4                 11.0                  34.0   0.9978  3.51       0.56   \n",
       "\n",
       "   alcohol  quality  \n",
       "0      9.4        5  \n",
       "1      9.8        5  \n",
       "2      9.8        5  \n",
       "3      9.8        6  \n",
       "4      9.4        5  "
      ]
     },
     "execution_count": 15,
     "metadata": {},
     "output_type": "execute_result"
    }
   ],
   "source": [
    "df = pd.read_csv(\"winequality-red.csv\")\n",
    "df.head()"
   ]
  },
  {
   "cell_type": "markdown",
   "metadata": {},
   "source": [
    "Будем решать задачу регрессии: необходимо предсказать качество вина на основе его характеристик\n",
    "\n",
    "### Шаг 1.  (**0.2 балла**)\n",
    "Создайте матрицу X объект-признак и целевой вектор y (\"quality\")"
   ]
  },
  {
   "cell_type": "code",
   "execution_count": 16,
   "metadata": {},
   "outputs": [],
   "source": [
    "#your code here\n",
    "X = df.iloc[:,:-1]\n",
    "y = df['quality']"
   ]
  },
  {
   "cell_type": "markdown",
   "metadata": {},
   "source": [
    "### Шаг 2. (**0.2 балла**)\n",
    "Разбейте данные на train и test (доля тестовых данных - 30%)."
   ]
  },
  {
   "cell_type": "code",
   "execution_count": 17,
   "metadata": {},
   "outputs": [],
   "source": [
    "#your code here\n",
    "from sklearn.model_selection import train_test_split\n",
    "X_train, X_test, y_train, y_test = train_test_split(X, y, test_size = 0.3)"
   ]
  },
  {
   "cell_type": "markdown",
   "metadata": {},
   "source": [
    "### Шаг 3. (**0.2 балла**)\n",
    "Обучите линейную регрессию на тренировочных данных и сделайте предсказания на train и на test."
   ]
  },
  {
   "cell_type": "code",
   "execution_count": 36,
   "metadata": {},
   "outputs": [],
   "source": [
    "#your code here\n",
    "linreg = LinearRegression()\n",
    "linreg.fit(X_train, y_train)\n",
    "y_pred_train = linreg.predict(X_train)"
   ]
  },
  {
   "cell_type": "code",
   "execution_count": 37,
   "metadata": {},
   "outputs": [],
   "source": [
    "y_pred_test = linreg.predict(X_test)"
   ]
  },
  {
   "cell_type": "markdown",
   "metadata": {},
   "source": [
    "### Шаг 4. (**0.4 балла**)\n",
    "Выведите на экран ошибку MSE на train и на test, затем выведите на экран ошибку r2 на train и test.  "
   ]
  },
  {
   "cell_type": "code",
   "execution_count": 38,
   "metadata": {},
   "outputs": [
    {
     "name": "stdout",
     "output_type": "stream",
     "text": [
      "Train MSE: 0.40893337932816853\n",
      "Test MSE: 0.4424926570118656\n"
     ]
    }
   ],
   "source": [
    "print(\"Train MSE: {}\".format(mean_squared_error(y_train, y_pred_train)))\n",
    "print(\"Test MSE: {}\".format(mean_squared_error(y_test, y_pred_test)))"
   ]
  },
  {
   "cell_type": "code",
   "execution_count": 9,
   "metadata": {},
   "outputs": [],
   "source": [
    "# На тесте МSE больше, чем на трейне, что в целом нормальный паттерн"
   ]
  },
  {
   "cell_type": "code",
   "execution_count": 39,
   "metadata": {},
   "outputs": [
    {
     "name": "stdout",
     "output_type": "stream",
     "text": [
      "Train R2: 0.36834585925746144\n",
      "Test R2: 0.33096448330839334\n"
     ]
    }
   ],
   "source": [
    "print(\"Train R2: {}\".format(r2_score(y_train, y_pred_train)))\n",
    "print(\"Test R2: {}\".format(r2_score(y_test, y_pred_test)))"
   ]
  },
  {
   "cell_type": "markdown",
   "metadata": {},
   "source": [
    "### Шаг 5. (**0.5 балла**)\n",
    "Вычислите среднее качество (r2) модели на кросс-валидации с k=5 фолдами."
   ]
  },
  {
   "cell_type": "code",
   "execution_count": 40,
   "metadata": {},
   "outputs": [
    {
     "data": {
      "text/plain": [
       "5"
      ]
     },
     "execution_count": 40,
     "metadata": {},
     "output_type": "execute_result"
    }
   ],
   "source": [
    "from sklearn.model_selection import cross_validate\n",
    "from sklearn.model_selection import KFold\n",
    "\n",
    "kf = KFold(n_splits = 5, random_state=None, shuffle=True)\n",
    "kf.get_n_splits(X)"
   ]
  },
  {
   "cell_type": "code",
   "execution_count": 41,
   "metadata": {},
   "outputs": [
    {
     "name": "stdout",
     "output_type": "stream",
     "text": [
      "r2: [0.37138086 0.36464311 0.25783418 0.3406214  0.42268199]\n",
      "mean test r2 = 0.35143230793732083\n"
     ]
    }
   ],
   "source": [
    "cv_res = cross_validate(linreg,\n",
    "                     X,\n",
    "                     y,\n",
    "                     scoring='r2', \n",
    "                     cv=kf # тут можно было указать просто число фолдов, тогда бы параметры random_state and shuffle были дефолтными\n",
    "                    )\n",
    "\n",
    "print(f\"r2: {cv_res['test_score']}\")\n",
    "print(f\"mean test r2 = {cv_res['test_score'].mean()}\")"
   ]
  },
  {
   "cell_type": "markdown",
   "metadata": {},
   "source": [
    "### Шаг 6.  (**0.5 балла**)\n",
    "Теперь примените линейную регрессию с L1-регуляризацией (Lasso) для данной задачи. Объявите модель и подберите параметр регуляризации alpha по сетке. Ищите alpha в диапазоне (0.1, 1.1) с шагом 0.1. \n",
    "\n",
    "Осуществите подбор параметра alpha по тренировочным данным (Xtrain, ytrain)."
   ]
  },
  {
   "cell_type": "code",
   "execution_count": 42,
   "metadata": {},
   "outputs": [],
   "source": [
    "from sklearn.linear_model import Lasso\n",
    "\n",
    "n_alphas = 10\n",
    "alphas = np.linspace(0.1, 1.1, n_alphas) \n",
    "\n",
    "linlasso=Lasso()"
   ]
  },
  {
   "cell_type": "code",
   "execution_count": 43,
   "metadata": {},
   "outputs": [
    {
     "name": "stdout",
     "output_type": "stream",
     "text": [
      "{'alpha': 0.1}\n"
     ]
    }
   ],
   "source": [
    "#подбор параметра alpha по тренировочным данным (Xtrain, ytrain) по сетке\n",
    "from sklearn.model_selection import GridSearchCV\n",
    "\n",
    "params = {'alpha':alphas}\n",
    "\n",
    "cv = GridSearchCV(linlasso,\n",
    "                  params,\n",
    "                  scoring='r2',\n",
    "                  cv=5\n",
    "                 )\n",
    "cv.fit(X, y)\n",
    "\n",
    "print(cv.best_params_)"
   ]
  },
  {
   "cell_type": "code",
   "execution_count": 44,
   "metadata": {},
   "outputs": [
    {
     "name": "stdout",
     "output_type": "stream",
     "text": [
      "alpha=0.1\n",
      "Train MSE: 0.4976590172927974\n",
      "Test MSE: 0.4981203821491247\n",
      "Train R2: {0.2312968448129692}\n",
      "Test R2: {0.2468570450496227}\n",
      "alpha=0.2\n",
      "Train MSE: 0.5317640353683264\n",
      "Test MSE: 0.5338158906476648\n",
      "Train R2: {0.1786169292656029}\n",
      "Test R2: {0.19288651561041892}\n",
      "alpha=0.30000000000000004\n",
      "Train MSE: 0.5769456768320785\n",
      "Test MSE: 0.5766952115768643\n",
      "Train R2: {0.10882763751590407}\n",
      "Test R2: {0.12805427901020106}\n",
      "alpha=0.4\n",
      "Train MSE: 0.6277282298641573\n",
      "Test MSE: 0.6251195239372918\n",
      "Train R2: {0.03038696350467751}\n",
      "Test R2: {0.05483818304315424}\n",
      "alpha=0.5\n",
      "Train MSE: 0.6299965014542217\n",
      "Test MSE: 0.6267358131825301\n",
      "Train R2: {0.026883304437895883}\n",
      "Test R2: {0.05239440257996297}\n",
      "alpha=0.6\n",
      "Train MSE: 0.6323842199314446\n",
      "Test MSE: 0.6286315131091219\n",
      "Train R2: {0.023195143139976948}\n",
      "Test R2: {0.04952816161577556}\n",
      "alpha=0.7000000000000001\n",
      "Train MSE: 0.6325081708672464\n",
      "Test MSE: 0.6292640862442844\n",
      "Train R2: {0.023003683783010986}\n",
      "Test R2: {0.04857173016403882}\n",
      "alpha=0.8\n",
      "Train MSE: 0.6326511911777868\n",
      "Test MSE: 0.6299177500971207\n",
      "Train R2: {0.02278276914035815}\n",
      "Test R2: {0.04758341018495016}\n",
      "alpha=0.9\n",
      "Train MSE: 0.6328132808630659\n",
      "Test MSE: 0.6305925046676296\n",
      "Train R2: {0.022532399212018106}\n",
      "Test R2: {0.0465632016785108}\n",
      "alpha=1.0\n",
      "Train MSE: 0.6329944399230838\n",
      "Test MSE: 0.6312883499558116\n",
      "Train R2: {0.022252573997991076}\n",
      "Test R2: {0.04551110464472019}\n"
     ]
    }
   ],
   "source": [
    "for alph in np.arange(0.1, 1.1, 0.1):\n",
    "    if alph == 0:\n",
    "        alph += 0.00000001\n",
    "        \n",
    "    lin_lasso = Lasso(alpha=alph)\n",
    "    lin_lasso.fit(X_train, y_train)\n",
    "    \n",
    "    \n",
    "    y_pred_train_lasso = lin_lasso.predict(X_train)\n",
    "    y_pred_test_lasso = lin_lasso.predict(X_test)\n",
    "    \n",
    "    \n",
    "    print('alpha={}'.format(alph))\n",
    "    print('Train MSE:', mean_squared_error(y_train, y_pred_train_lasso))\n",
    "    print('Test MSE:', mean_squared_error(y_test, y_pred_test_lasso))\n",
    "    print('Train R2:', {r2_score(y_train, y_pred_train_lasso)})                    \n",
    "    print('Test R2:', {r2_score(y_test, y_pred_test_lasso)})  "
   ]
  },
  {
   "cell_type": "markdown",
   "metadata": {},
   "source": [
    "### Шаг 7.  (**0.5 балла**)\n",
    "Выведите наилучший алгоритм и наилучшее качество по результатам подбора alpha (best_estimator_ и best_score_)."
   ]
  },
  {
   "cell_type": "code",
   "execution_count": 45,
   "metadata": {},
   "outputs": [
    {
     "name": "stdout",
     "output_type": "stream",
     "text": [
      "Наилучший алгоритм:  Lasso(alpha=0.1)\n",
      "Наилучшее качество:  0.17886394469115854\n"
     ]
    }
   ],
   "source": [
    "print(\"Наилучший алгоритм: \", cv.best_estimator_)\n",
    "print(\"Наилучшее качество: \", cv.best_score_)"
   ]
  },
  {
   "cell_type": "markdown",
   "metadata": {},
   "source": [
    "### Шаг 8.  (**0.5 балла**)\n",
    "\n",
    "С помощью найденного best_estimator_ сделайте предсказание на тестовых данных и выведите на экран r2-score на тесте."
   ]
  },
  {
   "cell_type": "code",
   "execution_count": 46,
   "metadata": {},
   "outputs": [
    {
     "name": "stdout",
     "output_type": "stream",
     "text": [
      "Test R2: {0.2468570450496227}\n"
     ]
    }
   ],
   "source": [
    "lasso_best = Lasso(alpha=cv.best_estimator_.alpha)\n",
    "lasso_best.fit(X_train, y_train)\n",
    "y_pred_lb = lasso_best.predict(X_test)\n",
    "print('Test R2:', {r2_score(y_test, y_pred_lb)})                    "
   ]
  },
  {
   "cell_type": "markdown",
   "metadata": {},
   "source": [
    "### Шаг 9.  (**0.5 балла**)\n",
    "\n",
    "Попробуем улучшить качество модели за счет добавления полиномиальных признаков. Создайте pipeline, состоящий из добавления полиномиальных признаков степени 2, а затем применения линейной регрессии.\n",
    "\n",
    "Затем вычислите r2-score этой модели на кросс валидации с пятью фолдами."
   ]
  },
  {
   "cell_type": "code",
   "execution_count": 47,
   "metadata": {},
   "outputs": [],
   "source": [
    "from sklearn.preprocessing import StandardScaler\n",
    "from sklearn.pipeline import Pipeline\n",
    "import warnings\n",
    "warnings.filterwarnings('ignore')\n",
    "\n",
    "\n",
    "pipeline_linreg = Pipeline([('poly', PolynomialFeatures(degree=2)),\n",
    "                       ('logit', LinearRegression())])\n"
   ]
  },
  {
   "cell_type": "code",
   "execution_count": 48,
   "metadata": {},
   "outputs": [],
   "source": [
    "cv_res = cross_validate(pipeline_linreg,\n",
    "                            X,\n",
    "                            y,\n",
    "                            cv=5,\n",
    "                            scoring='r2'\n",
    "                           )\n"
   ]
  },
  {
   "cell_type": "code",
   "execution_count": 49,
   "metadata": {},
   "outputs": [
    {
     "name": "stdout",
     "output_type": "stream",
     "text": [
      "Mean r2:  0.23009616560784463\n"
     ]
    }
   ],
   "source": [
    "print('Mean r2: ', cv_res['test_score'].mean())"
   ]
  },
  {
   "cell_type": "markdown",
   "metadata": {},
   "source": [
    "### Шаг 10.  (**0.5 балла**)\n",
    "Обучите модель (pipeline) на тренировочных данных и сделайте предсказания для train и test, затем выведите на экран r2-score и MSE на тренировочных и на тестовых данных."
   ]
  },
  {
   "cell_type": "code",
   "execution_count": 50,
   "metadata": {},
   "outputs": [
    {
     "name": "stdout",
     "output_type": "stream",
     "text": [
      "Train MSE:  0.347565616304894\n",
      "Test MSE:  0.4576929085442632\n",
      "Train r2:  0.4631368535398107\n",
      "Test r2:  0.3079821626378215\n"
     ]
    }
   ],
   "source": [
    "pipeline_linreg.fit(X_train, y_train)\n",
    "\n",
    "y_pred_train_pipeline = pipeline_linreg.predict(X_train)\n",
    "y_pred_test_pipeline = pipeline_linreg.predict(X_test)\n",
    "\n",
    "print('Train MSE: ', mean_squared_error(y_train, y_pred_train_pipeline))\n",
    "print('Test MSE: ', mean_squared_error(y_test, y_pred_test_pipeline))\n",
    "\n",
    "print('Train r2: ', r2_score(y_train, y_pred_train_pipeline))\n",
    "print('Test r2: ', r2_score(y_test, y_pred_test_pipeline))\n",
    "\n",
    "\n"
   ]
  },
  {
   "cell_type": "markdown",
   "metadata": {},
   "source": [
    "### Сделайте выводы. Для этого ответьте на вопросы: (**1 балл**)\n",
    "\n",
    "1) Хорошее ли качество показала исходная модель (линейная регрессия без регуляризации)? Является ли эта модель переобученной?\n",
    "\n",
    "2) Помогла ли L1-регуляризация улучшить качество модели?\n",
    "\n",
    "3) Помогло ли добавление полиномов второй степени улучшить качество модели? Как добавление новых признаков повлияло на переобучение?"
   ]
  },
  {
   "cell_type": "markdown",
   "metadata": {},
   "source": [
    "***Ответ***\n",
    "\n",
    "1) Исходная модель показала \n",
    "\n",
    "Train R2: 0.36834585925746144\n",
    "Test R2: 0.33096448330839334\n",
    "Качество модели не прямо хорошее, хотелось бы лучше. При этом можно сказать, что модель обучилась хорошо на трейне, дала не сильно более низкий р-квадрат на тесте, как и мсе. \n",
    "\n",
    "Train MSE: 0.40893337932816853\n",
    "Test MSE: 0.4424926570118656\n",
    "\n",
    "\n",
    "2) L1-регуляризация не помогла, качество осталось плюс минус на таком же уровне  - если считать по cross validation best estimator с lasso, то р-квадрат также маленький\n",
    "\n",
    "Test R2: {0.2468570450496227}\n",
    "\n",
    "3) Частично помогло. На трейне р-квадрат подрос, можно даже сказать значительно, но все еще не устраивает, честно говоря, хотя для реальных данных уже очень даже неплохо. МСЕ упало на трейне, в общем-то можно подумать о том, что мы стали приближаться к истинной форме зависимости, добавив степени, но на тесте р-квадрат стал хуже, чем в самой первой модели, а мсе побольше, так что заподазриваем признаки переобучения"
   ]
  },
  {
   "cell_type": "markdown",
   "metadata": {},
   "source": [
    "### *Попытайтесь улучшить модель (добейтесь наилучшего качества) - можно использовать любые методы."
   ]
  },
  {
   "cell_type": "markdown",
   "metadata": {},
   "source": [
    "При улучшении качества r2 на 0.1-0.2 +1 балл, при большем улучшении +2 балла (дополнительно к 5 баллам за основную часть)."
   ]
  },
  {
   "cell_type": "code",
   "execution_count": 18,
   "metadata": {},
   "outputs": [
    {
     "name": "stdout",
     "output_type": "stream",
     "text": [
      "alpha=1e-08\n",
      "Train MSE: 0.41605816315154626\n",
      "Test MSE: 0.42264004031848246\n",
      "Train R2: {0.3572835610761663}\n",
      "Test R2: {0.3600361116373113}\n",
      "alpha=0.1\n",
      "Train MSE: 0.41637290154398776\n",
      "Test MSE: 0.42255209528495574\n",
      "Train R2: {0.3567973609322962}\n",
      "Test R2: {0.36016927849385316}\n",
      "alpha=0.2\n",
      "Train MSE: 0.41641485479198365\n",
      "Test MSE: 0.42269408318942386\n",
      "Train R2: {0.35673255258447056}\n",
      "Test R2: {0.35995427962300464}\n",
      "alpha=0.30000000000000004\n",
      "Train MSE: 0.4164729778303303\n",
      "Test MSE: 0.4228384700418117\n",
      "Train R2: {0.35664276554137386}\n",
      "Test R2: {0.3597356482519377}\n",
      "alpha=0.4\n",
      "Train MSE: 0.41654309276524837\n",
      "Test MSE: 0.4229823959046734\n",
      "Train R2: {0.35653445371077663}\n",
      "Test R2: {0.35951771491376294}\n",
      "alpha=0.5\n",
      "Train MSE: 0.41662174617306563\n",
      "Test MSE: 0.4231239950456819\n",
      "Train R2: {0.3564129518568083}\n",
      "Test R2: {0.3593033047106967}\n",
      "alpha=0.6000000000000001\n",
      "Train MSE: 0.4167063803790345\n",
      "Test MSE: 0.4232621159668541\n",
      "Train R2: {0.356282211012645}\n",
      "Test R2: {0.3590941612473585}\n",
      "alpha=0.7000000000000001\n",
      "Train MSE: 0.41679512257975204\n",
      "Test MSE: 0.42339609061056066\n",
      "Train R2: {0.35614512423901856}\n",
      "Test R2: {0.35889129610030845}\n",
      "alpha=0.8\n",
      "Train MSE: 0.4168866015541349\n",
      "Test MSE: 0.42352557537781915\n",
      "Train R2: {0.3560038097646038}\n",
      "Test R2: {0.35869522954902744}\n",
      "alpha=0.9\n",
      "Train MSE: 0.41697981197994793\n",
      "Test MSE: 0.4236504431593718\n",
      "Train R2: {0.35585982058651533}\n",
      "Test R2: {0.3585061540630574}\n",
      "alpha=1.0\n",
      "Train MSE: 0.41707401645724296\n",
      "Test MSE: 0.42377070985136467\n",
      "Train R2: {0.35571429582209513}\n",
      "Test R2: {0.35832404557236563}\n"
     ]
    }
   ],
   "source": [
    "from sklearn.linear_model import Ridge\n",
    "\n",
    "\n",
    "\n",
    "for a in np.arange(0, 1.1, 0.1):\n",
    "    if a == 0:\n",
    "        a += 0.00000001\n",
    "        \n",
    "    ridge = Ridge(alpha=a)\n",
    "    ridge.fit(X_train, y_train)\n",
    "    \n",
    "    \n",
    "    y_pred_train_1 = ridge.predict(X_train)\n",
    "    y_pred_test_1 = ridge.predict(X_test)\n",
    "    \n",
    "    \n",
    "    print('alpha={}'.format(a))\n",
    "    print('Train MSE:', mean_squared_error(y_train, y_pred_train_1))\n",
    "    print('Test MSE:', mean_squared_error(y_test, y_pred_test_1))\n",
    "    print('Train R2:', {r2_score(y_train, y_pred_train_1)})                    \n",
    "    print('Test R2:', {r2_score(y_test, y_pred_test_1)})                    \n"
   ]
  },
  {
   "cell_type": "code",
   "execution_count": 20,
   "metadata": {},
   "outputs": [
    {
     "name": "stdout",
     "output_type": "stream",
     "text": [
      "Train MSE: 0.41605816315154626\n",
      "Test MSE: 0.42264004031848246\n",
      "Train R2: {0.3572835610761663}\n",
      "Test R2: {0.3600361116373113}\n"
     ]
    }
   ],
   "source": [
    "ridge_best = Ridge(alpha=1e-08)\n",
    "ridge_best.fit(X_train, y_train)\n",
    "\n",
    "y_pred_train_best = ridge_best.predict(X_train)\n",
    "y_pred_test_best = ridge_best.predict(X_test)\n",
    "    \n",
    "\n",
    "print('Train MSE:', mean_squared_error(y_train, y_pred_train_best))\n",
    "print('Test MSE:', mean_squared_error(y_test, y_pred_test_best))\n",
    "print('Train R2:', {r2_score(y_train, y_pred_train_best)})                    \n",
    "print('Test R2:', {r2_score(y_test, y_pred_test_best)})   "
   ]
  },
  {
   "cell_type": "markdown",
   "metadata": {},
   "source": [
    "## Часть 2. Target encoding (**всего 5 баллов**)"
   ]
  },
  {
   "cell_type": "markdown",
   "metadata": {},
   "source": [
    "В этом части домашнего задания вы будете работать с выборкой `1C`. Вам нужно посчитать счетчики для `item_id` четырьмя способами:\n",
    "\n",
    "    1) При помощи KFold схемы;  \n",
    "    2) При помощи Leave-one-out схемы;\n",
    "    3) При помощи smoothing схемы;\n",
    "    4) При помощи expanding mean схемы."
   ]
  },
  {
   "cell_type": "markdown",
   "metadata": {},
   "source": [
    "### Подготовка данных"
   ]
  },
  {
   "cell_type": "code",
   "execution_count": 3,
   "metadata": {},
   "outputs": [
    {
     "data": {
      "text/html": [
       "<div>\n",
       "<style scoped>\n",
       "    .dataframe tbody tr th:only-of-type {\n",
       "        vertical-align: middle;\n",
       "    }\n",
       "\n",
       "    .dataframe tbody tr th {\n",
       "        vertical-align: top;\n",
       "    }\n",
       "\n",
       "    .dataframe thead th {\n",
       "        text-align: right;\n",
       "    }\n",
       "</style>\n",
       "<table border=\"1\" class=\"dataframe\">\n",
       "  <thead>\n",
       "    <tr style=\"text-align: right;\">\n",
       "      <th></th>\n",
       "      <th>date</th>\n",
       "      <th>date_block_num</th>\n",
       "      <th>shop_id</th>\n",
       "      <th>item_id</th>\n",
       "      <th>item_price</th>\n",
       "      <th>target</th>\n",
       "    </tr>\n",
       "  </thead>\n",
       "  <tbody>\n",
       "    <tr>\n",
       "      <th>0</th>\n",
       "      <td>02.01.2013</td>\n",
       "      <td>0</td>\n",
       "      <td>59</td>\n",
       "      <td>22154</td>\n",
       "      <td>999.00</td>\n",
       "      <td>1.0</td>\n",
       "    </tr>\n",
       "    <tr>\n",
       "      <th>1</th>\n",
       "      <td>03.01.2013</td>\n",
       "      <td>0</td>\n",
       "      <td>25</td>\n",
       "      <td>2552</td>\n",
       "      <td>899.00</td>\n",
       "      <td>1.0</td>\n",
       "    </tr>\n",
       "    <tr>\n",
       "      <th>2</th>\n",
       "      <td>05.01.2013</td>\n",
       "      <td>0</td>\n",
       "      <td>25</td>\n",
       "      <td>2552</td>\n",
       "      <td>899.00</td>\n",
       "      <td>-1.0</td>\n",
       "    </tr>\n",
       "    <tr>\n",
       "      <th>3</th>\n",
       "      <td>06.01.2013</td>\n",
       "      <td>0</td>\n",
       "      <td>25</td>\n",
       "      <td>2554</td>\n",
       "      <td>1709.05</td>\n",
       "      <td>1.0</td>\n",
       "    </tr>\n",
       "    <tr>\n",
       "      <th>4</th>\n",
       "      <td>15.01.2013</td>\n",
       "      <td>0</td>\n",
       "      <td>25</td>\n",
       "      <td>2555</td>\n",
       "      <td>1099.00</td>\n",
       "      <td>1.0</td>\n",
       "    </tr>\n",
       "    <tr>\n",
       "      <th>...</th>\n",
       "      <td>...</td>\n",
       "      <td>...</td>\n",
       "      <td>...</td>\n",
       "      <td>...</td>\n",
       "      <td>...</td>\n",
       "      <td>...</td>\n",
       "    </tr>\n",
       "    <tr>\n",
       "      <th>2935844</th>\n",
       "      <td>10.10.2015</td>\n",
       "      <td>33</td>\n",
       "      <td>25</td>\n",
       "      <td>7409</td>\n",
       "      <td>299.00</td>\n",
       "      <td>1.0</td>\n",
       "    </tr>\n",
       "    <tr>\n",
       "      <th>2935845</th>\n",
       "      <td>09.10.2015</td>\n",
       "      <td>33</td>\n",
       "      <td>25</td>\n",
       "      <td>7460</td>\n",
       "      <td>299.00</td>\n",
       "      <td>1.0</td>\n",
       "    </tr>\n",
       "    <tr>\n",
       "      <th>2935846</th>\n",
       "      <td>14.10.2015</td>\n",
       "      <td>33</td>\n",
       "      <td>25</td>\n",
       "      <td>7459</td>\n",
       "      <td>349.00</td>\n",
       "      <td>1.0</td>\n",
       "    </tr>\n",
       "    <tr>\n",
       "      <th>2935847</th>\n",
       "      <td>22.10.2015</td>\n",
       "      <td>33</td>\n",
       "      <td>25</td>\n",
       "      <td>7440</td>\n",
       "      <td>299.00</td>\n",
       "      <td>1.0</td>\n",
       "    </tr>\n",
       "    <tr>\n",
       "      <th>2935848</th>\n",
       "      <td>03.10.2015</td>\n",
       "      <td>33</td>\n",
       "      <td>25</td>\n",
       "      <td>7460</td>\n",
       "      <td>299.00</td>\n",
       "      <td>1.0</td>\n",
       "    </tr>\n",
       "  </tbody>\n",
       "</table>\n",
       "<p>2935849 rows × 6 columns</p>\n",
       "</div>"
      ],
      "text/plain": [
       "               date  date_block_num  shop_id  item_id  item_price  target\n",
       "0        02.01.2013               0       59    22154      999.00     1.0\n",
       "1        03.01.2013               0       25     2552      899.00     1.0\n",
       "2        05.01.2013               0       25     2552      899.00    -1.0\n",
       "3        06.01.2013               0       25     2554     1709.05     1.0\n",
       "4        15.01.2013               0       25     2555     1099.00     1.0\n",
       "...             ...             ...      ...      ...         ...     ...\n",
       "2935844  10.10.2015              33       25     7409      299.00     1.0\n",
       "2935845  09.10.2015              33       25     7460      299.00     1.0\n",
       "2935846  14.10.2015              33       25     7459      349.00     1.0\n",
       "2935847  22.10.2015              33       25     7440      299.00     1.0\n",
       "2935848  03.10.2015              33       25     7460      299.00     1.0\n",
       "\n",
       "[2935849 rows x 6 columns]"
      ]
     },
     "execution_count": 3,
     "metadata": {},
     "output_type": "execute_result"
    }
   ],
   "source": [
    "sales = pd.read_csv('sales_train.csv.gz')\n",
    "sales.columns = ['date', 'date_block_num', 'shop_id', 'item_id', 'item_price', 'target']\n",
    "sales"
   ]
  },
  {
   "cell_type": "code",
   "execution_count": 4,
   "metadata": {},
   "outputs": [],
   "source": [
    "index_cols = ['shop_id', 'item_id', 'date_block_num']\n",
    "\n",
    "# create a grid from all combinations from that month\n",
    "grid = [] \n",
    "for block_num in sales['date_block_num'].unique():\n",
    "    cur_shops = sales[sales['date_block_num']==block_num]['shop_id'].unique()\n",
    "    cur_items = sales[sales['date_block_num']==block_num]['item_id'].unique()\n",
    "    grid.append(np.array(list(product(*[cur_shops, cur_items, [block_num]])),dtype='int32'))\n",
    "\n",
    "grid = pd.DataFrame(np.vstack(grid), columns = index_cols,dtype=np.int32)\n",
    "\n",
    "#get aggregated values for (shop_id, item_id, month)\n",
    "gb = sales.groupby(index_cols,as_index=False).agg({'target':'sum'})\n",
    "\n",
    "#join aggregated data to the grid\n",
    "all_df = pd.merge(grid,gb,how='left',on=index_cols).fillna(0)\n",
    "#sort the data\n",
    "all_df.sort_values(['date_block_num','shop_id','item_id'],inplace=True)"
   ]
  },
  {
   "cell_type": "code",
   "execution_count": 5,
   "metadata": {},
   "outputs": [
    {
     "data": {
      "text/html": [
       "<div>\n",
       "<style scoped>\n",
       "    .dataframe tbody tr th:only-of-type {\n",
       "        vertical-align: middle;\n",
       "    }\n",
       "\n",
       "    .dataframe tbody tr th {\n",
       "        vertical-align: top;\n",
       "    }\n",
       "\n",
       "    .dataframe thead th {\n",
       "        text-align: right;\n",
       "    }\n",
       "</style>\n",
       "<table border=\"1\" class=\"dataframe\">\n",
       "  <thead>\n",
       "    <tr style=\"text-align: right;\">\n",
       "      <th></th>\n",
       "      <th>shop_id</th>\n",
       "      <th>item_id</th>\n",
       "      <th>date_block_num</th>\n",
       "      <th>target</th>\n",
       "    </tr>\n",
       "  </thead>\n",
       "  <tbody>\n",
       "    <tr>\n",
       "      <th>139255</th>\n",
       "      <td>0</td>\n",
       "      <td>19</td>\n",
       "      <td>0</td>\n",
       "      <td>0.0</td>\n",
       "    </tr>\n",
       "    <tr>\n",
       "      <th>141495</th>\n",
       "      <td>0</td>\n",
       "      <td>27</td>\n",
       "      <td>0</td>\n",
       "      <td>0.0</td>\n",
       "    </tr>\n",
       "    <tr>\n",
       "      <th>144968</th>\n",
       "      <td>0</td>\n",
       "      <td>28</td>\n",
       "      <td>0</td>\n",
       "      <td>0.0</td>\n",
       "    </tr>\n",
       "    <tr>\n",
       "      <th>142661</th>\n",
       "      <td>0</td>\n",
       "      <td>29</td>\n",
       "      <td>0</td>\n",
       "      <td>0.0</td>\n",
       "    </tr>\n",
       "    <tr>\n",
       "      <th>138947</th>\n",
       "      <td>0</td>\n",
       "      <td>32</td>\n",
       "      <td>0</td>\n",
       "      <td>6.0</td>\n",
       "    </tr>\n",
       "    <tr>\n",
       "      <th>...</th>\n",
       "      <td>...</td>\n",
       "      <td>...</td>\n",
       "      <td>...</td>\n",
       "      <td>...</td>\n",
       "    </tr>\n",
       "    <tr>\n",
       "      <th>10768834</th>\n",
       "      <td>59</td>\n",
       "      <td>22162</td>\n",
       "      <td>33</td>\n",
       "      <td>0.0</td>\n",
       "    </tr>\n",
       "    <tr>\n",
       "      <th>10769024</th>\n",
       "      <td>59</td>\n",
       "      <td>22163</td>\n",
       "      <td>33</td>\n",
       "      <td>0.0</td>\n",
       "    </tr>\n",
       "    <tr>\n",
       "      <th>10769690</th>\n",
       "      <td>59</td>\n",
       "      <td>22164</td>\n",
       "      <td>33</td>\n",
       "      <td>0.0</td>\n",
       "    </tr>\n",
       "    <tr>\n",
       "      <th>10771216</th>\n",
       "      <td>59</td>\n",
       "      <td>22166</td>\n",
       "      <td>33</td>\n",
       "      <td>0.0</td>\n",
       "    </tr>\n",
       "    <tr>\n",
       "      <th>10770511</th>\n",
       "      <td>59</td>\n",
       "      <td>22167</td>\n",
       "      <td>33</td>\n",
       "      <td>0.0</td>\n",
       "    </tr>\n",
       "  </tbody>\n",
       "</table>\n",
       "<p>10913850 rows × 4 columns</p>\n",
       "</div>"
      ],
      "text/plain": [
       "          shop_id  item_id  date_block_num  target\n",
       "139255          0       19               0     0.0\n",
       "141495          0       27               0     0.0\n",
       "144968          0       28               0     0.0\n",
       "142661          0       29               0     0.0\n",
       "138947          0       32               0     6.0\n",
       "...           ...      ...             ...     ...\n",
       "10768834       59    22162              33     0.0\n",
       "10769024       59    22163              33     0.0\n",
       "10769690       59    22164              33     0.0\n",
       "10771216       59    22166              33     0.0\n",
       "10770511       59    22167              33     0.0\n",
       "\n",
       "[10913850 rows x 4 columns]"
      ]
     },
     "execution_count": 5,
     "metadata": {},
     "output_type": "execute_result"
    }
   ],
   "source": [
    "all_df\n"
   ]
  },
  {
   "cell_type": "markdown",
   "metadata": {},
   "source": [
    "### Mean encodings без регуляризации"
   ]
  },
  {
   "cell_type": "markdown",
   "metadata": {},
   "source": [
    "После проделанной технической работы, мы готовы посчитать счетчики для переменной `item_id`. \n",
    "\n",
    "Ниже приведены две реализации подсчета счетчиков без регуляризации. Можно использовать данный код в качестве стартовой точки для реализации различных техник регуляризации."
   ]
  },
  {
   "cell_type": "markdown",
   "metadata": {},
   "source": [
    "#### Способ 1"
   ]
  },
  {
   "cell_type": "code",
   "execution_count": 6,
   "metadata": {},
   "outputs": [
    {
     "name": "stdout",
     "output_type": "stream",
     "text": [
      "0.4830386988621791\n"
     ]
    }
   ],
   "source": [
    "# Calculate a mapping: {item_id: target_mean}\n",
    "item_id_target_mean = all_df.groupby('item_id').target.mean()\n",
    "\n",
    "# In our non-regularized case we just *map* the computed means to the `item_id`'s\n",
    "all_df['item_target_enc'] = all_df['item_id'].map(item_id_target_mean)\n",
    "\n",
    "# Fill NaNs\n",
    "all_df['item_target_enc'].fillna(0.3343, inplace=True) \n",
    "\n",
    "# Print correlation\n",
    "encoded_feature = all_df['item_target_enc'].values\n",
    "print(np.corrcoef(all_df['target'].values, encoded_feature)[0][1])"
   ]
  },
  {
   "cell_type": "markdown",
   "metadata": {},
   "source": [
    "#### Способ 2"
   ]
  },
  {
   "cell_type": "code",
   "execution_count": 7,
   "metadata": {},
   "outputs": [
    {
     "name": "stdout",
     "output_type": "stream",
     "text": [
      "0.4830386988621791\n"
     ]
    }
   ],
   "source": [
    "'''\n",
    "     Differently to `.target.mean()` function `transform` \n",
    "   will return a dataframe with an index like in `all_data`.\n",
    "   Basically this single line of code is equivalent to the first two lines from of Method 1.\n",
    "'''\n",
    "all_df['item_target_enc'] = all_df.groupby('item_id')['target'].transform('mean')\n",
    "\n",
    "# Fill NaNs\n",
    "all_df['item_target_enc'].fillna(0.3343, inplace=True) \n",
    "\n",
    "# Print correlation\n",
    "encoded_feature = all_df['item_target_enc'].values\n",
    "print(np.corrcoef(all_df['target'].values, encoded_feature)[0][1])"
   ]
  },
  {
   "cell_type": "markdown",
   "metadata": {},
   "source": [
    "###  KFold схема (**1.25 балла**)"
   ]
  },
  {
   "cell_type": "markdown",
   "metadata": {},
   "source": [
    "Необходимо реализовать Kfold схему с пятью фолдами. Используйте KFold(5) из sklearn.model_selection. \n",
    "\n",
    "1. Разбейте данные на 5 фолдов при помощи `sklearn.model_selection.KFold` с параметром `shuffle=False`.\n",
    "2. Проитерируйтесь по фолдам: используйте 4 обучающих фолда для подсчета средних значений таргета по `item_id` и заполните этими значениями валидационный фолд на каждой итерации.\n",
    "\n",
    "Обратите внимание на **Способ 1** из примера. В частности, изучите, как работают функции map и pd.Series.map. Они довольно полезны во многих ситуациях. "
   ]
  },
  {
   "cell_type": "code",
   "execution_count": 8,
   "metadata": {},
   "outputs": [],
   "source": [
    "from sklearn.model_selection import KFold\n",
    "kf = KFold(n_splits = 5, shuffle=False)"
   ]
  },
  {
   "cell_type": "code",
   "execution_count": 10,
   "metadata": {},
   "outputs": [
    {
     "name": "stderr",
     "output_type": "stream",
     "text": [
      "<ipython-input-10-a854b5c5d9dd>:8: SettingWithCopyWarning: \n",
      "A value is trying to be set on a copy of a slice from a DataFrame.\n",
      "Try using .loc[row_indexer,col_indexer] = value instead\n",
      "\n",
      "See the caveats in the documentation: https://pandas.pydata.org/pandas-docs/stable/user_guide/indexing.html#returning-a-view-versus-a-copy\n",
      "  X_test['item_target_enc'] = X_test['item_id'].map(item_id_target_mean)\n"
     ]
    },
    {
     "name": "stdout",
     "output_type": "stream",
     "text": [
      "0.41645907127988024\n"
     ]
    }
   ],
   "source": [
    "for train_index, test_index in kf.split(all_df):\n",
    "    X_train = all_df.iloc[train_index]   #обрежем наши фолды по индексам\n",
    "    X_test = all_df.iloc[test_index]\n",
    "    \n",
    "    item_id_target_mean = X_train.groupby('item_id').target.mean()\n",
    " \n",
    "    \n",
    "    X_test['item_target_enc'] = X_test['item_id'].map(item_id_target_mean)\n",
    "  \n",
    "    \n",
    "    all_df.iloc[test_index] = X_test #заполним часть данных нашей all_data данными, полученными на одной из валидаций\n",
    "\n",
    "\n",
    "\n",
    "    \n",
    "all_df['item_target_enc'].fillna(0.3343, inplace=True) \n",
    "encoded_feature = all_df['item_target_enc'].values\n",
    "\n",
    "corr = np.corrcoef(all_df['target'].values, encoded_feature)[0][1]\n",
    "print(corr)"
   ]
  },
  {
   "cell_type": "markdown",
   "metadata": {},
   "source": [
    "Ожидаемый ответ 0.4165"
   ]
  },
  {
   "cell_type": "markdown",
   "metadata": {},
   "source": [
    "### Leave-one-out схема (**1.25 балла**)"
   ]
  },
  {
   "cell_type": "markdown",
   "metadata": {},
   "source": [
    "Необходимо реализовать leave-one-out схему . Учтите, если вы запустите код из первого задания, задав количество фолдов такое же как размер выборки, то вы, вероятно, получите правильный ответ, но ждать будете очень-очень долго.\n",
    "\n",
    "Для более быстрой реализации подсчета среднего таргета на всех объектах, кроме одного, вы можете:\n",
    "\n",
    "1. Вычислить суммарный таргет по всем объектам.\n",
    "2. Вычесть таргет конкретного объекта и разделить результат на `n_objects - 1`. \n",
    "\n",
    "Заметим, что пункт `1.` следует сделать для всех объектов. Также заметим, что пункт `2.` может быть реализован без циклов `for`.\n",
    "\n",
    "Здесь может оказаться полезной функция .transform из **Способа 2** из примера."
   ]
  },
  {
   "cell_type": "code",
   "execution_count": 11,
   "metadata": {},
   "outputs": [
    {
     "name": "stdout",
     "output_type": "stream",
     "text": [
      "0.480384831129305\n"
     ]
    }
   ],
   "source": [
    "all_df['n_objects'] = 1 \n",
    "sums = all_df.groupby('item_id', as_index = False).sum()\n",
    "all_df['item_target_enc'] = 0.3343\n",
    "all_df['n_objects'] = all_df.groupby('item_id')['n_objects'].transform('sum')\n",
    "all_df['target_sum'] = all_df.groupby('item_id')['target'].transform('sum')\n",
    "all_df['item_target_enc'] = (all_df['target_sum'] - all_df['target'] ) / (all_df['n_objects'] - 1)\n",
    "encoded_feature = all_df['item_target_enc'].values\n",
    "\n",
    "corr = np.corrcoef(all_df['target'].values, encoded_feature)[0][1]\n",
    "print(corr)"
   ]
  },
  {
   "cell_type": "markdown",
   "metadata": {},
   "source": [
    "Ожидаемый ответ 0.4803"
   ]
  },
  {
   "cell_type": "markdown",
   "metadata": {},
   "source": [
    "### Smoothing (**1.25 балла**)"
   ]
  },
  {
   "cell_type": "markdown",
   "metadata": {},
   "source": [
    "Необходимо реализовать smoothing с $\\alpha = 100$. Используйте формулу:\n",
    "\n",
    "$\\frac{mean(target) \\cdot nrows + globalmean \\cdot \\alpha }{nrows + \\alpha}$,\n",
    "\n",
    "где $globalmean=0.3343$. Заметим, что `nrows` - это количество объектов, принадлежащих конктертной категории, а не количество строк в датасете."
   ]
  },
  {
   "cell_type": "code",
   "execution_count": 12,
   "metadata": {},
   "outputs": [
    {
     "name": "stdout",
     "output_type": "stream",
     "text": [
      "0.4818198797097282\n"
     ]
    }
   ],
   "source": [
    "all_df['n_objects'] = 1\n",
    "all_df['n_rows'] = all_df.groupby('item_id').n_objects.transform('sum')\n",
    "\n",
    "all_df['item_target_mean'] = all_df.groupby('item_id').target.transform('mean')\n",
    "\n",
    "all_df['item_target_enc'] = ((all_df['item_target_mean'] * all_df['n_rows']) + 0.3343 * 100) / (all_df['n_rows'] + 100)\n",
    "encoded_feature = all_df['item_target_enc'].values\n",
    "\n",
    "corr = np.corrcoef(all_df['target'].values, encoded_feature)[0][1]\n",
    "print(corr)"
   ]
  },
  {
   "cell_type": "markdown",
   "metadata": {},
   "source": [
    "Ожидаемый ответ 0.4818"
   ]
  },
  {
   "cell_type": "markdown",
   "metadata": {},
   "source": [
    "### Expanding mean схема (**1.25 балла**)"
   ]
  },
  {
   "cell_type": "markdown",
   "metadata": {},
   "source": [
    "Необходимо реализовать *expanding mean* схему. Ее суть заключается в том, чтобы пройти по отсортированному в определенном порядке датасету (датасет сортируется в самом начале задания) и для подсчета счетчика для строки $m$ использовать строки от $0$ до $m-1$. Вам будет необходимо воспользоваться pandas функциями [`cumsum`](https://pandas.pydata.org/pandas-docs/stable/generated/pandas.core.groupby.DataFrameGroupBy.cumsum.html) и [`cumcount`](https://pandas.pydata.org/pandas-docs/stable/generated/pandas.core.groupby.GroupBy.cumcount.html)."
   ]
  },
  {
   "cell_type": "code",
   "execution_count": 13,
   "metadata": {},
   "outputs": [
    {
     "name": "stdout",
     "output_type": "stream",
     "text": [
      "0.5025245211081701\n"
     ]
    }
   ],
   "source": [
    "all_df['sum_target'] = all_df.groupby('item_id')['target'].cumsum()\n",
    "all_df['n_rows'] = all_df.groupby('item_id').cumcount()\n",
    "all_df['sum_target'] = all_df['sum_target'] - all_df['target']\n",
    "all_df['item_target_enc'] = all_df['sum_target'] / all_df['n_rows']\n",
    "all_df['item_target_enc'].fillna(0.3343, inplace=True) \n",
    "\n",
    "\n",
    "encoded_feature = all_df['item_target_enc'].values\n",
    "corr = np.corrcoef(all_df['target'].values, encoded_feature)[0][1]\n",
    "print(corr)"
   ]
  },
  {
   "cell_type": "markdown",
   "metadata": {},
   "source": [
    "Ожидаемый ответ 0.5025"
   ]
  }
 ],
 "metadata": {
  "kernelspec": {
   "display_name": "Python 3",
   "language": "python",
   "name": "python3"
  },
  "language_info": {
   "codemirror_mode": {
    "name": "ipython",
    "version": 3
   },
   "file_extension": ".py",
   "mimetype": "text/x-python",
   "name": "python",
   "nbconvert_exporter": "python",
   "pygments_lexer": "ipython3",
   "version": "3.8.3"
  }
 },
 "nbformat": 4,
 "nbformat_minor": 2
}
