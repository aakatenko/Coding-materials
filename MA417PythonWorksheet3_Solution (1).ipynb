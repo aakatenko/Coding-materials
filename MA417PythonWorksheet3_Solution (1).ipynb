{
 "cells": [
  {
   "cell_type": "markdown",
   "metadata": {},
   "source": [
    "# MA417 Computation Methods in Finance - Python Worksheet Number 3\n",
    "\n",
    "# Solutions"
   ]
  },
  {
   "cell_type": "markdown",
   "metadata": {},
   "source": [
    "**Luitgard Veraart**"
   ]
  },
  {
   "cell_type": "markdown",
   "metadata": {},
   "source": [
    "In this worksheet we will be writing Python code for pricing a European call option in the Black-Scholes model using Monte Carlo methods with and without variance reduction.  \n",
    "We will consider three approaches for computing the time-0 price of a European call option in the Black-Scholes model: \n",
    "\n",
    "1. using a Monte Carlo estimator and a corresponding asymptotic 95\\% - confidence interval;  \n",
    "2. using a control variate estimator and a corresponding asymptotic 95\\% - confidence interval; \n",
    "3. using an antithetic variates estimator and a corresponding asymptotic 95\\% - confidence interval.  \n",
    "\n",
    "__Hint:__ Use numpy.random as in Worksheet 2 to generate the random variables needed for the Monte Carlo estimation and the different variance reduction methods. \n",
    "\n",
    "\n",
    "## Monte Carlo estimation and variance reduction\n",
    "Throughout this worksheet, we consider a European call written on an underlying stock with price $S$, maturity $T$ and strike price $K$. We assume constant interest rate $r \\geq 0$. \n",
    "We use the Black-Scholes model for the stock price, i.e., the time-$T$ price of the stock is given by\n",
    "\\begin{align*}\n",
    "\tS_T = S_0 \\exp\\left( (r - \\frac{\\sigma^2}{2}) T + \\sigma W_T \\right), \n",
    "\\end{align*}\n",
    "where $W$ is a Brownian motion under the risk-neutral measure. Recall that $W_T \\sim \\mathcal{N}_1(0, T)$. \n",
    "The time-$0$ price of the European call option is then given by the expectation of the discounted payoff under the risk-neutral measure, i.e. it is given by \n",
    "$$C_0 = \\mathbb{E}[e^{-rT}(S_T-K)^+]. $$ \n",
    "We will now consider different ways of approximating $C_0$: a classical Monte Carlo approach, control variates and antithetic variates.  \n"
   ]
  },
  {
   "cell_type": "markdown",
   "metadata": {},
   "source": [
    "## Programming tasks\n",
    "\n",
    "### Exercise 1\n",
    "1. Define your own function in Python that implements a Monte Carlo estimator for estimating $C_0$ and returns a Monte Carlo approximation for $C_0$, together with an asymptotic 95\\% confidence interval. \n",
    "2. Compare your results to the analytical results obtained by using the Black-Scholes option pricing formula implemented in Worksheet 1. "
   ]
  },
  {
   "cell_type": "markdown",
   "metadata": {},
   "source": [
    "### Solution - Exercise 1\n",
    "\n",
    "We first import all modules that we use in this notebook. Note that BlackScholes_Analytical is our own module that contains an implementation of the Black-Scholes option pricing formula (see BlackScholes_Analytical.py). "
   ]
  },
  {
   "cell_type": "code",
   "execution_count": 1,
   "metadata": {},
   "outputs": [],
   "source": [
    "import numpy as np\n",
    "import matplotlib.pyplot as plt\n",
    "from scipy.stats import norm\n",
    "import BlackScholes_Analytical"
   ]
  },
  {
   "cell_type": "code",
   "execution_count": 2,
   "metadata": {},
   "outputs": [],
   "source": [
    "rng = np.random.default_rng(12345)"
   ]
  },
  {
   "cell_type": "code",
   "execution_count": 3,
   "metadata": {},
   "outputs": [],
   "source": [
    "def terminal_stockprice(rng, s0, t, r, sigma, samplesize):\n",
    "    \"\"\"\n",
    "    Function generates terminal stock price in Black-Scholes model.\n",
    "\n",
    "    Parameters\n",
    "    ----------\n",
    "    rng : random._generator.Generator\n",
    "        Generator object of numpy for generating random numbers\n",
    "    s0 : float\n",
    "        Initial stock price.\n",
    "    t : float\n",
    "        Terminal time at which stock price is generated.\n",
    "    r : float\n",
    "        Riskless interest rate.\n",
    "    sigma : float\n",
    "        Volatility.\n",
    "    samplesize : int\n",
    "        Sample size, i.e., number of times terminal stock price is generated.\n",
    "\n",
    "    Returns\n",
    "    -------\n",
    "    stockprice : array\n",
    "        Sample of terminal stock price in Black Scholes model.\n",
    "\n",
    "    \"\"\"\n",
    "    mystandardnormalsample = rng.standard_normal(size=samplesize)\n",
    "    tmp1 = (r - 0.5*(sigma ** 2)) * t\n",
    "    tmp2 = sigma * np.sqrt(t) * mystandardnormalsample\n",
    "    stockprice = s0 * np.exp(tmp1 + tmp2)\n",
    "    return stockprice"
   ]
  },
  {
   "cell_type": "code",
   "execution_count": 4,
   "metadata": {},
   "outputs": [
    {
     "data": {
      "image/png": "[encoded data removed]",
      "text/plain": [
       "<Figure size 640x480 with 1 Axes>"
      ]
     },
     "metadata": {},
     "output_type": "display_data"
    }
   ],
   "source": [
    "# Plotting a histogram of the terminal stock price\n",
    "mystockprice = terminal_stockprice(rng, s0=100, t=1, r=0.02, sigma=0.3,\n",
    "                                   samplesize=100000)\n",
    "fig, ax = plt.subplots(nrows=1, ncols=1)\n",
    "ax.hist(mystockprice, bins=100)\n",
    "ax.set_ylabel(\"Frequency\")\n",
    "ax.set_xlabel(\"$S_T$\")\n",
    "ax.set_title(\"Histogram of simulated $S_T$\");"
   ]
  },
  {
   "cell_type": "code",
   "execution_count": 5,
   "metadata": {},
   "outputs": [],
   "source": [
    "def bs_call_mc(rng, s0, k, t, r, sigma, samplesize, myepsilon):\n",
    "    \"\"\"\n",
    "    Function computes time-0 price of European call price in Black-Scholes\n",
    "    model by Monte Carlo.\n",
    "\n",
    "    Parameters\n",
    "    ----------\n",
    "    rng : random._generator.Generator\n",
    "        Generator object of numpy for generating random numbers\n",
    "    s0 : float\n",
    "        Initial stock price.\n",
    "    t : float\n",
    "        Terminal time at which stock price is generated.\n",
    "    r : float\n",
    "        Riskless interest rate.\n",
    "    sigma : float\n",
    "        Volatility.\n",
    "    samplesize : int\n",
    "        Sample size, i.e., number of times terminal stock price is generated.\n",
    "    myepsilon : float\n",
    "        1 - myepsilon is level of confidence for CI interval.\n",
    "\n",
    "    Returns\n",
    "    -------\n",
    "    price : float\n",
    "        Time-0 price of European call option in BS-model based on Monte Carlo.\n",
    "    standarddev : float\n",
    "        Standard deviation of random variable representing discounted payoff.\n",
    "    ci_left : float\n",
    "        Left boundary of 1-myepsilon confidence interval.\n",
    "    ci_right : float\n",
    "        Right boundary of 1-myepsilon confidence interval.\n",
    "    \"\"\"\n",
    "    # Generate terminal stock prices.\n",
    "    mystockprice = terminal_stockprice(rng, s0, t, r, sigma, samplesize)\n",
    "    # Compute payoffs.\n",
    "    payoffs = np.maximum(mystockprice - k, 0)\n",
    "    # Discount payoffs\n",
    "    discountedpayoffs = np.exp(- r * t)*payoffs\n",
    "    # Compute MC price\n",
    "    price = np.mean(discountedpayoffs)\n",
    "    # Compute confidence interval next\n",
    "    standarddev_rv = np.std(discountedpayoffs, ddof=1)\n",
    "    standarddev_mcest = standarddev_rv / np.sqrt(samplesize)\n",
    "    aepsilon = norm.ppf(1.0 - myepsilon * 0.5)\n",
    "    # Left boundary of CI\n",
    "    ci_left = price - aepsilon * standarddev_mcest\n",
    "    # Right boundary of CI\n",
    "    ci_right = price + aepsilon * standarddev_mcest\n",
    "    return price, standarddev_mcest, ci_left, ci_right"
   ]
  },
  {
   "cell_type": "code",
   "execution_count": 6,
   "metadata": {},
   "outputs": [],
   "source": [
    "# Defining some model parameters\n",
    "S0 = 50.0\n",
    "K = 50.0\n",
    "T = 0.25\n",
    "R = 0.05\n",
    "Sigma = 0.3\n",
    "Samplesize = 100000\n",
    "Myepsilon = 0.05"
   ]
  },
  {
   "cell_type": "code",
   "execution_count": 7,
   "metadata": {},
   "outputs": [
    {
     "name": "stdout",
     "output_type": "stream",
     "text": [
      "Analytical price: 3.2915\n",
      "----------------\n",
      "MC price: 3.2892, stdev of MC est: 0.0112\n",
      "CI based on MC is (3.2673, 3.3111)\n"
     ]
    }
   ],
   "source": [
    "myprice = BlackScholes_Analytical.black_scholes_call(S0, K, T, R, Sigma)\n",
    "print('Analytical price: {:.4f}'.format(myprice))\n",
    "print('----------------')\n",
    "MCresults = bs_call_mc(rng, S0, K, T, R, Sigma, 2*Samplesize, Myepsilon)\n",
    "print('MC price: {:.4f}, stdev of MC est: {:.4f}'.format(MCresults[0], MCresults[1]))\n",
    "print('CI based on MC is ({:.4f}, {:.4f})'.format(MCresults[2], MCresults[3]))"
   ]
  },
  {
   "cell_type": "markdown",
   "metadata": {},
   "source": [
    "Hence, we see that the MC price is very close to the analytical price. Here, for this specific realisation of random variables the confidence interval based on the MC estimator contains the analytical price. "
   ]
  },
  {
   "cell_type": "markdown",
   "metadata": {},
   "source": [
    "### Exercise 2 \n",
    "1. Write Python code that implements an  antithetic variates estimator for $C_0$ using the antithetic pair $(X, -X)$ where  $X\\sim \\mathcal{N}_1(0, 1)$. \n",
    "2. Write Python code that computes the variance of your antithetic variate estimator. \n",
    "\n",
    "### Solution - Exercise 2\n",
    "\n",
    "We consider the antithetic pair $(X, -X)$ where  $X\\sim \\mathcal{N}_1(0, 1)$. For the stock price this implies that we consider pairs of the form $(S^{(1)}, S^{(2)})$, where\n",
    "\\begin{align*}\n",
    "S^{(1)} & = S_0 \\exp( (r - 0.5 \\sigma^2) T + \\sigma \\sqrt{T} X), \\\\\n",
    "S^{(2)} & = S_0 \\exp( (r - 0.5 \\sigma^2) T + \\sigma \\sqrt{T} (-X)) \n",
    "\\end{align*}\n",
    "and we will use them to compute the corresponding discounted payoffs. \n"
   ]
  },
  {
   "cell_type": "code",
   "execution_count": 8,
   "metadata": {},
   "outputs": [],
   "source": [
    "def terminal_stockprice_av(rng, s0, t, r, sigma, samplesize):\n",
    "    \"\"\"Function computes terminal stock prices based on antithetic pairs. \"\"\"\n",
    "    mynormals1 = rng.standard_normal(samplesize)\n",
    "    mynormals2 = - mynormals1\n",
    "    tmp1 = (r - 0.5*sigma ** 2) * t\n",
    "    tmp2 = sigma * np.sqrt(t) * mynormals1\n",
    "    tmp3 = sigma * np.sqrt(t) * mynormals2\n",
    "    stockprice1 = s0 * np.exp(tmp1 + tmp2)\n",
    "    stockprice2 = s0 * np.exp(tmp1 + tmp3)\n",
    "    allstockprices = np.concatenate((stockprice1, stockprice2))\n",
    "    return stockprice1, stockprice2, allstockprices"
   ]
  },
  {
   "cell_type": "code",
   "execution_count": 9,
   "metadata": {},
   "outputs": [],
   "source": [
    "def bs_call_av(rng, s0, k, t, r, sigma, samplesize, myepsilon):\n",
    "    \"\"\" Antithethic variate estimation for European call price in BS model.\"\"\"\n",
    "    # Note that 2*samplesize random variables will be used in the AV estimator.\n",
    "    # Generate terminal stock prices.\n",
    "    mystockprices = terminal_stockprice_av(rng, s0, t, r, sigma, samplesize)\n",
    "    # Compute payoffs.\n",
    "    payoffs1 = np.maximum(mystockprices[0] - k, 0)\n",
    "    payoffs2 = np.maximum(mystockprices[1] - k, 0)\n",
    "    # Discount payoffs\n",
    "    discpayoffs1 = np.exp(- r * t)*payoffs1\n",
    "    discpayoffs2 = np.exp(- r * t)*payoffs2\n",
    "    thecov = np.cov(discpayoffs1, discpayoffs2, ddof=1)[0, 1]\n",
    "    possiblereduction = thecov / (2 * samplesize)\n",
    "    discpayoffs = np.concatenate((discpayoffs1, discpayoffs2))\n",
    "    price = np.mean(discpayoffs)\n",
    "    standarddev_rv = np.std(discpayoffs, ddof=1)\n",
    "    standarddev_avest = standarddev_rv / np.sqrt(2*samplesize)\n",
    "    aepsilon = norm.ppf(1.0 - myepsilon * 0.5)\n",
    "    ci_left = price - aepsilon * standarddev_avest\n",
    "    ci_right = price + aepsilon * standarddev_avest\n",
    "    return price, standarddev_avest, ci_left, ci_right, possiblereduction"
   ]
  },
  {
   "cell_type": "code",
   "execution_count": 10,
   "metadata": {},
   "outputs": [
    {
     "name": "stdout",
     "output_type": "stream",
     "text": [
      "AV price: 3.2963; stdev of AV est: 0.0112\n",
      "CI based on AV is (3.2744, 3.3182)\n",
      "Note that sample covariance/(2n) is -0.0001\n"
     ]
    }
   ],
   "source": [
    "AVresults = bs_call_av(rng, S0, K, T, R, Sigma, Samplesize, Myepsilon)\n",
    "print('AV price: {:.4f}; stdev of AV est: {:.4f}'.format(AVresults[0], AVresults[1]))\n",
    "print('CI based on AV is ({:.4f}, {:.4f})'.format(AVresults[2], AVresults[3]))\n",
    "print('Note that sample covariance/(2n) is {:.4f}'.format(AVresults[4]))"
   ]
  },
  {
   "cell_type": "markdown",
   "metadata": {},
   "source": [
    "We see that the AV estimate is very close to the analytical option price. In this example, we see that $cov(Z^{(1)}, Z^{(2)})/2n$, where\n",
    "\\begin{align*}\n",
    "Z^{(1)}& = e^{-rT} \\left(S_0 \\exp( (r - 0.5 \\sigma^2) T + \\sigma \\sqrt{T} X) - K \\right)^+, \\\\\n",
    "Z^{(2)}& = e^{-rT} \\left(S_0 \\exp( (r - 0.5 \\sigma^2) T + \\sigma \\sqrt{T} (-X)) - K \\right)^+, \n",
    "\\end{align*}\n",
    "is negative but very close to zero. "
   ]
  },
  {
   "cell_type": "markdown",
   "metadata": {},
   "source": [
    "### Exercise 3 \n",
    "1. Write Python code that uses a control variates estimator with the discounted stock price as control as discussed in the lecture: Let $S_i$ be i.i.d. samples with the same distribution as $S_T$ and $Y_i = e^{-rT} (S_i - K)^+$. Then the control variate estimator is given by\n",
    "\\begin{align*}\n",
    "\t\\overline{Y}_n(b) = \\frac{1}{n} \\sum_{i=1}^n (Y_i - b(e^{-r T}S_i - S(0))),\n",
    "\\end{align*}\n",
    "where $b$ might be replaced by $\\hat{b}_n^*$ (see lecture notes for the definition). \n",
    "2. Write Python code that computes the variance of the control variate estimator $\\overline{Y}_n(\\hat{b}_n^*)$ considered above. \n",
    "3. The effectiveness of the control variate depends heavily on the strike $K$. Compute a sample estimate for $\\rho^2_{XY}$, i.e., the squared correlation between $X=e^{-rT} S_T$ and $Y= e^{-rT} (S_T - K)^+$, for different values of the strike $K$ and present a plot that shows  $\\rho^2_{XY}$ as a function in $K$. \n",
    "\n",
    "### Solution - Exercise 3"
   ]
  },
  {
   "cell_type": "code",
   "execution_count": 11,
   "metadata": {},
   "outputs": [],
   "source": [
    "def bs_call_cv(rng, s0, k, t, r, sigma, samplesize, myepsilon):\n",
    "    \"\"\" Control variate estimation for European call price in BS model.\"\"\"\n",
    "    # Generate terminal stock prices.\n",
    "    mystockprice = terminal_stockprice(rng, s0, t, r, sigma, samplesize)\n",
    "    # Compute payoffs.\n",
    "    payoffs = np.maximum(mystockprice - k, 0)\n",
    "    # Discount payoffs\n",
    "    discountedpayoffs = np.exp(- r * t)*payoffs\n",
    "    # Use discounted stock as control\n",
    "    xs = np.exp(- r * t) * mystockprice\n",
    "    # Compute sample version of b*\n",
    "    bstar = np.cov(xs, discountedpayoffs, ddof=1)[0, 1] / np.var(xs, ddof=1)\n",
    "    # print(\"In cv bstar=\", bstar)\n",
    "    # Define z= Y(bstar)\n",
    "    z = discountedpayoffs - bstar * (xs - s0)\n",
    "    # Compute MC price\n",
    "    price = np.mean(z)\n",
    "    # Compute confidence interval next\n",
    "    standarddev_rv = np.std(z, ddof=1)\n",
    "    standarddev_cvest = standarddev_rv / np.sqrt(samplesize)\n",
    "    aepsilon = norm.ppf(1.0 - myepsilon * 0.5)\n",
    "    # Left boundary of CI\n",
    "    ci_left = price - aepsilon * standarddev_cvest\n",
    "    # Right boundary of CI\n",
    "    ci_right = price + aepsilon * standarddev_cvest\n",
    "    # Compute the sqared correation rhosquared\n",
    "    tmpcov = np.cov(xs, discountedpayoffs, ddof=1)[0, 1]\n",
    "    tmpvarx = np.var(xs, ddof=1)\n",
    "    tmpvary = np.var(discountedpayoffs, ddof=1)\n",
    "    rhosquared = (tmpcov ** 2) / (tmpvarx * tmpvary)\n",
    "    return price, standarddev_cvest, ci_left, ci_right, rhosquared"
   ]
  },
  {
   "cell_type": "code",
   "execution_count": 12,
   "metadata": {},
   "outputs": [
    {
     "name": "stdout",
     "output_type": "stream",
     "text": [
      "CV price: 3.2864; stdev of CV est: 0.0050\n",
      "CI based on CV is (3.2767, 3.2961)\n",
      "Note that rhosquared is 0.8030\n"
     ]
    }
   ],
   "source": [
    "CVresults = bs_call_cv(rng, S0, K, T, R, Sigma, 2*Samplesize, Myepsilon)\n",
    "print('CV price: {:.4f}; stdev of CV est: {:.4f}'.format(CVresults[0], CVresults[1]))\n",
    "print('CI based on CV is ({:.4f}, {:.4f})'.format(CVresults[2], CVresults[3]))\n",
    "print('Note that rhosquared is {:.4f}'.format(CVresults[4]))"
   ]
  },
  {
   "cell_type": "markdown",
   "metadata": {},
   "source": [
    "Also the CV estimate is very close to the analytical price. The standard deviation of the CV estimator is much smaller than the standard deviation of the MC estimator. "
   ]
  },
  {
   "cell_type": "markdown",
   "metadata": {},
   "source": [
    "### Sensitivity of the correlation in the CV estimator with respect to the strike"
   ]
  },
  {
   "cell_type": "code",
   "execution_count": 13,
   "metadata": {},
   "outputs": [],
   "source": [
    "\"\"\"\n",
    "We consider the sensitivity of rho and rhosquared related to the control\n",
    "variate estimator with respect to the strike price.\n",
    "We consider the same model parameters as in Glasserman(2004; p. 189) and will reproduce the results reported there. \n",
    "\"\"\"\n",
    "\n",
    "S0 = 50\n",
    "T = 0.25\n",
    "R = 0.05\n",
    "Sigma = 0.3\n",
    "Samplesize = 100000\n",
    "\n",
    "\n",
    "numberofk = 100\n",
    "strikes = np.linspace(start=0, stop=80, num=numberofk)\n",
    "rhosquared = np.zeros(numberofk)\n",
    "rho = np.zeros(numberofk)"
   ]
  },
  {
   "cell_type": "code",
   "execution_count": 14,
   "metadata": {},
   "outputs": [],
   "source": [
    "# Generate stockprice\n",
    "myst = terminal_stockprice(rng, S0, T, R, Sigma, Samplesize)\n",
    "mystockprice = myst\n",
    "\n",
    "for i in range(numberofk):\n",
    "    k = strikes[i]\n",
    "    # Compute payoffs.\n",
    "    payoffs = np.maximum(mystockprice - k, 0)\n",
    "    # Discount payoffs\n",
    "    discountedpayoffs = np.exp(- R * T)*payoffs\n",
    "    # Define variable y for control variate estimator\n",
    "    ys = discountedpayoffs\n",
    "    # Use discounted stock as control\n",
    "    xs = np.exp(- R * T) * mystockprice\n",
    "    rho[i] = np.corrcoef(xs, ys)[0, 1]\n",
    "    rhosquared[i] = rho[i] ** 2"
   ]
  },
  {
   "cell_type": "code",
   "execution_count": 15,
   "metadata": {},
   "outputs": [
    {
     "data": {
      "image/png": "[encoded data removed]",
      "text/plain": [
       "<Figure size 640x480 with 1 Axes>"
      ]
     },
     "metadata": {},
     "output_type": "display_data"
    }
   ],
   "source": [
    "plt.plot(strikes, rhosquared, c=\"blue\")\n",
    "plt.xlabel(\"strike\")\n",
    "plt.ylabel(r\"$\\rho^2$\")\n",
    "plt.title(\"Squared correlation of discounted payoff and discounted stock\");"
   ]
  },
  {
   "cell_type": "markdown",
   "metadata": {},
   "source": [
    "Hence, we see that for small strikes there is a strong correlation between the discounted payoff and the discounted stock price, but this decreases significantly for larger strikes. "
   ]
  },
  {
   "cell_type": "code",
   "execution_count": 16,
   "metadata": {},
   "outputs": [],
   "source": [
    "# Next we compare the standarddeviation of the MC and the CV estimator\n",
    "stdMC = np.zeros(numberofk)\n",
    "stdCV = np.zeros(numberofk)\n",
    "\n",
    "# Generate the terminal stock prices\n",
    "mystockprice = terminal_stockprice(rng, S0, T, R, Sigma, Samplesize)\n",
    "\n",
    "for i in range(numberofk):\n",
    "    k = strikes[i]\n",
    "    # Compute discounted payoffs\n",
    "    discountedpayoffs = np.exp(- R * T) * np.maximum(mystockprice - k, 0)\n",
    "    # Compute standard dev of MC estimator \n",
    "    stdMC[i] = np.std(discountedpayoffs, ddof=1) / np.sqrt(Samplesize)\n",
    "\n",
    "    # Use discounted stock as control\n",
    "    xs = np.exp(- R * T) * mystockprice\n",
    "    # Compute sample version of b*\n",
    "    bstar = np.cov(xs, discountedpayoffs, ddof=1)[0, 1] / np.var(xs, ddof=1)\n",
    "    # Define z= Y(bstar)\n",
    "    z = discountedpayoffs - bstar * (xs - S0)\n",
    "    # Compute standard dev of CV estimator \n",
    "    stdCV[i] = np.std(z, ddof=1) / np.sqrt(Samplesize)\n",
    "\n",
    "\n"
   ]
  },
  {
   "cell_type": "code",
   "execution_count": 17,
   "metadata": {},
   "outputs": [
    {
     "data": {
      "image/png": "[encoded data removed]",
      "text/plain": [
       "<Figure size 640x480 with 1 Axes>"
      ]
     },
     "metadata": {},
     "output_type": "display_data"
    }
   ],
   "source": [
    "fig, ax = plt.subplots(nrows=1, ncols=1)\n",
    "ax.plot(strikes, stdMC, lw=3, c=\"blue\", label=\"Std of MC estimator\")\n",
    "ax.plot(strikes, stdCV, lw=3, c=\"red\", label=\"Std of CV estimator\", linestyle = \"dashed\")\n",
    "ax.set_ylabel(\"Standard deviation\")\n",
    "ax.set_xlabel(\"strike\")\n",
    "ax.set_title(\"Comparison of standard deviations of different estimators\")\n",
    "ax.legend(loc = \"upper right\");"
   ]
  },
  {
   "cell_type": "markdown",
   "metadata": {},
   "source": [
    "Hence, we see that for our model parameters for small strikes, the standard deviation of the control variate estimator is significantly smaller than the standard deviation of the Monte Carlo estimator. For larger strikes, the standard deviations of the two estimators are very similar and overall on a rather low level. The standard deviation of the MC estimator is highest for small strikes and for those the squared correlation between the discounted payoff and the discounted stock price is highest (see above), showing that there are great benefits of using a CV estimator rather than a standard MC estimator for small strike prices.   "
   ]
  },
  {
   "cell_type": "code",
   "execution_count": null,
   "metadata": {},
   "outputs": [],
   "source": []
  }
 ],
 "metadata": {
  "kernelspec": {
   "display_name": "Python 3 (ipykernel)",
   "language": "python",
   "name": "python3"
  },
  "language_info": {
   "codemirror_mode": {
    "name": "ipython",
    "version": 3
   },
   "file_extension": ".py",
   "mimetype": "text/x-python",
   "name": "python",
   "nbconvert_exporter": "python",
   "pygments_lexer": "ipython3",
   "version": "3.11.4"
  }
 },
 "nbformat": 4,
 "nbformat_minor": 4
}
