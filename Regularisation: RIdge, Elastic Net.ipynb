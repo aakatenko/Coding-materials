{
 "cells": [
  {
   "cell_type": "code",
   "execution_count": 1,
   "metadata": {},
   "outputs": [],
   "source": [
    "import pandas as pd"
   ]
  },
  {
   "cell_type": "code",
   "execution_count": 2,
   "metadata": {},
   "outputs": [],
   "source": [
    "import scipy as sp\n",
    "import scipy.linalg as spla\n",
    "import scipy.optimize as spopt\n",
    "import scipy.stats as spst\n",
    "#sp?"
   ]
  },
  {
   "cell_type": "code",
   "execution_count": 3,
   "metadata": {},
   "outputs": [],
   "source": [
    "import numpy as np\n",
    "import numpy.linalg as npla"
   ]
  },
  {
   "cell_type": "code",
   "execution_count": 13,
   "metadata": {},
   "outputs": [],
   "source": [
    "import statsmodels.api as sm"
   ]
  },
  {
   "cell_type": "code",
   "execution_count": 14,
   "metadata": {},
   "outputs": [],
   "source": [
    "dat = sm.datasets.get_rdataset(\"Guerry\", \"HistData\").data"

   ]
  },
  {
   "cell_type": "code",
   "execution_count": 16,
   "metadata": {},
   "outputs": [
    {
     "data": {
      "text/html": [
       "<table class=\"simpletable\">\n",
       "<caption>OLS Regression Results</caption>\n",
       "<tr>\n",
       "  <th>Dep. Variable:</th>         <td>Lottery</td>     <th>  R-squared:         </th> <td>   0.344</td>\n",
       "</tr>\n",
       "<tr>\n",
       "  <th>Model:</th>                   <td>OLS</td>       <th>  Adj. R-squared:    </th> <td>   0.303</td>\n",
       "</tr>\n",
       "<tr>\n",
       "  <th>Method:</th>             <td>Least Squares</td>  <th>  F-statistic:       </th> <td>   8.392</td>\n",
       "</tr>\n",
       "<tr>\n",
       "  <th>Date:</th>             <td>Sun, 26 Sep 2021</td> <th>  Prob (F-statistic):</th> <td>2.04e-06</td>\n",
       "</tr>\n",
       "<tr>\n",
       "  <th>Time:</th>                 <td>18:48:08</td>     <th>  Log-Likelihood:    </th> <td> -380.11</td>\n",
       "</tr>\n",
       "<tr>\n",
       "  <th>No. Observations:</th>      <td>    86</td>      <th>  AIC:               </th> <td>   772.2</td>\n",
       "</tr>\n",
       "<tr>\n",
       "  <th>Df Residuals:</th>          <td>    80</td>      <th>  BIC:               </th> <td>   787.0</td>\n",
       "</tr>\n",
       "<tr>\n",
       "  <th>Df Model:</th>              <td>     5</td>      <th>                     </th>     <td> </td>   \n",
       "</tr>\n",
       "<tr>\n",
       "  <th>Covariance Type:</th>      <td>nonrobust</td>    <th>                     </th>     <td> </td>   \n",
       "</tr>\n",
       "</table>\n",
       "<table class=\"simpletable\">\n",
       "<tr>\n",
       "      <td></td>         <th>coef</th>     <th>std err</th>      <th>t</th>      <th>P>|t|</th>  <th>[0.025</th>    <th>0.975]</th>  \n",
       "</tr>\n",
       "<tr>\n",
       "  <th>Intercept</th> <td>   17.5098</td> <td>   11.827</td> <td>    1.480</td> <td> 0.143</td> <td>   -6.027</td> <td>   41.047</td>\n",
       "</tr>\n",
       "<tr>\n",
       "  <th>Literacy</th>  <td>   -0.1499</td> <td>    0.166</td> <td>   -0.906</td> <td> 0.368</td> <td>   -0.479</td> <td>    0.180</td>\n",
       "</tr>\n",
       "<tr>\n",
       "  <th>Donations</th> <td>    0.0001</td> <td>    0.000</td> <td>    0.342</td> <td> 0.734</td> <td>   -0.001</td> <td>    0.001</td>\n",
       "</tr>\n",
       "<tr>\n",
       "  <th>Infants</th>   <td>    0.0006</td> <td>    0.000</td> <td>    1.973</td> <td> 0.052</td> <td>-5.08e-06</td> <td>    0.001</td>\n",
       "</tr>\n",
       "<tr>\n",
       "  <th>Wealth</th>    <td>    0.3065</td> <td>    0.106</td> <td>    2.900</td> <td> 0.005</td> <td>    0.096</td> <td>    0.517</td>\n",
       "</tr>\n",
       "<tr>\n",
       "  <th>Commerce</th>  <td>    0.1522</td> <td>    0.127</td> <td>    1.197</td> <td> 0.235</td> <td>   -0.101</td> <td>    0.405</td>\n",
       "</tr>\n",
       "</table>\n",
       "<table class=\"simpletable\">\n",
       "<tr>\n",
       "  <th>Omnibus:</th>       <td> 9.177</td> <th>  Durbin-Watson:     </th> <td>   1.874</td>\n",
       "</tr>\n",
       "<tr>\n",
       "  <th>Prob(Omnibus):</th> <td> 0.010</td> <th>  Jarque-Bera (JB):  </th> <td>   3.538</td>\n",
       "</tr>\n",
       "<tr>\n",
       "  <th>Skew:</th>          <td>-0.165</td> <th>  Prob(JB):          </th> <td>   0.171</td>\n",
       "</tr>\n",
       "<tr>\n",
       "  <th>Kurtosis:</th>      <td> 2.062</td> <th>  Cond. No.          </th> <td>1.17e+05</td>\n",
       "</tr>\n",
       "</table><br/><br/>Notes:<br/>[1] Standard Errors assume that the covariance matrix of the errors is correctly specified.<br/>[2] The condition number is large, 1.17e+05. This might indicate that there are<br/>strong multicollinearity or other numerical problems."
      ],
      "text/plain": [
       "<class 'statsmodels.iolib.summary.Summary'>\n",
       "\"\"\"\n",
       "                            OLS Regression Results                            \n",
       "==============================================================================\n",
       "Dep. Variable:                Lottery   R-squared:                       0.344\n",
       "Model:                            OLS   Adj. R-squared:                  0.303\n",
       "Method:                 Least Squares   F-statistic:                     8.392\n",
       "Date:                Sun, 26 Sep 2021   Prob (F-statistic):           2.04e-06\n",
       "Time:                        18:48:08   Log-Likelihood:                -380.11\n",
       "No. Observations:                  86   AIC:                             772.2\n",
       "Df Residuals:                      80   BIC:                             787.0\n",
       "Df Model:                           5                                         \n",
       "Covariance Type:            nonrobust                                         \n",
       "==============================================================================\n",
       "                 coef    std err          t      P>|t|      [0.025      0.975]\n",
       "------------------------------------------------------------------------------\n",
       "Intercept     17.5098     11.827      1.480      0.143      -6.027      41.047\n",
       "Literacy      -0.1499      0.166     -0.906      0.368      -0.479       0.180\n",
       "Donations      0.0001      0.000      0.342      0.734      -0.001       0.001\n",
       "Infants        0.0006      0.000      1.973      0.052   -5.08e-06       0.001\n",
       "Wealth         0.3065      0.106      2.900      0.005       0.096       0.517\n",
       "Commerce       0.1522      0.127      1.197      0.235      -0.101       0.405\n",
       "==============================================================================\n",
       "Omnibus:                        9.177   Durbin-Watson:                   1.874\n",
       "Prob(Omnibus):                  0.010   Jarque-Bera (JB):                3.538\n",
       "Skew:                          -0.165   Prob(JB):                        0.171\n",
       "Kurtosis:                       2.062   Cond. No.                     1.17e+05\n",
       "==============================================================================\n",
       "\n",
       "Notes:\n",
       "[1] Standard Errors assume that the covariance matrix of the errors is correctly specified.\n",
       "[2] The condition number is large, 1.17e+05. This might indicate that there are\n",
       "strong multicollinearity or other numerical problems.\n",
       "\"\"\""
      ]
     },
     "execution_count": 16,
     "metadata": {},
     "output_type": "execute_result"
    }
   ],
   "source": [
    "smfOLS = sm.regression.linear_model.OLS.from_formula\n",
    "\n",
    "model = 'Lottery ~ Literacy + Donations + Infants + Wealth + Commerce'\n",
    "fit = smfOLS(model, data = dat).fit()\n",
    "fit.summary()"
   ]
  },
  {
   "cell_type": "code",
   "execution_count": 27,
   "metadata": {},
   "outputs": [],
   "source": [
    "from sklearn.linear_model import LinearRegression as LR"
   ]
  },
  {
   "cell_type": "markdown",
   "metadata": {},
   "source": [
    "## Home assignment (graded, individual, in 2 week)\n",
    "## email to pandreyanov@gmail.com, use ipnb, use markdown, explain what you do"
   ]
  },
  {
   "cell_type": "markdown",
   "metadata": {},
   "source": [
    "### Assignment 1 (2 points).\n",
    "Write a function assignment_1 that replicates the outcome of assignment_1_true on the *dat* dataset from the beginning of the notebook"
   ]
  },
  {
   "cell_type": "code",
   "execution_count": 32,
   "metadata": {},
   "outputs": [],
   "source": [
    "def assignment_1_true(formula, data):\n",
    "    fit = smfOLS(formula, data = data).fit()\n",
    "    return fit.conf_int()"
   ]
  },
  {
   "cell_type": "code",
   "execution_count": 33,
   "metadata": {},
   "outputs": [
    {
     "data": {
      "text/html": [
       "<div>\n",
       "<style scoped>\n",
       "    .dataframe tbody tr th:only-of-type {\n",
       "        vertical-align: middle;\n",
       "    }\n",
       "\n",
       "    .dataframe tbody tr th {\n",
       "        vertical-align: top;\n",
       "    }\n",
       "\n",
       "    .dataframe thead th {\n",
       "        text-align: right;\n",
       "    }\n",
       "</style>\n",
       "<table border=\"1\" class=\"dataframe\">\n",
       "  <thead>\n",
       "    <tr style=\"text-align: right;\">\n",
       "      <th></th>\n",
       "      <th>0</th>\n",
       "      <th>1</th>\n",
       "    </tr>\n",
       "  </thead>\n",
       "  <tbody>\n",
       "    <tr>\n",
       "      <th>Intercept</th>\n",
       "      <td>-6.027115</td>\n",
       "      <td>41.046645</td>\n",
       "    </tr>\n",
       "    <tr>\n",
       "      <th>Literacy</th>\n",
       "      <td>-0.479342</td>\n",
       "      <td>0.179528</td>\n",
       "    </tr>\n",
       "    <tr>\n",
       "      <th>Donations</th>\n",
       "      <td>-0.000675</td>\n",
       "      <td>0.000954</td>\n",
       "    </tr>\n",
       "    <tr>\n",
       "      <th>Infants</th>\n",
       "      <td>-0.000005</td>\n",
       "      <td>0.001164</td>\n",
       "    </tr>\n",
       "    <tr>\n",
       "      <th>Wealth</th>\n",
       "      <td>0.096173</td>\n",
       "      <td>0.516922</td>\n",
       "    </tr>\n",
       "    <tr>\n",
       "      <th>Commerce</th>\n",
       "      <td>-0.100867</td>\n",
       "      <td>0.405366</td>\n",
       "    </tr>\n",
       "  </tbody>\n",
       "</table>\n",
       "</div>"
      ],
      "text/plain": [
       "                  0          1\n",
       "Intercept -6.027115  41.046645\n",
       "Literacy  -0.479342   0.179528\n",
       "Donations -0.000675   0.000954\n",
       "Infants   -0.000005   0.001164\n",
       "Wealth     0.096173   0.516922\n",
       "Commerce  -0.100867   0.405366"
      ]
     },
     "execution_count": 33,
     "metadata": {},
     "output_type": "execute_result"
    }
   ],
   "source": [
    "assignment_1_true('Lottery ~ Literacy + Donations + Infants + Wealth + Commerce', dat)"
   ]
  },
  {
   "cell_type": "code",
   "execution_count": 34,
   "metadata": {},
   "outputs": [],
   "source": [
    "def assignment_1(formula, data):\n",
    "    ycolumn = formula.split(' ~ ')[0]\n",
    "    xcolumns = formula.split(' ~ ')[1].split(' + ')\n",
    "    Y = data[ycolumn].values\n",
    "    # add bias\n",
    "    X = sm.add_constant(data[xcolumns].values)\n",
    "    \n",
    "    model = LR(fit_intercept=False).fit(X, Y)\n",
    "    # model residuals\n",
    "    eps = Y - model.predict(X)\n",
    "    # pred std and coefs cov matrix\n",
    "    sigma = eps.dot(eps) / (X.shape[0] - len(model.coef_))\n",
    "    cov = sigma * npla.inv(X.T @ X)\n",
    "\n",
    "    q_high = model.coef_ + 1.96*np.sqrt(np.diag(cov))\n",
    "    q_low = model.coef_ - 1.96*np.sqrt(np.diag(cov))\n",
    "\n",
    "    return pd.DataFrame({\n",
    "        0 : q_low,\n",
    "        1 : q_high\n",
    "    }, index=['Intercept'] + xcolumns)"
   ]
  },
  {
   "cell_type": "markdown",
   "metadata": {},
   "source": [
    "Make the cov matrix and process the std so as to make the confidence interval \n",
    "\n",
    "\n",
    "To find the confidence interval we further use formula with t-statistic "
   ]
  },
  {
   "cell_type": "code",
   "execution_count": 35,
   "metadata": {},
   "outputs": [
    {
     "data": {
      "text/html": [
       "<div>\n",
       "<style scoped>\n",
       "    .dataframe tbody tr th:only-of-type {\n",
       "        vertical-align: middle;\n",
       "    }\n",
       "\n",
       "    .dataframe tbody tr th {\n",
       "        vertical-align: top;\n",
       "    }\n",
       "\n",
       "    .dataframe thead th {\n",
       "        text-align: right;\n",
       "    }\n",
       "</style>\n",
       "<table border=\"1\" class=\"dataframe\">\n",
       "  <thead>\n",
       "    <tr style=\"text-align: right;\">\n",
       "      <th></th>\n",
       "      <th>0</th>\n",
       "      <th>1</th>\n",
       "    </tr>\n",
       "  </thead>\n",
       "  <tbody>\n",
       "    <tr>\n",
       "      <th>Intercept</th>\n",
       "      <td>-5.671549</td>\n",
       "      <td>40.691079</td>\n",
       "    </tr>\n",
       "    <tr>\n",
       "      <th>Literacy</th>\n",
       "      <td>-0.474365</td>\n",
       "      <td>0.174551</td>\n",
       "    </tr>\n",
       "    <tr>\n",
       "      <th>Donations</th>\n",
       "      <td>-0.000662</td>\n",
       "      <td>0.000942</td>\n",
       "    </tr>\n",
       "    <tr>\n",
       "      <th>Infants</th>\n",
       "      <td>0.000004</td>\n",
       "      <td>0.001155</td>\n",
       "    </tr>\n",
       "    <tr>\n",
       "      <th>Wealth</th>\n",
       "      <td>0.099351</td>\n",
       "      <td>0.513744</td>\n",
       "    </tr>\n",
       "    <tr>\n",
       "      <th>Commerce</th>\n",
       "      <td>-0.097043</td>\n",
       "      <td>0.401542</td>\n",
       "    </tr>\n",
       "  </tbody>\n",
       "</table>\n",
       "</div>"
      ],
      "text/plain": [
       "                  0          1\n",
       "Intercept -5.671549  40.691079\n",
       "Literacy  -0.474365   0.174551\n",
       "Donations -0.000662   0.000942\n",
       "Infants    0.000004   0.001155\n",
       "Wealth     0.099351   0.513744\n",
       "Commerce  -0.097043   0.401542"
      ]
     },
     "execution_count": 35,
     "metadata": {},
     "output_type": "execute_result"
    }
   ],
   "source": [
    "assignment_1('Lottery ~ Literacy + Donations + Infants + Wealth + Commerce', dat)"
   ]
  },
  {
   "cell_type": "markdown",
   "metadata": {},
   "source": [
    "### Assignment 2 (3 points).\n",
    "- Write a function that finds the coefficients for the **elastic net** regularized ols with coefficients $\\lambda$ and $\\mu$ of your choice\n",
    "- This time you do not need to find the standard errors"
   ]
  },
  {
   "cell_type": "code",
   "execution_count": 36,
   "metadata": {},
   "outputs": [],
   "source": [
    "from sklearn.linear_model import ElasticNet\n",
    "from sklearn.linear_model import ElasticNetCV\n",
    "import warnings\n",
    "warnings.filterwarnings('ignore')"
   ]
  },
  {
   "cell_type": "markdown",
   "metadata": {},
   "source": [
    "#### sklearn ElasticNet:\n",
    "\n",
    "loss function:\n",
    "$$\n",
    "1 / (2 * n\\_samples) * ||y - Xw||^2_2\n",
    "+ alpha * l1\\_ratio * ||w||_1\n",
    "+ 0.5 * alpha * (1 - l1\\_ratio) * ||w||^2_2\n",
    "$$\n",
    "\n",
    "control l1 and l2 separately:\n",
    "$$\n",
    "\\lambda * ||w||_1 + \\mu * ||w||_2^2\n",
    "$$\n",
    "\n",
    "$$\n",
    "\\alpha = \\lambda + 2\\mu\n",
    "$$\n",
    "$$\n",
    "l1\\_ratio = \\lambda / (\\lambda + 2\\mu)\n",
    "$$"
   ]
  },
  {
   "cell_type": "code",
   "execution_count": 37,
   "metadata": {},
   "outputs": [],
   "source": [
    "def get_sklearn_elastic_params(lamda, mu):\n",
    "    alpha = lamda + 2*mu\n",
    "    l1_ratio = lamda / (lamda+2*mu)\n",
    "    return alpha, l1_ratio"
   ]
  },
  {
   "cell_type": "code",
   "execution_count": 38,
   "metadata": {},
   "outputs": [],
   "source": [
    "def assignment_2(formula, data, mu, lamda):\n",
    "    ycolumn = formula.split(' ~ ')[0]\n",
    "    xcolumns = formula.split(' ~ ')[1].split(' + ')\n",
    "    Y = data[ycolumn].values\n",
    "    X = data[xcolumns].values\n",
    "    X = sm.add_constant(X)\n",
    "    \n",
    "    if lamda == 0 and mu == 0:\n",
    "        # no regularization\n",
    "        model = LR(fit_intercept=False)\n",
    "    else:\n",
    "        alpha, l1_ratio = get_sklearn_elastic_params(lamda, mu)\n",
    "        # your mock results\n",
    "        model = ElasticNet(fit_intercept=False, alpha=alpha, l1_ratio=l1_ratio)\n",
    "        \n",
    "    model = model.fit(X, Y)\n",
    "    \n",
    "    df = pd.DataFrame(model.coef_, columns = [0])\n",
    "    df.index = np.array(['Intercept'] + xcolumns)\n",
    "    \n",
    "    return df"
   ]
  },
  {
   "cell_type": "code",
   "execution_count": 39,
   "metadata": {},
   "outputs": [
    {
     "data": {
      "text/html": [
       "<div>\n",
       "<style scoped>\n",
       "    .dataframe tbody tr th:only-of-type {\n",
       "        vertical-align: middle;\n",
       "    }\n",
       "\n",
       "    .dataframe tbody tr th {\n",
       "        vertical-align: top;\n",
       "    }\n",
       "\n",
       "    .dataframe thead th {\n",
       "        text-align: right;\n",
       "    }\n",
       "</style>\n",
       "<table border=\"1\" class=\"dataframe\">\n",
       "  <thead>\n",
       "    <tr style=\"text-align: right;\">\n",
       "      <th></th>\n",
       "      <th>0</th>\n",
       "    </tr>\n",
       "  </thead>\n",
       "  <tbody>\n",
       "    <tr>\n",
       "      <th>Intercept</th>\n",
       "      <td>0.000000</td>\n",
       "    </tr>\n",
       "    <tr>\n",
       "      <th>Literacy</th>\n",
       "      <td>0.056924</td>\n",
       "    </tr>\n",
       "    <tr>\n",
       "      <th>Donations</th>\n",
       "      <td>0.000186</td>\n",
       "    </tr>\n",
       "    <tr>\n",
       "      <th>Infants</th>\n",
       "      <td>0.000791</td>\n",
       "    </tr>\n",
       "    <tr>\n",
       "      <th>Wealth</th>\n",
       "      <td>0.321767</td>\n",
       "    </tr>\n",
       "    <tr>\n",
       "      <th>Commerce</th>\n",
       "      <td>0.238890</td>\n",
       "    </tr>\n",
       "  </tbody>\n",
       "</table>\n",
       "</div>"
      ],
      "text/plain": [
       "                  0\n",
       "Intercept  0.000000\n",
       "Literacy   0.056924\n",
       "Donations  0.000186\n",
       "Infants    0.000791\n",
       "Wealth     0.321767\n",
       "Commerce   0.238890"
      ]
     },
     "execution_count": 39,
     "metadata": {},
     "output_type": "execute_result"
    }
   ],
   "source": [
    "assignment_2('Lottery ~ Literacy + Donations + Infants + Wealth + Commerce', dat, 1, 1)"
   ]
  },
  {
   "cell_type": "markdown",
   "metadata": {},
   "source": [
    "Conclusion\n",
    "\n",
    "- we see, that model has zero coef on Intercept, Donations, Ifants. So, these features aren't important for Lottery prediction"
   ]
  },
  {
   "cell_type": "markdown",
   "metadata": {},
   "source": [
    "### Assignment 3 (5 points)\n",
    "- Write a function that finds the coefficients for the **elastic net** regularized ols with crossvalidation\n",
    "- Use number of folds of your choice\n",
    "- You do not need to find the standard errors\n",
    "- Search for $\\lambda$, $\\mu$ in the range [0,5]x[0,5]"
   ]
  },
  {
   "cell_type": "code",
   "execution_count": 40,
   "metadata": {},
   "outputs": [],
   "source": [
    "from sklearn.model_selection import KFold\n",
    "from sklearn.metrics import mean_squared_error\n",
    "import itertools"
   ]
  },
  {
   "cell_type": "markdown",
   "metadata": {},
   "source": [
    "target metric: MSE"
   ]
  },
  {
   "cell_type": "code",
   "execution_count": 56,
   "metadata": {},
   "outputs": [],
   "source": [
    "def run_cv(model, X: np.array, Y: np.array, folds: int):\n",
    "    cv = KFold(n_splits=folds)\n",
    "    errs = []\n",
    "    for train_idx, val_idx in cv.split(X):\n",
    "        X_train, X_val = X[train_idx], X[val_idx]\n",
    "        y_train, y_val = Y[train_idx],Y[val_idx]\n",
    "        \n",
    "        model.fit(X_train, y_train)\n",
    "        err = mean_squared_error(y_val, model.predict(X_val))\n",
    "        errs.append(err)\n",
    "        \n",
    "    return np.mean(errs)"
   ]
  },
  {
   "cell_type": "code",
   "execution_count": 62,
   "metadata": {},
   "outputs": [],
   "source": [
    "def assignment_3(formula, data, folds = 5):\n",
    "    ycolumn = formula.split(' ~ ')[0]\n",
    "    xcolumns = formula.split(' ~ ')[1].split(' + ')\n",
    "    Y = data[ycolumn].values\n",
    "    X = data[xcolumns].values\n",
    "    X = sm.add_constant(X)\n",
    "    \n",
    "    hyperparams = []\n",
    "    mean_mses = []\n",
    "    \n",
    "    for lamda, mu in itertools.product(np.linspace(0.1, 5), np.linspace(0.1, 5)):\n",
    "        hyperparams.append((lamda, mu))\n",
    "        alpha, l1_ratio = get_sklearn_elastic_params(lamda, mu)\n",
    "        model = ElasticNet(fit_intercept=False, alpha=alpha, l1_ratio=l1_ratio)\n",
    "        mean_mses.append(run_cv(model, X, Y, folds))\n",
    "        \n",
    "    best_lambda, best_mu = hyperparams[np.argmin(mean_mses)]\n",
    "    best_mse = min(mean_mses)\n",
    "    \n",
    "    df = assignment_2(formula, data, mu=best_mu, lamda=best_lambda)\n",
    "    df_info = pd.DataFrame({\n",
    "        'best_lambda' : best_lambda,\n",
    "        'best_mu' : best_mu,\n",
    "        'best_mse' : best_mse\n",
    "    }, index=[0])\n",
    "    \n",
    "    return df, df_info"
   ]
  },
  {
   "cell_type": "code",
   "execution_count": 66,
   "metadata": {},
   "outputs": [],
   "source": [
    "res, info = assignment_3('Lottery ~ Literacy + Donations + Infants + Wealth + Commerce', dat, folds = 4)"
   ]
  },
  {
   "cell_type": "code",
   "execution_count": 67,
   "metadata": {},
   "outputs": [
    {
     "data": {
      "text/html": [
       "<div>\n",
       "<style scoped>\n",
       "    .dataframe tbody tr th:only-of-type {\n",
       "        vertical-align: middle;\n",
       "    }\n",
       "\n",
       "    .dataframe tbody tr th {\n",
       "        vertical-align: top;\n",
       "    }\n",
       "\n",
       "    .dataframe thead th {\n",
       "        text-align: right;\n",
       "    }\n",
       "</style>\n",
       "<table border=\"1\" class=\"dataframe\">\n",
       "  <thead>\n",
       "    <tr style=\"text-align: right;\">\n",
       "      <th></th>\n",
       "      <th>0</th>\n",
       "    </tr>\n",
       "  </thead>\n",
       "  <tbody>\n",
       "    <tr>\n",
       "      <th>Intercept</th>\n",
       "      <td>0.000000</td>\n",
       "    </tr>\n",
       "    <tr>\n",
       "      <th>Literacy</th>\n",
       "      <td>0.051575</td>\n",
       "    </tr>\n",
       "    <tr>\n",
       "      <th>Donations</th>\n",
       "      <td>0.000207</td>\n",
       "    </tr>\n",
       "    <tr>\n",
       "      <th>Infants</th>\n",
       "      <td>0.000821</td>\n",
       "    </tr>\n",
       "    <tr>\n",
       "      <th>Wealth</th>\n",
       "      <td>0.316535</td>\n",
       "    </tr>\n",
       "    <tr>\n",
       "      <th>Commerce</th>\n",
       "      <td>0.230403</td>\n",
       "    </tr>\n",
       "  </tbody>\n",
       "</table>\n",
       "</div>"
      ],
      "text/plain": [
       "                  0\n",
       "Intercept  0.000000\n",
       "Literacy   0.051575\n",
       "Donations  0.000207\n",
       "Infants    0.000821\n",
       "Wealth     0.316535\n",
       "Commerce   0.230403"
      ]
     },
     "execution_count": 67,
     "metadata": {},
     "output_type": "execute_result"
    }
   ],
   "source": [
    "res"
   ]
  },
  {
   "cell_type": "code",
   "execution_count": 68,
   "metadata": {},
   "outputs": [
    {
     "data": {
      "text/html": [
       "<div>\n",
       "<style scoped>\n",
       "    .dataframe tbody tr th:only-of-type {\n",
       "        vertical-align: middle;\n",
       "    }\n",
       "\n",
       "    .dataframe tbody tr th {\n",
       "        vertical-align: top;\n",
       "    }\n",
       "\n",
       "    .dataframe thead th {\n",
       "        text-align: right;\n",
       "    }\n",
       "</style>\n",
       "<table border=\"1\" class=\"dataframe\">\n",
       "  <thead>\n",
       "    <tr style=\"text-align: right;\">\n",
       "      <th></th>\n",
       "      <th>best_lambda</th>\n",
       "      <th>best_mu</th>\n",
       "      <th>best_mse</th>\n",
       "    </tr>\n",
       "  </thead>\n",
       "  <tbody>\n",
       "    <tr>\n",
       "      <th>0</th>\n",
       "      <td>5.0</td>\n",
       "      <td>5.0</td>\n",
       "      <td>530.012275</td>\n",
       "    </tr>\n",
       "  </tbody>\n",
       "</table>\n",
       "</div>"
      ],
      "text/plain": [
       "   best_lambda  best_mu    best_mse\n",
       "0          5.0      5.0  530.012275"
      ]
     },
     "execution_count": 68,
     "metadata": {},
     "output_type": "execute_result"
    }
   ],
   "source": [
    "info"
   ]
  },
  {
   "cell_type": "markdown",
   "metadata": {},
   "source": [
    "Conclusion:\n",
    "- we see, that best score achieved on strongest regularization"
   ]
  },
  {
   "cell_type": "markdown",
   "metadata": {},
   "source": [
    "### Assignment 4 (5 points).\n",
    "- Write a function that finds the coefficients for the **ridge** regularized ols with coefficient $\\lambda$ crossvalidated\n",
    "- This time you HAVE TO to find the standard errors\n",
    "- Derive the standard errors in markdown, assuming homoskedasticity of errors $E[ee'|X]=\\sigma^2 I$\n",
    "- see, for example, https://lukesonnet.com/teaching/inference/200d_standard_errors.pdf"
   ]
  },
  {
   "cell_type": "markdown",
   "metadata": {},
   "source": [
    "$$\n",
    "\\hat{\\sigma}^2 = \\overline{diag(ee')}\n",
    "$$\n",
    "$$\n",
    "\\quad \\hat{Cov}(\\beta) = \\hat{\\sigma}^2 (X'X + \\lambda I)^{-1} X'X [(X'X + \\lambda I)^{-1}]'\n",
    "$$"
   ]
  },
  {
   "cell_type": "code",
   "execution_count": 57,
   "metadata": {},
   "outputs": [],
   "source": [
    "from sklearn.linear_model import Ridge"
   ]
  },
  {
   "cell_type": "code",
   "execution_count": 87,
   "metadata": {},
   "outputs": [],
   "source": [
    "def assignment_4(formula, data, folds = 5):\n",
    "    ycolumn = formula.split(' ~ ')[0]\n",
    "    xcolumns = formula.split(' ~ ')[1].split(' + ')\n",
    "    Y = data[ycolumn].values\n",
    "    X = data[xcolumns].values\n",
    "    X = sm.add_constant(X)\n",
    "    \n",
    "    hyperparams = []\n",
    "    mean_mses = []\n",
    "    \n",
    "    # your mock results\n",
    "    for lamda in np.linspace(0.1, 5):\n",
    "        hyperparams.append(lamda)\n",
    "        model = Ridge(fit_intercept=False, alpha=lamda)\n",
    "        mean_mses.append(run_cv(model, X, Y, folds))\n",
    "        \n",
    "    best_lambda = hyperparams[np.argmin(mean_mses)]\n",
    "    best_mse = min(mean_mses)\n",
    "    \n",
    "    model = Ridge(fit_intercept=False, alpha=best_lambda)\n",
    "    model.fit(X, Y)\n",
    "    \n",
    "    resids = Y - model.predict(X)\n",
    "    sigma_sq = np.mean(np.diag(resids.reshape(-1, 1) @ resids.reshape(1, -1)))\n",
    "    \n",
    "    first_comp = npla.inv(X.T@X + best_lambda*np.eye(X.shape[1]))\n",
    "    cov = sigma_sq * (first_comp @ (X.T@X) @ first_comp.T)\n",
    "    coef_stds = np.sqrt(np.diag(cov))\n",
    "    \n",
    "    df = pd.DataFrame(model.coef_, columns = ['coef'])\n",
    "    df.index = np.array(['Intercept'] + xcolumns)\n",
    "    df['std'] = coef_stds\n",
    "    \n",
    "    info = pd.DataFrame({\n",
    "        'best_lambda' : best_lambda,\n",
    "        'best_mse' : best_mse\n",
    "    }, index=[0])\n",
    "    return df, info"
   ]
  },
  {
   "cell_type": "code",
   "execution_count": 88,
   "metadata": {},
   "outputs": [],
   "source": [
    "res, info = assignment_4('Lottery ~ Literacy + Donations + Infants + Wealth + Commerce', dat, folds = 3)"
   ]
  },
  {
   "cell_type": "code",
   "execution_count": 89,
   "metadata": {},
   "outputs": [
    {
     "data": {
      "text/html": [
       "<div>\n",
       "<style scoped>\n",
       "    .dataframe tbody tr th:only-of-type {\n",
       "        vertical-align: middle;\n",
       "    }\n",
       "\n",
       "    .dataframe tbody tr th {\n",
       "        vertical-align: top;\n",
       "    }\n",
       "\n",
       "    .dataframe thead th {\n",
       "        text-align: right;\n",
       "    }\n",
       "</style>\n",
       "<table border=\"1\" class=\"dataframe\">\n",
       "  <thead>\n",
       "    <tr style=\"text-align: right;\">\n",
       "      <th></th>\n",
       "      <th>coef</th>\n",
       "      <th>std</th>\n",
       "    </tr>\n",
       "  </thead>\n",
       "  <tbody>\n",
       "    <tr>\n",
       "      <th>Intercept</th>\n",
       "      <td>6.710674</td>\n",
       "      <td>4.393657</td>\n",
       "    </tr>\n",
       "    <tr>\n",
       "      <th>Literacy</th>\n",
       "      <td>-0.021500</td>\n",
       "      <td>0.099478</td>\n",
       "    </tr>\n",
       "    <tr>\n",
       "      <th>Donations</th>\n",
       "      <td>0.000165</td>\n",
       "      <td>0.000396</td>\n",
       "    </tr>\n",
       "    <tr>\n",
       "      <th>Infants</th>\n",
       "      <td>0.000705</td>\n",
       "      <td>0.000256</td>\n",
       "    </tr>\n",
       "    <tr>\n",
       "      <th>Wealth</th>\n",
       "      <td>0.316712</td>\n",
       "      <td>0.101982</td>\n",
       "    </tr>\n",
       "    <tr>\n",
       "      <th>Commerce</th>\n",
       "      <td>0.207011</td>\n",
       "      <td>0.110974</td>\n",
       "    </tr>\n",
       "  </tbody>\n",
       "</table>\n",
       "</div>"
      ],
      "text/plain": [
       "               coef       std\n",
       "Intercept  6.710674  4.393657\n",
       "Literacy  -0.021500  0.099478\n",
       "Donations  0.000165  0.000396\n",
       "Infants    0.000705  0.000256\n",
       "Wealth     0.316712  0.101982\n",
       "Commerce   0.207011  0.110974"
      ]
     },
     "execution_count": 89,
     "metadata": {},
     "output_type": "execute_result"
    }
   ],
   "source": [
    "res"
   ]
  },
  {
   "cell_type": "code",
   "execution_count": 90,
   "metadata": {},
   "outputs": [
    {
     "data": {
      "text/html": [
       "<div>\n",
       "<style scoped>\n",
       "    .dataframe tbody tr th:only-of-type {\n",
       "        vertical-align: middle;\n",
       "    }\n",
       "\n",
       "    .dataframe tbody tr th {\n",
       "        vertical-align: top;\n",
       "    }\n",
       "\n",
       "    .dataframe thead th {\n",
       "        text-align: right;\n",
       "    }\n",
       "</style>\n",
       "<table border=\"1\" class=\"dataframe\">\n",
       "  <thead>\n",
       "    <tr style=\"text-align: right;\">\n",
       "      <th></th>\n",
       "      <th>best_lambda</th>\n",
       "      <th>best_mse</th>\n",
       "    </tr>\n",
       "  </thead>\n",
       "  <tbody>\n",
       "    <tr>\n",
       "      <th>0</th>\n",
       "      <td>5.0</td>\n",
       "      <td>534.111282</td>\n",
       "    </tr>\n",
       "  </tbody>\n",
       "</table>\n",
       "</div>"
      ],
      "text/plain": [
       "   best_lambda    best_mse\n",
       "0          5.0  534.111282"
      ]
     },
     "execution_count": 90,
     "metadata": {},
     "output_type": "execute_result"
    }
   ],
   "source": [
    "info"
   ]
  },
  {
   "cell_type": "markdown",
   "metadata": {},
   "source": [
    "Conclusion:\n",
    "\n",
    "- we see, that best loss achieves with strongest regularization\n",
    "- coefs with regularization have small std"
   ]
  }
 ],
 "metadata": {
  "interpreter": {
   "hash": "b1a6d30f7905386cac232d04911bfb07fb0ebb5222b5f596c440ef351d2858ad"
  },
  "kernelspec": {
   "display_name": "Python 3",
   "language": "python",
   "name": "python3"
  },
  "language_info": {
   "codemirror_mode": {
    "name": "ipython",
    "version": 3
   },
   "file_extension": ".py",
   "mimetype": "text/x-python",
   "name": "python",
   "nbconvert_exporter": "python",
   "pygments_lexer": "ipython3",
   "version": "3.8.3"
  }
 },
 "nbformat": 4,
 "nbformat_minor": 4
}
