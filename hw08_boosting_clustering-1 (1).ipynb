{
 "cells": [
  {
   "cell_type": "markdown",
   "metadata": {
    "id": "IHgmxWG_7lnE"
   },
   "source": [
    "# Введение в анализ данных\n",
    "## НИУ ВШЭ, 2020-2021 учебный год\n",
    "\n",
    "### Домашнее задание №8"
   ]
  },
  {
   "cell_type": "code",
   "execution_count": 38,
   "metadata": {
    "id": "GOqjUI6igeLc"
   },
   "outputs": [],
   "source": [
    "import numpy as np\n",
    "import pandas as pd\n",
    "\n",
    "from sklearn.base import BaseEstimator\n",
    "from sklearn.datasets import load_boston\n",
    "from sklearn.model_selection import train_test_split\n",
    "from sklearn.tree import DecisionTreeClassifier, DecisionTreeRegressor\n",
    "from sklearn.metrics import accuracy_score, precision_score, recall_score, roc_auc_score, mean_squared_error"
   ]
  },
  {
   "cell_type": "code",
   "execution_count": 2,
   "metadata": {},
   "outputs": [
    {
     "data": {
      "text/plain": [
       "'0.23.2'"
      ]
     },
     "execution_count": 2,
     "metadata": {},
     "output_type": "execute_result"
    }
   ],
   "source": [
    "import sklearn\n",
    "sklearn.__version__"
   ]
  },
  {
   "cell_type": "markdown",
   "metadata": {
    "id": "-tKaz0okgeLh"
   },
   "source": [
    "## Градиентный бустинг своими руками (2 + 2* баллов)\n",
    "\n",
    "Реализуйте алгоритм градиентного бустинга для регрессии. Напомним основные формулы.\n",
    "\n",
    "Обозначим текущую композицию на $N-1$ шаге за $a_{N - 1}(x_i)$. Следующий базовый алгоритм $b_N(x_i)$ обучается на ответах $-\\frac{\\partial L(y_i, z)}{\\partial z}\\Bigl|_{z = a_{N - 1}(x_i)}$, где $L(y_i, z)$ — значение функции потерь на объекте при правильном ответе $y_i$ и предсказании $z$. Композиция на следующем шаге получается следующим образом:\n",
    "\n",
    "$$\n",
    "a_N(x_i) = a_{N-1}(x_i) + \\nu\\gamma_Nb_N(x_i)\n",
    "$$\n",
    "\n",
    "Здесь $\\nu$ — гиперпараметр learning rate, $\\gamma_N$ — оптимальный вес, настраиваемый на каждом шаге алгоритма, который можно найти по следующей формуле (обратите внимание на отсутствие $\\nu$):\n",
    "\n",
    "$$\n",
    "\\gamma_N = \\mathrm{arg}\\min_\\gamma \\frac{1}{\\ell}\\sum\\limits_{i=1}^{\\ell}L\\left(y_i, a_{N - 1}(x_i) + \\gamma b_N(x_i)\\right)\n",
    "$$\n",
    "\n",
    "Можете принять $\\gamma_N = 1$ для каждого $N$. Реализуйте нахождение оптимального $\\gamma_N$ на каждом шаге, чтобы получить ещё 1 балл.\n",
    "\n",
    "В качестве функции потерь возьмите MSE.\n",
    "\n",
    "*Примечание. Вы можете использовать `DecisionTree` из `sklearn` и методы оптимизации из различных библиотек.*"
   ]
  },
  {
   "cell_type": "code",
   "execution_count": 86,
   "metadata": {
    "id": "Eu_ZIF9YgeLi"
   },
   "outputs": [],
   "source": [
    "# это может помочь вам для поиска оптимальных gamma\n",
    "from scipy.optimize import minimize"
   ]
  },
  {
   "cell_type": "code",
   "execution_count": 344,
   "metadata": {
    "id": "ZB5Yt-LKgeLi"
   },
   "outputs": [],
   "source": [
    "class GradientBoosting(BaseEstimator):\n",
    "    def __init__(self, n_estimators, max_depth, learning_rate=0.1):\n",
    "        \"\"\"\n",
    "        PARAMETERS:\n",
    "        n_estimators - number of trees in the ensemble\n",
    "        max_depth - maximum depth of a tree\n",
    "        learning_rate - coefficient by which new algorithm result is multiplied\n",
    "        \"\"\"\n",
    "        # your code here\n",
    "        self.n_estimators = n_estimators\n",
    "        self.max_depth = max_depth\n",
    "        self.learning_rate = learning_rate\n",
    "        \n",
    "        self.ensemble = []\n",
    "        self.gammas = []\n",
    "        pass\n",
    "    \n",
    "    def _loss_function(self, y, y_pred):\n",
    "        return (y - y_pred)**2\n",
    "    \n",
    "    def _loss_gradient(self, y, y_pred):\n",
    "        return -2 * (y - y_pred)\n",
    "        \n",
    "    def fit(self, x, y):\n",
    "        \"\"\"\n",
    "        INPUT:\n",
    "        x - np.array of shape (k, d)\n",
    "        y - np.array of shape (k,)\n",
    "        \"\"\"\n",
    "        # Здесь нам нужно проитерироваться по n_estimators и обучить\n",
    "        # соответствующее количество деревьев с помощью _fit_predict_tree(),\n",
    "        # правильно обновляя y_new\n",
    "        # Деревья нужно где-то сохранить, чтобы затем использовать в predict()\n",
    "        # your code here\n",
    "        \n",
    "        self.first_prediction_constant = np.mean(y)\n",
    "        y_new = self.first_prediction_constant * np.ones(len(y))\n",
    "        \n",
    "        for i in range(self.n_estimators):\n",
    "            y_new += self._fit_predict_tree(x, y, y_new)\n",
    "            # your code here\n",
    "        \n",
    "        return self\n",
    "\n",
    "    def _fit_predict_tree(self, x, y, y_new):\n",
    "        \"\"\"\n",
    "        INPUT:\n",
    "        x - np.array of shape (k, d)\n",
    "        таргеты\n",
    "        y - np.array of shape (k,)\n",
    "        предсказания текущего ансамбля\n",
    "        y_new - np.array of shape (k,)\n",
    "        \"\"\"\n",
    "        # Обучаем дерево и возвращаем его предикшн\n",
    "        y_antigradient = np.array([\n",
    "            -1*self._loss_gradient(i, j) for i, j in zip(y, y_new)\n",
    "        ])\n",
    "        tree = DecisionTreeRegressor(max_depth=self.max_depth)\n",
    "        tree = tree.fit(x, y_antigradient)\n",
    "        self.ensemble.append(tree)\n",
    "        y_pred = tree.predict(x)\n",
    "        \n",
    "        # Поиск оптимального lr на текущем шаге\n",
    "        loss_by_lr = lambda lr : np.mean(self._loss_function(y, y_new + lr*y_pred))\n",
    "        optimization_res  = minimize(loss_by_lr, 1)\n",
    "        gamma = optimization_res['x'][0]\n",
    "        self.gammas.append(gamma)\n",
    "        \n",
    "        # your code here\n",
    "        return gamma * self.learning_rate * y_pred\n",
    "        \n",
    "    def predict(self, x):\n",
    "        \"\"\"\n",
    "        INPUT:\n",
    "        x - np.array of shape (m, d)\n",
    "        OUTPUT:\n",
    "        y_pred - np.array of shape (m,)\n",
    "        \"\"\"\n",
    "        # Используем сохранённые деревья для расчёта агрегированного предикшна\n",
    "        # your code here\n",
    "        y_pred = self.first_prediction_constant * np.ones(x.shape[0])\n",
    "        \n",
    "        for i in range(self.n_estimators):\n",
    "            y_pred += self.gammas[i]*self.learning_rate*self.ensemble[i].predict(x)\n",
    "        \n",
    "        return y_pred"
   ]
  },
  {
   "cell_type": "markdown",
   "metadata": {
    "id": "7z-8PafFgeLj"
   },
   "source": [
    "Проверьте вашу реализацию на Boston dataset. Подберите оптимальные гиперпараметры, чтобы победить RandomForestRegressor как в обычном случае, так и при нахождении оптимального шага **(не меняйте параметры сида)**. При необходимости воспользуйтесь GridSearch. За это вы получите ещё 1 балл."
   ]
  },
  {
   "cell_type": "code",
   "execution_count": 345,
   "metadata": {
    "id": "0rxKS85vgeLj"
   },
   "outputs": [],
   "source": [
    "boston = load_boston()\n",
    "X = boston.data\n",
    "y = boston.target\n",
    "X_train, X_test, y_train, y_test = train_test_split(X, y, test_size=0.25, random_state=13)"
   ]
  },
  {
   "cell_type": "code",
   "execution_count": 346,
   "metadata": {
    "id": "dAOaQK2a2N4p"
   },
   "outputs": [
    {
     "data": {
      "text/plain": [
       "9.63198271791959"
      ]
     },
     "execution_count": 346,
     "metadata": {},
     "output_type": "execute_result"
    }
   ],
   "source": [
    "from sklearn.ensemble import RandomForestRegressor\n",
    "\n",
    "rf = RandomForestRegressor(max_features=4, n_estimators=640, random_state=19052019)\n",
    "\n",
    "rf.fit(X_train, y_train)\n",
    "mean_squared_error(y_test, rf.predict(X_test))"
   ]
  },
  {
   "cell_type": "markdown",
   "metadata": {},
   "source": [
    "### Gradient Boosting with gridsearchcv"
   ]
  },
  {
   "cell_type": "code",
   "execution_count": 347,
   "metadata": {},
   "outputs": [],
   "source": [
    "from sklearn.model_selection import train_test_split, GridSearchCV\n",
    "from sklearn.model_selection import PredefinedSplit\n",
    "\n",
    "split_index = [-1]*len(X_train) + [0]*len(X_test)\n",
    "pds = PredefinedSplit(test_fold = split_index)"
   ]
  },
  {
   "cell_type": "code",
   "execution_count": 348,
   "metadata": {
    "id": "_gt3vn0IgeLk",
    "scrolled": true
   },
   "outputs": [
    {
     "name": "stdout",
     "output_type": "stream",
     "text": [
      "Fitting 1 folds for each of 128 candidates, totalling 128 fits\n"
     ]
    },
    {
     "name": "stderr",
     "output_type": "stream",
     "text": [
      "[Parallel(n_jobs=4)]: Using backend LokyBackend with 4 concurrent workers.\n",
      "[Parallel(n_jobs=4)]: Done  33 tasks      | elapsed:   14.0s\n",
      "[Parallel(n_jobs=4)]: Done 128 out of 128 | elapsed:   49.0s finished\n"
     ]
    },
    {
     "data": {
      "text/plain": [
       "GridSearchCV(cv=PredefinedSplit(test_fold=array([-1, -1, ...,  0,  0])),\n",
       "             estimator=GradientBoosting(max_depth=7, n_estimators=400),\n",
       "             n_jobs=4,\n",
       "             param_grid={'learning_rate': [0.1, 0.2, 0.25, 0.3],\n",
       "                         'max_depth': [6, 7, 8, 10],\n",
       "                         'n_estimators': [200, 250, 275, 300, 350, 400, 500,\n",
       "                                          600]},\n",
       "             scoring='neg_mean_squared_error', verbose=2)"
      ]
     },
     "execution_count": 348,
     "metadata": {},
     "output_type": "execute_result"
    }
   ],
   "source": [
    "np.random.seed(19052019)\n",
    "g_search = GridSearchCV(\n",
    "    GradientBoosting(400, 7),\n",
    "    param_grid={\n",
    "          'n_estimators' : [200, 250, 275, 300, 350, 400, 500, 600]\n",
    "        , 'max_depth' : [6, 7, 8, 10]\n",
    "        , 'learning_rate' : [0.1, 0.2, 0.25, 0.3]\n",
    "    },\n",
    "    cv=pds,\n",
    "    scoring='neg_mean_squared_error',\n",
    "    verbose=2,\n",
    "    n_jobs=4\n",
    ")\n",
    "\n",
    "X, y = np.concatenate([X_train, X_test]), np.concatenate([y_train, y_test])\n",
    "g_search.fit(X, y)"
   ]
  },
  {
   "cell_type": "code",
   "execution_count": 349,
   "metadata": {
    "id": "hLasKyLXgeLk"
   },
   "outputs": [
    {
     "data": {
      "text/plain": [
       "{'learning_rate': 0.2, 'max_depth': 6, 'n_estimators': 275}"
      ]
     },
     "execution_count": 349,
     "metadata": {},
     "output_type": "execute_result"
    }
   ],
   "source": [
    "g_search.best_params_"
   ]
  },
  {
   "cell_type": "code",
   "execution_count": 350,
   "metadata": {
    "scrolled": true
   },
   "outputs": [],
   "source": [
    "np.random.seed(19052019)\n",
    "my_gb = GradientBoosting(\n",
    "    n_estimators=g_search.best_params_['n_estimators'],\n",
    "    max_depth=g_search.best_params_['max_depth'],\n",
    "    learning_rate=g_search.best_params_['learning_rate']\n",
    ").fit(X_train, y_train)"
   ]
  },
  {
   "cell_type": "code",
   "execution_count": 352,
   "metadata": {},
   "outputs": [
    {
     "name": "stdout",
     "output_type": "stream",
     "text": [
      "9.5875623324\n"
     ]
    }
   ],
   "source": [
    "mean_squared_error(y_test, my_gb.predict(X_test))"
   ]
  },
  {
   "cell_type": "markdown",
   "metadata": {
    "id": "bCWou8xPgeLl"
   },
   "source": [
    "Для удобства проверяющего укажите, пожалуйста, реализовали ли вы нахождение оптимального шага?\n",
    "\n",
    "- Да"
   ]
  },
  {
   "cell_type": "markdown",
   "metadata": {
    "id": "PgCTG0lbO1mK"
   },
   "source": [
    "## Прогнозируем задержки самолётов (2 балла)"
   ]
  },
  {
   "cell_type": "markdown",
   "metadata": {
    "id": "ZVZibhKiM3j4"
   },
   "source": [
    "Поработаем с задачей про задержки самолётов. На основании доступных данных о рейсе вам нужно определить, будет ли он задержан на 15 минут.\n",
    "Воспользуйтесь любыми методами градиентного бустинга {XGboost, catboost, LightGBM} и GridSearch для достижения результата. Получите 1 балл за преодоление порога roc_auc_score 0.72 и ещё 1 балл за преодоление порога 0.74."
   ]
  },
  {
   "cell_type": "code",
   "execution_count": 36,
   "metadata": {},
   "outputs": [
    {
     "name": "stdout",
     "output_type": "stream",
     "text": [
      "  % Total    % Received % Xferd  Average Speed   Time    Time     Time  Current\n",
      "                                 Dload  Upload   Total   Spent    Left  Speed\n",
      "100 3406k  100 3406k    0     0  4724k      0 --:--:-- --:--:-- --:--:-- 4718k\n",
      "  % Total    % Received % Xferd  Average Speed   Time    Time     Time  Current\n",
      "                                 Dload  Upload   Total   Spent    Left  Speed\n",
      "100 3210k  100 3210k    0     0  3039k      0  0:00:01  0:00:01 --:--:-- 3039k\n"
     ]
    }
   ],
   "source": [
    "!curl -o flight_delays_train.csv https://raw.githubusercontent.com/PersDep/data-mining-intro-2021/main/hw08-boosting-clustering/flight_delays_train.csv\n",
    "!curl -o flight_delays_test.csv https://raw.githubusercontent.com/PersDep/data-mining-intro-2021/main/hw08-boosting-clustering/flight_delays_test.csv"
   ]
  },
  {
   "cell_type": "code",
   "execution_count": 51,
   "metadata": {},
   "outputs": [],
   "source": [
    "from catboost import CatBoostClassifier"
   ]
  },
  {
   "cell_type": "code",
   "execution_count": 39,
   "metadata": {
    "id": "WuwqUkrfM3UI"
   },
   "outputs": [],
   "source": [
    "train = pd.read_csv('flight_delays_train.csv')\n",
    "test = pd.read_csv('flight_delays_test.csv')"
   ]
  },
  {
   "cell_type": "markdown",
   "metadata": {},
   "source": [
    "- Month, DayofMonth, DayofWeek -- цикличниые фичи, закодируем их синусами и косинусами\n",
    "- а также оставим Month and DayofWeek как категориальные фичи"
   ]
  },
  {
   "cell_type": "code",
   "execution_count": 63,
   "metadata": {},
   "outputs": [
    {
     "data": {
      "text/html": [
       "<div>\n",
       "<style scoped>\n",
       "    .dataframe tbody tr th:only-of-type {\n",
       "        vertical-align: middle;\n",
       "    }\n",
       "\n",
       "    .dataframe tbody tr th {\n",
       "        vertical-align: top;\n",
       "    }\n",
       "\n",
       "    .dataframe thead th {\n",
       "        text-align: right;\n",
       "    }\n",
       "</style>\n",
       "<table border=\"1\" class=\"dataframe\">\n",
       "  <thead>\n",
       "    <tr style=\"text-align: right;\">\n",
       "      <th></th>\n",
       "      <th>Month</th>\n",
       "      <th>DayofMonth</th>\n",
       "      <th>DayOfWeek</th>\n",
       "      <th>DepTime</th>\n",
       "      <th>UniqueCarrier</th>\n",
       "      <th>Origin</th>\n",
       "      <th>Dest</th>\n",
       "      <th>Distance</th>\n",
       "      <th>dep_delayed_15min</th>\n",
       "      <th>day_of_month_sin</th>\n",
       "      <th>day_of_month_cos</th>\n",
       "    </tr>\n",
       "  </thead>\n",
       "  <tbody>\n",
       "    <tr>\n",
       "      <th>0</th>\n",
       "      <td>c-8</td>\n",
       "      <td>c-21</td>\n",
       "      <td>c-7</td>\n",
       "      <td>1934</td>\n",
       "      <td>AA</td>\n",
       "      <td>ATL</td>\n",
       "      <td>DFW</td>\n",
       "      <td>732</td>\n",
       "      <td>N</td>\n",
       "      <td>6.328745e-17</td>\n",
       "      <td>0.032258</td>\n",
       "    </tr>\n",
       "    <tr>\n",
       "      <th>1</th>\n",
       "      <td>c-4</td>\n",
       "      <td>c-20</td>\n",
       "      <td>c-3</td>\n",
       "      <td>1548</td>\n",
       "      <td>US</td>\n",
       "      <td>PIT</td>\n",
       "      <td>MCO</td>\n",
       "      <td>834</td>\n",
       "      <td>N</td>\n",
       "      <td>-1.580189e-16</td>\n",
       "      <td>0.032258</td>\n",
       "    </tr>\n",
       "    <tr>\n",
       "      <th>2</th>\n",
       "      <td>c-9</td>\n",
       "      <td>c-2</td>\n",
       "      <td>c-5</td>\n",
       "      <td>1422</td>\n",
       "      <td>XE</td>\n",
       "      <td>RDU</td>\n",
       "      <td>CLE</td>\n",
       "      <td>416</td>\n",
       "      <td>N</td>\n",
       "      <td>-1.580189e-17</td>\n",
       "      <td>0.032258</td>\n",
       "    </tr>\n",
       "  </tbody>\n",
       "</table>\n",
       "</div>"
      ],
      "text/plain": [
       "  Month DayofMonth DayOfWeek  DepTime UniqueCarrier Origin Dest  Distance  \\\n",
       "0   c-8       c-21       c-7     1934            AA    ATL  DFW       732   \n",
       "1   c-4       c-20       c-3     1548            US    PIT  MCO       834   \n",
       "2   c-9        c-2       c-5     1422            XE    RDU  CLE       416   \n",
       "\n",
       "  dep_delayed_15min  day_of_month_sin  day_of_month_cos  \n",
       "0                 N      6.328745e-17          0.032258  \n",
       "1                 N     -1.580189e-16          0.032258  \n",
       "2                 N     -1.580189e-17          0.032258  "
      ]
     },
     "execution_count": 63,
     "metadata": {},
     "output_type": "execute_result"
    }
   ],
   "source": [
    "train.head(3)"
   ]
  },
  {
   "cell_type": "code",
   "execution_count": 62,
   "metadata": {},
   "outputs": [],
   "source": [
    "train['day_of_month_sin'] = train['DayofMonth'].apply(lambda x : np.sin(2*np.pi*float(x[2:]))/31)\n",
    "train['day_of_month_cos'] = train['DayofMonth'].apply(lambda x : np.cos(2*np.pi*float(x[2:]))/31)"
   ]
  },
  {
   "cell_type": "code",
   "execution_count": 65,
   "metadata": {},
   "outputs": [],
   "source": [
    "train['day_of_week_sin'] = train['DayOfWeek'].apply(lambda x : np.sin(2*np.pi*float(x[2:]))/7)\n",
    "train['day_of_week_cos'] = train['DayOfWeek'].apply(lambda x : np.cos(2*np.pi*float(x[2:]))/7)"
   ]
  },
  {
   "cell_type": "code",
   "execution_count": 66,
   "metadata": {},
   "outputs": [],
   "source": [
    "train['month_sin'] = train['Month'].apply(lambda x : np.sin(2*np.pi*float(x[2:]))/12)\n",
    "train['month_cos'] = train['Month'].apply(lambda x : np.cos(2*np.pi*float(x[2:]))/12)"
   ]
  },
  {
   "cell_type": "code",
   "execution_count": 80,
   "metadata": {},
   "outputs": [],
   "source": [
    "train_feats = [\n",
    "    'DepTime', 'UniqueCarrier', 'Origin', 'Dest', 'Distance', \n",
    "    'day_of_month_sin', 'day_of_month_cos', 'day_of_week_sin', 'day_of_week_cos',\n",
    "    'month_sin', 'month_cos', 'Month', 'DayOfWeek'\n",
    "]\n",
    "\n",
    "cat_feats = ['UniqueCarrier', 'Origin', 'Dest', 'Month', 'DayOfWeek']"
   ]
  },
  {
   "cell_type": "code",
   "execution_count": 81,
   "metadata": {
    "collapsed": true
   },
   "outputs": [
    {
     "name": "stdout",
     "output_type": "stream",
     "text": [
      "Learning rate set to 0.063211\n",
      "0:\tlearn: 0.6594477\ttotal: 29.7ms\tremaining: 29.6s\n",
      "1:\tlearn: 0.6306508\ttotal: 62.4ms\tremaining: 31.2s\n",
      "2:\tlearn: 0.6068266\ttotal: 84.1ms\tremaining: 27.9s\n",
      "3:\tlearn: 0.5858746\ttotal: 113ms\tremaining: 28.1s\n",
      "4:\tlearn: 0.5674242\ttotal: 141ms\tremaining: 28s\n",
      "5:\tlearn: 0.5517428\ttotal: 174ms\tremaining: 28.9s\n",
      "6:\tlearn: 0.5399102\ttotal: 188ms\tremaining: 26.7s\n",
      "7:\tlearn: 0.5295790\ttotal: 226ms\tremaining: 28s\n",
      "8:\tlearn: 0.5188060\ttotal: 259ms\tremaining: 28.6s\n",
      "9:\tlearn: 0.5106789\ttotal: 280ms\tremaining: 27.7s\n",
      "10:\tlearn: 0.5030693\ttotal: 308ms\tremaining: 27.7s\n",
      "11:\tlearn: 0.4971492\ttotal: 334ms\tremaining: 27.5s\n",
      "12:\tlearn: 0.4904518\ttotal: 364ms\tremaining: 27.6s\n",
      "13:\tlearn: 0.4852398\ttotal: 394ms\tremaining: 27.8s\n",
      "14:\tlearn: 0.4812408\ttotal: 425ms\tremaining: 27.9s\n",
      "15:\tlearn: 0.4784650\ttotal: 437ms\tremaining: 26.9s\n",
      "16:\tlearn: 0.4742483\ttotal: 479ms\tremaining: 27.7s\n",
      "17:\tlearn: 0.4707686\ttotal: 510ms\tremaining: 27.8s\n",
      "18:\tlearn: 0.4674210\ttotal: 543ms\tremaining: 28s\n",
      "19:\tlearn: 0.4651747\ttotal: 569ms\tremaining: 27.9s\n",
      "20:\tlearn: 0.4636722\ttotal: 589ms\tremaining: 27.4s\n",
      "21:\tlearn: 0.4613850\ttotal: 621ms\tremaining: 27.6s\n",
      "22:\tlearn: 0.4597704\ttotal: 653ms\tremaining: 27.7s\n",
      "23:\tlearn: 0.4579692\ttotal: 698ms\tremaining: 28.4s\n",
      "24:\tlearn: 0.4564153\ttotal: 738ms\tremaining: 28.8s\n",
      "25:\tlearn: 0.4550048\ttotal: 764ms\tremaining: 28.6s\n",
      "26:\tlearn: 0.4537866\ttotal: 790ms\tremaining: 28.5s\n",
      "27:\tlearn: 0.4525582\ttotal: 817ms\tremaining: 28.4s\n",
      "28:\tlearn: 0.4521497\ttotal: 826ms\tremaining: 27.7s\n",
      "29:\tlearn: 0.4510332\ttotal: 860ms\tremaining: 27.8s\n",
      "30:\tlearn: 0.4499711\ttotal: 901ms\tremaining: 28.2s\n",
      "31:\tlearn: 0.4490397\ttotal: 927ms\tremaining: 28s\n",
      "32:\tlearn: 0.4482064\ttotal: 959ms\tremaining: 28.1s\n",
      "33:\tlearn: 0.4474924\ttotal: 994ms\tremaining: 28.2s\n",
      "34:\tlearn: 0.4466776\ttotal: 1.03s\tremaining: 28.5s\n",
      "35:\tlearn: 0.4459777\ttotal: 1.09s\tremaining: 29.2s\n",
      "36:\tlearn: 0.4453060\ttotal: 1.13s\tremaining: 29.5s\n",
      "37:\tlearn: 0.4447653\ttotal: 1.17s\tremaining: 29.5s\n",
      "38:\tlearn: 0.4442895\ttotal: 1.21s\tremaining: 29.7s\n",
      "39:\tlearn: 0.4435546\ttotal: 1.24s\tremaining: 29.8s\n",
      "40:\tlearn: 0.4429801\ttotal: 1.27s\tremaining: 29.6s\n",
      "41:\tlearn: 0.4425751\ttotal: 1.3s\tremaining: 29.8s\n",
      "42:\tlearn: 0.4421429\ttotal: 1.34s\tremaining: 29.9s\n",
      "43:\tlearn: 0.4416977\ttotal: 1.38s\tremaining: 29.9s\n",
      "44:\tlearn: 0.4413112\ttotal: 1.41s\tremaining: 30s\n",
      "45:\tlearn: 0.4409872\ttotal: 1.44s\tremaining: 29.9s\n",
      "46:\tlearn: 0.4405776\ttotal: 1.48s\tremaining: 29.9s\n",
      "47:\tlearn: 0.4402282\ttotal: 1.51s\tremaining: 30s\n",
      "48:\tlearn: 0.4398342\ttotal: 1.56s\tremaining: 30.3s\n",
      "49:\tlearn: 0.4395194\ttotal: 1.59s\tremaining: 30.3s\n",
      "50:\tlearn: 0.4392225\ttotal: 1.66s\tremaining: 30.9s\n",
      "51:\tlearn: 0.4388302\ttotal: 1.71s\tremaining: 31.1s\n",
      "52:\tlearn: 0.4386558\ttotal: 1.76s\tremaining: 31.4s\n",
      "53:\tlearn: 0.4384041\ttotal: 1.79s\tremaining: 31.4s\n",
      "54:\tlearn: 0.4381801\ttotal: 1.82s\tremaining: 31.3s\n",
      "55:\tlearn: 0.4378840\ttotal: 1.87s\tremaining: 31.5s\n",
      "56:\tlearn: 0.4376855\ttotal: 1.89s\tremaining: 31.3s\n",
      "57:\tlearn: 0.4374492\ttotal: 1.93s\tremaining: 31.3s\n",
      "58:\tlearn: 0.4371624\ttotal: 1.96s\tremaining: 31.3s\n",
      "59:\tlearn: 0.4369019\ttotal: 2.01s\tremaining: 31.4s\n",
      "60:\tlearn: 0.4367761\ttotal: 2.04s\tremaining: 31.4s\n",
      "61:\tlearn: 0.4365447\ttotal: 2.08s\tremaining: 31.5s\n",
      "62:\tlearn: 0.4365030\ttotal: 2.1s\tremaining: 31.3s\n",
      "63:\tlearn: 0.4363389\ttotal: 2.14s\tremaining: 31.3s\n",
      "64:\tlearn: 0.4361463\ttotal: 2.17s\tremaining: 31.2s\n",
      "65:\tlearn: 0.4359485\ttotal: 2.21s\tremaining: 31.3s\n",
      "66:\tlearn: 0.4357149\ttotal: 2.24s\tremaining: 31.2s\n",
      "67:\tlearn: 0.4356014\ttotal: 2.27s\tremaining: 31.2s\n",
      "68:\tlearn: 0.4354611\ttotal: 2.3s\tremaining: 31.1s\n",
      "69:\tlearn: 0.4352725\ttotal: 2.33s\tremaining: 31s\n",
      "70:\tlearn: 0.4350984\ttotal: 2.37s\tremaining: 31s\n",
      "71:\tlearn: 0.4350091\ttotal: 2.41s\tremaining: 31.1s\n",
      "72:\tlearn: 0.4348119\ttotal: 2.5s\tremaining: 31.7s\n",
      "73:\tlearn: 0.4345565\ttotal: 2.58s\tremaining: 32.3s\n",
      "74:\tlearn: 0.4344289\ttotal: 2.63s\tremaining: 32.4s\n",
      "75:\tlearn: 0.4343479\ttotal: 2.67s\tremaining: 32.5s\n",
      "76:\tlearn: 0.4342237\ttotal: 2.7s\tremaining: 32.3s\n",
      "77:\tlearn: 0.4341205\ttotal: 2.73s\tremaining: 32.3s\n",
      "78:\tlearn: 0.4339630\ttotal: 2.77s\tremaining: 32.3s\n",
      "79:\tlearn: 0.4337924\ttotal: 2.81s\tremaining: 32.3s\n",
      "80:\tlearn: 0.4336509\ttotal: 2.86s\tremaining: 32.4s\n",
      "81:\tlearn: 0.4334907\ttotal: 2.9s\tremaining: 32.5s\n",
      "82:\tlearn: 0.4333548\ttotal: 2.93s\tremaining: 32.4s\n",
      "83:\tlearn: 0.4332356\ttotal: 2.96s\tremaining: 32.3s\n",
      "84:\tlearn: 0.4330912\ttotal: 3s\tremaining: 32.3s\n",
      "85:\tlearn: 0.4329426\ttotal: 3.04s\tremaining: 32.3s\n",
      "86:\tlearn: 0.4327823\ttotal: 3.09s\tremaining: 32.4s\n",
      "87:\tlearn: 0.4326193\ttotal: 3.13s\tremaining: 32.5s\n",
      "88:\tlearn: 0.4324639\ttotal: 3.17s\tremaining: 32.4s\n",
      "89:\tlearn: 0.4322781\ttotal: 3.21s\tremaining: 32.4s\n",
      "90:\tlearn: 0.4320945\ttotal: 3.24s\tremaining: 32.4s\n",
      "91:\tlearn: 0.4319685\ttotal: 3.28s\tremaining: 32.3s\n",
      "92:\tlearn: 0.4318288\ttotal: 3.32s\tremaining: 32.4s\n",
      "93:\tlearn: 0.4316906\ttotal: 3.37s\tremaining: 32.4s\n",
      "94:\tlearn: 0.4315128\ttotal: 3.4s\tremaining: 32.4s\n",
      "95:\tlearn: 0.4314503\ttotal: 3.43s\tremaining: 32.3s\n",
      "96:\tlearn: 0.4313538\ttotal: 3.47s\tremaining: 32.3s\n",
      "97:\tlearn: 0.4311474\ttotal: 3.51s\tremaining: 32.3s\n",
      "98:\tlearn: 0.4310511\ttotal: 3.54s\tremaining: 32.2s\n",
      "99:\tlearn: 0.4309445\ttotal: 3.58s\tremaining: 32.2s\n",
      "100:\tlearn: 0.4307913\ttotal: 3.62s\tremaining: 32.2s\n",
      "101:\tlearn: 0.4307712\ttotal: 3.64s\tremaining: 32s\n",
      "102:\tlearn: 0.4307032\ttotal: 3.68s\tremaining: 32s\n",
      "103:\tlearn: 0.4305687\ttotal: 3.71s\tremaining: 32s\n",
      "104:\tlearn: 0.4304928\ttotal: 3.76s\tremaining: 32.1s\n",
      "105:\tlearn: 0.4304366\ttotal: 3.79s\tremaining: 32s\n",
      "106:\tlearn: 0.4303837\ttotal: 3.83s\tremaining: 31.9s\n",
      "107:\tlearn: 0.4303085\ttotal: 3.86s\tremaining: 31.9s\n",
      "108:\tlearn: 0.4302280\ttotal: 3.9s\tremaining: 31.9s\n",
      "109:\tlearn: 0.4301546\ttotal: 3.94s\tremaining: 31.8s\n",
      "110:\tlearn: 0.4300761\ttotal: 3.98s\tremaining: 31.8s\n",
      "111:\tlearn: 0.4299635\ttotal: 4.01s\tremaining: 31.8s\n",
      "112:\tlearn: 0.4299152\ttotal: 4.05s\tremaining: 31.8s\n",
      "113:\tlearn: 0.4298179\ttotal: 4.09s\tremaining: 31.8s\n",
      "114:\tlearn: 0.4296988\ttotal: 4.13s\tremaining: 31.8s\n",
      "115:\tlearn: 0.4295749\ttotal: 4.17s\tremaining: 31.7s\n",
      "116:\tlearn: 0.4294827\ttotal: 4.2s\tremaining: 31.7s\n",
      "117:\tlearn: 0.4294537\ttotal: 4.23s\tremaining: 31.6s\n",
      "118:\tlearn: 0.4293775\ttotal: 4.26s\tremaining: 31.5s\n",
      "119:\tlearn: 0.4293060\ttotal: 4.29s\tremaining: 31.5s\n",
      "120:\tlearn: 0.4292275\ttotal: 4.33s\tremaining: 31.4s\n",
      "121:\tlearn: 0.4291676\ttotal: 4.36s\tremaining: 31.4s\n",
      "122:\tlearn: 0.4290928\ttotal: 4.38s\tremaining: 31.3s\n",
      "123:\tlearn: 0.4289932\ttotal: 4.43s\tremaining: 31.3s\n",
      "124:\tlearn: 0.4288998\ttotal: 4.47s\tremaining: 31.3s\n",
      "125:\tlearn: 0.4288087\ttotal: 4.51s\tremaining: 31.3s\n",
      "126:\tlearn: 0.4286972\ttotal: 4.54s\tremaining: 31.2s\n",
      "127:\tlearn: 0.4285812\ttotal: 4.58s\tremaining: 31.2s\n",
      "128:\tlearn: 0.4285134\ttotal: 4.62s\tremaining: 31.2s\n",
      "129:\tlearn: 0.4283630\ttotal: 4.66s\tremaining: 31.2s\n",
      "130:\tlearn: 0.4283259\ttotal: 4.71s\tremaining: 31.2s\n",
      "131:\tlearn: 0.4282721\ttotal: 4.74s\tremaining: 31.2s\n",
      "132:\tlearn: 0.4282004\ttotal: 4.78s\tremaining: 31.2s\n",
      "133:\tlearn: 0.4281428\ttotal: 4.81s\tremaining: 31.1s\n",
      "134:\tlearn: 0.4280035\ttotal: 4.85s\tremaining: 31.1s\n",
      "135:\tlearn: 0.4279494\ttotal: 4.9s\tremaining: 31.1s\n",
      "136:\tlearn: 0.4278297\ttotal: 4.94s\tremaining: 31.1s\n",
      "137:\tlearn: 0.4277776\ttotal: 4.98s\tremaining: 31.1s\n",
      "138:\tlearn: 0.4276497\ttotal: 5.08s\tremaining: 31.5s\n",
      "139:\tlearn: 0.4275886\ttotal: 5.13s\tremaining: 31.5s\n",
      "140:\tlearn: 0.4275690\ttotal: 5.15s\tremaining: 31.4s\n",
      "141:\tlearn: 0.4274692\ttotal: 5.18s\tremaining: 31.3s\n",
      "142:\tlearn: 0.4273800\ttotal: 5.22s\tremaining: 31.3s\n",
      "143:\tlearn: 0.4273284\ttotal: 5.25s\tremaining: 31.2s\n",
      "144:\tlearn: 0.4272667\ttotal: 5.29s\tremaining: 31.2s\n",
      "145:\tlearn: 0.4272310\ttotal: 5.33s\tremaining: 31.2s\n",
      "146:\tlearn: 0.4271562\ttotal: 5.37s\tremaining: 31.1s\n",
      "147:\tlearn: 0.4270403\ttotal: 5.4s\tremaining: 31.1s\n",
      "148:\tlearn: 0.4269600\ttotal: 5.44s\tremaining: 31.1s\n",
      "149:\tlearn: 0.4269138\ttotal: 5.47s\tremaining: 31s\n",
      "150:\tlearn: 0.4268044\ttotal: 5.51s\tremaining: 31s\n",
      "151:\tlearn: 0.4267720\ttotal: 5.55s\tremaining: 31s\n",
      "152:\tlearn: 0.4267267\ttotal: 5.58s\tremaining: 30.9s\n",
      "153:\tlearn: 0.4266710\ttotal: 5.62s\tremaining: 30.9s\n",
      "154:\tlearn: 0.4264372\ttotal: 5.66s\tremaining: 30.9s\n",
      "155:\tlearn: 0.4263758\ttotal: 5.69s\tremaining: 30.8s\n",
      "156:\tlearn: 0.4263102\ttotal: 5.73s\tremaining: 30.8s\n",
      "157:\tlearn: 0.4262475\ttotal: 5.78s\tremaining: 30.8s\n",
      "158:\tlearn: 0.4261604\ttotal: 5.81s\tremaining: 30.7s\n",
      "159:\tlearn: 0.4260919\ttotal: 5.84s\tremaining: 30.7s\n",
      "160:\tlearn: 0.4260108\ttotal: 5.87s\tremaining: 30.6s\n",
      "161:\tlearn: 0.4259396\ttotal: 5.91s\tremaining: 30.5s\n"
     ]
    },
    {
     "name": "stdout",
     "output_type": "stream",
     "text": [
      "162:\tlearn: 0.4258343\ttotal: 5.95s\tremaining: 30.5s\n",
      "163:\tlearn: 0.4257348\ttotal: 5.99s\tremaining: 30.5s\n",
      "164:\tlearn: 0.4256704\ttotal: 6.03s\tremaining: 30.5s\n",
      "165:\tlearn: 0.4255904\ttotal: 6.07s\tremaining: 30.5s\n",
      "166:\tlearn: 0.4255484\ttotal: 6.1s\tremaining: 30.4s\n",
      "167:\tlearn: 0.4254669\ttotal: 6.14s\tremaining: 30.4s\n",
      "168:\tlearn: 0.4253959\ttotal: 6.18s\tremaining: 30.4s\n",
      "169:\tlearn: 0.4253796\ttotal: 6.2s\tremaining: 30.3s\n",
      "170:\tlearn: 0.4253794\ttotal: 6.21s\tremaining: 30.1s\n",
      "171:\tlearn: 0.4253371\ttotal: 6.25s\tremaining: 30.1s\n",
      "172:\tlearn: 0.4252654\ttotal: 6.28s\tremaining: 30s\n",
      "173:\tlearn: 0.4252216\ttotal: 6.32s\tremaining: 30s\n",
      "174:\tlearn: 0.4251452\ttotal: 6.36s\tremaining: 30s\n",
      "175:\tlearn: 0.4250339\ttotal: 6.4s\tremaining: 29.9s\n",
      "176:\tlearn: 0.4249265\ttotal: 6.43s\tremaining: 29.9s\n",
      "177:\tlearn: 0.4248784\ttotal: 6.48s\tremaining: 29.9s\n",
      "178:\tlearn: 0.4248508\ttotal: 6.51s\tremaining: 29.8s\n",
      "179:\tlearn: 0.4247773\ttotal: 6.54s\tremaining: 29.8s\n",
      "180:\tlearn: 0.4246734\ttotal: 6.58s\tremaining: 29.8s\n",
      "181:\tlearn: 0.4244809\ttotal: 6.64s\tremaining: 29.8s\n",
      "182:\tlearn: 0.4243264\ttotal: 6.67s\tremaining: 29.8s\n",
      "183:\tlearn: 0.4242334\ttotal: 6.7s\tremaining: 29.7s\n",
      "184:\tlearn: 0.4241555\ttotal: 6.73s\tremaining: 29.7s\n",
      "185:\tlearn: 0.4240927\ttotal: 6.78s\tremaining: 29.6s\n",
      "186:\tlearn: 0.4239606\ttotal: 6.82s\tremaining: 29.6s\n",
      "187:\tlearn: 0.4239375\ttotal: 6.85s\tremaining: 29.6s\n",
      "188:\tlearn: 0.4238595\ttotal: 6.89s\tremaining: 29.6s\n",
      "189:\tlearn: 0.4237824\ttotal: 6.93s\tremaining: 29.5s\n",
      "190:\tlearn: 0.4236382\ttotal: 6.96s\tremaining: 29.5s\n",
      "191:\tlearn: 0.4235508\ttotal: 7s\tremaining: 29.5s\n",
      "192:\tlearn: 0.4235098\ttotal: 7.03s\tremaining: 29.4s\n",
      "193:\tlearn: 0.4234195\ttotal: 7.08s\tremaining: 29.4s\n",
      "194:\tlearn: 0.4232699\ttotal: 7.12s\tremaining: 29.4s\n",
      "195:\tlearn: 0.4232156\ttotal: 7.15s\tremaining: 29.3s\n",
      "196:\tlearn: 0.4231518\ttotal: 7.18s\tremaining: 29.3s\n",
      "197:\tlearn: 0.4230394\ttotal: 7.22s\tremaining: 29.2s\n",
      "198:\tlearn: 0.4229849\ttotal: 7.25s\tremaining: 29.2s\n",
      "199:\tlearn: 0.4228745\ttotal: 7.3s\tremaining: 29.2s\n",
      "200:\tlearn: 0.4228094\ttotal: 7.33s\tremaining: 29.2s\n",
      "201:\tlearn: 0.4226734\ttotal: 7.38s\tremaining: 29.1s\n",
      "202:\tlearn: 0.4225540\ttotal: 7.42s\tremaining: 29.1s\n",
      "203:\tlearn: 0.4224843\ttotal: 7.46s\tremaining: 29.1s\n",
      "204:\tlearn: 0.4224595\ttotal: 7.5s\tremaining: 29.1s\n",
      "205:\tlearn: 0.4223594\ttotal: 7.54s\tremaining: 29.1s\n",
      "206:\tlearn: 0.4222704\ttotal: 7.59s\tremaining: 29.1s\n",
      "207:\tlearn: 0.4222164\ttotal: 7.62s\tremaining: 29s\n",
      "208:\tlearn: 0.4220916\ttotal: 7.64s\tremaining: 28.9s\n",
      "209:\tlearn: 0.4220146\ttotal: 7.68s\tremaining: 28.9s\n",
      "210:\tlearn: 0.4218782\ttotal: 7.72s\tremaining: 28.9s\n",
      "211:\tlearn: 0.4217904\ttotal: 7.77s\tremaining: 28.9s\n",
      "212:\tlearn: 0.4216651\ttotal: 7.8s\tremaining: 28.8s\n",
      "213:\tlearn: 0.4215552\ttotal: 7.84s\tremaining: 28.8s\n",
      "214:\tlearn: 0.4214394\ttotal: 7.87s\tremaining: 28.7s\n",
      "215:\tlearn: 0.4213127\ttotal: 7.91s\tremaining: 28.7s\n",
      "216:\tlearn: 0.4212156\ttotal: 7.95s\tremaining: 28.7s\n",
      "217:\tlearn: 0.4211103\ttotal: 7.99s\tremaining: 28.7s\n",
      "218:\tlearn: 0.4210505\ttotal: 8.02s\tremaining: 28.6s\n",
      "219:\tlearn: 0.4209995\ttotal: 8.06s\tremaining: 28.6s\n",
      "220:\tlearn: 0.4208911\ttotal: 8.1s\tremaining: 28.5s\n",
      "221:\tlearn: 0.4208504\ttotal: 8.14s\tremaining: 28.5s\n",
      "222:\tlearn: 0.4208284\ttotal: 8.17s\tremaining: 28.5s\n",
      "223:\tlearn: 0.4207177\ttotal: 8.21s\tremaining: 28.5s\n",
      "224:\tlearn: 0.4206246\ttotal: 8.25s\tremaining: 28.4s\n",
      "225:\tlearn: 0.4205345\ttotal: 8.29s\tremaining: 28.4s\n",
      "226:\tlearn: 0.4204834\ttotal: 8.33s\tremaining: 28.4s\n",
      "227:\tlearn: 0.4203924\ttotal: 8.37s\tremaining: 28.3s\n",
      "228:\tlearn: 0.4202951\ttotal: 8.41s\tremaining: 28.3s\n",
      "229:\tlearn: 0.4202208\ttotal: 8.45s\tremaining: 28.3s\n",
      "230:\tlearn: 0.4201428\ttotal: 8.48s\tremaining: 28.2s\n",
      "231:\tlearn: 0.4200771\ttotal: 8.52s\tremaining: 28.2s\n",
      "232:\tlearn: 0.4199788\ttotal: 8.55s\tremaining: 28.2s\n",
      "233:\tlearn: 0.4198903\ttotal: 8.6s\tremaining: 28.1s\n",
      "234:\tlearn: 0.4198465\ttotal: 8.64s\tremaining: 28.1s\n",
      "235:\tlearn: 0.4197789\ttotal: 8.68s\tremaining: 28.1s\n",
      "236:\tlearn: 0.4196859\ttotal: 8.71s\tremaining: 28s\n",
      "237:\tlearn: 0.4196580\ttotal: 8.74s\tremaining: 28s\n",
      "238:\tlearn: 0.4195547\ttotal: 8.78s\tremaining: 28s\n",
      "239:\tlearn: 0.4194725\ttotal: 8.82s\tremaining: 27.9s\n",
      "240:\tlearn: 0.4194312\ttotal: 8.86s\tremaining: 27.9s\n",
      "241:\tlearn: 0.4193675\ttotal: 8.9s\tremaining: 27.9s\n",
      "242:\tlearn: 0.4192787\ttotal: 8.94s\tremaining: 27.8s\n",
      "243:\tlearn: 0.4191802\ttotal: 8.97s\tremaining: 27.8s\n",
      "244:\tlearn: 0.4191165\ttotal: 9.01s\tremaining: 27.8s\n",
      "245:\tlearn: 0.4190324\ttotal: 9.04s\tremaining: 27.7s\n",
      "246:\tlearn: 0.4189755\ttotal: 9.08s\tremaining: 27.7s\n",
      "247:\tlearn: 0.4189357\ttotal: 9.12s\tremaining: 27.7s\n",
      "248:\tlearn: 0.4188925\ttotal: 9.16s\tremaining: 27.6s\n",
      "249:\tlearn: 0.4187938\ttotal: 9.2s\tremaining: 27.6s\n",
      "250:\tlearn: 0.4187619\ttotal: 9.24s\tremaining: 27.6s\n",
      "251:\tlearn: 0.4187033\ttotal: 9.28s\tremaining: 27.5s\n",
      "252:\tlearn: 0.4186254\ttotal: 9.32s\tremaining: 27.5s\n",
      "253:\tlearn: 0.4185079\ttotal: 9.36s\tremaining: 27.5s\n",
      "254:\tlearn: 0.4184263\ttotal: 9.4s\tremaining: 27.5s\n",
      "255:\tlearn: 0.4183963\ttotal: 9.43s\tremaining: 27.4s\n",
      "256:\tlearn: 0.4182918\ttotal: 9.47s\tremaining: 27.4s\n",
      "257:\tlearn: 0.4182298\ttotal: 9.51s\tremaining: 27.4s\n",
      "258:\tlearn: 0.4181886\ttotal: 9.56s\tremaining: 27.3s\n",
      "259:\tlearn: 0.4181559\ttotal: 9.59s\tremaining: 27.3s\n",
      "260:\tlearn: 0.4180963\ttotal: 9.63s\tremaining: 27.3s\n",
      "261:\tlearn: 0.4180562\ttotal: 9.66s\tremaining: 27.2s\n",
      "262:\tlearn: 0.4179987\ttotal: 9.71s\tremaining: 27.2s\n",
      "263:\tlearn: 0.4179003\ttotal: 9.74s\tremaining: 27.2s\n",
      "264:\tlearn: 0.4178055\ttotal: 9.79s\tremaining: 27.2s\n",
      "265:\tlearn: 0.4177369\ttotal: 9.83s\tremaining: 27.1s\n",
      "266:\tlearn: 0.4176889\ttotal: 9.87s\tremaining: 27.1s\n",
      "267:\tlearn: 0.4176320\ttotal: 9.93s\tremaining: 27.1s\n",
      "268:\tlearn: 0.4176034\ttotal: 10s\tremaining: 27.2s\n",
      "269:\tlearn: 0.4175617\ttotal: 10.1s\tremaining: 27.3s\n",
      "270:\tlearn: 0.4175032\ttotal: 10.1s\tremaining: 27.3s\n",
      "271:\tlearn: 0.4174415\ttotal: 10.2s\tremaining: 27.4s\n",
      "272:\tlearn: 0.4173692\ttotal: 10.3s\tremaining: 27.3s\n",
      "273:\tlearn: 0.4173116\ttotal: 10.3s\tremaining: 27.3s\n",
      "274:\tlearn: 0.4172299\ttotal: 10.3s\tremaining: 27.3s\n",
      "275:\tlearn: 0.4171613\ttotal: 10.4s\tremaining: 27.2s\n",
      "276:\tlearn: 0.4170949\ttotal: 10.4s\tremaining: 27.2s\n",
      "277:\tlearn: 0.4170400\ttotal: 10.5s\tremaining: 27.1s\n",
      "278:\tlearn: 0.4169480\ttotal: 10.5s\tremaining: 27.1s\n",
      "279:\tlearn: 0.4168897\ttotal: 10.5s\tremaining: 27.1s\n",
      "280:\tlearn: 0.4168543\ttotal: 10.6s\tremaining: 27.1s\n",
      "281:\tlearn: 0.4167772\ttotal: 10.6s\tremaining: 27s\n",
      "282:\tlearn: 0.4167172\ttotal: 10.6s\tremaining: 27s\n",
      "283:\tlearn: 0.4166943\ttotal: 10.7s\tremaining: 26.9s\n",
      "284:\tlearn: 0.4166544\ttotal: 10.7s\tremaining: 26.9s\n",
      "285:\tlearn: 0.4166127\ttotal: 10.8s\tremaining: 26.9s\n",
      "286:\tlearn: 0.4165825\ttotal: 10.8s\tremaining: 26.8s\n",
      "287:\tlearn: 0.4164823\ttotal: 10.8s\tremaining: 26.8s\n",
      "288:\tlearn: 0.4164570\ttotal: 10.9s\tremaining: 26.8s\n",
      "289:\tlearn: 0.4164004\ttotal: 10.9s\tremaining: 26.8s\n",
      "290:\tlearn: 0.4163163\ttotal: 11s\tremaining: 26.7s\n",
      "291:\tlearn: 0.4162909\ttotal: 11s\tremaining: 26.7s\n",
      "292:\tlearn: 0.4162286\ttotal: 11.1s\tremaining: 26.7s\n",
      "293:\tlearn: 0.4161790\ttotal: 11.1s\tremaining: 26.7s\n",
      "294:\tlearn: 0.4161071\ttotal: 11.1s\tremaining: 26.6s\n",
      "295:\tlearn: 0.4160860\ttotal: 11.2s\tremaining: 26.6s\n",
      "296:\tlearn: 0.4160258\ttotal: 11.2s\tremaining: 26.6s\n",
      "297:\tlearn: 0.4159715\ttotal: 11.3s\tremaining: 26.5s\n",
      "298:\tlearn: 0.4158739\ttotal: 11.3s\tremaining: 26.5s\n",
      "299:\tlearn: 0.4158342\ttotal: 11.3s\tremaining: 26.4s\n",
      "300:\tlearn: 0.4157687\ttotal: 11.4s\tremaining: 26.4s\n",
      "301:\tlearn: 0.4156780\ttotal: 11.4s\tremaining: 26.4s\n",
      "302:\tlearn: 0.4156107\ttotal: 11.5s\tremaining: 26.4s\n",
      "303:\tlearn: 0.4155724\ttotal: 11.5s\tremaining: 26.4s\n",
      "304:\tlearn: 0.4155152\ttotal: 11.6s\tremaining: 26.5s\n",
      "305:\tlearn: 0.4154711\ttotal: 11.7s\tremaining: 26.5s\n",
      "306:\tlearn: 0.4154114\ttotal: 11.8s\tremaining: 26.6s\n",
      "307:\tlearn: 0.4153061\ttotal: 11.8s\tremaining: 26.6s\n",
      "308:\tlearn: 0.4152408\ttotal: 11.9s\tremaining: 26.6s\n",
      "309:\tlearn: 0.4151999\ttotal: 11.9s\tremaining: 26.5s\n",
      "310:\tlearn: 0.4151445\ttotal: 12s\tremaining: 26.5s\n",
      "311:\tlearn: 0.4150955\ttotal: 12s\tremaining: 26.5s\n",
      "312:\tlearn: 0.4150094\ttotal: 12.1s\tremaining: 26.5s\n",
      "313:\tlearn: 0.4149719\ttotal: 12.1s\tremaining: 26.5s\n",
      "314:\tlearn: 0.4149133\ttotal: 12.2s\tremaining: 26.4s\n",
      "315:\tlearn: 0.4148779\ttotal: 12.2s\tremaining: 26.4s\n",
      "316:\tlearn: 0.4148488\ttotal: 12.2s\tremaining: 26.3s\n",
      "317:\tlearn: 0.4147894\ttotal: 12.3s\tremaining: 26.3s\n",
      "318:\tlearn: 0.4146856\ttotal: 12.3s\tremaining: 26.3s\n",
      "319:\tlearn: 0.4146375\ttotal: 12.4s\tremaining: 26.3s\n",
      "320:\tlearn: 0.4146109\ttotal: 12.4s\tremaining: 26.2s\n",
      "321:\tlearn: 0.4145572\ttotal: 12.4s\tremaining: 26.2s\n"
     ]
    },
    {
     "name": "stdout",
     "output_type": "stream",
     "text": [
      "322:\tlearn: 0.4145192\ttotal: 12.5s\tremaining: 26.2s\n",
      "323:\tlearn: 0.4144905\ttotal: 12.5s\tremaining: 26.2s\n",
      "324:\tlearn: 0.4144560\ttotal: 12.6s\tremaining: 26.1s\n",
      "325:\tlearn: 0.4143752\ttotal: 12.6s\tremaining: 26.1s\n",
      "326:\tlearn: 0.4143353\ttotal: 12.7s\tremaining: 26.1s\n",
      "327:\tlearn: 0.4142872\ttotal: 12.7s\tremaining: 26s\n",
      "328:\tlearn: 0.4142313\ttotal: 12.7s\tremaining: 26s\n",
      "329:\tlearn: 0.4142205\ttotal: 12.8s\tremaining: 26s\n",
      "330:\tlearn: 0.4141762\ttotal: 12.8s\tremaining: 25.9s\n",
      "331:\tlearn: 0.4141323\ttotal: 12.9s\tremaining: 25.9s\n",
      "332:\tlearn: 0.4140500\ttotal: 12.9s\tremaining: 25.8s\n",
      "333:\tlearn: 0.4139457\ttotal: 12.9s\tremaining: 25.8s\n",
      "334:\tlearn: 0.4138790\ttotal: 13s\tremaining: 25.7s\n",
      "335:\tlearn: 0.4138330\ttotal: 13s\tremaining: 25.7s\n",
      "336:\tlearn: 0.4138128\ttotal: 13s\tremaining: 25.7s\n",
      "337:\tlearn: 0.4136981\ttotal: 13.1s\tremaining: 25.6s\n",
      "338:\tlearn: 0.4136518\ttotal: 13.1s\tremaining: 25.6s\n",
      "339:\tlearn: 0.4135978\ttotal: 13.2s\tremaining: 25.5s\n",
      "340:\tlearn: 0.4135607\ttotal: 13.2s\tremaining: 25.5s\n",
      "341:\tlearn: 0.4135088\ttotal: 13.3s\tremaining: 25.5s\n",
      "342:\tlearn: 0.4134807\ttotal: 13.3s\tremaining: 25.5s\n",
      "343:\tlearn: 0.4134564\ttotal: 13.3s\tremaining: 25.4s\n",
      "344:\tlearn: 0.4133854\ttotal: 13.4s\tremaining: 25.4s\n",
      "345:\tlearn: 0.4133150\ttotal: 13.4s\tremaining: 25.4s\n",
      "346:\tlearn: 0.4132517\ttotal: 13.5s\tremaining: 25.3s\n",
      "347:\tlearn: 0.4132054\ttotal: 13.5s\tremaining: 25.3s\n",
      "348:\tlearn: 0.4131526\ttotal: 13.5s\tremaining: 25.2s\n",
      "349:\tlearn: 0.4131260\ttotal: 13.6s\tremaining: 25.2s\n",
      "350:\tlearn: 0.4130723\ttotal: 13.6s\tremaining: 25.2s\n",
      "351:\tlearn: 0.4130144\ttotal: 13.6s\tremaining: 25.1s\n",
      "352:\tlearn: 0.4129449\ttotal: 13.7s\tremaining: 25.1s\n",
      "353:\tlearn: 0.4129192\ttotal: 13.7s\tremaining: 25.1s\n",
      "354:\tlearn: 0.4128509\ttotal: 13.8s\tremaining: 25s\n",
      "355:\tlearn: 0.4128222\ttotal: 13.8s\tremaining: 24.9s\n",
      "356:\tlearn: 0.4127206\ttotal: 13.8s\tremaining: 24.9s\n",
      "357:\tlearn: 0.4126557\ttotal: 13.9s\tremaining: 24.8s\n",
      "358:\tlearn: 0.4126042\ttotal: 13.9s\tremaining: 24.8s\n",
      "359:\tlearn: 0.4125525\ttotal: 13.9s\tremaining: 24.8s\n",
      "360:\tlearn: 0.4125078\ttotal: 14s\tremaining: 24.7s\n",
      "361:\tlearn: 0.4124254\ttotal: 14s\tremaining: 24.7s\n",
      "362:\tlearn: 0.4124029\ttotal: 14.1s\tremaining: 24.7s\n",
      "363:\tlearn: 0.4123011\ttotal: 14.1s\tremaining: 24.6s\n",
      "364:\tlearn: 0.4122778\ttotal: 14.1s\tremaining: 24.6s\n",
      "365:\tlearn: 0.4122573\ttotal: 14.2s\tremaining: 24.6s\n",
      "366:\tlearn: 0.4121859\ttotal: 14.2s\tremaining: 24.5s\n",
      "367:\tlearn: 0.4121522\ttotal: 14.3s\tremaining: 24.5s\n",
      "368:\tlearn: 0.4120697\ttotal: 14.3s\tremaining: 24.5s\n",
      "369:\tlearn: 0.4120030\ttotal: 14.3s\tremaining: 24.4s\n",
      "370:\tlearn: 0.4119393\ttotal: 14.4s\tremaining: 24.4s\n",
      "371:\tlearn: 0.4119061\ttotal: 14.4s\tremaining: 24.3s\n",
      "372:\tlearn: 0.4118837\ttotal: 14.5s\tremaining: 24.3s\n",
      "373:\tlearn: 0.4118438\ttotal: 14.5s\tremaining: 24.3s\n",
      "374:\tlearn: 0.4118233\ttotal: 14.5s\tremaining: 24.2s\n",
      "375:\tlearn: 0.4117899\ttotal: 14.6s\tremaining: 24.2s\n",
      "376:\tlearn: 0.4117304\ttotal: 14.6s\tremaining: 24.1s\n",
      "377:\tlearn: 0.4117087\ttotal: 14.6s\tremaining: 24.1s\n",
      "378:\tlearn: 0.4116702\ttotal: 14.7s\tremaining: 24s\n",
      "379:\tlearn: 0.4115967\ttotal: 14.7s\tremaining: 24s\n",
      "380:\tlearn: 0.4115048\ttotal: 14.8s\tremaining: 24s\n",
      "381:\tlearn: 0.4114563\ttotal: 14.8s\tremaining: 23.9s\n",
      "382:\tlearn: 0.4114293\ttotal: 14.8s\tremaining: 23.9s\n",
      "383:\tlearn: 0.4113946\ttotal: 14.9s\tremaining: 23.9s\n",
      "384:\tlearn: 0.4113471\ttotal: 14.9s\tremaining: 23.8s\n",
      "385:\tlearn: 0.4113009\ttotal: 15s\tremaining: 23.8s\n",
      "386:\tlearn: 0.4112681\ttotal: 15s\tremaining: 23.8s\n",
      "387:\tlearn: 0.4112303\ttotal: 15.1s\tremaining: 23.8s\n",
      "388:\tlearn: 0.4112100\ttotal: 15.1s\tremaining: 23.7s\n",
      "389:\tlearn: 0.4111945\ttotal: 15.2s\tremaining: 23.7s\n",
      "390:\tlearn: 0.4111345\ttotal: 15.2s\tremaining: 23.7s\n",
      "391:\tlearn: 0.4110769\ttotal: 15.2s\tremaining: 23.6s\n",
      "392:\tlearn: 0.4110512\ttotal: 15.3s\tremaining: 23.6s\n",
      "393:\tlearn: 0.4110296\ttotal: 15.3s\tremaining: 23.5s\n",
      "394:\tlearn: 0.4109938\ttotal: 15.3s\tremaining: 23.5s\n",
      "395:\tlearn: 0.4109728\ttotal: 15.4s\tremaining: 23.4s\n",
      "396:\tlearn: 0.4109467\ttotal: 15.4s\tremaining: 23.4s\n",
      "397:\tlearn: 0.4109041\ttotal: 15.4s\tremaining: 23.3s\n",
      "398:\tlearn: 0.4108251\ttotal: 15.5s\tremaining: 23.3s\n",
      "399:\tlearn: 0.4107571\ttotal: 15.5s\tremaining: 23.3s\n",
      "400:\tlearn: 0.4107192\ttotal: 15.6s\tremaining: 23.2s\n",
      "401:\tlearn: 0.4106321\ttotal: 15.6s\tremaining: 23.2s\n",
      "402:\tlearn: 0.4106045\ttotal: 15.6s\tremaining: 23.1s\n",
      "403:\tlearn: 0.4105649\ttotal: 15.7s\tremaining: 23.1s\n",
      "404:\tlearn: 0.4105196\ttotal: 15.7s\tremaining: 23.1s\n",
      "405:\tlearn: 0.4104865\ttotal: 15.7s\tremaining: 23s\n",
      "406:\tlearn: 0.4104384\ttotal: 15.8s\tremaining: 23s\n",
      "407:\tlearn: 0.4104260\ttotal: 15.8s\tremaining: 22.9s\n",
      "408:\tlearn: 0.4103719\ttotal: 15.8s\tremaining: 22.9s\n",
      "409:\tlearn: 0.4103293\ttotal: 15.9s\tremaining: 22.9s\n",
      "410:\tlearn: 0.4103037\ttotal: 16s\tremaining: 22.9s\n",
      "411:\tlearn: 0.4102797\ttotal: 16s\tremaining: 22.9s\n",
      "412:\tlearn: 0.4102144\ttotal: 16.1s\tremaining: 22.8s\n",
      "413:\tlearn: 0.4101228\ttotal: 16.1s\tremaining: 22.8s\n",
      "414:\tlearn: 0.4100937\ttotal: 16.1s\tremaining: 22.8s\n",
      "415:\tlearn: 0.4100493\ttotal: 16.2s\tremaining: 22.7s\n",
      "416:\tlearn: 0.4100099\ttotal: 16.2s\tremaining: 22.7s\n",
      "417:\tlearn: 0.4099736\ttotal: 16.3s\tremaining: 22.6s\n",
      "418:\tlearn: 0.4099161\ttotal: 16.3s\tremaining: 22.6s\n",
      "419:\tlearn: 0.4098719\ttotal: 16.3s\tremaining: 22.6s\n",
      "420:\tlearn: 0.4098074\ttotal: 16.4s\tremaining: 22.5s\n",
      "421:\tlearn: 0.4097730\ttotal: 16.4s\tremaining: 22.5s\n",
      "422:\tlearn: 0.4096720\ttotal: 16.4s\tremaining: 22.4s\n",
      "423:\tlearn: 0.4096535\ttotal: 16.5s\tremaining: 22.4s\n",
      "424:\tlearn: 0.4096197\ttotal: 16.5s\tremaining: 22.4s\n",
      "425:\tlearn: 0.4095795\ttotal: 16.6s\tremaining: 22.3s\n",
      "426:\tlearn: 0.4095447\ttotal: 16.6s\tremaining: 22.3s\n",
      "427:\tlearn: 0.4094802\ttotal: 16.6s\tremaining: 22.2s\n",
      "428:\tlearn: 0.4094484\ttotal: 16.7s\tremaining: 22.2s\n",
      "429:\tlearn: 0.4093711\ttotal: 16.7s\tremaining: 22.2s\n",
      "430:\tlearn: 0.4093359\ttotal: 16.8s\tremaining: 22.1s\n",
      "431:\tlearn: 0.4093168\ttotal: 16.8s\tremaining: 22.1s\n",
      "432:\tlearn: 0.4092989\ttotal: 16.8s\tremaining: 22s\n",
      "433:\tlearn: 0.4092137\ttotal: 16.9s\tremaining: 22s\n",
      "434:\tlearn: 0.4091768\ttotal: 16.9s\tremaining: 22s\n",
      "435:\tlearn: 0.4091287\ttotal: 17s\tremaining: 21.9s\n",
      "436:\tlearn: 0.4090884\ttotal: 17s\tremaining: 21.9s\n",
      "437:\tlearn: 0.4090315\ttotal: 17s\tremaining: 21.9s\n",
      "438:\tlearn: 0.4089604\ttotal: 17.1s\tremaining: 21.8s\n",
      "439:\tlearn: 0.4089276\ttotal: 17.1s\tremaining: 21.8s\n",
      "440:\tlearn: 0.4088918\ttotal: 17.2s\tremaining: 21.8s\n",
      "441:\tlearn: 0.4088550\ttotal: 17.2s\tremaining: 21.7s\n",
      "442:\tlearn: 0.4087992\ttotal: 17.2s\tremaining: 21.7s\n",
      "443:\tlearn: 0.4087661\ttotal: 17.3s\tremaining: 21.6s\n",
      "444:\tlearn: 0.4087241\ttotal: 17.3s\tremaining: 21.6s\n",
      "445:\tlearn: 0.4086986\ttotal: 17.3s\tremaining: 21.5s\n",
      "446:\tlearn: 0.4086660\ttotal: 17.4s\tremaining: 21.5s\n",
      "447:\tlearn: 0.4086230\ttotal: 17.4s\tremaining: 21.5s\n",
      "448:\tlearn: 0.4085795\ttotal: 17.5s\tremaining: 21.4s\n",
      "449:\tlearn: 0.4085544\ttotal: 17.5s\tremaining: 21.4s\n",
      "450:\tlearn: 0.4085225\ttotal: 17.5s\tremaining: 21.3s\n",
      "451:\tlearn: 0.4084890\ttotal: 17.6s\tremaining: 21.3s\n",
      "452:\tlearn: 0.4084407\ttotal: 17.6s\tremaining: 21.3s\n",
      "453:\tlearn: 0.4083829\ttotal: 17.7s\tremaining: 21.2s\n",
      "454:\tlearn: 0.4083538\ttotal: 17.7s\tremaining: 21.2s\n",
      "455:\tlearn: 0.4083392\ttotal: 17.7s\tremaining: 21.1s\n",
      "456:\tlearn: 0.4083094\ttotal: 17.8s\tremaining: 21.1s\n",
      "457:\tlearn: 0.4082752\ttotal: 17.8s\tremaining: 21.1s\n",
      "458:\tlearn: 0.4082124\ttotal: 17.9s\tremaining: 21.1s\n",
      "459:\tlearn: 0.4081833\ttotal: 17.9s\tremaining: 21s\n",
      "460:\tlearn: 0.4081519\ttotal: 17.9s\tremaining: 21s\n",
      "461:\tlearn: 0.4081161\ttotal: 18s\tremaining: 20.9s\n",
      "462:\tlearn: 0.4080856\ttotal: 18s\tremaining: 20.9s\n",
      "463:\tlearn: 0.4080485\ttotal: 18s\tremaining: 20.8s\n",
      "464:\tlearn: 0.4080124\ttotal: 18.1s\tremaining: 20.8s\n",
      "465:\tlearn: 0.4078587\ttotal: 18.1s\tremaining: 20.8s\n",
      "466:\tlearn: 0.4078426\ttotal: 18.2s\tremaining: 20.7s\n",
      "467:\tlearn: 0.4077579\ttotal: 18.2s\tremaining: 20.7s\n",
      "468:\tlearn: 0.4077239\ttotal: 18.3s\tremaining: 20.7s\n",
      "469:\tlearn: 0.4076443\ttotal: 18.3s\tremaining: 20.6s\n",
      "470:\tlearn: 0.4075669\ttotal: 18.4s\tremaining: 20.6s\n",
      "471:\tlearn: 0.4075138\ttotal: 18.4s\tremaining: 20.6s\n",
      "472:\tlearn: 0.4074695\ttotal: 18.4s\tremaining: 20.6s\n",
      "473:\tlearn: 0.4074497\ttotal: 18.5s\tremaining: 20.5s\n",
      "474:\tlearn: 0.4074036\ttotal: 18.5s\tremaining: 20.5s\n",
      "475:\tlearn: 0.4073569\ttotal: 18.6s\tremaining: 20.4s\n",
      "476:\tlearn: 0.4073245\ttotal: 18.6s\tremaining: 20.4s\n",
      "477:\tlearn: 0.4072777\ttotal: 18.7s\tremaining: 20.4s\n",
      "478:\tlearn: 0.4072198\ttotal: 18.7s\tremaining: 20.3s\n",
      "479:\tlearn: 0.4072014\ttotal: 18.7s\tremaining: 20.3s\n",
      "480:\tlearn: 0.4071936\ttotal: 18.8s\tremaining: 20.3s\n",
      "481:\tlearn: 0.4071259\ttotal: 18.8s\tremaining: 20.2s\n",
      "482:\tlearn: 0.4070659\ttotal: 18.8s\tremaining: 20.2s\n",
      "483:\tlearn: 0.4070186\ttotal: 18.9s\tremaining: 20.1s\n",
      "484:\tlearn: 0.4069880\ttotal: 18.9s\tremaining: 20.1s\n"
     ]
    },
    {
     "name": "stdout",
     "output_type": "stream",
     "text": [
      "485:\tlearn: 0.4069532\ttotal: 19s\tremaining: 20.1s\n",
      "486:\tlearn: 0.4069377\ttotal: 19s\tremaining: 20s\n",
      "487:\tlearn: 0.4069022\ttotal: 19s\tremaining: 20s\n",
      "488:\tlearn: 0.4068101\ttotal: 19.1s\tremaining: 19.9s\n",
      "489:\tlearn: 0.4067776\ttotal: 19.1s\tremaining: 19.9s\n",
      "490:\tlearn: 0.4067309\ttotal: 19.2s\tremaining: 19.9s\n",
      "491:\tlearn: 0.4067103\ttotal: 19.2s\tremaining: 19.8s\n",
      "492:\tlearn: 0.4066498\ttotal: 19.2s\tremaining: 19.8s\n",
      "493:\tlearn: 0.4066298\ttotal: 19.3s\tremaining: 19.8s\n",
      "494:\tlearn: 0.4065844\ttotal: 19.3s\tremaining: 19.7s\n",
      "495:\tlearn: 0.4065563\ttotal: 19.4s\tremaining: 19.7s\n",
      "496:\tlearn: 0.4065075\ttotal: 19.4s\tremaining: 19.6s\n",
      "497:\tlearn: 0.4064610\ttotal: 19.4s\tremaining: 19.6s\n",
      "498:\tlearn: 0.4064236\ttotal: 19.5s\tremaining: 19.6s\n",
      "499:\tlearn: 0.4063853\ttotal: 19.5s\tremaining: 19.5s\n",
      "500:\tlearn: 0.4063444\ttotal: 19.6s\tremaining: 19.5s\n",
      "501:\tlearn: 0.4063121\ttotal: 19.6s\tremaining: 19.4s\n",
      "502:\tlearn: 0.4062799\ttotal: 19.6s\tremaining: 19.4s\n",
      "503:\tlearn: 0.4062309\ttotal: 19.7s\tremaining: 19.4s\n",
      "504:\tlearn: 0.4061820\ttotal: 19.7s\tremaining: 19.3s\n",
      "505:\tlearn: 0.4061445\ttotal: 19.8s\tremaining: 19.3s\n",
      "506:\tlearn: 0.4061146\ttotal: 19.8s\tremaining: 19.2s\n",
      "507:\tlearn: 0.4060768\ttotal: 19.8s\tremaining: 19.2s\n",
      "508:\tlearn: 0.4060258\ttotal: 19.9s\tremaining: 19.2s\n",
      "509:\tlearn: 0.4059866\ttotal: 19.9s\tremaining: 19.1s\n",
      "510:\tlearn: 0.4059544\ttotal: 20s\tremaining: 19.1s\n",
      "511:\tlearn: 0.4059067\ttotal: 20s\tremaining: 19.1s\n",
      "512:\tlearn: 0.4058449\ttotal: 20s\tremaining: 19s\n",
      "513:\tlearn: 0.4057945\ttotal: 20.1s\tremaining: 19s\n",
      "514:\tlearn: 0.4057780\ttotal: 20.1s\tremaining: 18.9s\n",
      "515:\tlearn: 0.4057525\ttotal: 20.1s\tremaining: 18.9s\n",
      "516:\tlearn: 0.4057149\ttotal: 20.2s\tremaining: 18.9s\n",
      "517:\tlearn: 0.4056457\ttotal: 20.2s\tremaining: 18.8s\n",
      "518:\tlearn: 0.4055899\ttotal: 20.3s\tremaining: 18.8s\n",
      "519:\tlearn: 0.4055353\ttotal: 20.3s\tremaining: 18.7s\n",
      "520:\tlearn: 0.4054887\ttotal: 20.3s\tremaining: 18.7s\n",
      "521:\tlearn: 0.4054770\ttotal: 20.4s\tremaining: 18.7s\n",
      "522:\tlearn: 0.4054491\ttotal: 20.4s\tremaining: 18.6s\n",
      "523:\tlearn: 0.4054313\ttotal: 20.5s\tremaining: 18.6s\n",
      "524:\tlearn: 0.4054129\ttotal: 20.5s\tremaining: 18.5s\n",
      "525:\tlearn: 0.4053607\ttotal: 20.5s\tremaining: 18.5s\n",
      "526:\tlearn: 0.4053143\ttotal: 20.6s\tremaining: 18.5s\n",
      "527:\tlearn: 0.4052534\ttotal: 20.6s\tremaining: 18.4s\n",
      "528:\tlearn: 0.4052300\ttotal: 20.7s\tremaining: 18.4s\n",
      "529:\tlearn: 0.4052043\ttotal: 20.7s\tremaining: 18.4s\n",
      "530:\tlearn: 0.4051840\ttotal: 20.7s\tremaining: 18.3s\n",
      "531:\tlearn: 0.4051459\ttotal: 20.8s\tremaining: 18.3s\n",
      "532:\tlearn: 0.4051087\ttotal: 20.8s\tremaining: 18.3s\n",
      "533:\tlearn: 0.4050670\ttotal: 20.9s\tremaining: 18.2s\n",
      "534:\tlearn: 0.4050435\ttotal: 20.9s\tremaining: 18.2s\n",
      "535:\tlearn: 0.4049849\ttotal: 20.9s\tremaining: 18.1s\n",
      "536:\tlearn: 0.4049492\ttotal: 21s\tremaining: 18.1s\n",
      "537:\tlearn: 0.4049113\ttotal: 21s\tremaining: 18.1s\n",
      "538:\tlearn: 0.4048821\ttotal: 21.1s\tremaining: 18s\n",
      "539:\tlearn: 0.4048611\ttotal: 21.1s\tremaining: 18s\n",
      "540:\tlearn: 0.4048425\ttotal: 21.2s\tremaining: 18s\n",
      "541:\tlearn: 0.4048338\ttotal: 21.2s\tremaining: 17.9s\n",
      "542:\tlearn: 0.4048142\ttotal: 21.3s\tremaining: 17.9s\n",
      "543:\tlearn: 0.4047808\ttotal: 21.3s\tremaining: 17.8s\n",
      "544:\tlearn: 0.4047371\ttotal: 21.3s\tremaining: 17.8s\n",
      "545:\tlearn: 0.4046970\ttotal: 21.4s\tremaining: 17.8s\n",
      "546:\tlearn: 0.4046570\ttotal: 21.4s\tremaining: 17.7s\n",
      "547:\tlearn: 0.4046377\ttotal: 21.5s\tremaining: 17.7s\n",
      "548:\tlearn: 0.4046174\ttotal: 21.5s\tremaining: 17.6s\n",
      "549:\tlearn: 0.4045747\ttotal: 21.5s\tremaining: 17.6s\n",
      "550:\tlearn: 0.4045360\ttotal: 21.5s\tremaining: 17.6s\n",
      "551:\tlearn: 0.4044952\ttotal: 21.6s\tremaining: 17.5s\n",
      "552:\tlearn: 0.4044796\ttotal: 21.6s\tremaining: 17.5s\n",
      "553:\tlearn: 0.4044440\ttotal: 21.7s\tremaining: 17.4s\n",
      "554:\tlearn: 0.4043727\ttotal: 21.7s\tremaining: 17.4s\n",
      "555:\tlearn: 0.4043346\ttotal: 21.8s\tremaining: 17.4s\n",
      "556:\tlearn: 0.4043215\ttotal: 21.8s\tremaining: 17.3s\n",
      "557:\tlearn: 0.4042978\ttotal: 21.8s\tremaining: 17.3s\n",
      "558:\tlearn: 0.4042585\ttotal: 21.9s\tremaining: 17.3s\n",
      "559:\tlearn: 0.4042202\ttotal: 21.9s\tremaining: 17.2s\n",
      "560:\tlearn: 0.4041929\ttotal: 22s\tremaining: 17.2s\n",
      "561:\tlearn: 0.4041819\ttotal: 22s\tremaining: 17.1s\n",
      "562:\tlearn: 0.4041682\ttotal: 22s\tremaining: 17.1s\n",
      "563:\tlearn: 0.4041260\ttotal: 22.1s\tremaining: 17.1s\n",
      "564:\tlearn: 0.4040913\ttotal: 22.1s\tremaining: 17s\n",
      "565:\tlearn: 0.4040687\ttotal: 22.1s\tremaining: 17s\n",
      "566:\tlearn: 0.4040326\ttotal: 22.2s\tremaining: 16.9s\n",
      "567:\tlearn: 0.4039541\ttotal: 22.2s\tremaining: 16.9s\n",
      "568:\tlearn: 0.4039129\ttotal: 22.2s\tremaining: 16.8s\n",
      "569:\tlearn: 0.4038894\ttotal: 22.3s\tremaining: 16.8s\n",
      "570:\tlearn: 0.4038290\ttotal: 22.3s\tremaining: 16.8s\n",
      "571:\tlearn: 0.4038113\ttotal: 22.4s\tremaining: 16.7s\n",
      "572:\tlearn: 0.4037967\ttotal: 22.4s\tremaining: 16.7s\n",
      "573:\tlearn: 0.4037709\ttotal: 22.4s\tremaining: 16.7s\n",
      "574:\tlearn: 0.4037171\ttotal: 22.5s\tremaining: 16.6s\n",
      "575:\tlearn: 0.4036917\ttotal: 22.5s\tremaining: 16.6s\n",
      "576:\tlearn: 0.4036571\ttotal: 22.6s\tremaining: 16.6s\n",
      "577:\tlearn: 0.4035827\ttotal: 22.6s\tremaining: 16.5s\n",
      "578:\tlearn: 0.4034890\ttotal: 22.7s\tremaining: 16.5s\n",
      "579:\tlearn: 0.4034485\ttotal: 22.7s\tremaining: 16.4s\n",
      "580:\tlearn: 0.4033609\ttotal: 22.7s\tremaining: 16.4s\n",
      "581:\tlearn: 0.4033249\ttotal: 22.8s\tremaining: 16.4s\n",
      "582:\tlearn: 0.4032805\ttotal: 22.8s\tremaining: 16.3s\n",
      "583:\tlearn: 0.4032422\ttotal: 22.9s\tremaining: 16.3s\n",
      "584:\tlearn: 0.4031810\ttotal: 22.9s\tremaining: 16.3s\n",
      "585:\tlearn: 0.4031481\ttotal: 22.9s\tremaining: 16.2s\n",
      "586:\tlearn: 0.4031146\ttotal: 23s\tremaining: 16.2s\n",
      "587:\tlearn: 0.4030694\ttotal: 23s\tremaining: 16.1s\n",
      "588:\tlearn: 0.4030352\ttotal: 23.1s\tremaining: 16.1s\n",
      "589:\tlearn: 0.4029812\ttotal: 23.1s\tremaining: 16.1s\n",
      "590:\tlearn: 0.4029194\ttotal: 23.2s\tremaining: 16s\n",
      "591:\tlearn: 0.4028739\ttotal: 23.2s\tremaining: 16s\n",
      "592:\tlearn: 0.4028426\ttotal: 23.3s\tremaining: 16s\n",
      "593:\tlearn: 0.4027430\ttotal: 23.3s\tremaining: 15.9s\n",
      "594:\tlearn: 0.4027114\ttotal: 23.3s\tremaining: 15.9s\n",
      "595:\tlearn: 0.4026862\ttotal: 23.4s\tremaining: 15.8s\n",
      "596:\tlearn: 0.4026424\ttotal: 23.4s\tremaining: 15.8s\n",
      "597:\tlearn: 0.4025698\ttotal: 23.5s\tremaining: 15.8s\n",
      "598:\tlearn: 0.4025201\ttotal: 23.5s\tremaining: 15.7s\n",
      "599:\tlearn: 0.4025043\ttotal: 23.5s\tremaining: 15.7s\n",
      "600:\tlearn: 0.4024616\ttotal: 23.6s\tremaining: 15.7s\n",
      "601:\tlearn: 0.4024329\ttotal: 23.6s\tremaining: 15.6s\n",
      "602:\tlearn: 0.4024063\ttotal: 23.7s\tremaining: 15.6s\n",
      "603:\tlearn: 0.4023436\ttotal: 23.7s\tremaining: 15.5s\n",
      "604:\tlearn: 0.4022942\ttotal: 23.7s\tremaining: 15.5s\n",
      "605:\tlearn: 0.4022166\ttotal: 23.8s\tremaining: 15.5s\n",
      "606:\tlearn: 0.4021939\ttotal: 23.8s\tremaining: 15.4s\n",
      "607:\tlearn: 0.4021669\ttotal: 23.9s\tremaining: 15.4s\n",
      "608:\tlearn: 0.4021294\ttotal: 24s\tremaining: 15.4s\n",
      "609:\tlearn: 0.4020782\ttotal: 24s\tremaining: 15.3s\n",
      "610:\tlearn: 0.4020202\ttotal: 24s\tremaining: 15.3s\n",
      "611:\tlearn: 0.4019870\ttotal: 24.1s\tremaining: 15.3s\n",
      "612:\tlearn: 0.4019489\ttotal: 24.1s\tremaining: 15.2s\n",
      "613:\tlearn: 0.4019146\ttotal: 24.2s\tremaining: 15.2s\n",
      "614:\tlearn: 0.4018632\ttotal: 24.2s\tremaining: 15.2s\n",
      "615:\tlearn: 0.4018333\ttotal: 24.3s\tremaining: 15.1s\n",
      "616:\tlearn: 0.4017846\ttotal: 24.3s\tremaining: 15.1s\n",
      "617:\tlearn: 0.4017448\ttotal: 24.4s\tremaining: 15.1s\n",
      "618:\tlearn: 0.4017226\ttotal: 24.4s\tremaining: 15s\n",
      "619:\tlearn: 0.4016912\ttotal: 24.5s\tremaining: 15s\n",
      "620:\tlearn: 0.4016707\ttotal: 24.5s\tremaining: 15s\n",
      "621:\tlearn: 0.4016082\ttotal: 24.5s\tremaining: 14.9s\n",
      "622:\tlearn: 0.4015918\ttotal: 24.6s\tremaining: 14.9s\n",
      "623:\tlearn: 0.4015548\ttotal: 24.6s\tremaining: 14.8s\n",
      "624:\tlearn: 0.4014868\ttotal: 24.7s\tremaining: 14.8s\n",
      "625:\tlearn: 0.4014264\ttotal: 24.7s\tremaining: 14.8s\n",
      "626:\tlearn: 0.4013853\ttotal: 24.8s\tremaining: 14.7s\n",
      "627:\tlearn: 0.4013369\ttotal: 24.8s\tremaining: 14.7s\n",
      "628:\tlearn: 0.4012810\ttotal: 24.8s\tremaining: 14.6s\n",
      "629:\tlearn: 0.4012580\ttotal: 24.9s\tremaining: 14.6s\n",
      "630:\tlearn: 0.4011944\ttotal: 24.9s\tremaining: 14.6s\n",
      "631:\tlearn: 0.4011489\ttotal: 25s\tremaining: 14.5s\n",
      "632:\tlearn: 0.4010678\ttotal: 25s\tremaining: 14.5s\n",
      "633:\tlearn: 0.4010335\ttotal: 25.1s\tremaining: 14.5s\n",
      "634:\tlearn: 0.4009894\ttotal: 25.1s\tremaining: 14.4s\n",
      "635:\tlearn: 0.4009508\ttotal: 25.1s\tremaining: 14.4s\n",
      "636:\tlearn: 0.4009260\ttotal: 25.2s\tremaining: 14.3s\n",
      "637:\tlearn: 0.4008688\ttotal: 25.2s\tremaining: 14.3s\n",
      "638:\tlearn: 0.4008263\ttotal: 25.3s\tremaining: 14.3s\n",
      "639:\tlearn: 0.4007936\ttotal: 25.3s\tremaining: 14.2s\n",
      "640:\tlearn: 0.4007264\ttotal: 25.4s\tremaining: 14.2s\n",
      "641:\tlearn: 0.4006885\ttotal: 25.4s\tremaining: 14.2s\n",
      "642:\tlearn: 0.4006344\ttotal: 25.4s\tremaining: 14.1s\n",
      "643:\tlearn: 0.4005995\ttotal: 25.5s\tremaining: 14.1s\n"
     ]
    },
    {
     "name": "stdout",
     "output_type": "stream",
     "text": [
      "644:\tlearn: 0.4005131\ttotal: 25.5s\tremaining: 14s\n",
      "645:\tlearn: 0.4004768\ttotal: 25.6s\tremaining: 14s\n",
      "646:\tlearn: 0.4004419\ttotal: 25.6s\tremaining: 14s\n",
      "647:\tlearn: 0.4003998\ttotal: 25.7s\tremaining: 13.9s\n",
      "648:\tlearn: 0.4003757\ttotal: 25.7s\tremaining: 13.9s\n",
      "649:\tlearn: 0.4003493\ttotal: 25.7s\tremaining: 13.9s\n",
      "650:\tlearn: 0.4003198\ttotal: 25.8s\tremaining: 13.8s\n",
      "651:\tlearn: 0.4002961\ttotal: 25.8s\tremaining: 13.8s\n",
      "652:\tlearn: 0.4002463\ttotal: 25.9s\tremaining: 13.7s\n",
      "653:\tlearn: 0.4001959\ttotal: 25.9s\tremaining: 13.7s\n",
      "654:\tlearn: 0.4001230\ttotal: 25.9s\tremaining: 13.7s\n",
      "655:\tlearn: 0.4000715\ttotal: 26s\tremaining: 13.6s\n",
      "656:\tlearn: 0.4000356\ttotal: 26s\tremaining: 13.6s\n",
      "657:\tlearn: 0.4000220\ttotal: 26s\tremaining: 13.5s\n",
      "658:\tlearn: 0.3999969\ttotal: 26.1s\tremaining: 13.5s\n",
      "659:\tlearn: 0.3999704\ttotal: 26.1s\tremaining: 13.5s\n",
      "660:\tlearn: 0.3998968\ttotal: 26.2s\tremaining: 13.4s\n",
      "661:\tlearn: 0.3998662\ttotal: 26.2s\tremaining: 13.4s\n",
      "662:\tlearn: 0.3998514\ttotal: 26.3s\tremaining: 13.4s\n",
      "663:\tlearn: 0.3998051\ttotal: 26.3s\tremaining: 13.3s\n",
      "664:\tlearn: 0.3997448\ttotal: 26.3s\tremaining: 13.3s\n",
      "665:\tlearn: 0.3997054\ttotal: 26.4s\tremaining: 13.2s\n",
      "666:\tlearn: 0.3996705\ttotal: 26.4s\tremaining: 13.2s\n",
      "667:\tlearn: 0.3996574\ttotal: 26.5s\tremaining: 13.2s\n",
      "668:\tlearn: 0.3996409\ttotal: 26.5s\tremaining: 13.1s\n",
      "669:\tlearn: 0.3996163\ttotal: 26.5s\tremaining: 13.1s\n",
      "670:\tlearn: 0.3995984\ttotal: 26.6s\tremaining: 13s\n",
      "671:\tlearn: 0.3995698\ttotal: 26.6s\tremaining: 13s\n",
      "672:\tlearn: 0.3995367\ttotal: 26.7s\tremaining: 12.9s\n",
      "673:\tlearn: 0.3995210\ttotal: 26.7s\tremaining: 12.9s\n",
      "674:\tlearn: 0.3994620\ttotal: 26.8s\tremaining: 12.9s\n",
      "675:\tlearn: 0.3994233\ttotal: 26.8s\tremaining: 12.8s\n",
      "676:\tlearn: 0.3993862\ttotal: 26.8s\tremaining: 12.8s\n",
      "677:\tlearn: 0.3993607\ttotal: 26.9s\tremaining: 12.8s\n",
      "678:\tlearn: 0.3993427\ttotal: 26.9s\tremaining: 12.7s\n",
      "679:\tlearn: 0.3993214\ttotal: 27s\tremaining: 12.7s\n",
      "680:\tlearn: 0.3992903\ttotal: 27s\tremaining: 12.7s\n",
      "681:\tlearn: 0.3992661\ttotal: 27.1s\tremaining: 12.6s\n",
      "682:\tlearn: 0.3992312\ttotal: 27.1s\tremaining: 12.6s\n",
      "683:\tlearn: 0.3992092\ttotal: 27.1s\tremaining: 12.5s\n",
      "684:\tlearn: 0.3991735\ttotal: 27.2s\tremaining: 12.5s\n",
      "685:\tlearn: 0.3991405\ttotal: 27.2s\tremaining: 12.5s\n",
      "686:\tlearn: 0.3991162\ttotal: 27.3s\tremaining: 12.4s\n",
      "687:\tlearn: 0.3990749\ttotal: 27.3s\tremaining: 12.4s\n",
      "688:\tlearn: 0.3990650\ttotal: 27.3s\tremaining: 12.3s\n",
      "689:\tlearn: 0.3990297\ttotal: 27.4s\tremaining: 12.3s\n",
      "690:\tlearn: 0.3990030\ttotal: 27.4s\tremaining: 12.3s\n",
      "691:\tlearn: 0.3989388\ttotal: 27.5s\tremaining: 12.2s\n",
      "692:\tlearn: 0.3988941\ttotal: 27.5s\tremaining: 12.2s\n",
      "693:\tlearn: 0.3988686\ttotal: 27.6s\tremaining: 12.1s\n",
      "694:\tlearn: 0.3988315\ttotal: 27.6s\tremaining: 12.1s\n",
      "695:\tlearn: 0.3988176\ttotal: 27.6s\tremaining: 12.1s\n",
      "696:\tlearn: 0.3988109\ttotal: 27.7s\tremaining: 12s\n",
      "697:\tlearn: 0.3987894\ttotal: 27.7s\tremaining: 12s\n",
      "698:\tlearn: 0.3987764\ttotal: 27.8s\tremaining: 12s\n",
      "699:\tlearn: 0.3987431\ttotal: 27.8s\tremaining: 11.9s\n",
      "700:\tlearn: 0.3987093\ttotal: 27.9s\tremaining: 11.9s\n",
      "701:\tlearn: 0.3986885\ttotal: 27.9s\tremaining: 11.8s\n",
      "702:\tlearn: 0.3986546\ttotal: 27.9s\tremaining: 11.8s\n",
      "703:\tlearn: 0.3986392\ttotal: 28s\tremaining: 11.8s\n",
      "704:\tlearn: 0.3985843\ttotal: 28s\tremaining: 11.7s\n",
      "705:\tlearn: 0.3985315\ttotal: 28s\tremaining: 11.7s\n",
      "706:\tlearn: 0.3985147\ttotal: 28.1s\tremaining: 11.6s\n",
      "707:\tlearn: 0.3984831\ttotal: 28.1s\tremaining: 11.6s\n",
      "708:\tlearn: 0.3984099\ttotal: 28.2s\tremaining: 11.6s\n",
      "709:\tlearn: 0.3983538\ttotal: 28.2s\tremaining: 11.5s\n",
      "710:\tlearn: 0.3982959\ttotal: 28.2s\tremaining: 11.5s\n",
      "711:\tlearn: 0.3982512\ttotal: 28.3s\tremaining: 11.4s\n",
      "712:\tlearn: 0.3982112\ttotal: 28.3s\tremaining: 11.4s\n",
      "713:\tlearn: 0.3981889\ttotal: 28.4s\tremaining: 11.4s\n",
      "714:\tlearn: 0.3981410\ttotal: 28.4s\tremaining: 11.3s\n",
      "715:\tlearn: 0.3981276\ttotal: 28.5s\tremaining: 11.3s\n",
      "716:\tlearn: 0.3981147\ttotal: 28.5s\tremaining: 11.3s\n",
      "717:\tlearn: 0.3980900\ttotal: 28.6s\tremaining: 11.2s\n",
      "718:\tlearn: 0.3980685\ttotal: 28.6s\tremaining: 11.2s\n",
      "719:\tlearn: 0.3980429\ttotal: 28.7s\tremaining: 11.1s\n",
      "720:\tlearn: 0.3980012\ttotal: 28.7s\tremaining: 11.1s\n",
      "721:\tlearn: 0.3979795\ttotal: 28.8s\tremaining: 11.1s\n",
      "722:\tlearn: 0.3979542\ttotal: 28.8s\tremaining: 11s\n",
      "723:\tlearn: 0.3979487\ttotal: 28.8s\tremaining: 11s\n",
      "724:\tlearn: 0.3979170\ttotal: 28.9s\tremaining: 11s\n",
      "725:\tlearn: 0.3978625\ttotal: 28.9s\tremaining: 10.9s\n",
      "726:\tlearn: 0.3978356\ttotal: 29s\tremaining: 10.9s\n",
      "727:\tlearn: 0.3978015\ttotal: 29s\tremaining: 10.8s\n",
      "728:\tlearn: 0.3977503\ttotal: 29.1s\tremaining: 10.8s\n",
      "729:\tlearn: 0.3977172\ttotal: 29.1s\tremaining: 10.8s\n",
      "730:\tlearn: 0.3976772\ttotal: 29.2s\tremaining: 10.7s\n",
      "731:\tlearn: 0.3976570\ttotal: 29.2s\tremaining: 10.7s\n",
      "732:\tlearn: 0.3976093\ttotal: 29.3s\tremaining: 10.7s\n",
      "733:\tlearn: 0.3975663\ttotal: 29.3s\tremaining: 10.6s\n",
      "734:\tlearn: 0.3975446\ttotal: 29.3s\tremaining: 10.6s\n",
      "735:\tlearn: 0.3975186\ttotal: 29.4s\tremaining: 10.5s\n",
      "736:\tlearn: 0.3974728\ttotal: 29.4s\tremaining: 10.5s\n",
      "737:\tlearn: 0.3974351\ttotal: 29.5s\tremaining: 10.5s\n",
      "738:\tlearn: 0.3974121\ttotal: 29.5s\tremaining: 10.4s\n",
      "739:\tlearn: 0.3973837\ttotal: 29.6s\tremaining: 10.4s\n",
      "740:\tlearn: 0.3973530\ttotal: 29.6s\tremaining: 10.3s\n",
      "741:\tlearn: 0.3972864\ttotal: 29.6s\tremaining: 10.3s\n",
      "742:\tlearn: 0.3972333\ttotal: 29.7s\tremaining: 10.3s\n",
      "743:\tlearn: 0.3971835\ttotal: 29.7s\tremaining: 10.2s\n",
      "744:\tlearn: 0.3971304\ttotal: 29.8s\tremaining: 10.2s\n",
      "745:\tlearn: 0.3970770\ttotal: 29.8s\tremaining: 10.1s\n",
      "746:\tlearn: 0.3970382\ttotal: 29.8s\tremaining: 10.1s\n",
      "747:\tlearn: 0.3970209\ttotal: 29.9s\tremaining: 10.1s\n",
      "748:\tlearn: 0.3969680\ttotal: 29.9s\tremaining: 10s\n",
      "749:\tlearn: 0.3969436\ttotal: 30s\tremaining: 9.99s\n",
      "750:\tlearn: 0.3969040\ttotal: 30s\tremaining: 9.95s\n",
      "751:\tlearn: 0.3968681\ttotal: 30s\tremaining: 9.91s\n",
      "752:\tlearn: 0.3967935\ttotal: 30.1s\tremaining: 9.87s\n",
      "753:\tlearn: 0.3967335\ttotal: 30.1s\tremaining: 9.84s\n",
      "754:\tlearn: 0.3967011\ttotal: 30.2s\tremaining: 9.8s\n",
      "755:\tlearn: 0.3966840\ttotal: 30.2s\tremaining: 9.76s\n",
      "756:\tlearn: 0.3966498\ttotal: 30.3s\tremaining: 9.71s\n",
      "757:\tlearn: 0.3966237\ttotal: 30.3s\tremaining: 9.67s\n",
      "758:\tlearn: 0.3966062\ttotal: 30.3s\tremaining: 9.63s\n",
      "759:\tlearn: 0.3965594\ttotal: 30.4s\tremaining: 9.59s\n",
      "760:\tlearn: 0.3965484\ttotal: 30.4s\tremaining: 9.55s\n",
      "761:\tlearn: 0.3965277\ttotal: 30.4s\tremaining: 9.51s\n",
      "762:\tlearn: 0.3965002\ttotal: 30.5s\tremaining: 9.47s\n",
      "763:\tlearn: 0.3964704\ttotal: 30.5s\tremaining: 9.43s\n",
      "764:\tlearn: 0.3964384\ttotal: 30.6s\tremaining: 9.39s\n",
      "765:\tlearn: 0.3964226\ttotal: 30.6s\tremaining: 9.35s\n",
      "766:\tlearn: 0.3964022\ttotal: 30.7s\tremaining: 9.31s\n",
      "767:\tlearn: 0.3963841\ttotal: 30.7s\tremaining: 9.28s\n",
      "768:\tlearn: 0.3963487\ttotal: 30.8s\tremaining: 9.24s\n",
      "769:\tlearn: 0.3963283\ttotal: 30.8s\tremaining: 9.2s\n",
      "770:\tlearn: 0.3963077\ttotal: 30.8s\tremaining: 9.16s\n",
      "771:\tlearn: 0.3962846\ttotal: 30.9s\tremaining: 9.12s\n",
      "772:\tlearn: 0.3962606\ttotal: 30.9s\tremaining: 9.08s\n",
      "773:\tlearn: 0.3962529\ttotal: 31s\tremaining: 9.04s\n",
      "774:\tlearn: 0.3962377\ttotal: 31s\tremaining: 9s\n",
      "775:\tlearn: 0.3962142\ttotal: 31s\tremaining: 8.96s\n",
      "776:\tlearn: 0.3961608\ttotal: 31.1s\tremaining: 8.92s\n",
      "777:\tlearn: 0.3961409\ttotal: 31.1s\tremaining: 8.88s\n",
      "778:\tlearn: 0.3961164\ttotal: 31.2s\tremaining: 8.85s\n",
      "779:\tlearn: 0.3960947\ttotal: 31.2s\tremaining: 8.81s\n",
      "780:\tlearn: 0.3960840\ttotal: 31.3s\tremaining: 8.77s\n",
      "781:\tlearn: 0.3960644\ttotal: 31.3s\tremaining: 8.72s\n",
      "782:\tlearn: 0.3960053\ttotal: 31.3s\tremaining: 8.69s\n",
      "783:\tlearn: 0.3959753\ttotal: 31.4s\tremaining: 8.64s\n",
      "784:\tlearn: 0.3959482\ttotal: 31.4s\tremaining: 8.6s\n",
      "785:\tlearn: 0.3959167\ttotal: 31.4s\tremaining: 8.56s\n",
      "786:\tlearn: 0.3958779\ttotal: 31.5s\tremaining: 8.52s\n",
      "787:\tlearn: 0.3958548\ttotal: 31.5s\tremaining: 8.48s\n",
      "788:\tlearn: 0.3958250\ttotal: 31.6s\tremaining: 8.44s\n",
      "789:\tlearn: 0.3957759\ttotal: 31.6s\tremaining: 8.41s\n",
      "790:\tlearn: 0.3957261\ttotal: 31.7s\tremaining: 8.37s\n",
      "791:\tlearn: 0.3956872\ttotal: 31.7s\tremaining: 8.33s\n",
      "792:\tlearn: 0.3956426\ttotal: 31.8s\tremaining: 8.29s\n",
      "793:\tlearn: 0.3956263\ttotal: 31.8s\tremaining: 8.25s\n",
      "794:\tlearn: 0.3955754\ttotal: 31.8s\tremaining: 8.21s\n",
      "795:\tlearn: 0.3955482\ttotal: 31.9s\tremaining: 8.17s\n",
      "796:\tlearn: 0.3955314\ttotal: 31.9s\tremaining: 8.13s\n",
      "797:\tlearn: 0.3955004\ttotal: 32s\tremaining: 8.09s\n",
      "798:\tlearn: 0.3954641\ttotal: 32s\tremaining: 8.05s\n",
      "799:\tlearn: 0.3954383\ttotal: 32s\tremaining: 8.01s\n",
      "800:\tlearn: 0.3953960\ttotal: 32.1s\tremaining: 7.97s\n",
      "801:\tlearn: 0.3953644\ttotal: 32.1s\tremaining: 7.93s\n",
      "802:\tlearn: 0.3953222\ttotal: 32.2s\tremaining: 7.89s\n",
      "803:\tlearn: 0.3952765\ttotal: 32.2s\tremaining: 7.85s\n",
      "804:\tlearn: 0.3952278\ttotal: 32.3s\tremaining: 7.82s\n",
      "805:\tlearn: 0.3951984\ttotal: 32.3s\tremaining: 7.77s\n"
     ]
    },
    {
     "name": "stdout",
     "output_type": "stream",
     "text": [
      "806:\tlearn: 0.3951743\ttotal: 32.3s\tremaining: 7.74s\n",
      "807:\tlearn: 0.3951253\ttotal: 32.4s\tremaining: 7.7s\n",
      "808:\tlearn: 0.3950928\ttotal: 32.4s\tremaining: 7.66s\n",
      "809:\tlearn: 0.3950659\ttotal: 32.5s\tremaining: 7.62s\n",
      "810:\tlearn: 0.3950108\ttotal: 32.5s\tremaining: 7.58s\n",
      "811:\tlearn: 0.3949852\ttotal: 32.6s\tremaining: 7.54s\n",
      "812:\tlearn: 0.3949538\ttotal: 32.6s\tremaining: 7.5s\n",
      "813:\tlearn: 0.3949419\ttotal: 32.7s\tremaining: 7.46s\n",
      "814:\tlearn: 0.3948920\ttotal: 32.7s\tremaining: 7.42s\n",
      "815:\tlearn: 0.3948695\ttotal: 32.8s\tremaining: 7.38s\n",
      "816:\tlearn: 0.3948248\ttotal: 32.8s\tremaining: 7.35s\n",
      "817:\tlearn: 0.3947840\ttotal: 32.8s\tremaining: 7.31s\n",
      "818:\tlearn: 0.3947604\ttotal: 32.9s\tremaining: 7.27s\n",
      "819:\tlearn: 0.3947101\ttotal: 32.9s\tremaining: 7.23s\n",
      "820:\tlearn: 0.3946831\ttotal: 33s\tremaining: 7.19s\n",
      "821:\tlearn: 0.3946299\ttotal: 33s\tremaining: 7.15s\n",
      "822:\tlearn: 0.3945796\ttotal: 33.1s\tremaining: 7.11s\n",
      "823:\tlearn: 0.3945499\ttotal: 33.1s\tremaining: 7.07s\n",
      "824:\tlearn: 0.3945180\ttotal: 33.2s\tremaining: 7.04s\n",
      "825:\tlearn: 0.3944876\ttotal: 33.2s\tremaining: 7s\n",
      "826:\tlearn: 0.3944522\ttotal: 33.3s\tremaining: 6.96s\n",
      "827:\tlearn: 0.3943749\ttotal: 33.3s\tremaining: 6.92s\n",
      "828:\tlearn: 0.3943313\ttotal: 33.4s\tremaining: 6.88s\n",
      "829:\tlearn: 0.3942943\ttotal: 33.4s\tremaining: 6.84s\n",
      "830:\tlearn: 0.3942689\ttotal: 33.5s\tremaining: 6.8s\n",
      "831:\tlearn: 0.3942442\ttotal: 33.5s\tremaining: 6.77s\n",
      "832:\tlearn: 0.3942268\ttotal: 33.6s\tremaining: 6.73s\n",
      "833:\tlearn: 0.3942090\ttotal: 33.6s\tremaining: 6.68s\n",
      "834:\tlearn: 0.3941408\ttotal: 33.6s\tremaining: 6.64s\n",
      "835:\tlearn: 0.3941160\ttotal: 33.7s\tremaining: 6.6s\n",
      "836:\tlearn: 0.3940785\ttotal: 33.7s\tremaining: 6.57s\n",
      "837:\tlearn: 0.3940218\ttotal: 33.8s\tremaining: 6.53s\n",
      "838:\tlearn: 0.3939586\ttotal: 33.8s\tremaining: 6.49s\n",
      "839:\tlearn: 0.3939289\ttotal: 33.8s\tremaining: 6.45s\n",
      "840:\tlearn: 0.3939071\ttotal: 33.9s\tremaining: 6.41s\n",
      "841:\tlearn: 0.3938697\ttotal: 33.9s\tremaining: 6.37s\n",
      "842:\tlearn: 0.3938204\ttotal: 34s\tremaining: 6.33s\n",
      "843:\tlearn: 0.3938097\ttotal: 34s\tremaining: 6.29s\n",
      "844:\tlearn: 0.3937505\ttotal: 34.1s\tremaining: 6.25s\n",
      "845:\tlearn: 0.3937355\ttotal: 34.1s\tremaining: 6.21s\n",
      "846:\tlearn: 0.3936883\ttotal: 34.1s\tremaining: 6.17s\n",
      "847:\tlearn: 0.3936601\ttotal: 34.2s\tremaining: 6.13s\n",
      "848:\tlearn: 0.3935813\ttotal: 34.2s\tremaining: 6.08s\n",
      "849:\tlearn: 0.3935402\ttotal: 34.3s\tremaining: 6.04s\n",
      "850:\tlearn: 0.3935080\ttotal: 34.3s\tremaining: 6s\n",
      "851:\tlearn: 0.3934713\ttotal: 34.3s\tremaining: 5.96s\n",
      "852:\tlearn: 0.3934383\ttotal: 34.4s\tremaining: 5.92s\n",
      "853:\tlearn: 0.3934019\ttotal: 34.4s\tremaining: 5.88s\n",
      "854:\tlearn: 0.3933881\ttotal: 34.5s\tremaining: 5.84s\n",
      "855:\tlearn: 0.3933276\ttotal: 34.5s\tremaining: 5.8s\n",
      "856:\tlearn: 0.3933152\ttotal: 34.5s\tremaining: 5.76s\n",
      "857:\tlearn: 0.3932772\ttotal: 34.6s\tremaining: 5.72s\n",
      "858:\tlearn: 0.3932312\ttotal: 34.6s\tremaining: 5.68s\n",
      "859:\tlearn: 0.3932113\ttotal: 34.7s\tremaining: 5.64s\n",
      "860:\tlearn: 0.3931918\ttotal: 34.7s\tremaining: 5.61s\n",
      "861:\tlearn: 0.3931533\ttotal: 34.8s\tremaining: 5.56s\n",
      "862:\tlearn: 0.3931406\ttotal: 34.8s\tremaining: 5.52s\n",
      "863:\tlearn: 0.3931011\ttotal: 34.8s\tremaining: 5.48s\n",
      "864:\tlearn: 0.3930826\ttotal: 34.9s\tremaining: 5.44s\n",
      "865:\tlearn: 0.3930681\ttotal: 34.9s\tremaining: 5.4s\n",
      "866:\tlearn: 0.3930228\ttotal: 35s\tremaining: 5.36s\n",
      "867:\tlearn: 0.3929892\ttotal: 35s\tremaining: 5.32s\n",
      "868:\tlearn: 0.3929531\ttotal: 35s\tremaining: 5.28s\n",
      "869:\tlearn: 0.3929245\ttotal: 35.1s\tremaining: 5.24s\n",
      "870:\tlearn: 0.3929046\ttotal: 35.1s\tremaining: 5.2s\n",
      "871:\tlearn: 0.3928629\ttotal: 35.2s\tremaining: 5.16s\n",
      "872:\tlearn: 0.3928291\ttotal: 35.2s\tremaining: 5.12s\n",
      "873:\tlearn: 0.3927918\ttotal: 35.2s\tremaining: 5.08s\n",
      "874:\tlearn: 0.3927679\ttotal: 35.3s\tremaining: 5.04s\n",
      "875:\tlearn: 0.3927480\ttotal: 35.3s\tremaining: 5s\n",
      "876:\tlearn: 0.3926990\ttotal: 35.4s\tremaining: 4.96s\n",
      "877:\tlearn: 0.3926857\ttotal: 35.4s\tremaining: 4.92s\n",
      "878:\tlearn: 0.3926715\ttotal: 35.4s\tremaining: 4.88s\n",
      "879:\tlearn: 0.3926031\ttotal: 35.5s\tremaining: 4.84s\n",
      "880:\tlearn: 0.3925790\ttotal: 35.5s\tremaining: 4.8s\n",
      "881:\tlearn: 0.3925304\ttotal: 35.6s\tremaining: 4.76s\n",
      "882:\tlearn: 0.3924848\ttotal: 35.6s\tremaining: 4.72s\n",
      "883:\tlearn: 0.3924602\ttotal: 35.7s\tremaining: 4.68s\n",
      "884:\tlearn: 0.3924341\ttotal: 35.7s\tremaining: 4.64s\n",
      "885:\tlearn: 0.3923998\ttotal: 35.7s\tremaining: 4.6s\n",
      "886:\tlearn: 0.3923870\ttotal: 35.8s\tremaining: 4.56s\n",
      "887:\tlearn: 0.3923524\ttotal: 35.8s\tremaining: 4.52s\n",
      "888:\tlearn: 0.3923021\ttotal: 35.9s\tremaining: 4.48s\n",
      "889:\tlearn: 0.3922805\ttotal: 35.9s\tremaining: 4.44s\n",
      "890:\tlearn: 0.3922378\ttotal: 35.9s\tremaining: 4.4s\n",
      "891:\tlearn: 0.3922046\ttotal: 36s\tremaining: 4.36s\n",
      "892:\tlearn: 0.3921435\ttotal: 36s\tremaining: 4.32s\n",
      "893:\tlearn: 0.3921073\ttotal: 36.1s\tremaining: 4.28s\n",
      "894:\tlearn: 0.3920701\ttotal: 36.1s\tremaining: 4.24s\n",
      "895:\tlearn: 0.3920375\ttotal: 36.2s\tremaining: 4.2s\n",
      "896:\tlearn: 0.3919884\ttotal: 36.2s\tremaining: 4.16s\n",
      "897:\tlearn: 0.3919399\ttotal: 36.2s\tremaining: 4.12s\n",
      "898:\tlearn: 0.3919050\ttotal: 36.3s\tremaining: 4.08s\n",
      "899:\tlearn: 0.3918635\ttotal: 36.3s\tremaining: 4.04s\n",
      "900:\tlearn: 0.3918006\ttotal: 36.4s\tremaining: 4s\n",
      "901:\tlearn: 0.3917746\ttotal: 36.5s\tremaining: 3.96s\n",
      "902:\tlearn: 0.3917283\ttotal: 36.5s\tremaining: 3.92s\n",
      "903:\tlearn: 0.3916958\ttotal: 36.5s\tremaining: 3.88s\n",
      "904:\tlearn: 0.3916833\ttotal: 36.6s\tremaining: 3.84s\n",
      "905:\tlearn: 0.3916668\ttotal: 36.7s\tremaining: 3.8s\n",
      "906:\tlearn: 0.3916278\ttotal: 36.7s\tremaining: 3.76s\n",
      "907:\tlearn: 0.3916075\ttotal: 36.7s\tremaining: 3.72s\n",
      "908:\tlearn: 0.3915588\ttotal: 36.8s\tremaining: 3.68s\n",
      "909:\tlearn: 0.3915421\ttotal: 36.8s\tremaining: 3.64s\n",
      "910:\tlearn: 0.3915173\ttotal: 36.9s\tremaining: 3.6s\n",
      "911:\tlearn: 0.3914615\ttotal: 36.9s\tremaining: 3.56s\n",
      "912:\tlearn: 0.3914497\ttotal: 36.9s\tremaining: 3.52s\n",
      "913:\tlearn: 0.3914133\ttotal: 37s\tremaining: 3.48s\n",
      "914:\tlearn: 0.3913668\ttotal: 37s\tremaining: 3.44s\n",
      "915:\tlearn: 0.3913445\ttotal: 37.1s\tremaining: 3.4s\n",
      "916:\tlearn: 0.3913010\ttotal: 37.1s\tremaining: 3.36s\n",
      "917:\tlearn: 0.3912645\ttotal: 37.2s\tremaining: 3.32s\n",
      "918:\tlearn: 0.3912478\ttotal: 37.2s\tremaining: 3.28s\n",
      "919:\tlearn: 0.3912376\ttotal: 37.3s\tremaining: 3.24s\n",
      "920:\tlearn: 0.3912065\ttotal: 37.3s\tremaining: 3.2s\n",
      "921:\tlearn: 0.3911295\ttotal: 37.4s\tremaining: 3.16s\n",
      "922:\tlearn: 0.3910981\ttotal: 37.4s\tremaining: 3.12s\n",
      "923:\tlearn: 0.3910575\ttotal: 37.4s\tremaining: 3.08s\n",
      "924:\tlearn: 0.3910141\ttotal: 37.5s\tremaining: 3.04s\n",
      "925:\tlearn: 0.3909930\ttotal: 37.5s\tremaining: 3s\n",
      "926:\tlearn: 0.3909530\ttotal: 37.6s\tremaining: 2.96s\n",
      "927:\tlearn: 0.3909321\ttotal: 37.6s\tremaining: 2.92s\n",
      "928:\tlearn: 0.3908975\ttotal: 37.7s\tremaining: 2.88s\n",
      "929:\tlearn: 0.3908838\ttotal: 37.7s\tremaining: 2.84s\n",
      "930:\tlearn: 0.3908503\ttotal: 37.8s\tremaining: 2.8s\n",
      "931:\tlearn: 0.3908101\ttotal: 37.8s\tremaining: 2.76s\n",
      "932:\tlearn: 0.3907570\ttotal: 37.8s\tremaining: 2.72s\n",
      "933:\tlearn: 0.3907352\ttotal: 37.9s\tremaining: 2.67s\n",
      "934:\tlearn: 0.3907035\ttotal: 37.9s\tremaining: 2.63s\n",
      "935:\tlearn: 0.3906560\ttotal: 37.9s\tremaining: 2.59s\n",
      "936:\tlearn: 0.3906193\ttotal: 38s\tremaining: 2.55s\n",
      "937:\tlearn: 0.3905805\ttotal: 38s\tremaining: 2.51s\n",
      "938:\tlearn: 0.3905087\ttotal: 38.1s\tremaining: 2.47s\n",
      "939:\tlearn: 0.3904828\ttotal: 38.1s\tremaining: 2.43s\n",
      "940:\tlearn: 0.3904532\ttotal: 38.2s\tremaining: 2.39s\n",
      "941:\tlearn: 0.3904102\ttotal: 38.2s\tremaining: 2.35s\n",
      "942:\tlearn: 0.3903696\ttotal: 38.2s\tremaining: 2.31s\n",
      "943:\tlearn: 0.3903277\ttotal: 38.3s\tremaining: 2.27s\n",
      "944:\tlearn: 0.3903084\ttotal: 38.3s\tremaining: 2.23s\n",
      "945:\tlearn: 0.3902675\ttotal: 38.4s\tremaining: 2.19s\n",
      "946:\tlearn: 0.3902321\ttotal: 38.4s\tremaining: 2.15s\n",
      "947:\tlearn: 0.3902050\ttotal: 38.4s\tremaining: 2.11s\n",
      "948:\tlearn: 0.3901806\ttotal: 38.5s\tremaining: 2.07s\n",
      "949:\tlearn: 0.3901458\ttotal: 38.5s\tremaining: 2.02s\n",
      "950:\tlearn: 0.3901300\ttotal: 38.5s\tremaining: 1.99s\n",
      "951:\tlearn: 0.3901003\ttotal: 38.6s\tremaining: 1.95s\n",
      "952:\tlearn: 0.3900675\ttotal: 38.6s\tremaining: 1.9s\n",
      "953:\tlearn: 0.3900411\ttotal: 38.7s\tremaining: 1.86s\n",
      "954:\tlearn: 0.3899852\ttotal: 38.7s\tremaining: 1.82s\n",
      "955:\tlearn: 0.3899668\ttotal: 38.8s\tremaining: 1.78s\n",
      "956:\tlearn: 0.3899353\ttotal: 38.8s\tremaining: 1.74s\n",
      "957:\tlearn: 0.3898715\ttotal: 38.8s\tremaining: 1.7s\n",
      "958:\tlearn: 0.3898468\ttotal: 38.9s\tremaining: 1.66s\n",
      "959:\tlearn: 0.3898310\ttotal: 38.9s\tremaining: 1.62s\n",
      "960:\tlearn: 0.3897825\ttotal: 39s\tremaining: 1.58s\n",
      "961:\tlearn: 0.3897689\ttotal: 39s\tremaining: 1.54s\n",
      "962:\tlearn: 0.3897283\ttotal: 39.1s\tremaining: 1.5s\n",
      "963:\tlearn: 0.3897029\ttotal: 39.1s\tremaining: 1.46s\n",
      "964:\tlearn: 0.3896720\ttotal: 39.1s\tremaining: 1.42s\n",
      "965:\tlearn: 0.3896641\ttotal: 39.2s\tremaining: 1.38s\n",
      "966:\tlearn: 0.3896403\ttotal: 39.2s\tremaining: 1.34s\n",
      "967:\tlearn: 0.3896042\ttotal: 39.3s\tremaining: 1.3s\n",
      "968:\tlearn: 0.3895482\ttotal: 39.3s\tremaining: 1.26s\n"
     ]
    },
    {
     "name": "stdout",
     "output_type": "stream",
     "text": [
      "969:\tlearn: 0.3895175\ttotal: 39.4s\tremaining: 1.22s\n",
      "970:\tlearn: 0.3894764\ttotal: 39.4s\tremaining: 1.18s\n",
      "971:\tlearn: 0.3894493\ttotal: 39.4s\tremaining: 1.14s\n",
      "972:\tlearn: 0.3894228\ttotal: 39.5s\tremaining: 1.09s\n",
      "973:\tlearn: 0.3893511\ttotal: 39.5s\tremaining: 1.05s\n",
      "974:\tlearn: 0.3893400\ttotal: 39.6s\tremaining: 1.01s\n",
      "975:\tlearn: 0.3893083\ttotal: 39.6s\tremaining: 974ms\n",
      "976:\tlearn: 0.3892763\ttotal: 39.7s\tremaining: 934ms\n",
      "977:\tlearn: 0.3892529\ttotal: 39.7s\tremaining: 893ms\n",
      "978:\tlearn: 0.3892315\ttotal: 39.8s\tremaining: 853ms\n",
      "979:\tlearn: 0.3891815\ttotal: 39.8s\tremaining: 812ms\n",
      "980:\tlearn: 0.3891605\ttotal: 39.9s\tremaining: 772ms\n",
      "981:\tlearn: 0.3891382\ttotal: 39.9s\tremaining: 731ms\n",
      "982:\tlearn: 0.3890931\ttotal: 39.9s\tremaining: 691ms\n",
      "983:\tlearn: 0.3890723\ttotal: 40s\tremaining: 650ms\n",
      "984:\tlearn: 0.3890387\ttotal: 40s\tremaining: 610ms\n",
      "985:\tlearn: 0.3890287\ttotal: 40.1s\tremaining: 569ms\n",
      "986:\tlearn: 0.3890221\ttotal: 40.1s\tremaining: 528ms\n",
      "987:\tlearn: 0.3889943\ttotal: 40.1s\tremaining: 488ms\n",
      "988:\tlearn: 0.3889858\ttotal: 40.2s\tremaining: 447ms\n",
      "989:\tlearn: 0.3889636\ttotal: 40.2s\tremaining: 406ms\n",
      "990:\tlearn: 0.3889228\ttotal: 40.3s\tremaining: 366ms\n",
      "991:\tlearn: 0.3888846\ttotal: 40.3s\tremaining: 325ms\n",
      "992:\tlearn: 0.3888590\ttotal: 40.4s\tremaining: 285ms\n",
      "993:\tlearn: 0.3888087\ttotal: 40.4s\tremaining: 244ms\n",
      "994:\tlearn: 0.3887855\ttotal: 40.5s\tremaining: 203ms\n",
      "995:\tlearn: 0.3887653\ttotal: 40.5s\tremaining: 163ms\n",
      "996:\tlearn: 0.3887204\ttotal: 40.5s\tremaining: 122ms\n",
      "997:\tlearn: 0.3886806\ttotal: 40.6s\tremaining: 81.3ms\n",
      "998:\tlearn: 0.3886637\ttotal: 40.6s\tremaining: 40.7ms\n",
      "999:\tlearn: 0.3886295\ttotal: 40.7s\tremaining: 0us\n"
     ]
    },
    {
     "data": {
      "text/plain": [
       "<catboost.core.CatBoostClassifier at 0x7f43524cb1f0>"
      ]
     },
     "execution_count": 81,
     "metadata": {},
     "output_type": "execute_result"
    }
   ],
   "source": [
    "X_train = train[train_feats]\n",
    "y_train = train['dep_delayed_15min'].map({'Y': 1, 'N': 0})\n",
    "X_train_part, X_valid, y_train_part, y_valid = train_test_split(X_train, y_train, test_size=0.3)\n",
    "\n",
    "catbst = CatBoostClassifier()\n",
    "catbst.fit(X_train_part, y_train_part, cat_feats)"
   ]
  },
  {
   "cell_type": "code",
   "execution_count": 82,
   "metadata": {
    "id": "SEeP9QZ3QtLr"
   },
   "outputs": [
    {
     "data": {
      "text/plain": [
       "0.752724050192267"
      ]
     },
     "execution_count": 82,
     "metadata": {},
     "output_type": "execute_result"
    }
   ],
   "source": [
    "roc_auc_score(y_valid, catbst.predict_proba(X_valid)[:, 1])"
   ]
  },
  {
   "cell_type": "markdown",
   "metadata": {
    "id": "mDmcF1cP2bDe"
   },
   "source": [
    "## DBSCAN своими руками (2 + 2* баллов)"
   ]
  },
  {
   "cell_type": "markdown",
   "metadata": {
    "id": "poDad0E52ii1"
   },
   "source": [
    "DBSCAN: Density-based spatial clustering of applications with noise\n",
    "\n",
    "Реализуйте класс dbscan.\n",
    "\n",
    "Алгоритм имеет два основных гиперпараметра:\n",
    "1. `eps` &mdash; радиус рассматриваемой окрестности\n",
    "2. `min_samples` &mdash; число соседей в окрестности\n",
    "\n",
    "Для выполнения кластеризации DBSCAN точки делятся на основные точки, достижимые по плотности точки и выпадающие следующим образом:\n",
    "\n",
    "- Точка $p$ является основной точкой, если по меньшей мере `min_samples` точек находятся на расстоянии, не превосходящем \n",
    "`eps` от неё. Говорят, что эти точки достижимы прямо из $p$.\n",
    "\n",
    "-  Точка $q$ прямо достижима из $p$, если точка $q$ находится на расстоянии, не большем `eps`, от точки $p$, и $p$ — основная точка.\n",
    "Точка $q$ достижима из $p$, если имеется путь \n",
    "$p_1,…,p_n$ где $p_1=p$ и $p_n=q$ , а каждая точка $p_{i+1}$ достижима прямо из $p_i$ (все точки на пути должны быть основными, за исключением $q$).\n",
    "\n",
    "Все точки, не достижимые из основных точек, считаются выбросами.\n",
    "\n",
    "Теперь, если $p$ является основной точкой, то она формирует кластер вместе со всеми точками (основными или неосновными), достижимыми из этой точки. Каждый кластер содержит по меньшей мере одну основную точку. Неосновные точки могут быть частью кластера, но они формируют его «край», поскольку не могут быть использованы для достижения других точек.\n"
   ]
  },
  {
   "cell_type": "code",
   "execution_count": 113,
   "metadata": {
    "id": "BdC__UEtabvU"
   },
   "outputs": [],
   "source": [
    "# Это может помочь вам для поиска дистанции между точками\n",
    "from scipy.spatial import distance"
   ]
  },
  {
   "cell_type": "code",
   "execution_count": 128,
   "metadata": {
    "id": "czgUIv2E3GBm"
   },
   "outputs": [],
   "source": [
    "# Рекомендации -- это только рекомендации\n",
    "class dbscan:\n",
    "    TYPE_CORE_POINT=0\n",
    "    TYPE_BORDER_POINT=1\n",
    "    TYPE_NOISE=2\n",
    "    \n",
    "    def __init__(self, eps, min_samples):\n",
    "        # your code here\n",
    "        self.eps = eps\n",
    "        self.min_samples = min_samples\n",
    "        \n",
    "        pass\n",
    "        \n",
    "    def fit_predict(self, X):\n",
    "        # Помечаем переданные точки, чтобы отличать уже кластеризованные\n",
    "        # или являющиеся шумом от остальных\n",
    "        # your code here\n",
    "        self.points = X\n",
    "        self.is_visited = np.array([False for i in range(X.shape[0])])\n",
    "        self.cluster = np.array([-1 for i in range(X.shape[0])])\n",
    "        \n",
    "        # Счетчик кластеров\n",
    "        C = -1\n",
    "        \n",
    "        # Реализуем цикл по точкам, игнорирущий уже кластеризованные\n",
    "        # your code here\n",
    "        for x_idx in range(self.points.shape[0]):\n",
    "            if self.is_visited[x_idx] == False:\n",
    "                # Если точка ещё не кластеризована, с помощью range_query() ищем её соседей\n",
    "                # Если соседей недостаточно, то помечаем её выделенным под шум лейблом\n",
    "                # (однако она ещё может попасть в какой-то иной кластер)\n",
    "                # Если же соседей достаточно, будем строить от неё кластер с помощью grow_cluster()\n",
    "                # your code here\n",
    "                self.is_visited[x_idx] = True\n",
    "                nbrs = self.range_query(x_idx).tolist()\n",
    "                if len(nbrs) >= self.min_samples:\n",
    "                    C += 1\n",
    "                    self.grow_cluster(x_idx, nbrs, C)\n",
    "        \n",
    "        return self.cluster\n",
    "                \n",
    "\n",
    "    def grow_cluster(self, root_idx, neighbours, C):\n",
    "        # В этой функции мы полностью строим кластер относительно переданной точки\n",
    "        # Т.е. реализуем цикл по структуре данных, изначально состоящей из уже\n",
    "        # известных соседей (neighbours) и в процессе пополняющейся\n",
    "        # \"соседями соседей\" с помощью range_query()\n",
    "        # your code here\n",
    "        self.cluster[root_idx] = C\n",
    "        for nbr in neighbours:\n",
    "            if self.is_visited[nbr] == False:\n",
    "                self.is_visited[nbr] = True\n",
    "                nbrs_of_nbr = self.range_query(nbr).tolist()\n",
    "                if len(nbrs_of_nbr) >= self.min_samples:\n",
    "                    neighbours.extend(nbrs_of_nbr)\n",
    "            if self.cluster[nbr] == -1:\n",
    "                self.cluster[nbr] = C\n",
    "                \n",
    "        pass\n",
    "            \n",
    "        \n",
    "        \n",
    "\n",
    "    def range_query(self, x_idx):\n",
    "        \"\"\"Возвращает точки на расстоянии <= eps от x\"\"\"\n",
    "        # С помощью функции dist()\n",
    "        # your code here\n",
    "        dists = self.dist(x_idx)\n",
    "        nbrs = np.nonzero(dists <= self.eps)[0]\n",
    "        \n",
    "        return nbrs\n",
    "    \n",
    "    def dist(self, x_idx):\n",
    "        \"\"\"\n",
    "        Метрика расстояния\n",
    "        Считает расстояние между точкой под индексом x_idx и всеми точками в self.points\n",
    "        \"\"\"\n",
    "        x = self.points[x_idx].reshape(1, -1)\n",
    "        dists = distance.cdist(x, self.points, metric='euclidean').flatten()\n",
    "        \n",
    "        return dists"
   ]
  },
  {
   "cell_type": "markdown",
   "metadata": {
    "id": "lmI34EpRCLD9"
   },
   "source": [
    "Проверим себя на простом примере:"
   ]
  },
  {
   "cell_type": "code",
   "execution_count": 129,
   "metadata": {
    "colab": {
     "base_uri": "https://localhost:8080/",
     "height": 267
    },
    "id": "EFABkOA73JC6",
    "outputId": "00e82334-c571-440c-b43f-b103944e4d36"
   },
   "outputs": [
    {
     "data": {
      "image/png": "[encoded data removed]",
      "text/plain": [
       "<Figure size 432x288 with 1 Axes>"
      ]
     },
     "metadata": {
      "needs_background": "light"
     },
     "output_type": "display_data"
    }
   ],
   "source": [
    "from sklearn.datasets import make_moons\n",
    "import matplotlib.pyplot as plt\n",
    "import pandas as pd\n",
    "\n",
    "X, _ = make_moons(n_samples=500, noise=0.1)\n",
    "plt.scatter(X[:,0], X[:,1])\n",
    "plt.show()"
   ]
  },
  {
   "cell_type": "markdown",
   "metadata": {
    "id": "NCgWZPMwCycn"
   },
   "source": [
    "Кластеризуйте это с помощью своей версии DBSCAN:"
   ]
  },
  {
   "cell_type": "code",
   "execution_count": 134,
   "metadata": {
    "id": "dMtgyZMR4h0a"
   },
   "outputs": [
    {
     "data": {
      "image/png": "[encoded data removed]",
      "text/plain": [
       "<Figure size 432x288 with 1 Axes>"
      ]
     },
     "metadata": {
      "needs_background": "light"
     },
     "output_type": "display_data"
    }
   ],
   "source": [
    "# your code here\n",
    "clusters = dbscan(eps=0.2, min_samples=10).fit_predict(X)\n",
    "\n",
    "plt.scatter(X[:,0], X[:,1], c=clusters)\n",
    "plt.show()"
   ]
  },
  {
   "cell_type": "markdown",
   "metadata": {
    "id": "OY_xo0uRC6lt"
   },
   "source": [
    "Референс:"
   ]
  },
  {
   "cell_type": "code",
   "execution_count": 135,
   "metadata": {
    "colab": {
     "base_uri": "https://localhost:8080/",
     "height": 267
    },
    "id": "QtEwI8mb_lLV",
    "outputId": "e912148c-7eae-4589-d29f-87b5e8cdfa51"
   },
   "outputs": [
    {
     "data": {
      "image/png": "[encoded data removed]",
      "text/plain": [
       "<Figure size 432x288 with 1 Axes>"
      ]
     },
     "metadata": {
      "needs_background": "light"
     },
     "output_type": "display_data"
    }
   ],
   "source": [
    "from sklearn.cluster import DBSCAN\n",
    "\n",
    "clusters = DBSCAN(eps=0.2, min_samples=10).fit_predict(X)\n",
    "\n",
    "plt.scatter(X[:,0], X[:,1], c=clusters)\n",
    "plt.show()"
   ]
  },
  {
   "cell_type": "markdown",
   "metadata": {
    "id": "M6S5stsxDBps"
   },
   "source": [
    "Получите 1 балл за ещё один интересный пример кластеризации (в качестве референса используйте предоставленное изображение. Нужно несколько интересных соседствующих форм):"
   ]
  },
  {
   "cell_type": "code",
   "execution_count": 139,
   "metadata": {
    "colab": {
     "base_uri": "https://localhost:8080/",
     "height": 265
    },
    "id": "iebozfLnDH4U",
    "outputId": "c52df5d2-3bf1-4f6c-adda-b9e940d6b1f8"
   },
   "outputs": [],
   "source": [
    "# your code here\n",
    "from sklearn import datasets"
   ]
  },
  {
   "cell_type": "code",
   "execution_count": 227,
   "metadata": {},
   "outputs": [],
   "source": [
    "X, _ = datasets.make_circles(n_samples=10000, noise=0.03, factor=.2)\n",
    "X = X*25\n",
    "B, _ = datasets.make_blobs(centers=[[-10, 8], [10, 8], [0, -15]], n_samples=500, cluster_std=0.5)\n",
    "X = np.concatenate([X, B])"
   ]
  },
  {
   "cell_type": "code",
   "execution_count": 228,
   "metadata": {},
   "outputs": [
    {
     "data": {
      "image/png": "[encoded data removed]",
      "text/plain": [
       "<Figure size 432x288 with 1 Axes>"
      ]
     },
     "metadata": {
      "needs_background": "light"
     },
     "output_type": "display_data"
    }
   ],
   "source": [
    "clusters = DBSCAN(eps=1, min_samples=2).fit_predict(X)\n",
    "\n",
    "plt.scatter(X[:,0], X[:,1], c=clusters)\n",
    "plt.show()"
   ]
  },
  {
   "cell_type": "code",
   "execution_count": 229,
   "metadata": {},
   "outputs": [
    {
     "data": {
      "image/png": "[encoded data removed]",
      "text/plain": [
       "<Figure size 432x288 with 1 Axes>"
      ]
     },
     "metadata": {
      "needs_background": "light"
     },
     "output_type": "display_data"
    }
   ],
   "source": [
    "clusters = dbscan(eps=1, min_samples=2).fit_predict(X)\n",
    "\n",
    "plt.scatter(X[:,0], X[:,1], c=clusters)\n",
    "plt.show()"
   ]
  },
  {
   "cell_type": "markdown",
   "metadata": {
    "id": "l-ECKqgPsMLc"
   },
   "source": [
    "Или хотя бы что-нибудь такое: "
   ]
  },
  {
   "cell_type": "markdown",
   "metadata": {
    "id": "V8KW4g17r_6q"
   },
   "source": [
    "![image.png](data:image/png;base64,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)"
   ]
  },
  {
   "cell_type": "markdown",
   "metadata": {
    "id": "jZRxN-y1DKoA"
   },
   "source": [
    "Получите ещё 1 балл, если время работы вашего алгоритма больше референсного не более чем в 100 раз с учётом погрешности 3% от вашего времени:"
   ]
  },
  {
   "cell_type": "code",
   "execution_count": 136,
   "metadata": {
    "colab": {
     "base_uri": "https://localhost:8080/"
    },
    "id": "JjqYw7RSDkqd",
    "outputId": "94d8c7ca-89f4-4fae-eadb-e531e417f018"
   },
   "outputs": [
    {
     "name": "stdout",
     "output_type": "stream",
     "text": [
      "CPU times: user 6.61 ms, sys: 75 µs, total: 6.68 ms\n",
      "Wall time: 5.64 ms\n"
     ]
    }
   ],
   "source": [
    "%%time\n",
    "%%capture\n",
    "clusters = DBSCAN(eps=0.2, min_samples=10).fit_predict(X)"
   ]
  },
  {
   "cell_type": "code",
   "execution_count": 137,
   "metadata": {
    "id": "pAeHvTniDtSB"
   },
   "outputs": [
    {
     "name": "stdout",
     "output_type": "stream",
     "text": [
      "CPU times: user 39.2 ms, sys: 85 µs, total: 39.2 ms\n",
      "Wall time: 34.6 ms\n"
     ]
    }
   ],
   "source": [
    "%%time\n",
    "%%capture\n",
    "clusters = dbscan(eps=0.2, min_samples=10).fit_predict(X)"
   ]
  }
 ],
 "metadata": {
  "colab": {
   "collapsed_sections": [],
   "name": "hw8-boosting-clustering.ipynb",
   "provenance": [],
   "toc_visible": true
  },
  "kernelspec": {
   "display_name": "myenv",
   "language": "python",
   "name": "myenv"
  },
  "language_info": {
   "codemirror_mode": {
    "name": "ipython",
    "version": 3
   },
   "file_extension": ".py",
   "mimetype": "text/x-python",
   "name": "python",
   "nbconvert_exporter": "python",
   "pygments_lexer": "ipython3",
   "version": "3.8.0"
  }
 },
 "nbformat": 4,
 "nbformat_minor": 1
}
