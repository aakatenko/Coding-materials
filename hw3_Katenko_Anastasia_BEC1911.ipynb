{
 "cells": [
  {
   "cell_type": "markdown",
   "metadata": {},
   "source": [
    "# Part 1. Logistic regression intro"
   ]
  },
  {
   "cell_type": "code",
   "execution_count": 41,
   "metadata": {},
   "outputs": [],
   "source": [
    "import scipy as sp\n",
    "import scipy.linalg as spla\n",
    "import scipy.optimize as spopt\n",
    "import scipy.stats as spst\n",
    "\n",
    "import numpy as np\n",
    "import numpy.linalg as npla\n",
    "\n",
    "import statsmodels as sm\n",
    "import statsmodels.api as sma\n",
    "smfOLS = sma.regression.linear_model.OLS.from_formula\n",
    "smfLGT = sm.discrete.discrete_model.Logit.from_formula\n",
    "\n",
    "import seaborn as sb\n",
    "import pandas as pd\n",
    "\n",
    "import matplotlib.pyplot as plt\n",
    "\n",
    "from inspect import signature as sig"
   ]
  },
  {
   "cell_type": "code",
   "execution_count": 42,
   "metadata": {},
   "outputs": [],
   "source": [
    "# matplotlib image size and resolution\n",
    "mpl_options = {\"figsize\":(8,8), \"dpi\":100}\n",
    "sb.set(rc={'figure.figsize':(8,8)})"
   ]
  },
  {
   "cell_type": "markdown",
   "metadata": {},
   "source": [
    "### То understand the logistic regression, we need to understand where it came from. Typically we are trying to fit a line through a cloud of datapoints. The x variables can be continuous or discrete byt the y variable is always continuous.\n",
    "### For example, \"Income ~ Age + YearsEducation\" или \"LifeExpectancy ~ Income\""
   ]
  },
  {
   "cell_type": "code",
   "execution_count": 43,
   "metadata": {},
   "outputs": [],
   "source": [
    "x=np.random.uniform(size=100)\n",
    "x=x-x.mean()\n",
    "eps=np.random.uniform(size=100)*2\n",
    "eps=eps-eps.mean()\n",
    "\n",
    "y = 3.45*x + eps"
   ]
  },
  {
   "cell_type": "code",
   "execution_count": 44,
   "metadata": {},
   "outputs": [
    {
     "data": {
      "text/plain": [
       "<AxesSubplot:>"
      ]
     },
     "execution_count": 44,
     "metadata": {},
     "output_type": "execute_result"
    },
    {
     "data": {
      "image/png": "[encoded data removed]",
      "text/plain": [
       "<Figure size 576x576 with 1 Axes>"
      ]
     },
     "metadata": {},
     "output_type": "display_data"
    }
   ],
   "source": [
    "sb.regplot(x=x, y=y)"
   ]
  },
  {
   "cell_type": "code",
   "execution_count": 45,
   "metadata": {},
   "outputs": [
    {
     "data": {
      "text/html": [
       "<table class=\"simpletable\">\n",
       "<caption>OLS Regression Results</caption>\n",
       "<tr>\n",
       "  <th>Dep. Variable:</th>         <td>Income</td>      <th>  R-squared:         </th> <td>   0.810</td>\n",
       "</tr>\n",
       "<tr>\n",
       "  <th>Model:</th>                   <td>OLS</td>       <th>  Adj. R-squared:    </th> <td>   0.808</td>\n",
       "</tr>\n",
       "<tr>\n",
       "  <th>Method:</th>             <td>Least Squares</td>  <th>  F-statistic:       </th> <td>   418.6</td>\n",
       "</tr>\n",
       "<tr>\n",
       "  <th>Date:</th>             <td>Mon, 04 Oct 2021</td> <th>  Prob (F-statistic):</th> <td>3.76e-37</td>\n",
       "</tr>\n",
       "<tr>\n",
       "  <th>Time:</th>                 <td>22:00:01</td>     <th>  Log-Likelihood:    </th> <td>  57.126</td>\n",
       "</tr>\n",
       "<tr>\n",
       "  <th>No. Observations:</th>      <td>   100</td>      <th>  AIC:               </th> <td>  -110.3</td>\n",
       "</tr>\n",
       "<tr>\n",
       "  <th>Df Residuals:</th>          <td>    98</td>      <th>  BIC:               </th> <td>  -105.0</td>\n",
       "</tr>\n",
       "<tr>\n",
       "  <th>Df Model:</th>              <td>     1</td>      <th>                     </th>     <td> </td>   \n",
       "</tr>\n",
       "<tr>\n",
       "  <th>Covariance Type:</th>      <td>nonrobust</td>    <th>                     </th>     <td> </td>   \n",
       "</tr>\n",
       "</table>\n",
       "<table class=\"simpletable\">\n",
       "<tr>\n",
       "      <td></td>         <th>coef</th>     <th>std err</th>      <th>t</th>      <th>P>|t|</th>  <th>[0.025</th>    <th>0.975]</th>  \n",
       "</tr>\n",
       "<tr>\n",
       "  <th>Intercept</th> <td>-2.819e-17</td> <td>    0.014</td> <td>-2.04e-15</td> <td> 1.000</td> <td>   -0.027</td> <td>    0.027</td>\n",
       "</tr>\n",
       "<tr>\n",
       "  <th>Age</th>       <td>    0.2329</td> <td>    0.011</td> <td>   20.460</td> <td> 0.000</td> <td>    0.210</td> <td>    0.256</td>\n",
       "</tr>\n",
       "</table>\n",
       "<table class=\"simpletable\">\n",
       "<tr>\n",
       "  <th>Omnibus:</th>       <td> 2.320</td> <th>  Durbin-Watson:     </th> <td>   1.929</td>\n",
       "</tr>\n",
       "<tr>\n",
       "  <th>Prob(Omnibus):</th> <td> 0.314</td> <th>  Jarque-Bera (JB):  </th> <td>   1.948</td>\n",
       "</tr>\n",
       "<tr>\n",
       "  <th>Skew:</th>          <td> 0.212</td> <th>  Prob(JB):          </th> <td>   0.377</td>\n",
       "</tr>\n",
       "<tr>\n",
       "  <th>Kurtosis:</th>      <td> 2.463</td> <th>  Cond. No.          </th> <td>    1.21</td>\n",
       "</tr>\n",
       "</table><br/><br/>Notes:<br/>[1] Standard Errors assume that the covariance matrix of the errors is correctly specified."
      ],
      "text/plain": [
       "<class 'statsmodels.iolib.summary.Summary'>\n",
       "\"\"\"\n",
       "                            OLS Regression Results                            \n",
       "==============================================================================\n",
       "Dep. Variable:                 Income   R-squared:                       0.810\n",
       "Model:                            OLS   Adj. R-squared:                  0.808\n",
       "Method:                 Least Squares   F-statistic:                     418.6\n",
       "Date:                Mon, 04 Oct 2021   Prob (F-statistic):           3.76e-37\n",
       "Time:                        22:00:01   Log-Likelihood:                 57.126\n",
       "No. Observations:                 100   AIC:                            -110.3\n",
       "Df Residuals:                      98   BIC:                            -105.0\n",
       "Df Model:                           1                                         \n",
       "Covariance Type:            nonrobust                                         \n",
       "==============================================================================\n",
       "                 coef    std err          t      P>|t|      [0.025      0.975]\n",
       "------------------------------------------------------------------------------\n",
       "Intercept  -2.819e-17      0.014  -2.04e-15      1.000      -0.027       0.027\n",
       "Age            0.2329      0.011     20.460      0.000       0.210       0.256\n",
       "==============================================================================\n",
       "Omnibus:                        2.320   Durbin-Watson:                   1.929\n",
       "Prob(Omnibus):                  0.314   Jarque-Bera (JB):                1.948\n",
       "Skew:                           0.212   Prob(JB):                        0.377\n",
       "Kurtosis:                       2.463   Cond. No.                         1.21\n",
       "==============================================================================\n",
       "\n",
       "Notes:\n",
       "[1] Standard Errors assume that the covariance matrix of the errors is correctly specified.\n",
       "\"\"\""
      ]
     },
     "execution_count": 45,
     "metadata": {},
     "output_type": "execute_result"
    }
   ],
   "source": [
    "df = pd.DataFrame([])\n",
    "df['Income']=x\n",
    "df['Age']=y\n",
    "model = smfOLS(\"Income ~ Age\", data=df)\n",
    "model.fit().summary()"
   ]
  },
  {
   "cell_type": "markdown",
   "metadata": {},
   "source": [
    "### What if the outcome variable is discrete, like \"getting married\". We could try"
   ]
  },
  {
   "cell_type": "code",
   "execution_count": 46,
   "metadata": {},
   "outputs": [],
   "source": [
    "x=np.random.uniform(size=100)\n",
    "x=x-x.mean()\n",
    "eps=np.random.uniform(size=100)*2\n",
    "eps=eps-eps.mean()\n",
    "\n",
    "y = (np.sign(3.45*x + eps)+1)/2"
   ]
  },
  {
   "cell_type": "code",
   "execution_count": 47,
   "metadata": {},
   "outputs": [
    {
     "data": {
      "text/plain": [
       "<AxesSubplot:>"
      ]
     },
     "execution_count": 47,
     "metadata": {},
     "output_type": "execute_result"
    },
    {
     "data": {
      "image/png": "[encoded data removed]",
      "text/plain": [
       "<Figure size 576x576 with 1 Axes>"
      ]
     },
     "metadata": {},
     "output_type": "display_data"
    }
   ],
   "source": [
    "sb.regplot(x=x, y=y)"
   ]
  },
  {
   "cell_type": "code",
   "execution_count": 48,
   "metadata": {},
   "outputs": [
    {
     "data": {
      "text/html": [
       "<table class=\"simpletable\">\n",
       "<caption>OLS Regression Results</caption>\n",
       "<tr>\n",
       "  <th>Dep. Variable:</th>          <td>Univ</td>       <th>  R-squared:         </th> <td>   0.467</td>\n",
       "</tr>\n",
       "<tr>\n",
       "  <th>Model:</th>                   <td>OLS</td>       <th>  Adj. R-squared:    </th> <td>   0.462</td>\n",
       "</tr>\n",
       "<tr>\n",
       "  <th>Method:</th>             <td>Least Squares</td>  <th>  F-statistic:       </th> <td>   86.04</td>\n",
       "</tr>\n",
       "<tr>\n",
       "  <th>Date:</th>             <td>Mon, 04 Oct 2021</td> <th>  Prob (F-statistic):</th> <td>4.52e-15</td>\n",
       "</tr>\n",
       "<tr>\n",
       "  <th>Time:</th>                 <td>22:00:01</td>     <th>  Log-Likelihood:    </th> <td> -41.071</td>\n",
       "</tr>\n",
       "<tr>\n",
       "  <th>No. Observations:</th>      <td>   100</td>      <th>  AIC:               </th> <td>   86.14</td>\n",
       "</tr>\n",
       "<tr>\n",
       "  <th>Df Residuals:</th>          <td>    98</td>      <th>  BIC:               </th> <td>   91.35</td>\n",
       "</tr>\n",
       "<tr>\n",
       "  <th>Df Model:</th>              <td>     1</td>      <th>                     </th>     <td> </td>   \n",
       "</tr>\n",
       "<tr>\n",
       "  <th>Covariance Type:</th>      <td>nonrobust</td>    <th>                     </th>     <td> </td>   \n",
       "</tr>\n",
       "</table>\n",
       "<table class=\"simpletable\">\n",
       "<tr>\n",
       "      <td></td>         <th>coef</th>     <th>std err</th>      <th>t</th>      <th>P>|t|</th>  <th>[0.025</th>    <th>0.975]</th>  \n",
       "</tr>\n",
       "<tr>\n",
       "  <th>Intercept</th> <td>    0.5000</td> <td>    0.037</td> <td>   13.566</td> <td> 0.000</td> <td>    0.427</td> <td>    0.573</td>\n",
       "</tr>\n",
       "<tr>\n",
       "  <th>Income</th>    <td>    1.3096</td> <td>    0.141</td> <td>    9.276</td> <td> 0.000</td> <td>    1.029</td> <td>    1.590</td>\n",
       "</tr>\n",
       "</table>\n",
       "<table class=\"simpletable\">\n",
       "<tr>\n",
       "  <th>Omnibus:</th>       <td> 2.407</td> <th>  Durbin-Watson:     </th> <td>   1.884</td>\n",
       "</tr>\n",
       "<tr>\n",
       "  <th>Prob(Omnibus):</th> <td> 0.300</td> <th>  Jarque-Bera (JB):  </th> <td>   1.641</td>\n",
       "</tr>\n",
       "<tr>\n",
       "  <th>Skew:</th>          <td>-0.066</td> <th>  Prob(JB):          </th> <td>   0.440</td>\n",
       "</tr>\n",
       "<tr>\n",
       "  <th>Kurtosis:</th>      <td> 2.386</td> <th>  Cond. No.          </th> <td>    3.83</td>\n",
       "</tr>\n",
       "</table><br/><br/>Notes:<br/>[1] Standard Errors assume that the covariance matrix of the errors is correctly specified."
      ],
      "text/plain": [
       "<class 'statsmodels.iolib.summary.Summary'>\n",
       "\"\"\"\n",
       "                            OLS Regression Results                            \n",
       "==============================================================================\n",
       "Dep. Variable:                   Univ   R-squared:                       0.467\n",
       "Model:                            OLS   Adj. R-squared:                  0.462\n",
       "Method:                 Least Squares   F-statistic:                     86.04\n",
       "Date:                Mon, 04 Oct 2021   Prob (F-statistic):           4.52e-15\n",
       "Time:                        22:00:01   Log-Likelihood:                -41.071\n",
       "No. Observations:                 100   AIC:                             86.14\n",
       "Df Residuals:                      98   BIC:                             91.35\n",
       "Df Model:                           1                                         \n",
       "Covariance Type:            nonrobust                                         \n",
       "==============================================================================\n",
       "                 coef    std err          t      P>|t|      [0.025      0.975]\n",
       "------------------------------------------------------------------------------\n",
       "Intercept      0.5000      0.037     13.566      0.000       0.427       0.573\n",
       "Income         1.3096      0.141      9.276      0.000       1.029       1.590\n",
       "==============================================================================\n",
       "Omnibus:                        2.407   Durbin-Watson:                   1.884\n",
       "Prob(Omnibus):                  0.300   Jarque-Bera (JB):                1.641\n",
       "Skew:                          -0.066   Prob(JB):                        0.440\n",
       "Kurtosis:                       2.386   Cond. No.                         3.83\n",
       "==============================================================================\n",
       "\n",
       "Notes:\n",
       "[1] Standard Errors assume that the covariance matrix of the errors is correctly specified.\n",
       "\"\"\""
      ]
     },
     "execution_count": 48,
     "metadata": {},
     "output_type": "execute_result"
    }
   ],
   "source": [
    "df = pd.DataFrame([])\n",
    "df['Income']=x\n",
    "df['Univ'] = y\n",
    "model = smfOLS(\"Univ ~ Income\", data=df)\n",
    "model.fit().summary()"
   ]
  },
  {
   "cell_type": "markdown",
   "metadata": {},
   "source": [
    "### Clearly, this is a very poor fitting/prediction exercise\n",
    "### It would be great to have a model where\n",
    "- the fitted values are between 0 and 1\n",
    "- the optimization is convex\n",
    "- could use covariates"
   ]
  },
  {
   "cell_type": "code",
   "execution_count": 49,
   "metadata": {},
   "outputs": [
    {
     "data": {
      "text/plain": [
       "<AxesSubplot:>"
      ]
     },
     "execution_count": 49,
     "metadata": {},
     "output_type": "execute_result"
    },
    {
     "data": {
      "image/png": "[encoded data removed]",
      "text/plain": [
       "<Figure size 576x576 with 1 Axes>"
      ]
     },
     "metadata": {},
     "output_type": "display_data"
    }
   ],
   "source": [
    "sb.regplot(x=x, y=y, logistic = True)"
   ]
  },
  {
   "cell_type": "code",
   "execution_count": 50,
   "metadata": {},
   "outputs": [
    {
     "name": "stdout",
     "output_type": "stream",
     "text": [
      "Optimization terminated successfully.\n",
      "         Current function value: 0.393922\n",
      "         Iterations 7\n"
     ]
    },
    {
     "data": {
      "text/html": [
       "<table class=\"simpletable\">\n",
       "<caption>Logit Regression Results</caption>\n",
       "<tr>\n",
       "  <th>Dep. Variable:</th>         <td>Univ</td>       <th>  No. Observations:  </th>  <td>   100</td>  \n",
       "</tr>\n",
       "<tr>\n",
       "  <th>Model:</th>                 <td>Logit</td>      <th>  Df Residuals:      </th>  <td>    98</td>  \n",
       "</tr>\n",
       "<tr>\n",
       "  <th>Method:</th>                 <td>MLE</td>       <th>  Df Model:          </th>  <td>     1</td>  \n",
       "</tr>\n",
       "<tr>\n",
       "  <th>Date:</th>            <td>Mon, 04 Oct 2021</td> <th>  Pseudo R-squ.:     </th>  <td>0.4317</td>  \n",
       "</tr>\n",
       "<tr>\n",
       "  <th>Time:</th>                <td>22:00:04</td>     <th>  Log-Likelihood:    </th> <td> -39.392</td> \n",
       "</tr>\n",
       "<tr>\n",
       "  <th>converged:</th>             <td>True</td>       <th>  LL-Null:           </th> <td> -69.315</td> \n",
       "</tr>\n",
       "<tr>\n",
       "  <th>Covariance Type:</th>     <td>nonrobust</td>    <th>  LLR p-value:       </th> <td>1.026e-14</td>\n",
       "</tr>\n",
       "</table>\n",
       "<table class=\"simpletable\">\n",
       "<tr>\n",
       "      <td></td>         <th>coef</th>     <th>std err</th>      <th>z</th>      <th>P>|z|</th>  <th>[0.025</th>    <th>0.975]</th>  \n",
       "</tr>\n",
       "<tr>\n",
       "  <th>Intercept</th> <td>   -0.0042</td> <td>    0.282</td> <td>   -0.015</td> <td> 0.988</td> <td>   -0.556</td> <td>    0.548</td>\n",
       "</tr>\n",
       "<tr>\n",
       "  <th>Income</th>    <td>    9.3399</td> <td>    1.832</td> <td>    5.098</td> <td> 0.000</td> <td>    5.749</td> <td>   12.931</td>\n",
       "</tr>\n",
       "</table>"
      ],
      "text/plain": [
       "<class 'statsmodels.iolib.summary.Summary'>\n",
       "\"\"\"\n",
       "                           Logit Regression Results                           \n",
       "==============================================================================\n",
       "Dep. Variable:                   Univ   No. Observations:                  100\n",
       "Model:                          Logit   Df Residuals:                       98\n",
       "Method:                           MLE   Df Model:                            1\n",
       "Date:                Mon, 04 Oct 2021   Pseudo R-squ.:                  0.4317\n",
       "Time:                        22:00:04   Log-Likelihood:                -39.392\n",
       "converged:                       True   LL-Null:                       -69.315\n",
       "Covariance Type:            nonrobust   LLR p-value:                 1.026e-14\n",
       "==============================================================================\n",
       "                 coef    std err          z      P>|z|      [0.025      0.975]\n",
       "------------------------------------------------------------------------------\n",
       "Intercept     -0.0042      0.282     -0.015      0.988      -0.556       0.548\n",
       "Income         9.3399      1.832      5.098      0.000       5.749      12.931\n",
       "==============================================================================\n",
       "\"\"\""
      ]
     },
     "execution_count": 50,
     "metadata": {},
     "output_type": "execute_result"
    }
   ],
   "source": [
    "df = pd.DataFrame([])\n",
    "df['Income']=x\n",
    "df['Univ']=y\n",
    "model = smfLGT(\"Univ ~ Income\", data=df)\n",
    "model.fit().summary()"
   ]
  },
  {
   "cell_type": "markdown",
   "metadata": {},
   "source": [
    "### A classic interpretation of the regression is estimating a certain parameter of the distribution of $(X,Y)$, modeled in a particular functional form, which is computationally convenient and easy to interpret\n",
    "- standard ols regression is linear in X conditional average: $$E[Y|X]=\\beta' X$$\n",
    "- logistic regression is \"logistic\" in X conditional probability: $$\\mathbb{E}[I(Y=1)|X] = Pr(Y=1|X)=\\frac{1}{1+\\exp(-\\beta' X)}$$\n",
    "\n",
    "### Apart from being computationally feasible (back in 20 century) the $F(z)=\\frac{1}{1+\\exp(-z)}$ transformation has image in [0,1], and is monotone. While it is not immediately obvious, there exist simple joint distributions that give rise to such functional forms. Although people care less about it these days\n",
    "\n",
    "### In fact, both the OLS and Logit are maximum likelihood estimators in respective econometric models\n",
    "- classic ols is $$y_i = \\beta x_i + \\sigma \\varepsilon, \\quad \\varepsilon \\sim \\mathcal{N}(0,1)$$ where you observe $x_i$, $y_i$.\n",
    "- classic logit is $$y_i = \\beta x_i + \\sigma \\varepsilon, \\quad \\varepsilon \\sim Logistic$$ but you observe $x_i$, $I(y_i>0)$.\n",
    "\n",
    "### A general theorem argues that MLE consistently estimates the parameters (betas): Abraham Wald, (1949), Note on the Consistency of the Maximum Likelihood Estimate, Ann. Math. Stat.\n",
    "\n",
    "### We can verify the functional forms by hand:\n",
    "\n",
    "- ols: $$\\mathbb{E}[y_i|x_i] = \\beta' x_i + \\sigma \\mathbb{E}[\\varepsilon|x_i]=\\beta' x_i$$\n",
    "- logit: $$Pr(y_i=1) = \\mathbb{E}[y_i>0|x_i] = \\mathbb{E}[\\varepsilon_i>(-\\beta' x_i)/\\sigma|x_i]=$$ \n",
    "$$= \\mathbb{E}[-\\tilde\\varepsilon_i>(-\\beta' x_i)/\\sigma|x_i]= \\mathbb{E}[\\tilde\\varepsilon_i<(\\beta' x_i)/\\sigma|x_i]=F(\\beta' x_i/\\sigma)$$\n",
    "since $\\tilde \\varepsilon=-\\varepsilon$ by symmetry"
   ]
  },
  {
   "cell_type": "markdown",
   "metadata": {},
   "source": [
    "### We can verify the likelihoods\n",
    "- ols: $$f_{nor}(\\varepsilon)=\\frac{1}{\\sqrt{2 \\pi}}\\exp^{\\frac{-\\varepsilon^2}{2}} \\quad \\Rightarrow \\quad \\mathcal{LL}=\\sum_{i=1}^n \\frac{-\\varepsilon_i^2}{2} + K = \\frac{-1}{\\sigma^2} \\sum (y_i - \\beta' x_i)^2 + K \\to \\max_{\\beta, \\sigma}$$\n",
    "- logit: $$F_{log}(\\varepsilon)=\\frac{1}{1+\\exp^{-\\varepsilon}}=1-F_{log}(-\\varepsilon) \\quad \\Rightarrow \\quad \\mathcal{L}=\\prod F^{y_i}(\\beta' x_i /\\sigma) \\cdot (1-F(\\beta' x_i /\\sigma))^{1-y_i}$$\n",
    "$$ \\mathcal{LL} = \\sum_{y_i = 1} \\log \\frac{1}{1+\\exp(-\\beta' x_i /\\sigma)} + \\sum_{y_i = 0} \\log \\frac{\\exp(-\\beta' x_i /\\sigma)}{1+\\exp(-\\beta' x_i /\\sigma)} \\to \\max_{\\beta, \\sigma}$$\n",
    "$$ \\mathcal{LL} = \\sum_{y_i = 1} \\log \\frac{1}{1+\\exp(-\\beta' x_i /\\sigma)} + \\sum_{y_i = 0} \\log \\frac{1}{1+\\exp(\\beta' x_i /\\sigma)} \\to \\max_{\\beta, \\sigma}$$\n",
    "- the latter is, in fact, the definition of logit\n",
    "- there is one problem, however, that $\\beta, \\sigma$ are not jointly identified in the population\n",
    "- if we add a constant into the regression, $\\beta_0$ would be exactly equal to $1/\\sigma$, so... always add a constant"
   ]
  },
  {
   "cell_type": "markdown",
   "metadata": {},
   "source": [
    "### Time has come to assess convexity of the optimization problem. \n",
    "$$ \\mathcal{LL} = \\sum_{y_i = 0} (-\\beta' x_i /\\sigma) - \\sum_{all} \\log(1+\\exp(-\\beta' x_i /\\sigma)) \\to \\max_{\\beta}$$\n",
    "### The thing is that $1+\\exp(-z)$ is also log-concave, thus the log-likelihood (but not likeligood) is concave"
   ]
  },
  {
   "cell_type": "markdown",
   "metadata": {},
   "source": [
    "## How about the regularization?"
   ]
  },
  {
   "cell_type": "markdown",
   "metadata": {},
   "source": [
    "### If logit itself is convex, so it the regularization\n",
    "- ols: $$ \\quad Loss = \\frac{1}{2n}\\sum (y_i - \\beta' x_i)^2 + a * ||w||_1 + b * \\frac{||w||^2_2}{2} \\to \\min_{\\beta}, \\quad \\text{where} \\quad l1_{ratio} = \\frac{a}{a+b}, \\quad \\alpha=a+b$$\n",
    "- logit: $$ \\quad Loss = \\sum \\log(1+\\exp(-y_i \\beta' x_i)) + a * ||w||_1 + b * \\frac{||w||^2_2}{2} \\to \\min_{\\beta}, \\quad \\text{where} \\quad l1_{ratio} = \\frac{a}{a+b}, \\quad C=a+b$$"
   ]
  },
  {
   "cell_type": "markdown",
   "metadata": {},
   "source": [
    "### Warning!!! Here $y_i$ takes values $\\{-1,1\\}$, as is a tradition in CS. This can be confusing.\n",
    "- CS  : $\\mathcal{L}=\\prod F^{\\frac{1+y_i}{2}}(\\beta' x_i /\\sigma) \\cdot (1-F(\\beta' x_i /\\sigma))^{\\frac{1-y_i}{2}} = \\prod F(y_i \\cdot \\beta' x_i /\\sigma)$ and $y_i \\in \\{-1,1\\}$\n",
    "- ECON: $\\mathcal{L}=\\prod F^{y_i}(\\beta' x_i /\\sigma) \\cdot (1-F(\\beta' x_i /\\sigma))^{1-y_i}$ and $y_i \\in \\{0,1\\}$"
   ]
  },
  {
   "cell_type": "markdown",
   "metadata": {},
   "source": [
    "### Home Assignment"
   ]
  },
  {
   "cell_type": "markdown",
   "metadata": {},
   "source": [
    "### Assignment 1 (1 point): Prove the equivalence of the two approaches, that is, $\\hat \\beta$ would be the same if we redefine $y$"
   ]
  },
  {
   "cell_type": "code",
   "execution_count": 51,
   "metadata": {},
   "outputs": [],
   "source": [
    "def OLS_loss(Y, X, beta, a, b):\n",
    "    z = Y - X@beta\n",
    "    return np.square(z).sum()/(2*Y.size) + a*np.abs(beta).sum() + b*np.square(beta).sum()/2\n",
    "\n",
    "def LGT_loss(Y, X, beta, a, b):\n",
    "    z = -Y*(X@beta)\n",
    "    o = np.zeros(Y.size) # np.ones(Y.size) -- error\n",
    "    return np.logaddexp(o, z).sum() + a*np.abs(beta).sum() + b*np.square(beta).sum()/2"
   ]
  },
  {
   "cell_type": "code",
   "execution_count": 52,
   "metadata": {},
   "outputs": [],
   "source": [
    "from scipy import optimize\n",
    "from functools import partial\n",
    "import matplotlib.pyplot as plt"
   ]
  },
  {
   "cell_type": "code",
   "execution_count": 53,
   "metadata": {},
   "outputs": [],
   "source": [
    "X=x.reshape(-1, 1)\n",
    "Y=2*y-1"
   ]
  },
  {
   "cell_type": "code",
   "execution_count": 54,
   "metadata": {
    "tags": []
   },
   "outputs": [],
   "source": [
    "def OLS_loss_partial(beta):\n",
    "    return OLS_loss(Y, X, beta, a=0, b=0)\n",
    "def LGT_loss_partial(beta):\n",
    "    return LGT_loss(Y, X, beta, a=0, b=0)"
   ]
  },
  {
   "cell_type": "code",
   "execution_count": 55,
   "metadata": {},
   "outputs": [],
   "source": [
    "beta_space = np.linspace(-10, 10, 100)\n",
    "ols_losses = np.array([OLS_loss_partial([i]) for i in beta_space])\n",
    "lgt_losses = np.array([LGT_loss_partial([i]) for i in beta_space])"
   ]
  },
  {
   "cell_type": "code",
   "execution_count": 56,
   "metadata": {},
   "outputs": [
    {
     "data": {
      "image/png": "[encoded data removed]",
      "text/plain": [
       "<Figure size 720x576 with 1 Axes>"
      ]
     },
     "metadata": {},
     "output_type": "display_data"
    }
   ],
   "source": [
    "plt.figure(figsize=(10, 8))\n",
    "plt.plot(beta_space, ols_losses, label='ols losses')\n",
    "plt.plot(beta_space, lgt_losses, label='lgt losses')\n",
    "plt.legend()\n",
    "plt.show()"
   ]
  },
  {
   "cell_type": "code",
   "execution_count": 57,
   "metadata": {},
   "outputs": [
    {
     "data": {
      "text/plain": [
       "      fun: 39.39226551380252\n",
       " hess_inv: array([[3.35571815]])\n",
       "      jac: array([-4.76837158e-07])\n",
       "  message: 'Optimization terminated successfully.'\n",
       "     nfev: 30\n",
       "      nit: 9\n",
       "     njev: 10\n",
       "   status: 0\n",
       "  success: True\n",
       "        x: array([9.34055798])"
      ]
     },
     "execution_count": 57,
     "metadata": {},
     "output_type": "execute_result"
    }
   ],
   "source": [
    "optimize.minimize(LGT_loss_partial, x0=[0])"
   ]
  },
  {
   "cell_type": "markdown",
   "metadata": {},
   "source": [
    "#### Conclusion:\n",
    "- we see, that we have almost the same coef: 13.58"
   ]
  },
  {
   "cell_type": "markdown",
   "metadata": {},
   "source": [
    "### Assignment 2 (1 point): Find and fix the error in the code above"
   ]
  },
  {
   "cell_type": "markdown",
   "metadata": {},
   "source": [
    "### Lets try sklearn (that is part of CS community)"
   ]
  },
  {
   "cell_type": "code",
   "execution_count": 58,
   "metadata": {},
   "outputs": [],
   "source": [
    "from sklearn.linear_model import Ridge as skRidge\n",
    "from sklearn.linear_model import Lasso as skLasso\n",
    "from sklearn.linear_model import ElasticNet as skEN\n",
    "from sklearn.linear_model import LogisticRegression as skLGT"
   ]
  },
  {
   "cell_type": "code",
   "execution_count": 59,
   "metadata": {},
   "outputs": [],
   "source": [
    "x=np.random.normal(size=1000)\n",
    "eps=np.random.logistic(size=1000)\n",
    "\n",
    "# careful here goes -1,1\n",
    "y = np.sign(1 + 2*x + eps)\n",
    "x = x.reshape(1000, 1)"
   ]
  },
  {
   "cell_type": "code",
   "execution_count": 60,
   "metadata": {},
   "outputs": [
    {
     "data": {
      "text/plain": [
       "(dtype('float64'), dtype('float64'))"
      ]
     },
     "execution_count": 60,
     "metadata": {},
     "output_type": "execute_result"
    }
   ],
   "source": [
    "# Use C-ordered arrays or CSR matrices containing 64-bit floats for optimal performance\n",
    "x.dtype, y.dtype"
   ]
  },
  {
   "cell_type": "code",
   "execution_count": 61,
   "metadata": {},
   "outputs": [
    {
     "data": {
      "text/plain": [
       "<Signature (penalty='l2', *, dual=False, tol=0.0001, C=1.0, fit_intercept=True, intercept_scaling=1, class_weight=None, random_state=None, solver='lbfgs', max_iter=100, multi_class='auto', verbose=0, warm_start=False, n_jobs=None, l1_ratio=None)>"
      ]
     },
     "execution_count": 61,
     "metadata": {},
     "output_type": "execute_result"
    }
   ],
   "source": [
    "sig(skLGT)"
   ]
  },
  {
   "cell_type": "code",
   "execution_count": 62,
   "metadata": {},
   "outputs": [],
   "source": [
    "sk_options={'penalty':'elasticnet', 'solver':'saga', \n",
    "           'fit_intercept':True, 'l1_ratio':1, 'C':1,\n",
    "           'verbose':1, 'n_jobs':10}"
   ]
  },
  {
   "cell_type": "code",
   "execution_count": 63,
   "metadata": {},
   "outputs": [
    {
     "name": "stdout",
     "output_type": "stream",
     "text": [
      "convergence after 11 epochs took 0 seconds\n"
     ]
    },
    {
     "name": "stderr",
     "output_type": "stream",
     "text": [
      "[Parallel(n_jobs=10)]: Using backend ThreadingBackend with 10 concurrent workers.\n",
      "[Parallel(n_jobs=10)]: Done   1 out of   1 | elapsed:    0.0s finished\n"
     ]
    },
    {
     "data": {
      "text/plain": [
       "(array([1.13983328]), array([[1.98094508]]))"
      ]
     },
     "execution_count": 63,
     "metadata": {},
     "output_type": "execute_result"
    }
   ],
   "source": [
    "model = skLGT(**sk_options).fit(x,y)\n",
    "model.intercept_, model.coef_"
   ]
  },
  {
   "cell_type": "markdown",
   "metadata": {},
   "source": [
    "### Lets try statsmodels (thats part of Econ community)"
   ]
  },
  {
   "cell_type": "code",
   "execution_count": 64,
   "metadata": {},
   "outputs": [],
   "source": [
    "import statsmodels.formula.api as smf"
   ]
  },
  {
   "cell_type": "code",
   "execution_count": 65,
   "metadata": {},
   "outputs": [],
   "source": [
    "yecon = (y+1)/2"
   ]
  },
  {
   "cell_type": "code",
   "execution_count": 66,
   "metadata": {},
   "outputs": [
    {
     "data": {
      "text/plain": [
       "(1000, 2)"
      ]
     },
     "execution_count": 66,
     "metadata": {},
     "output_type": "execute_result"
    }
   ],
   "source": [
    "data = np.hstack((x, yecon.reshape(1000, 1)))\n",
    "data.shape"
   ]
  },
  {
   "cell_type": "code",
   "execution_count": 67,
   "metadata": {},
   "outputs": [
    {
     "data": {
      "text/html": [
       "<div>\n",
       "<style scoped>\n",
       "    .dataframe tbody tr th:only-of-type {\n",
       "        vertical-align: middle;\n",
       "    }\n",
       "\n",
       "    .dataframe tbody tr th {\n",
       "        vertical-align: top;\n",
       "    }\n",
       "\n",
       "    .dataframe thead th {\n",
       "        text-align: right;\n",
       "    }\n",
       "</style>\n",
       "<table border=\"1\" class=\"dataframe\">\n",
       "  <thead>\n",
       "    <tr style=\"text-align: right;\">\n",
       "      <th></th>\n",
       "      <th>x</th>\n",
       "      <th>y</th>\n",
       "    </tr>\n",
       "  </thead>\n",
       "  <tbody>\n",
       "    <tr>\n",
       "      <th>0</th>\n",
       "      <td>-1.103667</td>\n",
       "      <td>0.0</td>\n",
       "    </tr>\n",
       "    <tr>\n",
       "      <th>1</th>\n",
       "      <td>-1.308432</td>\n",
       "      <td>0.0</td>\n",
       "    </tr>\n",
       "    <tr>\n",
       "      <th>2</th>\n",
       "      <td>-0.151828</td>\n",
       "      <td>1.0</td>\n",
       "    </tr>\n",
       "    <tr>\n",
       "      <th>3</th>\n",
       "      <td>-0.694784</td>\n",
       "      <td>1.0</td>\n",
       "    </tr>\n",
       "    <tr>\n",
       "      <th>4</th>\n",
       "      <td>-2.037444</td>\n",
       "      <td>0.0</td>\n",
       "    </tr>\n",
       "  </tbody>\n",
       "</table>\n",
       "</div>"
      ],
      "text/plain": [
       "          x    y\n",
       "0 -1.103667  0.0\n",
       "1 -1.308432  0.0\n",
       "2 -0.151828  1.0\n",
       "3 -0.694784  1.0\n",
       "4 -2.037444  0.0"
      ]
     },
     "execution_count": 67,
     "metadata": {},
     "output_type": "execute_result"
    }
   ],
   "source": [
    "df = pd.DataFrame(data, columns = ['x', 'y'])\n",
    "df.head()"
   ]
  },
  {
   "cell_type": "code",
   "execution_count": 68,
   "metadata": {},
   "outputs": [
    {
     "name": "stdout",
     "output_type": "stream",
     "text": [
      "Optimization terminated successfully.\n",
      "         Current function value: 0.420828\n",
      "         Iterations 7\n"
     ]
    }
   ],
   "source": [
    "formula = 'y ~ x'\n",
    "model = smf.logit(formula, data=df).fit()"
   ]
  },
  {
   "cell_type": "code",
   "execution_count": 69,
   "metadata": {},
   "outputs": [
    {
     "data": {
      "text/plain": [
       "<Signature (formula, data, subset=None, drop_cols=None, *args, **kwargs)>"
      ]
     },
     "execution_count": 69,
     "metadata": {},
     "output_type": "execute_result"
    }
   ],
   "source": [
    "from inspect import signature\n",
    "signature(smf.logit)"
   ]
  },
  {
   "cell_type": "code",
   "execution_count": 70,
   "metadata": {},
   "outputs": [
    {
     "data": {
      "text/plain": [
       "Intercept    1.146050\n",
       "x            1.998217\n",
       "dtype: float64"
      ]
     },
     "execution_count": 70,
     "metadata": {},
     "output_type": "execute_result"
    }
   ],
   "source": [
    "model.params"
   ]
  },
  {
   "cell_type": "markdown",
   "metadata": {},
   "source": [
    "### Assignment 3 (3 point): Write your own logistic regression that replicates the output of the function below"
   ]
  },
  {
   "cell_type": "code",
   "execution_count": 71,
   "metadata": {},
   "outputs": [
    {
     "name": "stdout",
     "output_type": "stream",
     "text": [
      "Optimization terminated successfully.\n",
      "         Current function value: 0.420828\n",
      "         Iterations 7\n"
     ]
    }
   ],
   "source": [
    "def assignment_3_reference(formula, data):\n",
    "    model = smf.logit(formula, data=df).fit()\n",
    "    return model.params\n",
    "    \n",
    "x = assignment_3_reference('y ~ x', df)"
   ]
  },
  {
   "cell_type": "code",
   "execution_count": 72,
   "metadata": {},
   "outputs": [
    {
     "data": {
      "text/plain": [
       "Intercept    1.146050\n",
       "x            1.998217\n",
       "dtype: float64"
      ]
     },
     "execution_count": 72,
     "metadata": {},
     "output_type": "execute_result"
    }
   ],
   "source": [
    "x"
   ]
  },
  {
   "cell_type": "markdown",
   "metadata": {},
   "source": [
    "Logistict loss for {0, 1} to be optimized:\n",
    "$$\n",
    "-ylog(\\hat y) - (1-y)log(1 - \\hat y)\n",
    "$$\n",
    "\n",
    "where \n",
    "\n",
    "$$\n",
    "\\hat y = \\sigma (x' \\beta)\n",
    "$$"
   ]
  },
  {
   "cell_type": "code",
   "execution_count": 73,
   "metadata": {},
   "outputs": [],
   "source": [
    "import statsmodels.api as sm_api\n",
    "class MySimpleLogistic1:\n",
    "    def fit(self, formula, data):\n",
    "        ycolumn = formula.split(' ~ ')[0]\n",
    "        xcolumns = formula.split(' ~ ')[1]\n",
    "        \n",
    "        y = data[ycolumn].values\n",
    "        X = sm_api.add_constant(data[xcolumns].values)\n",
    "        \n",
    "        def _logistic_loss(beta):\n",
    "            yhat = X.dot(beta)\n",
    "            yhat = 1 / (1+np.exp(-yhat))\n",
    "            loss = -y*np.log(yhat) - (1-y)*np.log(1-yhat)\n",
    "            \n",
    "            return np.mean(loss)\n",
    "        \n",
    "        return optimize.minimize(_logistic_loss, [0, 0])"
   ]
  },
  {
   "cell_type": "code",
   "execution_count": 74,
   "metadata": {},
   "outputs": [],
   "source": [
    "def assignment_3(formula, data):\n",
    "    model = MySimpleLogistic1()\n",
    "    return model.fit(formula, data)"
   ]
  },
  {
   "cell_type": "code",
   "execution_count": 75,
   "metadata": {},
   "outputs": [
    {
     "data": {
      "text/plain": [
       "      fun: 0.42082759318668284\n",
       " hess_inv: array([[ 7.84392297,  3.54727393],\n",
       "       [ 3.54727393, 13.30092299]])\n",
       "      jac: array([4.27290797e-06, 4.35486436e-06])\n",
       "  message: 'Optimization terminated successfully.'\n",
       "     nfev: 44\n",
       "      nit: 10\n",
       "     njev: 11\n",
       "   status: 0\n",
       "  success: True\n",
       "        x: array([1.14611723, 1.9983173 ])"
      ]
     },
     "execution_count": 75,
     "metadata": {},
     "output_type": "execute_result"
    }
   ],
   "source": [
    "assignment_3('y ~ x', df)"
   ]
  },
  {
   "cell_type": "markdown",
   "metadata": {},
   "source": [
    "#### Conclusion:\n",
    "we have:\n",
    "\n",
    "- Intercept    0.903511\n",
    "- x            2.049772\n",
    "\n",
    "in statsmodels, and:\n",
    "\n",
    "- Intercept    0.90347338\n",
    "- x            2.04987129\n",
    "\n",
    "in our logistic regression"
   ]
  },
  {
   "cell_type": "markdown",
   "metadata": {},
   "source": [
    "### Average Marginal Effects\n",
    "- ols $$\\mathbb{E}_x[\\frac{\\mathbb{E}_{\\varepsilon}[Y|X]}{\\partial X}] = \\mathbb{E}_x[\\beta] = \\beta$$\n",
    "- logit $$\\mathbb{E}_x[\\frac{Prob_{\\varepsilon}(Y=1|X)}{\\partial X}] = \\mathbb{E}_x[\\frac{F(\\beta' X)}{\\partial X}] = \\beta * \\mathbb{E}_x[f(\\beta' X)] \\approx \\frac{\\beta}{n} \\sum_{i=1}^n \\frac{\\exp^{-\\beta' x_i}}{(1+\\exp^{-\\beta' x_i})^2}$$\n",
    "\n",
    "### in ols local = average, but in logit local != average due to linearity. we always want average effects"
   ]
  },
  {
   "cell_type": "markdown",
   "metadata": {},
   "source": [
    "### Assignment 4 (2 points): Write your own logistic regression with $\\alpha$ and $l1ratio$ as parameters"
   ]
  },
  {
   "cell_type": "markdown",
   "metadata": {},
   "source": [
    "Logistict loss with regularization for {0, 1} to be optimized:\n",
    "$$\n",
    "\\sum -ylog(\\hat y) - (1-y)log(1 - \\hat y) + \\sum \\alpha * l1\\_ratio ||\\beta||_1 + 0.5 * \\alpha * (1-l1\\_ratio) * ||\\beta||_2^2\n",
    "$$\n",
    "\n",
    "where \n",
    "\n",
    "$$\n",
    "\\hat y = \\sigma (x' \\beta)\n",
    "$$"
   ]
  },
  {
   "cell_type": "markdown",
   "metadata": {},
   "source": [
    "## I am using PyTorch, since it has great api for SGD"
   ]
  },
  {
   "cell_type": "code",
   "execution_count": 76,
   "metadata": {},
   "outputs": [],
   "source": [
    "import statsmodels.api as sm_api\n",
    "import torch\n",
    "from torch.optim import Adam, SGD"
   ]
  },
  {
   "cell_type": "code",
   "execution_count": 77,
   "metadata": {},
   "outputs": [],
   "source": [
    "class MySimpleLogistic2:\n",
    "    def __init__(self, alpha, l1_ratio):\n",
    "        self.alpha = alpha\n",
    "        self.l1_ratio = l1_ratio\n",
    "        self.model = torch.nn.Linear(in_features=2, out_features=1, bias=False)\n",
    "        self.n_epochs = 200\n",
    "        self.lr = 4e-3\n",
    "        \n",
    "    def _loss_function(self, yhat, y, beta, eps=1e-4):\n",
    "        return torch.sum(\n",
    "            -y*torch.log(yhat + eps) - (1-y)*torch.log(1-yhat + eps)\n",
    "        ) + self.alpha*self.l1_ratio*torch.abs(beta).sum() + 0.5*self.alpha*(1-self.l1_ratio)*(beta**2).sum()\n",
    "    \n",
    "    def calc_loss(self, X, y):\n",
    "        yhat = self.predict(X)\n",
    "        l1_parameters = []\n",
    "        for parameter in self.model.parameters():\n",
    "            l1_parameters.append(parameter.view(-1))\n",
    "        l1_parameters = torch.cat(l1_parameters)\n",
    "        \n",
    "        return self._loss_function(yhat, y, l1_parameters).item()\n",
    "        \n",
    "    def predict(self, X):\n",
    "        with torch.no_grad():\n",
    "            return torch.sigmoid(self.model(X).flatten())\n",
    "        \n",
    "    def fit_on_data(self, formula, data):\n",
    "        ycolumn = formula.split(' ~ ')[0]\n",
    "        xcolumns = formula.split(' ~ ')[1]\n",
    "        \n",
    "        y = torch.FloatTensor(data[ycolumn].values)\n",
    "        X = torch.FloatTensor(sm_api.add_constant(data[xcolumns].values))\n",
    "        \n",
    "        return self.fit(X, y)\n",
    "        \n",
    "    \n",
    "    def fit(self, X, y):\n",
    "        prev_loss = np.inf\n",
    "        opt = SGD(self.model.parameters(), lr=self.lr)\n",
    "        \n",
    "        for i in range(self.n_epochs):\n",
    "            opt.zero_grad()\n",
    "            yhat = torch.sigmoid(self.model(X).flatten())\n",
    "            \n",
    "            l1_parameters = []\n",
    "            for parameter in self.model.parameters():\n",
    "                l1_parameters.append(parameter.view(-1))\n",
    "            l1_parameters = torch.cat(l1_parameters)         \n",
    "            \n",
    "            loss = self._loss_function(yhat, y, l1_parameters)\n",
    "            \n",
    "            if (loss.item() - prev_loss) > 0.1:\n",
    "                # overfitting\n",
    "                break\n",
    "            else:\n",
    "                prev_loss = loss.item()\n",
    "                \n",
    "            loss.backward()\n",
    "            opt.step()\n",
    "            \n",
    "        return self.model.state_dict()['weight'].numpy(), loss.item()"
   ]
  },
  {
   "cell_type": "code",
   "execution_count": 78,
   "metadata": {},
   "outputs": [],
   "source": [
    "def assignment_4(formula, data):\n",
    "    model = MySimpleLogistic2(alpha = 1, l1_ratio = 1)\n",
    "    return model.fit_on_data(formula, data)"
   ]
  },
  {
   "cell_type": "code",
   "execution_count": 79,
   "metadata": {},
   "outputs": [
    {
     "data": {
      "text/plain": [
       "(array([[1.1310636, 1.9760559]], dtype=float32), 423.7636413574219)"
      ]
     },
     "execution_count": 79,
     "metadata": {},
     "output_type": "execute_result"
    }
   ],
   "source": [
    "assignment_4('y ~ x', df)"
   ]
  },
  {
   "cell_type": "code",
   "execution_count": 80,
   "metadata": {},
   "outputs": [],
   "source": [
    "def assignment_4_reference(formula, data):\n",
    "    ycolumn = formula.split(' ~ ')[0]\n",
    "    xcolumns = formula.split(' ~ ')[1]\n",
    "\n",
    "    y = data[ycolumn].values\n",
    "    X = data[xcolumns].values.reshape(-1,1)\n",
    "    model = skLGT(penalty='elasticnet', solver='saga', C=1, l1_ratio=1, fit_intercept=True)\n",
    "    model.fit(X, y)\n",
    "    return np.array([model.intercept_.tolist() + model.coef_.tolist()[0]])\n",
    "    \n",
    "x = assignment_4_reference('y ~ x', df)"
   ]
  },
  {
   "cell_type": "code",
   "execution_count": 81,
   "metadata": {},
   "outputs": [
    {
     "data": {
      "text/plain": [
       "array([[1.13995335, 1.98125442]])"
      ]
     },
     "execution_count": 81,
     "metadata": {},
     "output_type": "execute_result"
    }
   ],
   "source": [
    "x"
   ]
  },
  {
   "cell_type": "markdown",
   "metadata": {},
   "source": [
    "#### Conclusion:\n",
    "we have:\n",
    "\n",
    "- Intercept    0.9801385\n",
    "- x            2.0441394\n",
    "\n",
    "in pytorch implementation, and:\n",
    "\n",
    "- Intercept    0.98859743\n",
    "- x            2.04853087\n",
    "\n",
    "in sklearn implementation"
   ]
  },
  {
   "cell_type": "markdown",
   "metadata": {},
   "source": [
    "### Assignment 5 (3 points): Write your own logistic regression with number of folds as parameter"
   ]
  },
  {
   "cell_type": "code",
   "execution_count": 82,
   "metadata": {},
   "outputs": [],
   "source": [
    "from sklearn.model_selection import StratifiedKFold\n",
    "from itertools import product"
   ]
  },
  {
   "cell_type": "code",
   "execution_count": 83,
   "metadata": {},
   "outputs": [],
   "source": [
    "class MySimpleLogistic3:\n",
    "    def __init__(self, folds_num: int):\n",
    "        self.alpha_space = np.arange(1, 5)\n",
    "        self.l1_ratio_space = np.arange(1, 5)\n",
    "        self.folds_num = folds_num\n",
    "        \n",
    "    def _cv(self, model, X, y):\n",
    "        cv = StratifiedKFold(n_splits=self.folds_num)\n",
    "        loss_on_test = []\n",
    "        for train_index, test_index in cv.split(X, y):\n",
    "            X_train = X[train_index]\n",
    "            X_test = X[test_index]\n",
    "            y_train = y[train_index]\n",
    "            y_test = y[test_index]\n",
    "            \n",
    "            model.fit(X_train, y_train)\n",
    "            loss_on_test.append(model.calc_loss(X_test, y_test))\n",
    "            \n",
    "        return np.mean(loss_on_test)\n",
    "        \n",
    "    def fit(self, formula, data):\n",
    "        ycolumn = formula.split(' ~ ')[0]\n",
    "        xcolumns = formula.split(' ~ ')[1]\n",
    "        \n",
    "        y = torch.FloatTensor(data[ycolumn].values)\n",
    "        X = torch.FloatTensor(sm_api.add_constant(data[xcolumns].values))\n",
    "        \n",
    "        losses = []\n",
    "        params = []\n",
    "        \n",
    "        for alpha, l1_ratio in product(self.alpha_space, self.l1_ratio_space):\n",
    "            model = MySimpleLogistic2(alpha, l1_ratio)\n",
    "            losses.append(self._cv(model, X, y))\n",
    "            params.append([alpha, l1_ratio])\n",
    "        \n",
    "        best_params = params[np.argmin(losses)]\n",
    "        coefs, _ = MySimpleLogistic2(alpha, l1_ratio).fit(X, y)\n",
    "        \n",
    "        return {\n",
    "            'best_params' : {\n",
    "                'alpha' : best_params[0],\n",
    "                'l1_ratio' : best_params[1]\n",
    "            },\n",
    "            'coefs' : coefs\n",
    "        }"
   ]
  },
  {
   "cell_type": "code",
   "execution_count": 104,
   "metadata": {},
   "outputs": [],
   "source": [
    "def assignment_5(formula, data):\n",
    "    model = MySimpleLogistic3(3)\n",
    "    return model.fit_on_data(formula, data)"
   ]
  },
  {
   "cell_type": "code",
   "execution_count": 105,
   "metadata": {},
   "outputs": [
    {
     "data": {
      "text/plain": [
       "{'best_params': {'alpha': 1, 'l1_ratio': 1},\n",
       " 'coefs': array([[1.1963911, 2.1735234]], dtype=float32)}"
      ]
     },
     "execution_count": 105,
     "metadata": {},
     "output_type": "execute_result"
    }
   ],
   "source": [
    "model.fit('y ~ x', df)"
   ]
  },
  {
   "cell_type": "markdown",
   "metadata": {},
   "source": [
    "### Assignment 6 (bonus 5 points): Write the ordered/latent/rand logit and compare to existing library"
   ]
  },
  {
   "cell_type": "markdown",
   "metadata": {},
   "source": [
    "Latent logit:\n",
    "$$\\mathcal{L}=\\prod G(x)^{y_i} \\cdot (1-G(x))^{1-y_i}, \\quad G(x) = \\rho F(\\beta^1 x_i) + (1-\\rho)F(\\beta^2 x_i)$$\n",
    "\n",
    "So the loss is: $ -log \\mathcal{L}$"
   ]
  },
  {
   "cell_type": "code",
   "execution_count": 101,
   "metadata": {},
   "outputs": [],
   "source": [
    "class LatentLogit(torch.nn.Module):\n",
    "    def __init__(self, ro):\n",
    "        super().__init__()\n",
    "        self.ro = ro\n",
    "        self.beta1 = torch.nn.Linear(in_features=2, out_features=1, bias=False)\n",
    "        self.beta2 = torch.nn.Linear(in_features=2, out_features=1, bias=False)\n",
    "\n",
    "    def forward(self, X):\n",
    "        return self.ro*torch.sigmoid(self.beta1(X).flatten()) + (1-self.ro)*torch.sigmoid(self.beta2(X).flatten())\n",
    "\n",
    "class MySimpleLogistic4:\n",
    "    def __init__(self, ro):\n",
    "        self.model = LatentLogit(ro)\n",
    "        self.n_epochs = 200\n",
    "        self.lr = 4e-3\n",
    "        \n",
    "    def _loss_function(self, yhat, y, eps=1e-4):\n",
    "        return torch.sum(\n",
    "            -y*torch.log(yhat + eps) - (1-y)*torch.log(1-yhat + eps)\n",
    "        )\n",
    "    \n",
    "    def fit_on_data(self, formula, data):\n",
    "        ycolumn = formula.split(' ~ ')[0]\n",
    "        xcolumns = formula.split(' ~ ')[1]\n",
    "        \n",
    "        y = torch.FloatTensor(data[ycolumn].values)\n",
    "        X = torch.FloatTensor(sm_api.add_constant(data[xcolumns].values))\n",
    "        \n",
    "        return self.fit(X, y)\n",
    "    \n",
    "    def fit(self, X, y):\n",
    "        prev_loss = np.inf\n",
    "        opt = SGD(self.model.parameters(), lr=self.lr)\n",
    "        \n",
    "        for i in range(self.n_epochs):\n",
    "            opt.zero_grad()\n",
    "            yhat = self.model.forward(X)\n",
    "            loss = self._loss_function(yhat, y)\n",
    "            \n",
    "            if (loss.item() - prev_loss) > 0.1:\n",
    "                # overfitting\n",
    "                break\n",
    "            else:\n",
    "                prev_loss = loss.item()\n",
    "                \n",
    "            loss.backward()\n",
    "            opt.step()\n",
    "        params = {\n",
    "            'beta1' : self.model.beta1.state_dict()['weight'].numpy(),\n",
    "            'beta2' : self.model.beta2.state_dict()['weight'].numpy()\n",
    "        }\n",
    "        return params, loss.item()"
   ]
  },
  {
   "cell_type": "code",
   "execution_count": 102,
   "metadata": {},
   "outputs": [],
   "source": [
    "def assignment_6(formula, data):\n",
    "    model = MySimpleLogistic4(ro=0.2)\n",
    "    return model.fit_on_data(formula, data)"
   ]
  },
  {
   "cell_type": "code",
   "execution_count": 103,
   "metadata": {},
   "outputs": [
    {
     "data": {
      "text/plain": [
       "({'beta1': array([[0.29662576, 2.0786707 ]], dtype=float32),\n",
       "  'beta2': array([[1.4094714, 2.0676043]], dtype=float32)},\n",
       " 420.4725341796875)"
      ]
     },
     "execution_count": 103,
     "metadata": {},
     "output_type": "execute_result"
    }
   ],
   "source": [
    "assignment_6('y ~ x', df)"
   ]
  },
  {
   "cell_type": "markdown",
   "metadata": {},
   "source": [
    "### Assignment 7 (bonus 5 points): Write confident Logit with crossvalidation for window size"
   ]
  },
  {
   "cell_type": "code",
   "execution_count": null,
   "metadata": {},
   "outputs": [],
   "source": []
  },
  {
   "cell_type": "markdown",
   "metadata": {},
   "source": [
    "### Comments for the HA\n",
    "- deadline in 2 weeks\n",
    "- this completes Test 1\n",
    "- these are fully individual tasks, no cheating, please. \n",
    "- confirmed cheating will halve your grade.\n",
    "- test your results against a simulation\n",
    "- use markdowns to explain what you are doing\n",
    "- for each task, make a main() function with an intuitive interface\n",
    "- 2 groups is enough for \"confident\" logit\n",
    "- 3 groups is enough for \"ordered\" logit"
   ]
  }
 ],
 "metadata": {
  "interpreter": {
   "hash": "b1a6d30f7905386cac232d04911bfb07fb0ebb5222b5f596c440ef351d2858ad"
  },
  "kernelspec": {
   "display_name": "Python 3",
   "language": "python",
   "name": "python3"
  },
  "language_info": {
   "codemirror_mode": {
    "name": "ipython",
    "version": 3
   },
   "file_extension": ".py",
   "mimetype": "text/x-python",
   "name": "python",
   "nbconvert_exporter": "python",
   "pygments_lexer": "ipython3",
   "version": "3.8.3"
  }
 },
 "nbformat": 4,
 "nbformat_minor": 4
}
